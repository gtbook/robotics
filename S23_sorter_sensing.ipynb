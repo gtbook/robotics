{
 "cells": [
  {
   "cell_type": "markdown",
   "metadata": {
    "colab_type": "text",
    "id": "view-in-github",
    "slideshow": {
     "slide_type": "skip"
    }
   },
   "source": [
    "<a href=\"https://colab.research.google.com/github/gtbook/robotics/blob/main/S23_sorter_sensing.ipynb\" target=\"_parent\"><img src=\"https://colab.research.google.com/assets/colab-badge.svg\" alt=\"Open In Colab\"/></a>"
   ]
  },
  {
   "cell_type": "code",
   "execution_count": 1,
   "metadata": {
    "id": "w-CIikP0ZZnm",
    "slideshow": {
     "slide_type": "skip"
    },
    "tags": [
     "remove-cell"
    ]
   },
   "outputs": [
    {
     "name": "stdout",
     "output_type": "stream",
     "text": [
      "Note: you may need to restart the kernel to use updated packages.\n"
     ]
    }
   ],
   "source": [
    "%pip install -q -U gtbook"
   ]
  },
  {
   "cell_type": "code",
   "execution_count": 2,
   "metadata": {
    "id": "uef6Kglzcrha",
    "slideshow": {
     "slide_type": "skip"
    },
    "tags": [
     "remove-cell"
    ]
   },
   "outputs": [],
   "source": [
    "import numpy as np\n",
    "import gtsam\n",
    "\n",
    "from gtbook.discrete import Variables\n",
    "from gtbook.display import show\n",
    "\n",
    "from IPython.display import SVG, display\n",
    "from ipywidgets import interact\n",
    "\n",
    "from plotly.subplots import make_subplots\n",
    "import plotly.graph_objects as go\n",
    "import plotly.express as px\n",
    "try:\n",
    "    import google.colab\n",
    "except:\n",
    "    import plotly.io as pio\n",
    "    pio.renderers.default = \"png\"\n",
    "\n",
    "import gtbook\n",
    "VARIABLES = Variables()\n",
    "def pretty(obj): \n",
    "    return gtbook.display.pretty(obj, VARIABLES)"
   ]
  },
  {
   "cell_type": "code",
   "execution_count": 3,
   "metadata": {
    "id": "vXWJdNcgTJcQ",
    "slideshow": {
     "slide_type": "skip"
    },
    "tags": [
     "remove-cell"
    ]
   },
   "outputs": [],
   "source": [
    "# Define variables here\n",
    "Conductivity = VARIABLES.binary(\"Conductivity\")\n",
    "Detection = VARIABLES.discrete(\"Detection\", [\"bottle\", \"cardboard\", \"paper\"])\n",
    "categories = [\"cardboard\", \"paper\", \"can\", \"scrap metal\", \"bottle\"]\n",
    "Category = VARIABLES.discrete(\"Category\", categories) # Not an accident that it is defined last."
   ]
  },
  {
   "attachments": {},
   "cell_type": "markdown",
   "metadata": {
    "id": "5_gRa4NQZsD4",
    "slideshow": {
     "slide_type": "slide"
    }
   },
   "source": [
    "# Sensors for Sorting Trash\n",
    "\n",
    "> Probability distributions can be used to model the behavior of sensors.\n",
    "\n",
    "\n",
    "<img src=\"Figures2/S23-Trash_sorting_robot_with_gripper-07.jpg\" alt=\"Splash image with robot that seems to be weighing buckets of trash\" width=\"40%\" align=center style=\"vertical-align:middle;margin:10px 0px\">"
   ]
  },
  {
   "cell_type": "markdown",
   "metadata": {
    "id": "5_gRa4NQZsD4",
    "slideshow": {
     "slide_type": "slide"
    }
   },
   "source": [
    "How can our trash sorting system know the category of an object that enters the sorting area? Robots use sensors to measure aspects of the world, and then make inferences about the world state based on these measurements. So, sensing can be used to infer the type of the object.\n",
    "\n",
    "Let us assume our robot cell only has three sensors:\n",
    "* a conductivity sensor, outputting the value `True` or `False`\n",
    "* a camera with a three detection algorithms: bottle, cardboard, paper\n",
    "* a scale, which gives a continuous value in kg.\n",
    "\n",
    "We will discuss each in turn."
   ]
  },
  {
   "cell_type": "markdown",
   "metadata": {
    "id": "fTcEUT_IAu54",
    "slideshow": {
     "slide_type": "slide"
    }
   },
   "source": [
    "## Binary Sensors\n",
    "\n",
    "> A binary sensor can be modeled using conditional probability distributions.\n",
    "\n",
    "Sadly, sensors are imperfect devices. For example, consider a sensor that measures electrical conductivity. Suppose we have a binary sensor that simply returns `True` or `False` , based on a measurement from an electrical probe, for an object's conductivity.  For a metal can, this sensor will return `True` almost every time; however, some cans may be a bit dirty, or the probe may not make good contact, and these can lead to a mis-classification, returning `False`.\n",
    "\n",
    "Probability theory lets us quantify this. For example, for a metal can, the probability of the sensor returning `True` might be $0.9$, and hence the probability of returning `False` is $1-0.9=0.1$. \n",
    "Of course in reality, we cannot know the true values of these probabilities, but we can estimate them using statistics.\n",
    "A straightforward approach is to merely perform a set of experiments, and construct\n",
    "a histogram of the results.\n",
    "\n",
    "Because the probability of the outcome depends on the type of the trash item, we represent this with a **Conditional Probability**, which accords a value \n",
    "\n",
    "$$P(conductive| trash~category)$$\n",
    "\n",
    "to every possible outcome (only `True` or `False` for this example), and where the `|` indicates that this depends on the category of the trash item. For example, we already established that\n",
    "\n",
    "$$P(conductive=True| trash~category=can)=0.9$$\n",
    "\n",
    "$$P(conductive=False| trash~category=can)=0.1$$\n"
   ]
  },
  {
   "cell_type": "markdown",
   "metadata": {
    "slideshow": {
     "slide_type": "slide"
    }
   },
   "source": [
    "## Conditional Probabilities\n",
    "\n",
    "In general, the probability mass function of *any* single variable $X$ can be\n",
    "parameterized by a parameter $Y$, whose value we assume as known. \n",
    "This corresponds to the notion of a conditional probability,\n",
    "which we write as \n",
    "\n",
    "$$P(X|Y=y).$$\n",
    "\n",
    "Note that given a particular value of\n",
    "$Y$, this is just a probability distribution over $X$, with parameters given by a\n",
    "PMF, as before. \n",
    "\n",
    "There are many ways to specify conditional probabilities, but in this simple case, with a binary outcome and a finite number of discrete categories, the simplest representation is to use a a **Conditional Probability Table** or CPT. "
   ]
  },
  {
   "cell_type": "markdown",
   "metadata": {},
   "source": [
    "An example is shown below for our binary sensor example, taking care to first create the variables for pretty-printing:"
   ]
  },
  {
   "cell_type": "code",
   "execution_count": null,
   "metadata": {},
   "outputs": [
    {
     "data": {
      "text/html": [
       "<div>\n",
       "<p>  <i>P(Conductivity|Category):</i></p>\n",
       "<table class='DiscreteConditional'>\n",
       "  <thead>\n",
       "    <tr><th><i>Category</i></th><th>false</th><th>true</th></tr>\n",
       "  </thead>\n",
       "  <tbody>\n",
       "    <tr><th>cardboard</th><td>0.99</td><td>0.01</td></tr>\n",
       "    <tr><th>paper</th><td>0.99</td><td>0.01</td></tr>\n",
       "    <tr><th>can</th><td>0.1</td><td>0.9</td></tr>\n",
       "    <tr><th>scrap metal</th><td>0.15</td><td>0.85</td></tr>\n",
       "    <tr><th>bottle</th><td>0.95</td><td>0.05</td></tr>\n",
       "  </tbody>\n",
       "</table>\n",
       "</div>"
      ],
      "text/plain": [
       "<gtbook.display.pretty at 0x10752dfd0>"
      ]
     },
     "metadata": {},
     "output_type": "display_data"
    }
   ],
   "source": [
    "pCT = gtsam.DiscreteConditional(\n",
    "    Conductivity, [Category], \"99/1 99/1 10/90 15/85 95/5\")\n",
    "pretty(pCT)"
   ]
  },
  {
   "cell_type": "markdown",
   "metadata": {},
   "source": [
    "Note the rows add up to 1.0, as each row is a valid probability mass function (PMF).\n"
   ]
  },
  {
   "cell_type": "markdown",
   "metadata": {},
   "source": [
    "Conditional probability distributions are a great way to represent\n",
    "knowledge about the world in robotics. In particular, we use them\n",
    "to model sensors in this chapter.\n",
    "In the next chapter, we will use them to model \n",
    "how we can affect the state of the robot by *actions*.\n",
    "\n",
    "A complete **sensor model** specifies a (potentially giant) CPT for every\n",
    "possible state. An observation $z$ can be rather impoverished, or very\n",
    "detailed, and one can also envision modeling several different sensors\n",
    "on the robot. In the latter case, we will be able to *fuse* the\n",
    "information from multiple sensors.\n",
    "\n",
    "Conditional probability tables do not *have* to be specified as giant\n",
    "tables. In case we index the discrete states with semantically\n",
    "meaningful indices.\n",
    "For example, in later chapters we will represent a robot's workspace\n",
    "as a grid, and the indices into the grid can serve this purpose.\n",
    "In such cases, we can often specify the CPT in parametric form."
   ]
  },
  {
   "cell_type": "markdown",
   "metadata": {
    "id": "yXqXJGUOMD7w",
    "slideshow": {
     "slide_type": "slide"
    }
   },
   "source": [
    "## Multi-Valued Sensors\n",
    "\n",
    "Binary sensors are easily generalized to multi-valued sensors. For our running example, assume that there is a camera mounted in the work cell, looking down on the trash conveyor belt. The camera is connected to a computer which runs a vision algorithm that can output three possible detected classes: `bottle` , `cardboard` , and `paper`.\n",
    "We can model this sensor using the conditional probability distribution\n",
    "\n",
    "$$P(detection| trash~category)$$\n",
    "\n",
    " The CPT for this sensor now has three columns, and one plausible CPT is given in python code below:\n"
   ]
  },
  {
   "cell_type": "code",
   "execution_count": 6,
   "metadata": {
    "id": "4LQ4c-RKTJcS"
   },
   "outputs": [
    {
     "data": {
      "text/html": [
       "<div>\n",
       "<p>  <i>P(Detection|Category):</i></p>\n",
       "<table class='DiscreteConditional'>\n",
       "  <thead>\n",
       "    <tr><th><i>Category</i></th><th>bottle</th><th>cardboard</th><th>paper</th></tr>\n",
       "  </thead>\n",
       "  <tbody>\n",
       "    <tr><th>cardboard</th><td>0.02</td><td>0.88</td><td>0.1</td></tr>\n",
       "    <tr><th>paper</th><td>0.02</td><td>0.2</td><td>0.78</td></tr>\n",
       "    <tr><th>can</th><td>0.333333</td><td>0.333333</td><td>0.333333</td></tr>\n",
       "    <tr><th>scrap metal</th><td>0.333333</td><td>0.333333</td><td>0.333333</td></tr>\n",
       "    <tr><th>bottle</th><td>0.95</td><td>0.02</td><td>0.03</td></tr>\n",
       "  </tbody>\n",
       "</table>\n",
       "</div>"
      ],
      "text/plain": [
       "<gtbook.display.pretty at 0x107567820>"
      ]
     },
     "execution_count": 6,
     "metadata": {},
     "output_type": "execute_result"
    }
   ],
   "source": [
    "pDT = gtsam.DiscreteConditional(\n",
    "    Detection, [Category], \"2/88/10 2/20/78 33/33/34 33/33/34 95/2/3\")\n",
    "pretty(pDT)\n"
   ]
  },
  {
   "cell_type": "markdown",
   "metadata": {
    "id": "gp9Hi9knTJcS"
   },
   "source": [
    "As you can tell, this detector is pretty good at detecting cardboard.\n",
    "For example, \n",
    "we have $P(Detection = cardboard| Category = cardboard) = 0.88$. \n",
    "Incidentally, this means that our sensor still mis-classifies cardboard about 1 in 10 times, 12% to be exact, as $1-0.88 = .12$. Unfortunately, our \"vision sensor\" is not great when dealing with classes it does *not* know about, which is rather typical of this type of model. Hence, for a metal can, the sensor essentially outputs a class at random.\n"
   ]
  },
  {
   "cell_type": "markdown",
   "metadata": {
    "id": "2cuF7k7GMcVp"
   },
   "source": [
    "## Continuous Valued Sensors\n",
    "\n",
    "Next we discuss continuous-valued sensors, like a *scale*, which measures an object's weight.\n",
    "For our trash sorting system, it stands to reason that the weight of an object is a great indicator of what category it might belong to, but, how should we treat *continuous* measurements? \n",
    "We could use a very finely quantized histogram on some discretized weight scale, allowing us to use the `DiscreteConditional` machinery from above, but we can do much better by explicitly representing\n",
    "weight as a continuous quantity. \n",
    "In particular, we will not  represent the probability distribution as a PMF, but will instead use a **probability density function (pdf)**.\n",
    "\n",
    "We will have much more to say about continuous random variable's and pdf's later in the book, but for now we skip these details, and represent the conditional pdf for our weight sensor using the omnipresent \"Bell Curve.\"\n",
    "In particular, let us assume that we can fit a Gaussian curve to the data of a particular category. As a reminder, a Gaussian curve is defined as below:"
   ]
  },
  {
   "cell_type": "code",
   "execution_count": 7,
   "metadata": {
    "id": "ka3Bv2v0TJcS"
   },
   "outputs": [],
   "source": [
    "def Gaussian(x, mu=0.0, sigma=1.0):\n",
    "    return np.exp(-0.5*(x-mu)**2/sigma**2)/np.sqrt(2*np.pi*sigma**2)"
   ]
  },
  {
   "cell_type": "markdown",
   "metadata": {
    "id": "gnNSeLEvTJcS"
   },
   "source": [
    "We can easily plot this using plotly:"
   ]
  },
  {
   "cell_type": "code",
   "execution_count": 8,
   "metadata": {
    "id": "REzI-uFBTJcT"
   },
   "outputs": [
    {
     "data": {
      "image/png": "[encoded data removed]"
     },
     "metadata": {},
     "output_type": "display_data"
    }
   ],
   "source": [
    "X = np.arange(0, 500)\n",
    "px.line(x=X, y=Gaussian(X, mu=250, sigma=50))"
   ]
  },
  {
   "cell_type": "markdown",
   "metadata": {
    "id": "X14X0FzuTJcT"
   },
   "source": [
    "Note that for any given continuous value, the probability is zero: we can only use the Gaussian as a *density*, integrating over a small (or large) continuous interval to obtain the probability of the value landing within that interval.\n",
    "\n",
    "We denote a conditional **density** with a lowercase $p$ to indicate it is a density over a continuous quantity. The condition to the right of the bar is still a discrete category:\n",
    "\n",
    "$$p(Weight|Category)$$\n"
   ]
  },
  {
   "cell_type": "markdown",
   "metadata": {
    "id": "1A-T0y5aTJcT"
   },
   "source": [
    "Let us assume that we fit a Gaussian to the weight of a sample of objects from every one of our 5 categories. We can represent the resulting mean and standard deviation (specified in in grams) any way we want, e.g., using a numpy array as below:"
   ]
  },
  {
   "cell_type": "code",
   "execution_count": 9,
   "metadata": {
    "id": "INqcfA6lTJcT"
   },
   "outputs": [
    {
     "data": {
      "text/plain": [
       "array([[ 20,  10],\n",
       "       [  5,   5],\n",
       "       [ 15,   5],\n",
       "       [150, 100],\n",
       "       [300, 200]])"
      ]
     },
     "execution_count": 9,
     "metadata": {},
     "output_type": "execute_result"
    }
   ],
   "source": [
    "pWC = np.array([[20, 10], [5, 5], [15, 5], [150, 100], [300, 200]])\n",
    "pWC"
   ]
  },
  {
   "cell_type": "markdown",
   "metadata": {
    "id": "AY2aBq-wTJcT"
   },
   "source": [
    "You might not remember what the 5 categories were, so let's make a small interactive applet wherein we can change the category to see the resulting conditional density:"
   ]
  },
  {
   "cell_type": "code",
   "execution_count": 10,
   "metadata": {
    "id": "-JTfcy7bTJcT"
   },
   "outputs": [
    {
     "data": {
      "application/vnd.jupyter.widget-view+json": {
       "model_id": "f5df9a026ccc448cb8685ac8a7d71424",
       "version_major": 2,
       "version_minor": 0
      },
      "text/plain": [
       "interactive(children=(Dropdown(description='Category', index=2, options=('cardboard', 'paper', 'can', 'scrap m…"
      ]
     },
     "metadata": {},
     "output_type": "display_data"
    }
   ],
   "source": [
    "# Plot conditional density given category T\n",
    "@interact(Category=categories)\n",
    "def plot_weight_density(Category=\"can\"):\n",
    "    index = categories.index(Category)\n",
    "    display(px.line(x=X, y=Gaussian(X, *pWC[index])))"
   ]
  },
  {
   "cell_type": "markdown",
   "metadata": {
    "id": "r7RbXHzOTJcT"
   },
   "source": [
    "## Simulation by Sampling\n",
    "\n",
    "> Simulation can be implemented by sampling from both state and measurement.\n",
    "\n",
    "We can sample from a conditional distribution $P(X|Y)$ by selecting the\n",
    "appropriate PMF, depending on the value of $Y$, and proceeding as before\n",
    "using a method known as **inverse transform sampling**.\n",
    "\n",
    "To simulate our trash example for a single discrete sensor, we  sample in two steps. We first sample from the category prior $C$ (Section 2.1), and then sample from the conditional probability distribution $P(S|C)$. Sampling from a conditional probability distribution works exactly the same way as sampling from the category prior - via the cumulative distribution function. Here we will not belabor the details again, but just use the sample method in GTSAM:\n"
   ]
  },
  {
   "cell_type": "code",
   "execution_count": 11,
   "metadata": {
    "id": "mlb9SUrATJcT"
   },
   "outputs": [
    {
     "data": {
      "text/html": [
       "<div>\n",
       "<p>  <i>P(Category):</i></p>\n",
       "<div>\n",
       "<table class='DecisionTreeFactor'>\n",
       "  <thead>\n",
       "    <tr><th>Category</th><th>value</th></tr>\n",
       "  </thead>\n",
       "  <tbody>\n",
       "    <tr><th>cardboard</th><td>0.2</td></tr>\n",
       "    <tr><th>paper</th><td>0.3</td></tr>\n",
       "    <tr><th>can</th><td>0.25</td></tr>\n",
       "    <tr><th>scrap metal</th><td>0.2</td></tr>\n",
       "    <tr><th>bottle</th><td>0.05</td></tr>\n",
       "  </tbody>\n",
       "</table>\n",
       "</div>"
      ],
      "text/plain": [
       "<gtbook.display.pretty at 0x107567970>"
      ]
     },
     "execution_count": 11,
     "metadata": {},
     "output_type": "execute_result"
    }
   ],
   "source": [
    "category_prior = gtsam.DiscreteDistribution(Category, \"200/300/250/200/50\")\n",
    "pretty(category_prior)"
   ]
  },
  {
   "cell_type": "code",
   "execution_count": 12,
   "metadata": {
    "colab": {
     "base_uri": "https://localhost:8080/"
    },
    "id": "N6mmk2VtTJcU",
    "latex_metadata": {
     "affiliation": "Georgia Institute of Technology",
     "author": "Frank Dellaert and Seth Hutchinson",
     "title": "Introduction to Robotics"
    },
    "outputId": "b6a3eb27-57ab-4133-f2e1-42633fa2c611"
   },
   "outputs": [
    {
     "name": "stdout",
     "output_type": "stream",
     "text": [
      "category=0\n",
      "conductivity = 0\n",
      "detection = 2\n"
     ]
    }
   ],
   "source": [
    "# sample from category\n",
    "category = category_prior.sample()\n",
    "print(f\"category={category}\")\n",
    "\n",
    "# then sample from the discrete sensors\n",
    "# TODO: single value\n",
    "values = gtsam.DiscreteValues()\n",
    "values[Category[0]] = category\n",
    "print(f\"conductivity = {pCT.sample(values)}\")\n",
    "print(f\"detection = {pDT.sample(values)}\")"
   ]
  },
  {
   "cell_type": "markdown",
   "metadata": {
    "id": "fsQPly7dTJcU"
   },
   "source": [
    "Sampling from a continuous probability distribution is slightly more involved. For now, we will merely use numpy to sample from the continuous density $p(S|C)$:"
   ]
  },
  {
   "cell_type": "code",
   "execution_count": 13,
   "metadata": {
    "id": "YlT34beVTJcU"
   },
   "outputs": [
    {
     "name": "stdout",
     "output_type": "stream",
     "text": [
      "weight = 20.994905253150684\n"
     ]
    }
   ],
   "source": [
    "# sample from Gaussian with `numpy.random.normal`\n",
    "print(f\"weight = {np.random.normal(*pWC[category])}\")"
   ]
  },
  {
   "cell_type": "markdown",
   "metadata": {
    "id": "1BkCebvMTJcU"
   },
   "source": [
    "## Simulating Multiple Sensors\n",
    "\n",
    "> To simulate multiple sensors, we sample from the state, and then from each sensor.\n",
    "The code to do this is as follows:"
   ]
  },
  {
   "cell_type": "code",
   "execution_count": 14,
   "metadata": {
    "id": "Jeaon-HvTJcU"
   },
   "outputs": [],
   "source": [
    "# Sample from state, then from all three sensors:\n",
    "def sample():\n",
    "    category = category_prior.sample()\n",
    "    values = gtsam.DiscreteValues()\n",
    "    values[Category[0]] = category\n",
    "    conductivity = pCT.sample(category)\n",
    "    detection = pDT.sample(category)\n",
    "    weight = np.random.normal(*pWC[category])\n",
    "    return category, conductivity, detection, weight"
   ]
  },
  {
   "cell_type": "code",
   "execution_count": 15,
   "metadata": {},
   "outputs": [
    {
     "name": "stdout",
     "output_type": "stream",
     "text": [
      "(1, 0, 1, 1.6034699357780897)\n",
      "(2, 1, 1, 17.506805744993684)\n",
      "(2, 1, 2, 23.296719423723353)\n",
      "(1, 0, 2, 5.915818481881729)\n",
      "(1, 0, 2, 0.20982640125160756)\n",
      "(0, 0, 1, 3.4672696568636816)\n",
      "(1, 0, 1, 2.8623339202650118)\n",
      "(1, 0, 2, 8.543692524138217)\n",
      "(3, 1, 0, 225.37323557344516)\n",
      "(1, 0, 2, 3.6392086429386663)\n"
     ]
    }
   ],
   "source": [
    "for _ in range(10):\n",
    "    print(sample())"
   ]
  },
  {
   "cell_type": "markdown",
   "metadata": {
    "id": "cC-4Y7OATJcU"
   },
   "source": [
    "## GTSAM 101\n",
    "\n",
    "> The GTSAM concepts used in this section, explained."
   ]
  },
  {
   "cell_type": "markdown",
   "metadata": {},
   "source": [
    "Above we created an instance of the `gtsam.DiscreteConditional` class. As with any GTSAM class, you can type\n",
    "\n",
    "```python\n",
    "help(gtsam.DiscreteConditional)\n",
    "```\n",
    "\n",
    "to get documentation on its constructors and methods. In particular, we called the constructor\n",
    "\n",
    "```python\n",
    " __init__(self: gtsam.DiscreteConditional, \n",
    "          key: Tuple[int, int], \n",
    "          parents: List[Tuple[int, int]], \n",
    "          spec: str) -> None\n",
    " ```\n",
    "\n",
    "which expects *three* arguments (besides `self`, which you can ignore):\n",
    "* `key`: A tuple (id, cardinality), saying which variable this conditional is on.\n",
    "* `parents`: A *list* of tuples, specifying the variables behind the bar.\n",
    "* `spec`: A string that specifies a CPT (remember: conditional probability table) which is given as a string of PMF specifications (numbers, separated by `/`), in turn separated by spaces. There should be as many PMFs as there are different assignments to the parents.\n",
    "\n",
    "We have not actually used this before, but let's look at an example where there are *two* parents:"
   ]
  },
  {
   "cell_type": "code",
   "execution_count": 16,
   "metadata": {},
   "outputs": [
    {
     "data": {
      "text/html": [
       "<div>\n",
       "<p>  <i>P(Category|Conductivity,Detection):</i></p>\n",
       "<table class='DiscreteConditional'>\n",
       "  <thead>\n",
       "    <tr><th><i>Conductivity</i></th><th><i>Detection</i></th><th>cardboard</th><th>paper</th><th>can</th><th>scrap metal</th><th>bottle</th></tr>\n",
       "  </thead>\n",
       "  <tbody>\n",
       "    <tr><th>false</th><th>bottle</th><td>0.6</td><td>0.1</td><td>0.1</td><td>0.1</td><td>0.1</td></tr>\n",
       "    <tr><th>false</th><th>cardboard</th><td>0.1</td><td>0.6</td><td>0.1</td><td>0.1</td><td>0.1</td></tr>\n",
       "    <tr><th>false</th><th>paper</th><td>0.1</td><td>0.1</td><td>0.6</td><td>0.1</td><td>0.1</td></tr>\n",
       "    <tr><th>true</th><th>bottle</th><td>0.1</td><td>0.1</td><td>0.1</td><td>0.6</td><td>0.1</td></tr>\n",
       "    <tr><th>true</th><th>cardboard</th><td>0.1</td><td>0.1</td><td>0.1</td><td>0.1</td><td>0.6</td></tr>\n",
       "    <tr><th>true</th><th>paper</th><td>0.3</td><td>0.1</td><td>0.2</td><td>0.1</td><td>0.3</td></tr>\n",
       "  </tbody>\n",
       "</table>\n",
       "</div>"
      ],
      "text/plain": [
       "<gtbook.display.pretty at 0x14211cf40>"
      ]
     },
     "execution_count": 16,
     "metadata": {},
     "output_type": "execute_result"
    }
   ],
   "source": [
    "conditional = gtsam.DiscreteConditional(Category, [Conductivity, Detection], \n",
    "    \"6/1/1/1/1 1/6/1/1/1 1/1/6/1/1 1/1/1/6/1 1/1/1/1/6 3/1/2/1/3\")\n",
    "pretty(conditional)"
   ]
  },
  {
   "cell_type": "markdown",
   "metadata": {},
   "source": [
    " As you can see above, we had to specify six PMF groups, because there are six combinations of conductivity and detection values. The PMF specifications are read in the order that you see in the table representation above. Since conductivity is mentioned first in the parent list, it varies the slowest. It is important to pay attention to disordering rent specifying conditional probability tables in this way."
   ]
  },
  {
   "cell_type": "markdown",
   "metadata": {
    "id": "W4Pb07V9TJcU"
   },
   "source": [
    "We saw in Section 2.1 that GSM represents probability mouse functions as decision trees. It should come as no surprise that GTSAM also represents discrete *conditional* distributions in this way, i.e., as decision trees with more than one level. For example, for the binary conductivity sensor we have:"
   ]
  },
  {
   "cell_type": "code",
   "execution_count": 17,
   "metadata": {
    "id": "9sLpeLQiTJcU"
   },
   "outputs": [
    {
     "data": {
      "image/svg+xml": [
       "<?xml version=\"1.0\" encoding=\"UTF-8\" standalone=\"no\"?>\n",
       "<!DOCTYPE svg PUBLIC \"-//W3C//DTD SVG 1.1//EN\"\n",
       " \"http://www.w3.org/Graphics/SVG/1.1/DTD/svg11.dtd\">\n",
       "<!-- Generated by graphviz version 2.50.0 (0)\n",
       " -->\n",
       "<!-- Title: G Pages: 1 -->\n",
       "<svg width=\"710pt\" height=\"177pt\"\n",
       " viewBox=\"0.00 0.00 710.00 177.00\" xmlns=\"http://www.w3.org/2000/svg\" xmlns:xlink=\"http://www.w3.org/1999/xlink\">\n",
       "<g id=\"graph0\" class=\"graph\" transform=\"scale(1 1) rotate(0) translate(4 173)\">\n",
       "<title>G</title>\n",
       "<polygon fill=\"white\" stroke=\"transparent\" points=\"-4,4 -4,-173 706,-173 706,4 -4,4\"/>\n",
       "<!-- 0x600001d428c0 -->\n",
       "<g id=\"node1\" class=\"node\">\n",
       "<title>0x600001d428c0</title>\n",
       "<ellipse fill=\"none\" stroke=\"black\" cx=\"351\" cy=\"-151\" rx=\"18\" ry=\"18\"/>\n",
       "<text text-anchor=\"middle\" x=\"351\" y=\"-147.3\" font-family=\"Times,serif\" font-size=\"14.00\">2</text>\n",
       "</g>\n",
       "<!-- 0x600001d42960 -->\n",
       "<g id=\"node2\" class=\"node\">\n",
       "<title>0x600001d42960</title>\n",
       "<ellipse fill=\"none\" stroke=\"black\" cx=\"99\" cy=\"-79\" rx=\"18\" ry=\"18\"/>\n",
       "<text text-anchor=\"middle\" x=\"99\" y=\"-75.3\" font-family=\"Times,serif\" font-size=\"14.00\">0</text>\n",
       "</g>\n",
       "<!-- 0x600001d428c0&#45;&gt;0x600001d42960 -->\n",
       "<g id=\"edge1\" class=\"edge\">\n",
       "<title>0x600001d428c0&#45;&gt;0x600001d42960</title>\n",
       "<path fill=\"none\" stroke=\"black\" d=\"M333.68,-145.19C290.51,-133.2 177.86,-101.91 125.93,-87.48\"/>\n",
       "<polygon fill=\"black\" stroke=\"black\" points=\"126.68,-84.06 116.11,-84.75 124.81,-90.8 126.68,-84.06\"/>\n",
       "</g>\n",
       "<!-- 0x600001d429b0 -->\n",
       "<g id=\"node5\" class=\"node\">\n",
       "<title>0x600001d429b0</title>\n",
       "<ellipse fill=\"none\" stroke=\"black\" cx=\"243\" cy=\"-79\" rx=\"18\" ry=\"18\"/>\n",
       "<text text-anchor=\"middle\" x=\"243\" y=\"-75.3\" font-family=\"Times,serif\" font-size=\"14.00\">0</text>\n",
       "</g>\n",
       "<!-- 0x600001d428c0&#45;&gt;0x600001d429b0 -->\n",
       "<g id=\"edge4\" class=\"edge\">\n",
       "<title>0x600001d428c0&#45;&gt;0x600001d429b0</title>\n",
       "<path fill=\"none\" stroke=\"black\" d=\"M335.98,-140.27C317.93,-128.56 287.43,-108.79 266.3,-95.1\"/>\n",
       "<polygon fill=\"black\" stroke=\"black\" points=\"268.18,-92.15 257.89,-89.65 264.38,-98.03 268.18,-92.15\"/>\n",
       "</g>\n",
       "<!-- 0x600001d42a00 -->\n",
       "<g id=\"node8\" class=\"node\">\n",
       "<title>0x600001d42a00</title>\n",
       "<ellipse fill=\"none\" stroke=\"black\" cx=\"351\" cy=\"-79\" rx=\"18\" ry=\"18\"/>\n",
       "<text text-anchor=\"middle\" x=\"351\" y=\"-75.3\" font-family=\"Times,serif\" font-size=\"14.00\">0</text>\n",
       "</g>\n",
       "<!-- 0x600001d428c0&#45;&gt;0x600001d42a00 -->\n",
       "<g id=\"edge7\" class=\"edge\">\n",
       "<title>0x600001d428c0&#45;&gt;0x600001d42a00</title>\n",
       "<path fill=\"none\" stroke=\"black\" d=\"M351,-132.7C351,-124.98 351,-115.71 351,-107.11\"/>\n",
       "<polygon fill=\"black\" stroke=\"black\" points=\"354.5,-107.1 351,-97.1 347.5,-107.1 354.5,-107.1\"/>\n",
       "</g>\n",
       "<!-- 0x600001d42a50 -->\n",
       "<g id=\"node11\" class=\"node\">\n",
       "<title>0x600001d42a50</title>\n",
       "<ellipse fill=\"none\" stroke=\"black\" cx=\"459\" cy=\"-79\" rx=\"18\" ry=\"18\"/>\n",
       "<text text-anchor=\"middle\" x=\"459\" y=\"-75.3\" font-family=\"Times,serif\" font-size=\"14.00\">0</text>\n",
       "</g>\n",
       "<!-- 0x600001d428c0&#45;&gt;0x600001d42a50 -->\n",
       "<g id=\"edge10\" class=\"edge\">\n",
       "<title>0x600001d428c0&#45;&gt;0x600001d42a50</title>\n",
       "<path fill=\"none\" stroke=\"black\" d=\"M366.02,-140.27C384.07,-128.56 414.57,-108.79 435.7,-95.1\"/>\n",
       "<polygon fill=\"black\" stroke=\"black\" points=\"437.62,-98.03 444.11,-89.65 433.82,-92.15 437.62,-98.03\"/>\n",
       "</g>\n",
       "<!-- 0x600001d42aa0 -->\n",
       "<g id=\"node14\" class=\"node\">\n",
       "<title>0x600001d42aa0</title>\n",
       "<ellipse fill=\"none\" stroke=\"black\" cx=\"603\" cy=\"-79\" rx=\"18\" ry=\"18\"/>\n",
       "<text text-anchor=\"middle\" x=\"603\" y=\"-75.3\" font-family=\"Times,serif\" font-size=\"14.00\">0</text>\n",
       "</g>\n",
       "<!-- 0x600001d428c0&#45;&gt;0x600001d42aa0 -->\n",
       "<g id=\"edge13\" class=\"edge\">\n",
       "<title>0x600001d428c0&#45;&gt;0x600001d42aa0</title>\n",
       "<path fill=\"none\" stroke=\"black\" d=\"M368.32,-145.19C411.49,-133.2 524.14,-101.91 576.07,-87.48\"/>\n",
       "<polygon fill=\"black\" stroke=\"black\" points=\"577.19,-90.8 585.89,-84.75 575.32,-84.06 577.19,-90.8\"/>\n",
       "</g>\n",
       "<!-- 0x600003c46730 -->\n",
       "<g id=\"node3\" class=\"node\">\n",
       "<title>0x600003c46730</title>\n",
       "<polygon fill=\"none\" stroke=\"black\" points=\"54,-25 0,-25 0,0 54,0 54,-25\"/>\n",
       "<text text-anchor=\"middle\" x=\"27\" y=\"-8.8\" font-family=\"Times,serif\" font-size=\"14.00\">0.99</text>\n",
       "</g>\n",
       "<!-- 0x600001d42960&#45;&gt;0x600003c46730 -->\n",
       "<g id=\"edge2\" class=\"edge\">\n",
       "<title>0x600001d42960&#45;&gt;0x600003c46730</title>\n",
       "<path fill=\"none\" stroke=\"black\" stroke-dasharray=\"5,2\" d=\"M85.79,-66.17C75.14,-56.62 59.95,-43.02 47.69,-32.03\"/>\n",
       "<polygon fill=\"black\" stroke=\"black\" points=\"49.91,-29.32 40.12,-25.26 45.24,-34.53 49.91,-29.32\"/>\n",
       "</g>\n",
       "<!-- 0x600003c467e0 -->\n",
       "<g id=\"node4\" class=\"node\">\n",
       "<title>0x600003c467e0</title>\n",
       "<polygon fill=\"none\" stroke=\"black\" points=\"126,-25 72,-25 72,0 126,0 126,-25\"/>\n",
       "<text text-anchor=\"middle\" x=\"99\" y=\"-8.8\" font-family=\"Times,serif\" font-size=\"14.00\">0.01</text>\n",
       "</g>\n",
       "<!-- 0x600001d42960&#45;&gt;0x600003c467e0 -->\n",
       "<g id=\"edge3\" class=\"edge\">\n",
       "<title>0x600001d42960&#45;&gt;0x600003c467e0</title>\n",
       "<path fill=\"none\" stroke=\"black\" d=\"M99,-60.72C99,-52.93 99,-43.65 99,-35.39\"/>\n",
       "<polygon fill=\"black\" stroke=\"black\" points=\"102.5,-35.32 99,-25.32 95.5,-35.32 102.5,-35.32\"/>\n",
       "</g>\n",
       "<!-- 0x600003c46750 -->\n",
       "<g id=\"node6\" class=\"node\">\n",
       "<title>0x600003c46750</title>\n",
       "<polygon fill=\"none\" stroke=\"black\" points=\"198,-25 144,-25 144,0 198,0 198,-25\"/>\n",
       "<text text-anchor=\"middle\" x=\"171\" y=\"-8.8\" font-family=\"Times,serif\" font-size=\"14.00\">0.99</text>\n",
       "</g>\n",
       "<!-- 0x600001d429b0&#45;&gt;0x600003c46750 -->\n",
       "<g id=\"edge5\" class=\"edge\">\n",
       "<title>0x600001d429b0&#45;&gt;0x600003c46750</title>\n",
       "<path fill=\"none\" stroke=\"black\" stroke-dasharray=\"5,2\" d=\"M229.79,-66.17C219.14,-56.62 203.95,-43.02 191.69,-32.03\"/>\n",
       "<polygon fill=\"black\" stroke=\"black\" points=\"193.91,-29.32 184.12,-25.26 189.24,-34.53 193.91,-29.32\"/>\n",
       "</g>\n",
       "<!-- 0x600003c467f0 -->\n",
       "<g id=\"node7\" class=\"node\">\n",
       "<title>0x600003c467f0</title>\n",
       "<polygon fill=\"none\" stroke=\"black\" points=\"270,-25 216,-25 216,0 270,0 270,-25\"/>\n",
       "<text text-anchor=\"middle\" x=\"243\" y=\"-8.8\" font-family=\"Times,serif\" font-size=\"14.00\">0.01</text>\n",
       "</g>\n",
       "<!-- 0x600001d429b0&#45;&gt;0x600003c467f0 -->\n",
       "<g id=\"edge6\" class=\"edge\">\n",
       "<title>0x600001d429b0&#45;&gt;0x600003c467f0</title>\n",
       "<path fill=\"none\" stroke=\"black\" d=\"M243,-60.72C243,-52.93 243,-43.65 243,-35.39\"/>\n",
       "<polygon fill=\"black\" stroke=\"black\" points=\"246.5,-35.32 243,-25.32 239.5,-35.32 246.5,-35.32\"/>\n",
       "</g>\n",
       "<!-- 0x600003c46760 -->\n",
       "<g id=\"node9\" class=\"node\">\n",
       "<title>0x600003c46760</title>\n",
       "<polygon fill=\"none\" stroke=\"black\" points=\"342,-25 288,-25 288,0 342,0 342,-25\"/>\n",
       "<text text-anchor=\"middle\" x=\"315\" y=\"-8.8\" font-family=\"Times,serif\" font-size=\"14.00\"> 0.1</text>\n",
       "</g>\n",
       "<!-- 0x600001d42a00&#45;&gt;0x600003c46760 -->\n",
       "<g id=\"edge8\" class=\"edge\">\n",
       "<title>0x600001d42a00&#45;&gt;0x600003c46760</title>\n",
       "<path fill=\"none\" stroke=\"black\" stroke-dasharray=\"5,2\" d=\"M342.65,-63.04C337.85,-54.44 331.76,-43.52 326.51,-34.12\"/>\n",
       "<polygon fill=\"black\" stroke=\"black\" points=\"329.55,-32.39 321.62,-25.37 323.44,-35.81 329.55,-32.39\"/>\n",
       "</g>\n",
       "<!-- 0x600003c46800 -->\n",
       "<g id=\"node10\" class=\"node\">\n",
       "<title>0x600003c46800</title>\n",
       "<polygon fill=\"none\" stroke=\"black\" points=\"414,-25 360,-25 360,0 414,0 414,-25\"/>\n",
       "<text text-anchor=\"middle\" x=\"387\" y=\"-8.8\" font-family=\"Times,serif\" font-size=\"14.00\"> 0.9</text>\n",
       "</g>\n",
       "<!-- 0x600001d42a00&#45;&gt;0x600003c46800 -->\n",
       "<g id=\"edge9\" class=\"edge\">\n",
       "<title>0x600001d42a00&#45;&gt;0x600003c46800</title>\n",
       "<path fill=\"none\" stroke=\"black\" d=\"M359.35,-63.04C364.15,-54.44 370.24,-43.52 375.49,-34.12\"/>\n",
       "<polygon fill=\"black\" stroke=\"black\" points=\"378.56,-35.81 380.38,-25.37 372.45,-32.39 378.56,-35.81\"/>\n",
       "</g>\n",
       "<!-- 0x600003c46770 -->\n",
       "<g id=\"node12\" class=\"node\">\n",
       "<title>0x600003c46770</title>\n",
       "<polygon fill=\"none\" stroke=\"black\" points=\"486,-25 432,-25 432,0 486,0 486,-25\"/>\n",
       "<text text-anchor=\"middle\" x=\"459\" y=\"-8.8\" font-family=\"Times,serif\" font-size=\"14.00\">0.15</text>\n",
       "</g>\n",
       "<!-- 0x600001d42a50&#45;&gt;0x600003c46770 -->\n",
       "<g id=\"edge11\" class=\"edge\">\n",
       "<title>0x600001d42a50&#45;&gt;0x600003c46770</title>\n",
       "<path fill=\"none\" stroke=\"black\" stroke-dasharray=\"5,2\" d=\"M459,-60.72C459,-52.93 459,-43.65 459,-35.39\"/>\n",
       "<polygon fill=\"black\" stroke=\"black\" points=\"462.5,-35.32 459,-25.32 455.5,-35.32 462.5,-35.32\"/>\n",
       "</g>\n",
       "<!-- 0x600003c46810 -->\n",
       "<g id=\"node13\" class=\"node\">\n",
       "<title>0x600003c46810</title>\n",
       "<polygon fill=\"none\" stroke=\"black\" points=\"558,-25 504,-25 504,0 558,0 558,-25\"/>\n",
       "<text text-anchor=\"middle\" x=\"531\" y=\"-8.8\" font-family=\"Times,serif\" font-size=\"14.00\">0.85</text>\n",
       "</g>\n",
       "<!-- 0x600001d42a50&#45;&gt;0x600003c46810 -->\n",
       "<g id=\"edge12\" class=\"edge\">\n",
       "<title>0x600001d42a50&#45;&gt;0x600003c46810</title>\n",
       "<path fill=\"none\" stroke=\"black\" d=\"M472.21,-66.17C482.86,-56.62 498.05,-43.02 510.31,-32.03\"/>\n",
       "<polygon fill=\"black\" stroke=\"black\" points=\"512.76,-34.53 517.88,-25.26 508.09,-29.32 512.76,-34.53\"/>\n",
       "</g>\n",
       "<!-- 0x600003c467d0 -->\n",
       "<g id=\"node15\" class=\"node\">\n",
       "<title>0x600003c467d0</title>\n",
       "<polygon fill=\"none\" stroke=\"black\" points=\"630,-25 576,-25 576,0 630,0 630,-25\"/>\n",
       "<text text-anchor=\"middle\" x=\"603\" y=\"-8.8\" font-family=\"Times,serif\" font-size=\"14.00\">0.95</text>\n",
       "</g>\n",
       "<!-- 0x600001d42aa0&#45;&gt;0x600003c467d0 -->\n",
       "<g id=\"edge14\" class=\"edge\">\n",
       "<title>0x600001d42aa0&#45;&gt;0x600003c467d0</title>\n",
       "<path fill=\"none\" stroke=\"black\" stroke-dasharray=\"5,2\" d=\"M603,-60.72C603,-52.93 603,-43.65 603,-35.39\"/>\n",
       "<polygon fill=\"black\" stroke=\"black\" points=\"606.5,-35.32 603,-25.32 599.5,-35.32 606.5,-35.32\"/>\n",
       "</g>\n",
       "<!-- 0x600003c46820 -->\n",
       "<g id=\"node16\" class=\"node\">\n",
       "<title>0x600003c46820</title>\n",
       "<polygon fill=\"none\" stroke=\"black\" points=\"702,-25 648,-25 648,0 702,0 702,-25\"/>\n",
       "<text text-anchor=\"middle\" x=\"675\" y=\"-8.8\" font-family=\"Times,serif\" font-size=\"14.00\">0.05</text>\n",
       "</g>\n",
       "<!-- 0x600001d42aa0&#45;&gt;0x600003c46820 -->\n",
       "<g id=\"edge15\" class=\"edge\">\n",
       "<title>0x600001d42aa0&#45;&gt;0x600003c46820</title>\n",
       "<path fill=\"none\" stroke=\"black\" d=\"M616.21,-66.17C626.86,-56.62 642.05,-43.02 654.31,-32.03\"/>\n",
       "<polygon fill=\"black\" stroke=\"black\" points=\"656.76,-34.53 661.88,-25.26 652.09,-29.32 656.76,-34.53\"/>\n",
       "</g>\n",
       "</g>\n",
       "</svg>\n"
      ],
      "text/plain": [
       "<gtbook.display.show at 0x141944190>"
      ]
     },
     "execution_count": 17,
     "metadata": {},
     "output_type": "execute_result"
    }
   ],
   "source": [
    "show(pCT)"
   ]
  },
  {
   "cell_type": "markdown",
   "metadata": {
    "id": "tjA0EMg1TJcU"
   },
   "source": [
    "Now each PMF on the conductivity, given the category, corresponds to a small \"decision stump\" at the lower level of the tree, where the two leaf probabilities always add up to 1.0.\n",
    "\n",
    "For the three-valued sensor, we get the following decision tree:\n"
   ]
  },
  {
   "cell_type": "code",
   "execution_count": 18,
   "metadata": {
    "id": "co8LvwqaTJcU"
   },
   "outputs": [
    {
     "data": {
      "image/svg+xml": [
       "<?xml version=\"1.0\" encoding=\"UTF-8\" standalone=\"no\"?>\n",
       "<!DOCTYPE svg PUBLIC \"-//W3C//DTD SVG 1.1//EN\"\n",
       " \"http://www.w3.org/Graphics/SVG/1.1/DTD/svg11.dtd\">\n",
       "<!-- Generated by graphviz version 2.50.0 (0)\n",
       " -->\n",
       "<!-- Title: G Pages: 1 -->\n",
       "<svg width=\"638pt\" height=\"177pt\"\n",
       " viewBox=\"0.00 0.00 638.00 177.00\" xmlns=\"http://www.w3.org/2000/svg\" xmlns:xlink=\"http://www.w3.org/1999/xlink\">\n",
       "<g id=\"graph0\" class=\"graph\" transform=\"scale(1 1) rotate(0) translate(4 173)\">\n",
       "<title>G</title>\n",
       "<polygon fill=\"white\" stroke=\"transparent\" points=\"-4,4 -4,-173 634,-173 634,4 -4,4\"/>\n",
       "<!-- 0x600001d78c00 -->\n",
       "<g id=\"node1\" class=\"node\">\n",
       "<title>0x600001d78c00</title>\n",
       "<ellipse fill=\"none\" stroke=\"black\" cx=\"378\" cy=\"-151\" rx=\"18\" ry=\"18\"/>\n",
       "<text text-anchor=\"middle\" x=\"378\" y=\"-147.3\" font-family=\"Times,serif\" font-size=\"14.00\">2</text>\n",
       "</g>\n",
       "<!-- 0x600001d78ca0 -->\n",
       "<g id=\"node2\" class=\"node\">\n",
       "<title>0x600001d78ca0</title>\n",
       "<ellipse fill=\"none\" stroke=\"black\" cx=\"135\" cy=\"-79\" rx=\"18\" ry=\"18\"/>\n",
       "<text text-anchor=\"middle\" x=\"135\" y=\"-75.3\" font-family=\"Times,serif\" font-size=\"14.00\">1</text>\n",
       "</g>\n",
       "<!-- 0x600001d78c00&#45;&gt;0x600001d78ca0 -->\n",
       "<g id=\"edge1\" class=\"edge\">\n",
       "<title>0x600001d78c00&#45;&gt;0x600001d78ca0</title>\n",
       "<path fill=\"none\" stroke=\"black\" d=\"M360.91,-145.08C319.26,-133.08 212.22,-102.24 161.9,-87.75\"/>\n",
       "<polygon fill=\"black\" stroke=\"black\" points=\"162.65,-84.32 152.07,-84.92 160.71,-91.05 162.65,-84.32\"/>\n",
       "</g>\n",
       "<!-- 0x600001d78cf0 -->\n",
       "<g id=\"node6\" class=\"node\">\n",
       "<title>0x600001d78cf0</title>\n",
       "<ellipse fill=\"none\" stroke=\"black\" cx=\"315\" cy=\"-79\" rx=\"18\" ry=\"18\"/>\n",
       "<text text-anchor=\"middle\" x=\"315\" y=\"-75.3\" font-family=\"Times,serif\" font-size=\"14.00\">1</text>\n",
       "</g>\n",
       "<!-- 0x600001d78c00&#45;&gt;0x600001d78cf0 -->\n",
       "<g id=\"edge5\" class=\"edge\">\n",
       "<title>0x600001d78c00&#45;&gt;0x600001d78cf0</title>\n",
       "<path fill=\"none\" stroke=\"black\" d=\"M366.44,-137.16C357.32,-127.03 344.41,-112.68 333.81,-100.9\"/>\n",
       "<polygon fill=\"black\" stroke=\"black\" points=\"336.2,-98.32 326.91,-93.23 331,-103.01 336.2,-98.32\"/>\n",
       "</g>\n",
       "<!-- 0x600003c7e530 -->\n",
       "<g id=\"node10\" class=\"node\">\n",
       "<title>0x600003c7e530</title>\n",
       "<polygon fill=\"none\" stroke=\"black\" points=\"405,-91.5 351,-91.5 351,-66.5 405,-66.5 405,-91.5\"/>\n",
       "<text text-anchor=\"middle\" x=\"378\" y=\"-75.3\" font-family=\"Times,serif\" font-size=\"14.00\">0.33</text>\n",
       "</g>\n",
       "<!-- 0x600001d78c00&#45;&gt;0x600003c7e530 -->\n",
       "<g id=\"edge9\" class=\"edge\">\n",
       "<title>0x600001d78c00&#45;&gt;0x600003c7e530</title>\n",
       "<path fill=\"none\" stroke=\"black\" d=\"M378,-132.7C378,-123.4 378,-111.85 378,-101.93\"/>\n",
       "<polygon fill=\"black\" stroke=\"black\" points=\"381.5,-101.63 378,-91.63 374.5,-101.63 381.5,-101.63\"/>\n",
       "</g>\n",
       "<!-- 0x600003c7e540 -->\n",
       "<g id=\"node11\" class=\"node\">\n",
       "<title>0x600003c7e540</title>\n",
       "<polygon fill=\"none\" stroke=\"black\" points=\"477,-91.5 423,-91.5 423,-66.5 477,-66.5 477,-91.5\"/>\n",
       "<text text-anchor=\"middle\" x=\"450\" y=\"-75.3\" font-family=\"Times,serif\" font-size=\"14.00\">0.33</text>\n",
       "</g>\n",
       "<!-- 0x600001d78c00&#45;&gt;0x600003c7e540 -->\n",
       "<g id=\"edge10\" class=\"edge\">\n",
       "<title>0x600001d78c00&#45;&gt;0x600003c7e540</title>\n",
       "<path fill=\"none\" stroke=\"black\" d=\"M390.54,-137.81C401.62,-127.04 417.94,-111.17 430.69,-98.78\"/>\n",
       "<polygon fill=\"black\" stroke=\"black\" points=\"433.35,-101.07 438.08,-91.59 428.47,-96.05 433.35,-101.07\"/>\n",
       "</g>\n",
       "<!-- 0x600001d78d40 -->\n",
       "<g id=\"node12\" class=\"node\">\n",
       "<title>0x600001d78d40</title>\n",
       "<ellipse fill=\"none\" stroke=\"black\" cx=\"522\" cy=\"-79\" rx=\"18\" ry=\"18\"/>\n",
       "<text text-anchor=\"middle\" x=\"522\" y=\"-75.3\" font-family=\"Times,serif\" font-size=\"14.00\">1</text>\n",
       "</g>\n",
       "<!-- 0x600001d78c00&#45;&gt;0x600001d78d40 -->\n",
       "<g id=\"edge11\" class=\"edge\">\n",
       "<title>0x600001d78c00&#45;&gt;0x600001d78d40</title>\n",
       "<path fill=\"none\" stroke=\"black\" d=\"M393.96,-142.24C418.83,-130.15 467.04,-106.72 496.69,-92.31\"/>\n",
       "<polygon fill=\"black\" stroke=\"black\" points=\"498.5,-95.31 505.97,-87.79 495.44,-89.02 498.5,-95.31\"/>\n",
       "</g>\n",
       "<!-- 0x600003c7e440 -->\n",
       "<g id=\"node3\" class=\"node\">\n",
       "<title>0x600003c7e440</title>\n",
       "<polygon fill=\"none\" stroke=\"black\" points=\"54,-25 0,-25 0,0 54,0 54,-25\"/>\n",
       "<text text-anchor=\"middle\" x=\"27\" y=\"-8.8\" font-family=\"Times,serif\" font-size=\"14.00\">0.02</text>\n",
       "</g>\n",
       "<!-- 0x600001d78ca0&#45;&gt;0x600003c7e440 -->\n",
       "<g id=\"edge2\" class=\"edge\">\n",
       "<title>0x600001d78ca0&#45;&gt;0x600003c7e440</title>\n",
       "<path fill=\"none\" stroke=\"black\" d=\"M119.98,-69.03C103.22,-59.02 75.73,-42.6 54.98,-30.21\"/>\n",
       "<polygon fill=\"black\" stroke=\"black\" points=\"56.64,-27.13 46.26,-25 53.05,-33.14 56.64,-27.13\"/>\n",
       "</g>\n",
       "<!-- 0x600003c7e490 -->\n",
       "<g id=\"node4\" class=\"node\">\n",
       "<title>0x600003c7e490</title>\n",
       "<polygon fill=\"none\" stroke=\"black\" points=\"126,-25 72,-25 72,0 126,0 126,-25\"/>\n",
       "<text text-anchor=\"middle\" x=\"99\" y=\"-8.8\" font-family=\"Times,serif\" font-size=\"14.00\">0.88</text>\n",
       "</g>\n",
       "<!-- 0x600001d78ca0&#45;&gt;0x600003c7e490 -->\n",
       "<g id=\"edge3\" class=\"edge\">\n",
       "<title>0x600001d78ca0&#45;&gt;0x600003c7e490</title>\n",
       "<path fill=\"none\" stroke=\"black\" d=\"M126.65,-63.04C121.85,-54.44 115.76,-43.52 110.51,-34.12\"/>\n",
       "<polygon fill=\"black\" stroke=\"black\" points=\"113.55,-32.39 105.62,-25.37 107.44,-35.81 113.55,-32.39\"/>\n",
       "</g>\n",
       "<!-- 0x600003c7e4e0 -->\n",
       "<g id=\"node5\" class=\"node\">\n",
       "<title>0x600003c7e4e0</title>\n",
       "<polygon fill=\"none\" stroke=\"black\" points=\"198,-25 144,-25 144,0 198,0 198,-25\"/>\n",
       "<text text-anchor=\"middle\" x=\"171\" y=\"-8.8\" font-family=\"Times,serif\" font-size=\"14.00\"> 0.1</text>\n",
       "</g>\n",
       "<!-- 0x600001d78ca0&#45;&gt;0x600003c7e4e0 -->\n",
       "<g id=\"edge4\" class=\"edge\">\n",
       "<title>0x600001d78ca0&#45;&gt;0x600003c7e4e0</title>\n",
       "<path fill=\"none\" stroke=\"black\" d=\"M143.35,-63.04C148.15,-54.44 154.24,-43.52 159.49,-34.12\"/>\n",
       "<polygon fill=\"black\" stroke=\"black\" points=\"162.56,-35.81 164.38,-25.37 156.45,-32.39 162.56,-35.81\"/>\n",
       "</g>\n",
       "<!-- 0x600003c7e450 -->\n",
       "<g id=\"node7\" class=\"node\">\n",
       "<title>0x600003c7e450</title>\n",
       "<polygon fill=\"none\" stroke=\"black\" points=\"270,-25 216,-25 216,0 270,0 270,-25\"/>\n",
       "<text text-anchor=\"middle\" x=\"243\" y=\"-8.8\" font-family=\"Times,serif\" font-size=\"14.00\">0.02</text>\n",
       "</g>\n",
       "<!-- 0x600001d78cf0&#45;&gt;0x600003c7e450 -->\n",
       "<g id=\"edge6\" class=\"edge\">\n",
       "<title>0x600001d78cf0&#45;&gt;0x600003c7e450</title>\n",
       "<path fill=\"none\" stroke=\"black\" d=\"M301.79,-66.17C291.14,-56.62 275.95,-43.02 263.69,-32.03\"/>\n",
       "<polygon fill=\"black\" stroke=\"black\" points=\"265.91,-29.32 256.12,-25.26 261.24,-34.53 265.91,-29.32\"/>\n",
       "</g>\n",
       "<!-- 0x600003c7e4a0 -->\n",
       "<g id=\"node8\" class=\"node\">\n",
       "<title>0x600003c7e4a0</title>\n",
       "<polygon fill=\"none\" stroke=\"black\" points=\"342,-25 288,-25 288,0 342,0 342,-25\"/>\n",
       "<text text-anchor=\"middle\" x=\"315\" y=\"-8.8\" font-family=\"Times,serif\" font-size=\"14.00\"> 0.2</text>\n",
       "</g>\n",
       "<!-- 0x600001d78cf0&#45;&gt;0x600003c7e4a0 -->\n",
       "<g id=\"edge7\" class=\"edge\">\n",
       "<title>0x600001d78cf0&#45;&gt;0x600003c7e4a0</title>\n",
       "<path fill=\"none\" stroke=\"black\" d=\"M315,-60.72C315,-52.93 315,-43.65 315,-35.39\"/>\n",
       "<polygon fill=\"black\" stroke=\"black\" points=\"318.5,-35.32 315,-25.32 311.5,-35.32 318.5,-35.32\"/>\n",
       "</g>\n",
       "<!-- 0x600003c7e4f0 -->\n",
       "<g id=\"node9\" class=\"node\">\n",
       "<title>0x600003c7e4f0</title>\n",
       "<polygon fill=\"none\" stroke=\"black\" points=\"414,-25 360,-25 360,0 414,0 414,-25\"/>\n",
       "<text text-anchor=\"middle\" x=\"387\" y=\"-8.8\" font-family=\"Times,serif\" font-size=\"14.00\">0.78</text>\n",
       "</g>\n",
       "<!-- 0x600001d78cf0&#45;&gt;0x600003c7e4f0 -->\n",
       "<g id=\"edge8\" class=\"edge\">\n",
       "<title>0x600001d78cf0&#45;&gt;0x600003c7e4f0</title>\n",
       "<path fill=\"none\" stroke=\"black\" d=\"M328.21,-66.17C338.86,-56.62 354.05,-43.02 366.31,-32.03\"/>\n",
       "<polygon fill=\"black\" stroke=\"black\" points=\"368.76,-34.53 373.88,-25.26 364.09,-29.32 368.76,-34.53\"/>\n",
       "</g>\n",
       "<!-- 0x600003c7e480 -->\n",
       "<g id=\"node13\" class=\"node\">\n",
       "<title>0x600003c7e480</title>\n",
       "<polygon fill=\"none\" stroke=\"black\" points=\"486,-25 432,-25 432,0 486,0 486,-25\"/>\n",
       "<text text-anchor=\"middle\" x=\"459\" y=\"-8.8\" font-family=\"Times,serif\" font-size=\"14.00\">0.95</text>\n",
       "</g>\n",
       "<!-- 0x600001d78d40&#45;&gt;0x600003c7e480 -->\n",
       "<g id=\"edge12\" class=\"edge\">\n",
       "<title>0x600001d78d40&#45;&gt;0x600003c7e480</title>\n",
       "<path fill=\"none\" stroke=\"black\" d=\"M509.85,-65.56C500.65,-56.14 487.84,-43.02 477.38,-32.32\"/>\n",
       "<polygon fill=\"black\" stroke=\"black\" points=\"479.75,-29.74 470.26,-25.03 474.75,-34.63 479.75,-29.74\"/>\n",
       "</g>\n",
       "<!-- 0x600003c7e4d0 -->\n",
       "<g id=\"node14\" class=\"node\">\n",
       "<title>0x600003c7e4d0</title>\n",
       "<polygon fill=\"none\" stroke=\"black\" points=\"558,-25 504,-25 504,0 558,0 558,-25\"/>\n",
       "<text text-anchor=\"middle\" x=\"531\" y=\"-8.8\" font-family=\"Times,serif\" font-size=\"14.00\">0.02</text>\n",
       "</g>\n",
       "<!-- 0x600001d78d40&#45;&gt;0x600003c7e4d0 -->\n",
       "<g id=\"edge13\" class=\"edge\">\n",
       "<title>0x600001d78d40&#45;&gt;0x600003c7e4d0</title>\n",
       "<path fill=\"none\" stroke=\"black\" d=\"M524.36,-61.05C525.48,-53.08 526.82,-43.47 528,-34.99\"/>\n",
       "<polygon fill=\"black\" stroke=\"black\" points=\"531.47,-35.44 529.39,-25.05 524.54,-34.47 531.47,-35.44\"/>\n",
       "</g>\n",
       "<!-- 0x600003c7e520 -->\n",
       "<g id=\"node15\" class=\"node\">\n",
       "<title>0x600003c7e520</title>\n",
       "<polygon fill=\"none\" stroke=\"black\" points=\"630,-25 576,-25 576,0 630,0 630,-25\"/>\n",
       "<text text-anchor=\"middle\" x=\"603\" y=\"-8.8\" font-family=\"Times,serif\" font-size=\"14.00\">0.03</text>\n",
       "</g>\n",
       "<!-- 0x600001d78d40&#45;&gt;0x600003c7e520 -->\n",
       "<g id=\"edge14\" class=\"edge\">\n",
       "<title>0x600001d78d40&#45;&gt;0x600003c7e520</title>\n",
       "<path fill=\"none\" stroke=\"black\" d=\"M535.74,-67.06C547.97,-57.32 566.08,-42.9 580.43,-31.47\"/>\n",
       "<polygon fill=\"black\" stroke=\"black\" points=\"582.73,-34.12 588.37,-25.15 578.37,-28.64 582.73,-34.12\"/>\n",
       "</g>\n",
       "</g>\n",
       "</svg>\n"
      ],
      "text/plain": [
       "<gtbook.display.show at 0x14211cdf0>"
      ]
     },
     "execution_count": 18,
     "metadata": {},
     "output_type": "execute_result"
    }
   ],
   "source": [
    "show(pDT)"
   ]
  },
  {
   "cell_type": "markdown",
   "metadata": {
    "id": "WtqUt66VTJcU"
   },
   "source": [
    "Again, the decision between the 3 detections is made probabilistically at the stump level, but note a peculiar property of this sensor: for categories `can` and `scrap metal` (category indices 2 and 3, respectively) the probability is exactly $1/3$, *regardless* of the detection, so the stump is simply omitted."
   ]
  }
 ],
 "metadata": {
  "colab": {
   "include_colab_link": true,
   "name": "S23_sorter_sensing.ipynb",
   "provenance": []
  },
  "interpreter": {
   "hash": "c6e4e9f98eb68ad3b7c296f83d20e6de614cb42e90992a65aa266555a3137d0d"
  },
  "kernelspec": {
   "display_name": "Python 3 (ipykernel)",
   "language": "python",
   "name": "python3"
  },
  "language_info": {
   "codemirror_mode": {
    "name": "ipython",
    "version": 3
   },
   "file_extension": ".py",
   "mimetype": "text/x-python",
   "name": "python",
   "nbconvert_exporter": "python",
   "pygments_lexer": "ipython3",
   "version": "3.8.12"
  }
 },
 "nbformat": 4,
 "nbformat_minor": 1
}
