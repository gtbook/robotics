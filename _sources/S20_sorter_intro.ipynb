{
 "cells": [
  {
   "attachments": {},
   "cell_type": "markdown",
   "metadata": {},
   "source": [
    "# A Trash Sorting Robot\n",
    "\n",
    "> A simple robot that sorts trash into appropriate bins can be used to introduce many of the concepts that we will teach in this class.\n",
    "\n",
    "<img src=\"Figures2/S20-Trash_sorting_robot_with_gripper-03.jpg\" alt=\"Splash image with heroic trash-sorting robot in sunset light\" width=\"60%\" align=center style=\"vertical-align:middle;margin:10px 0px\">"
   ]
  },
  {
   "cell_type": "markdown",
   "metadata": {},
   "source": [
    "<!---TODO: get Amp Robotics photo.\n",
    "\n",
    " As shown in the photo, each individual trash sorting robot is mounted in a work cell, and we will assume that one piece of trash is available is in the work cell at any given time. -->\n",
    "\n",
    "In this chapter we introduce the main concepts that will be covered in this book using\n",
    "a simple trash sorting robot as an example.\n",
    "Imagine, if you will, a trash sorting facility that has installed a robot at one of its conveyer belts to help out with the sorting of trash, in order to increase the proportion of trash that can be sustainably recycled. Imagine also that you are tasked with creating the software that will govern the robot's actions. How would you go about this? Even this simple robot will be sufficiently rich to tease out the main sense-think-act cycle that govern most if not all robot control systems.\n",
    "\n",
    "Let us think about the robot's workings and role in a bit more detail. The robot is presented with items of trash, one at a time, on a conveyor belt.\n",
    "Depending on the *category of the item* (state), e.g., paper, metal, etc.,\n",
    "the robot's task is to *move the item* (actions) into the appropriate bin.\n",
    "Sensors are used to *measure certain characteristics* (sensing) of a given item of trash,\n",
    "and these sensor measurements are then used to *infer the item's category* (simple perception).\n",
    "Using these inferences, the robot *chooses an action* (planning) to place the item in an appropriate bin.\n",
    "The robot can *refine its model of the world based on data* acquired during operation (learning),\n",
    "and this new model can be used to improve operation over time.\n",
    "\n",
    "For now, we will abstract away many details of real-world robotics problems. \n",
    "We will not consider\n",
    "the geometric or physical aspects of robot motion, and we will assume that the robot is\n",
    "able to move items from the conveyor belt to the commanded bin without error.\n",
    "On the other hand, we will explicitly consider uncertainty associated to the problem\n",
    "of classifying items of trash into their appropriate categories, and how this uncertainty\n",
    "affects decision making when choosing actions (i.e., destination bins for items of trash).\n",
    "This will allow us to introduce some basic concepts from probability and decision theory\n",
    "that will be used throughout the book.\n",
    "\n",
    "<!-- \n",
    "\n",
    "- State:\t\tplastic|paper|cardboard|metal|glass|unknown\n",
    "- Actuators: \tgripper (4 actions or no-op)\n",
    "- Sensors:      Attributes -> conductivity (2), computer vision (3), weight (continuous)\n",
    "- Perception: \tEstimation probabilities of plastic|paper|cardboard|metal|unknown\n",
    "- Planning: \tDecision Theory -> sort into three bins (plastics|mixed paper|metals|glass) or do nothing\n",
    "\n",
    "\n",
    "\n",
    "Perception is different from sensing: it turns prior knowledge and sensed information into a probabilistic knowledge about the current state of the world/robot.\n",
    "\n",
    "Using probabilistic knowledge, we can try to act optimally, and hence we will define notions of optimality, and develop some decision theory. -->"
   ]
  },
  {
   "cell_type": "markdown",
   "metadata": {},
   "source": []
  }
 ],
 "metadata": {
  "kernelspec": {
   "display_name": "Python 3 (ipykernel)",
   "language": "python",
   "name": "python3"
  },
  "language_info": {
   "codemirror_mode": {
    "name": "ipython",
    "version": 3
   },
   "file_extension": ".py",
   "mimetype": "text/x-python",
   "name": "python",
   "nbconvert_exporter": "python",
   "pygments_lexer": "ipython3",
   "version": "3.8.12"
  },
  "latex_metadata": {
   "affiliation": "Georgia Institute of Technology",
   "author": "Frank Dellaert and Seth Hutchinson",
   "title": "Introduction to Robotics"
  }
 },
 "nbformat": 4,
 "nbformat_minor": 2
}
