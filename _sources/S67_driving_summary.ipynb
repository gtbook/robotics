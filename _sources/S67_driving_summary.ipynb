{
 "cells": [
  {
   "attachments": {},
   "cell_type": "markdown",
   "metadata": {
    "id": "nAvx4-UCNzt2"
   },
   "source": [
    "# Chapter Summary\n",
    "\n",
    "<img src=\"Figures6/S60-Autonomous_Vehicle_with_LIDAR_and_cameras-09.jpg\" alt=\"Splash image with steampunk autonomous car\" width=\"60%\" align=center style=\"vertical-align:middle;margin:10px 0px\">\n"
   ]
  },
  {
   "cell_type": "markdown",
   "metadata": {
    "id": "nAvx4-UCNzt2"
   },
   "source": [
    "In Chapter 5, we turned our attention from probabilistic aspects of robotics to\n",
    "deterministic aspects of the problems of perception and planning.\n",
    "With respect to modeling, this mainly amounted to introducing the geometric aspects of motion and imaging.\n",
    "For reasoning, we introduced neural networks for computer vision tasks, and sampling-based algorithms for path planning.\n",
    "\n",
    "In this chapter, we generalized geometric motion models, introduced new geometric sensing models,\n",
    "combined geometry and probabilistic methods to solve the SLAM problem,\n",
    "developed motion planning algorithms for cars,\n",
    "and extended deep learning to incorporate reinforcement learning."
   ]
  },
  {
   "cell_type": "markdown",
   "metadata": {},
   "source": [
    "To start our exploration into autonomous driving we introduced a configuration space that included both position and orientation information for\n",
    "a mobile robot moving in the plane. \n",
    "We did this by simply extending our coordinate representation of configuration from\n",
    "$q = (x,y)$ for robots that translate in the plane, to $q = (x,y,\\theta)$, where $\\theta$ denotes\n",
    "the robot's orientation.\n",
    "In a brief aside, we showed how to compute the position of any point on the robot, given its\n",
    "configuration. This computation essentially relied on basic trigonometry, and it was not immediately\n",
    "obvious how we might generalize our computations to robots that move freely in 3D.\n",
    "In this chapter, we solved this representation problem by \n",
    "introducing the special special orthogonal group,  $SO(2)$, to represent\n",
    "rotations, and the special Euclidean group, $SE(2)$ to represent combined translation and rotation.\n",
    "\n",
    "The matrices in $SO(2)$ are called *rotation matrices* and they have several notable properties: \n",
    "* $R$ is orthogonal (i.e., its columns are mutually orthogonal unit vectors)\n",
    "* $R^{-1} = R^T$,\n",
    "* $\\det R = +1$.\n",
    "\n",
    "The matrices in $SE(2)$ are called *homogeneous transformation matrices*, and they include\n",
    "rotation information (encoded by a rotation matrix as the upper left sub-matrix), and translation\n",
    "information (encoded by the rightmost column).\n",
    "Thus, these matrices have the form\n",
    "\n",
    "$$T^0_1 =\n",
    "\\begin{bmatrix}\n",
    "R_{1}^{0} & d_{1}^{0}\\\\\n",
    "0_{2} & 1\n",
    "\\end{bmatrix}\n",
    "$$\n",
    "\n",
    "where the notation $T^0_1$ indicates that this homogeneous transformation gives\n",
    "the position and orientation of coordinate frame 1 with respect to coordinate frame 0,\n",
    "and $0_2$ denotes the row vector $[0~ 0]$.\n",
    "\n",
    "Homogeneous transformation matrices can be used to compute coordinate transformations\n",
    "between various coordinate systems.\n",
    "For example,\n",
    "if we are given the coordinates of a point $P$ with respect to frame 1 and we desire the coordinate\n",
    "representation with respect to frame 0, this can be determined using the \n",
    "matrix equation:\n",
    "\n",
    "$$\n",
    "\\begin{bmatrix}\n",
    "P^0 \\\\ 1\n",
    "\\end{bmatrix}\n",
    "=\n",
    "\\begin{bmatrix}\n",
    "R_{1}^{0} & d_{1}^{0}\\\\\n",
    "0_{2} & 1\n",
    "\\end{bmatrix}\n",
    "\\begin{bmatrix}\n",
    "P^1 \\\\ 1\n",
    "\\end{bmatrix}\n",
    "$$\n",
    " \n",
    "Finally, composition of homogeneous transformations requires nothing more than simple\n",
    "matrix multiplication.\n",
    "Given the transformations $T^0_1$ and  $T^1_2$ (which denote the relative position and orientation\n",
    "of frame 1 with respect to frame 0, and of frame 2 with respect to frame 1, respectively),\n",
    "the position and orientation of frame 2 with respect to frame 0 is given\n",
    "by $T^0_2 = T^0_1 T^1_2$."
   ]
  },
  {
   "cell_type": "markdown",
   "metadata": {},
   "source": [
    "In this chapter, we developed the differential kinematics for a car-like robot.\n",
    "Previously we derived the relationship between wheel angular velocity and the resulting velocity (linear and angular) for\n",
    "a differential drive robot.\n",
    "For car-like systems, we prefer to compute the linear and angular velocities of the robot\n",
    "with respect to the world coordinate frame as a function of the rate of change in the steering angle and of the robot's linear velocity (expressed in the body-attached frame).\n",
    "This is a more natural choice than using wheel speed, since the control input for a car-like robot is often\n",
    "specified as a rate of wheel rotation and a forward speed."
   ]
  },
  {
   "cell_type": "markdown",
   "metadata": {},
   "source": [
    "In this chapter we introduced LIDAR, an active sensor that constructs\n",
    "3D point clouds in real time.\n",
    "In Chapter 5 we introduced computer vision, and showed how stereo computer vision\n",
    "could be used to derive 3D coordinates for points in the scene.\n",
    "While computer vision has shown dramatic performance improvements in recent years,\n",
    "stereo vision is not reliable enough, fast enough, or dense enough for applications\n",
    "such as self-driving cars.\n",
    "In contrast, LIDAR uses laser light and time of flight computation to determine the distance\n",
    "to each point that is visible in the scene.\n",
    "Because LIDAR data is typically collected as the sensor is moving through the environment,\n",
    "it is necessary to map 3D point cloud data into a common reference coordinate frame.\n",
    "Happily, homogeneous transformations are the perfect way to accomplish this.\n",
    "LIDAR is currently the most popular, and most reliable, sensor being used for self-driving cars."
   ]
  }
 ],
 "metadata": {
  "colab": {
   "collapsed_sections": [],
   "include_colab_link": true,
   "name": "S11_sorter_state.ipynb",
   "provenance": []
  },
  "interpreter": {
   "hash": "c6e4e9f98eb68ad3b7c296f83d20e6de614cb42e90992a65aa266555a3137d0d"
  },
  "kernelspec": {
   "display_name": "Python 3.9.6 64-bit ('base': conda)",
   "name": "python3"
  },
  "language_info": {
   "codemirror_mode": {
    "name": "ipython",
    "version": 3
   },
   "file_extension": ".py",
   "mimetype": "text/x-python",
   "name": "python",
   "nbconvert_exporter": "python",
   "pygments_lexer": "ipython3",
   "version": "3.8.12"
  },
  "latex_metadata": {
   "affiliation": "Georgia Institute of Technology",
   "author": "Frank Dellaert and Seth Hutchinson",
   "title": "Introduction to Robotics"
  }
 },
 "nbformat": 4,
 "nbformat_minor": 2
}
