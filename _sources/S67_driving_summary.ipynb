{
 "cells": [
  {
   "attachments": {},
   "cell_type": "markdown",
   "id": "HuAl-yl1xYDE",
   "metadata": {},
   "source": [
    "# Chapter Summary"
   ]
  },
  {
   "cell_type": "markdown",
   "id": "769e1906",
   "metadata": {
    "tags": [
     "no-pdf"
    ]
   },
   "source": [
    "<img src=\"Figures6/S60-Autonomous_Vehicle_with_LIDAR_and_cameras-09.jpg\" alt=\"Splash image with steampunk autonomous car\" width=\"60%\" align=center style=\"vertical-align:middle;margin:10px 0px\">\n"
   ]
  },
  {
   "cell_type": "markdown",
   "id": "4XMCdzEUeBGd",
   "metadata": {},
   "source": [
    "In Chapter 5, we turned our attention from probabilistic aspects of robotics to\n",
    "deterministic aspects of the problems of perception and planning.\n",
    "With respect to modeling, this mainly amounted to introducing the geometric aspects of motion and imaging.\n",
    "For reasoning, we introduced neural networks for computer vision tasks, and sampling-based algorithms for path planning.\n",
    "\n",
    "In this chapter, we generalized geometric motion models, introduced new geometric sensing models,\n",
    "combined geometry and probabilistic methods to solve the SLAM problem,\n",
    "developed motion planning algorithms for cars,\n",
    "and extended deep learning to incorporate reinforcement learning."
   ]
  },
  {
   "cell_type": "markdown",
   "id": "nyfJlBKoxIgZ",
   "metadata": {},
   "source": [
    "## Modeling"
   ]
  },
  {
   "cell_type": "markdown",
   "id": "476hwuxgKzC1",
   "metadata": {},
   "source": [
    "To begin our foray into autonomous driving we introduced a configuration space that included both position and orientation information for\n",
    "a mobile robot moving in the plane. \n",
    "We did this by simply extending our coordinate representation of configuration from\n",
    "$q = (x,y)$ for robots that translate in the plane, to $q = (x,y,\\theta)$, where $\\theta$ denotes\n",
    "the robot's orientation.\n",
    "In a brief aside, we showed how to compute the position of any point on the robot, given its\n",
    "configuration. This computation essentially relied on basic trigonometry, and it was not immediately\n",
    "obvious how we might generalize our computations to robots that move freely in 3D.\n",
    "We dealt with this representation problem by \n",
    "introducing the special special orthogonal group,  $SO(2)$, to represent\n",
    "rotations, and the special Euclidean group, $SE(2)$ to represent combined translation and rotation.\n",
    "\n",
    "The matrices in $SO(2)$ are called *rotation matrices* and they have several notable properties: \n",
    "* $R$ is orthogonal (i.e., its columns are mutually orthogonal unit vectors)\n",
    "* $R^{-1} = R^T$,\n",
    "* $\\det R = +1$.\n",
    "\n",
    "The matrices in $SE(2)$ are called *homogeneous transformation matrices*, and they include\n",
    "rotation information (encoded by a rotation matrix as the upper left sub-matrix), and translation\n",
    "information (encoded by the rightmost column).\n",
    "Thus, these matrices have the form\n",
    "\\begin{equation}\n",
    "T^0_1 =\n",
    "\\begin{bmatrix}\n",
    "R_{1}^{0} & d_{1}^{0}\\\\\n",
    "0_{2} & 1\n",
    "\\end{bmatrix}\n",
    "\\end{equation}\n",
    "where the notation $T^0_1$ indicates that this homogeneous transformation gives\n",
    "the position and orientation of coordinate frame 1 with respect to coordinate frame 0, and $0_2$ denotes the row vector $[0~ 0]$."
   ]
  },
  {
   "cell_type": "markdown",
   "id": "Sjfq_i6Oh0vD",
   "metadata": {},
   "source": [
    "Homogeneous transformation matrices can be used to compute coordinate transformations\n",
    "between various coordinate systems.\n",
    "For example,\n",
    "if we are given the coordinates of a point $P$ with respect to frame 1 and we desire the coordinate\n",
    "representation with respect to frame 0, this can be determined using the matrix equation:\n",
    "\n",
    "\\begin{equation}\n",
    "\\begin{bmatrix}\n",
    "P^0 \\\\ 1\n",
    "\\end{bmatrix}\n",
    "=\n",
    "\\begin{bmatrix}\n",
    "R_{1}^{0} & d_{1}^{0}\\\\\n",
    "0_{2} & 1\n",
    "\\end{bmatrix}\n",
    "\\begin{bmatrix}\n",
    "P^1 \\\\ 1\n",
    "\\end{bmatrix}\n",
    "\\end{equation}\n",
    "Composition of homogeneous transformations requires nothing more than simple\n",
    "matrix multiplication.\n",
    "Given the transformations $T^0_1$ and  $T^1_2$ (which denote the relative position and orientation\n",
    "of frame 1 with respect to frame 0, and of frame 2 with respect to frame 1, respectively),\n",
    "the position and orientation of frame 2 with respect to frame 0 is given\n",
    "by $T^0_2 = T^0_1 T^1_2$."
   ]
  },
  {
   "cell_type": "markdown",
   "id": "QJk8sAcJlgA5",
   "metadata": {},
   "source": [
    "Having developed homogeneous transformations to represent pose, \n",
    "we turned our attention to differential kinematics for a car-like robot.\n",
    "Previously we derived the relationship between wheel angular velocity and the resulting velocity (linear and angular) for\n",
    "a differential-drive robot.\n",
    "For car-like systems, we prefer to compute the linear and angular velocities of the robot\n",
    "with respect to the world coordinate frame as a function of the rate of change in the steering angle and of the robot's linear velocity (expressed in the body-attached frame).\n",
    "This is a more natural choice than using wheel speed, since the control input for a car-like robot is often\n",
    "specified as a rate of wheel rotation and a forward speed."
   ]
  },
  {
   "cell_type": "markdown",
   "id": "ex6ZZOjNewZj",
   "metadata": {},
   "source": [
    "In Chapter 5 we introduced computer vision, and showed how stereo computer vision\n",
    "could be used to derive 3D coordinates for points in the scene.\n",
    "While computer vision has shown dramatic performance improvements in recent years,\n",
    "stereo vision is not reliable enough, fast enough, or dense enough for applications\n",
    "such as self-driving cars.\n",
    "In contrast, *LIDAR* uses laser light and time of flight computation to determine the distance\n",
    "to each point that is visible in the scene,\n",
    "facilitating real-time construction of point-cloud scene representations.\n",
    "Because LIDAR data is typically collected while the sensor is moving through the environment,\n",
    "it is necessary to map 3D point-cloud data into a common reference coordinate frame.\n",
    "Happily, homogeneous transformations are the perfect tool to accomplish this.\n",
    "LIDAR is currently the most popular and most reliable sensor being used for self-driving cars."
   ]
  },
  {
   "cell_type": "markdown",
   "id": "Y-gpTKcCdHhF",
   "metadata": {},
   "source": [
    "## Reasoning\n",
    "\n",
    "In Chapter 4, we solved the localization problem for mobile robots equipped with a map of their environment. In this chapter, we considered the more difficult problem of building the map while simultaneously localizing the robot in that map, the *SLAM* problem.\n",
    "\n",
    "To solve the SLAM problem, the robot collects sensor data as it moves through\n",
    "its environment, and then uses this data, along with the robot's knowledge\n",
    "of its own motion, to incrementally build a map of the environment and to estimate\n",
    "the robot's pose relative to this map.\n",
    "Doing this requires the ability to reconcile data acquired at different\n",
    "robot poses, i.e., solving the *correspondence problem*.\n",
    "We introduced the *Iterative Closest Points* algorithm (*ICP*) for this purpose,\n",
    "and showed how it can be applied to point-cloud data from a LIDAR sensor.\n",
    "\n",
    "Once the correspondence problem has been solved, we can infer the relative pose\n",
    "transformations between successive robot poses, and these can be used as constraints\n",
    "in the pose optimization process. We introduced the *PoseSLAM* algorithm to achieve this.\n",
    "PoseSlam can be implemented as a nonlinear optimization using factor graphs,\n",
    "in which pose constraints correspond to the factors, and nodes correspond\n",
    "to the unknown poses.\n"
   ]
  },
  {
   "cell_type": "markdown",
   "id": "uazPaeXbuTvw",
   "metadata": {},
   "source": [
    "In previous chapters, we have mainly considered robots that can move in any direction\n",
    "(even for the DDR, the robot can stop, turn in place, and set off again in any direction),\n",
    "and whose dynamics can safely be ignored for purposes of motion planing.\n",
    "Neither of these apply for the case of self-drivings cars,\n",
    "whose motions are subjected to nonholonomic constraints (when the wheels do not skid),\n",
    "and whose speed and acceleration are important factors for both safety and passenger comfort.\n",
    "Unfortunately, the introduction of nonholonomic constraints and the consideration\n",
    "of vehicle dynamics adds significant complexity to the motion planning problem.\n",
    "\n",
    "To deal with these complexities, we introduced the idea of *motion primitives*,\n",
    "which can be thought of as local, parameterized motion plans.\n",
    "Parameterized motion primitives live in a low-dimensional space (they are completely defined\n",
    "by a small set of parameters),\n",
    "and the derivatives necessary to consider vehicle dynamics are readily available\n",
    "in closed form.\n",
    "Together, these two characteristics enable computationally tractable algorithms\n",
    "for motion planning.\n",
    "\n",
    "We focused our attention on the particular case of splines as motion primitives,\n",
    "first developing the approach using general polynomials, and then specializing\n",
    "this to the case of polynomial splines defined by a set of via points (along\n",
    "with constraints on velocity and acceleration at those points).\n",
    "We then derived the equations necessary for motion planning using quintic splines (fifth\n",
    "order polynomial splines), since fifth order polynomials allow us to\n",
    "specify constraints on position, velocity, acceleration, and jerk.\n",
    "\n",
    "After developing the framework for motion planning using quintic splines,\n",
    "we presented a method for tracking these nonlinear trajectories.\n",
    "The method decomposes the state error into components parallel to the axes\n",
    "of a Frenet frame that moves along with the desired trajectory,\n",
    "and constructs a local recovery trajectory to bring the vehicle to\n",
    "the desired trajectory.\n",
    "We showed how this approach could be incorporated into an optimization framework\n",
    "that minimizes total jerk throughout the motion, since it has been shown\n",
    "that human passengers are sensitive to jerk in the lateral direction."
   ]
  },
  {
   "cell_type": "markdown",
   "id": "2S64XbVl79S4",
   "metadata": {},
   "source": [
    "In Chapter 3, we introduced reinforcement learning, including policy optimization (using value iteration and policy iteration) and Q-learning. Then, in Chapter 5, we introduced deep learning to solve computer vision problems.\n",
    "In this chapter, we combined the two, and introduce *deep Reinforcement Learning*, or *Deep RL*.\n",
    "\n",
    "We first described how Q-learning can be implemented using a deep neural network\n",
    "to encode the Q-function.\n",
    "With this approach, the system learns the Q-values associated to a given problem,\n",
    "and these are encoded in a *deep Q-network* (*DQN*).\n",
    "\n",
    "We then described an approach to policy optimization\n",
    "in which a deep network encodes a stochastic\n",
    "policy $\\pi(a | x, \\theta)$ (i.e., $\\pi$ is a probability distribution\n",
    "over actions, given the current state and parameter $\\theta$).\n",
    "The parameter $\\theta$ can be estimated using a simple hill climbing algorithm,\n",
    "where the loss function to be optimized is computed using finite horizon rollouts.\n",
    "\n",
    "Finally, we gave a brief introduction to policy gradient methods, in which simple\n",
    "hill climbing is replaced by a gradient descent on the loss function,\n",
    "using the same finite-horizon rollout loss function that was used for policy optimization."
   ]
  },
  {
   "cell_type": "markdown",
   "id": "kRTFmijRJrIZ",
   "metadata": {},
   "source": [
    "## Background and History"
   ]
  },
  {
   "cell_type": "markdown",
   "id": "iwY1-S0WC_Ee",
   "metadata": {},
   "source": [
    "Representing the pose of an object is a fundamental topic in robotics, and therefore good introductions\n",
    "to this material can be found in most introductory robotics text books,\n",
    "including {cite:p}`Spong96book,Choset05book_motion,Lynch17book_MR,Siegwart11book_robots`.\n",
    "\n",
    "The kinematics of car-like robots, including Ackermann steering is\n",
    "covered by {cite:t}`Siegwart11book_robots`, along with a good introduction to LIDAR.\n",
    "\n",
    "SLAM has been a topic of robotics research since the 1990's, and the number\n",
    "of important papers in the area are too numerous to mention here,\n",
    "so we focus on the two main methods that were specifically addressed in this chapter.\n",
    "The seminal reference for the ICP algorithm is due to {cite:t}`Besl92pami_ICP`.\n",
    "Pose SLAM was introduced by {cite:t}`Ila10tro_PoseSLAM`.\n",
    "Another seminal paper on SLAM is by {cite:t}`Guivant01tra_SLAM`, who also collected the\n",
    "Victoria Park dataset of which we used an excerpt here.\n",
    "\n",
    "Splines have been used in robotics for many years, mainly to plan\n",
    "trajectories for robot arms specified in terms of via points\n",
    "in the joint space (see, e.g., {cite:p}`Spong96book`).\n",
    "Quintic splines have been proposed for lane changing maneuvers by self-driving\n",
    "cars by {cite:t}`Li20icma_LaneChange`\n",
    "and the method we describe for tracking nonlinear trajectories by planning\n",
    "with respect to a local Frenet frame was introduced by {cite:t}`Werling10icra_Frenet`.\n",
    "\n",
    "While the topic of Deep RL has been around for quite a while,\n",
    "an excellent introduction can be found in a more recent articles by \n",
    "{cite:t}`FrancoisLavet18fnt_DRL`.\n",
    "DQN, as discussed, was introduced by {cite:t}`Mnih15nature_dqn`, and \n",
    "policy gradient algorithms were introduced by {cite:t}`Williams92ml_reinforce`\n",
    "and PPO is described in {cite:p}`Schulman17_PPO`."
   ]
  }
 ],
 "metadata": {
  "colab": {
   "collapsed_sections": [],
   "include_colab_link": true,
   "name": "S11_sorter_state.ipynb",
   "provenance": []
  },
  "interpreter": {
   "hash": "c6e4e9f98eb68ad3b7c296f83d20e6de614cb42e90992a65aa266555a3137d0d"
  },
  "kernelspec": {
   "display_name": "Python 3.9.6 64-bit ('base': conda)",
   "name": "python3"
  },
  "language_info": {
   "codemirror_mode": {
    "name": "ipython",
    "version": 3
   },
   "file_extension": ".py",
   "mimetype": "text/x-python",
   "name": "python",
   "nbconvert_exporter": "python",
   "pygments_lexer": "ipython3",
   "version": "3.8.12"
  },
  "latex_metadata": {
   "affiliation": "Georgia Institute of Technology",
   "author": "Frank Dellaert and Seth Hutchinson",
   "title": "Introduction to Robotics"
  }
 },
 "nbformat": 4,
 "nbformat_minor": 5
}
