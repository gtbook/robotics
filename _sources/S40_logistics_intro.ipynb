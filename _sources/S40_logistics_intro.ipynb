{
 "cells": [
  {
   "attachments": {},
   "cell_type": "markdown",
   "metadata": {
    "id": "nAvx4-UCNzt2"
   },
   "source": [
    "# Warehouse Robots in 2D\n",
    "\n",
    "> Warehouse operations and logistics are among the most successful applications areas for mobile robots.\n",
    "\n",
    "<img src=\"Figures4/S40-Warehouse_robots-01.jpg\" alt=\"Splash image with cute robot with a stalked eye\" width=\"60%\" align=center style=\"vertical-align:middle;margin:10px 0px\">"
   ]
  },
  {
   "cell_type": "markdown",
   "metadata": {},
   "source": [
    "In this chapter, we consider a simple mobile robot that operates in a warehouse,\n",
    "and whose main task is to transport products from various storage locations to a shipping station.\n",
    "The representations and models in this chapter are significantly more complex than those\n",
    "in the previous chapters, but they are also much more realistic than those of previous chapters,\n",
    "and in some cases are not so different from what is used in current state-of-the-art robotic systems.\n",
    "\n",
    "For the first time, we will consider the case in which the state space is continuous.\n",
    "While we do not consider rotation in this chapter, we will assume that\n",
    "the robot can translate freely to any point on the warehouse floor, so the state space will be a subset\n",
    "of $\\mathbb{R}^2$.\n",
    "In order to represent uncertainty in state, we will introduce continuous probability\n",
    "distributions on  $\\mathbb{R}^2$,\n",
    "specifically, the multivariate Gaussian distribution.\n",
    "To model the motion of such a robot, we introduce omni-wheels, and investigate\n",
    "the geometry of motion using such wheels.\n",
    "Then, to model uncertainty in the motion model, we again use the multi-variate Gaussian\n",
    "distribution."
   ]
  },
  {
   "cell_type": "markdown",
   "metadata": {},
   "source": [
    "For sensing and perception, we again use continuous probability distributions: one-dimensional\n",
    "distributions for a range sensor, and two-dimensional distributions for a GPS-like sensor.\n",
    "We then introduce the perception problem of localization: given a map of the environment\n",
    "along with the action and sensor measurement histories, determine the robot's current location\n",
    "(i.e., the current state).\n",
    "We first look at \"Markov Localization\", which is a straightforward application of HMMs. We then introduce a particle filter as a better alternative. When applied to localization, the resulting algorithm is called \"Monte Carlo Localization.\" Finally, as an advanced technique, Kalman smoothing is discussed.\n",
    "These three solution approaches demonstrate trade-offs between computational cost and accuracy.\n"
   ]
  },
  {
   "cell_type": "markdown",
   "metadata": {},
   "source": [
    "For planning, we will extend our value iteration algorithm of the previous chapter to the case of\n",
    "planning motions for a robot that translates in the plane when there is uncertainty in both the motion model and knowledge of the current state.\n",
    "This requires defining a reward function that guides the robot to its goal while avoiding\n",
    "collisions with obstacles."
   ]
  }
 ],
 "metadata": {
  "colab": {
   "collapsed_sections": [],
   "include_colab_link": true,
   "name": "S40_logistics_intro.ipynb",
   "provenance": []
  },
  "interpreter": {
   "hash": "c6e4e9f98eb68ad3b7c296f83d20e6de614cb42e90992a65aa266555a3137d0d"
  },
  "kernelspec": {
   "display_name": "Python 3 (ipykernel)",
   "language": "python",
   "name": "python3"
  },
  "language_info": {
   "codemirror_mode": {
    "name": "ipython",
    "version": 3
   },
   "file_extension": ".py",
   "mimetype": "text/x-python",
   "name": "python",
   "nbconvert_exporter": "python",
   "pygments_lexer": "ipython3",
   "version": "3.8.12"
  },
  "latex_metadata": {
   "affiliation": "Georgia Institute of Technology",
   "author": "Frank Dellaert and Seth Hutchinson",
   "title": "Introduction to Robotics"
  }
 },
 "nbformat": 4,
 "nbformat_minor": 2
}
