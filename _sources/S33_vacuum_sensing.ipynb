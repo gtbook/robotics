{
 "cells": [
  {
   "cell_type": "markdown",
   "id": "pFDNHbNSbWeX",
   "metadata": {},
   "source": [
    "# Dynamic Bayesian Networks"
   ]
  },
  {
   "cell_type": "markdown",
   "id": "Tvm-fb8752DN",
   "metadata": {
    "colab_type": "text",
    "tags": [
     "no-tex"
    ]
   },
   "source": [
    "<a href=\"https://colab.research.google.com/github/gtbook/robotics/blob/main/S33_vacuum_sensing.ipynb\" target=\"_parent\"><img src=\"https://colab.research.google.com/assets/colab-badge.svg\" alt=\"Open In Colab\"/></a>"
   ]
  },
  {
   "cell_type": "code",
   "execution_count": 2,
   "id": "8tE197MxXepx",
   "metadata": {
    "tags": [
     "remove-cell"
    ]
   },
   "outputs": [
    {
     "name": "stdout",
     "output_type": "stream",
     "text": [
      "Note: you may need to restart the kernel to use updated packages.\n"
     ]
    }
   ],
   "source": [
    "%pip install -U -q gtbook\n"
   ]
  },
  {
   "cell_type": "code",
   "execution_count": 3,
   "id": "tE0z_L-S5rKz",
   "metadata": {
    "tags": [
     "remove-cell"
    ]
   },
   "outputs": [],
   "source": [
    "import gtsam\n",
    "\n",
    "import gtbook\n",
    "import gtbook.display\n",
    "from gtbook import vacuum\n",
    "from gtbook.discrete import Variables\n",
    "VARIABLES = Variables()\n",
    "def pretty(obj):\n",
    "    return gtbook.display.pretty(obj, VARIABLES)\n",
    "def show(obj, **kwargs):\n",
    "    return gtbook.display.show(obj, VARIABLES, **kwargs)\n"
   ]
  },
  {
   "cell_type": "code",
   "execution_count": 4,
   "id": "zM3KqEkcwC89",
   "metadata": {
    "tags": [
     "no-tex",
     "remove-cell"
    ]
   },
   "outputs": [],
   "source": [
    "# From section 3.2:\n",
    "wxyz = gtsam.DiscreteBayesNet()\n",
    "W1 = VARIABLES.binary(\"W\")\n",
    "X1 = VARIABLES.binary(\"X\")\n",
    "Y1 = VARIABLES.binary(\"Y\")\n",
    "Z1 = VARIABLES.binary(\"Z\")\n",
    "wxyz.add(W1, [X1, Z1], \"1/1 1/1 1/1 1/1\")\n",
    "wxyz.add(X1, [Y1, Z1], \"1/1 1/1 1/1 1/1\")\n",
    "wxyz.add(Y1, [Z1], \"1/1 1/1\")\n",
    "wxyz.add(Z1, \"1/1\")\n",
    "\n",
    "N = 5\n",
    "X = VARIABLES.discrete_series(\"X\", range(1, N+1), vacuum.rooms)\n",
    "A = VARIABLES.discrete_series(\"A\", range(1, N), vacuum.action_space)\n"
   ]
  },
  {
   "attachments": {},
   "cell_type": "markdown",
   "id": "k6gk7cgrJDI0",
   "metadata": {},
   "source": [
    "```{index} sensing; dynamic Bayes nets\n",
    "```\n",
    "\n",
    "> Dynamic Bayes nets replicate a Bayes net fragment over time."
   ]
  },
  {
   "cell_type": "markdown",
   "id": "6bde5374",
   "metadata": {
    "tags": [
     "no-pdf"
    ]
   },
   "source": [
    "<img src=\"Figures3/S33-iRobot_vacuuming_robot-01.jpg\" alt=\"Splash image with balancing steampunk robot sporting big eyes\" width=\"40%\" align=center style=\"vertical-align:middle;margin:10px 0px\">"
   ]
  },
  {
   "cell_type": "markdown",
   "id": "Cpn7EFISEYeA",
   "metadata": {},
   "source": [
    "```{index} pair: dynamic Bayes net; DBN\n",
    "```\n",
    "\n",
    "The concepts we discussed in the previous section can be generalized to include sensing, and here we introduce a much more general framework that we will use over and over in this book.\n",
    "In particular, the controlled Markov chain over successive states $X_t$ is an instance of a **dynamic Bayes net** or **DBN**:\n",
    "a Bayes net in which *Bayes net slices* are replicated through time to model the evolution of states over time.\n",
    "Below, we add observations/measurements into the mix and show how we can simulate the complete system using a more general technique called *ancestral sampling*.\n",
    "\n",
    "```{index} ancestral sampling\n",
    "```\n",
    "\n",
    "While most of the sensor modeling here is largely a reprise of Section 2.3, the concept of a dynamic Bayes net is an incredible modeling tool that we will use repeatedly throughout this book.\n",
    "The notion of ancestral sampling is also very powerful and underlies simulation for much more general robot systems, not just the discrete-state model we consider here."
   ]
  },
  {
   "cell_type": "markdown",
   "id": "VpwbX12gK447",
   "metadata": {},
   "source": [
    "## A Sensor Model\n",
    "\n",
    "> A simple light sensor.\n",
    "\n",
    "This chapter is primarily focused on action, and hence the sensing we will consider is fairly straightforward.\n",
    "Let us conceive of a simple light sensor that we can use as a clue about which room the robot is in.\n",
    "Specifically, let us assume for illustration's sake that the living room and kitchen are on the south side, and hence have a lot of light on a typical day.\n",
    "The office and the dining room are on the north side, and the light sensor will typically respond with medium light levels.\n",
    "The hallway, on the other hand, is very dark as it has few windows.\n",
    "We can capture these semantics with a conditional probability distribution $P(Z_t|X_t)$, where $X_t$ is the state at time $t$ as before, and $Z_t \\in \\{\\text{dark}, \\text{medium}, \\text{light}\\}$ is the measured light level.\n",
    "\n",
    "The small code snippet in Figure [1](#fig:vacuum-sensor-spec) is one way to create a reasonable sensor model."
   ]
  },
  {
   "cell_type": "code",
   "execution_count": 5,
   "id": "HMgmh6xlk0Mj",
   "metadata": {},
   "outputs": [
    {
     "data": {
      "text/html": [
       "<div>\n",
       "<p>  <i>P(Z1|X1):</i></p>\n",
       "<table class='DiscreteConditional'>\n",
       "  <thead>\n",
       "    <tr><th><i>X1</i></th><th>dark</th><th>medium</th><th>light</th></tr>\n",
       "  </thead>\n",
       "  <tbody>\n",
       "    <tr><th>Living Room</th><td>0.1</td><td>0.1</td><td>0.8</td></tr>\n",
       "    <tr><th>Kitchen</th><td>0.1</td><td>0.1</td><td>0.8</td></tr>\n",
       "    <tr><th>Office</th><td>0.2</td><td>0.7</td><td>0.1</td></tr>\n",
       "    <tr><th>Hallway</th><td>0.8</td><td>0.1</td><td>0.1</td></tr>\n",
       "    <tr><th>Dining Room</th><td>0.1</td><td>0.8</td><td>0.1</td></tr>\n",
       "  </tbody>\n",
       "</table>\n",
       "</div>"
      ],
      "text/plain": [
       "<gtbook.display.pretty at 0x10dbfd250>"
      ]
     },
     "execution_count": 5,
     "metadata": {},
     "output_type": "execute_result"
    }
   ],
   "source": [
    "#| caption: Creating a sensor model $P(Z_t|X_t)$ using a string-based specification.\n",
    "#| label: fig:vacuum-sensor-spec\n",
    "# vacuum.light_levels = [\"dark\", \"medium\", \"light\"]\n",
    "Z = VARIABLES.discrete_series(\"Z\", range(1, N+1), vacuum.light_levels) # define variables\n",
    "# vacuum.sensor_spec = \"1/1/8 1/1/8 2/7/1 8/1/1 1/8/1\"\n",
    "pretty(gtsam.DiscreteConditional(Z[1], [X[1]], vacuum.sensor_spec)) # CPT on Z1 at time t=1\n"
   ]
  },
  {
   "cell_type": "markdown",
   "id": "kThAFebjWNNI",
   "metadata": {},
   "source": [
    "There are several things to notice.\n",
    "- This is again a *discrete* sensor; we have encountered these before in Chapter 2.\n",
    "- It is an imperfect sensor, and hence each room has a most likely outcome, but all outcomes are possible in all rooms.\n",
    "- The CPT (conditional probability table) above also captures modeling issues, such as varying light levels throughout the day.\n",
    "\n",
    "### Exercise\n",
    "Change the values in the CPT and see how those changes affect the rest of the code in this section. Specifically, try some CPT versions where some outcomes have zero probability."
   ]
  },
  {
   "cell_type": "markdown",
   "id": "BkdN5KD-ccqj",
   "metadata": {},
   "source": [
    "## Introducing Dynamic Bayes Nets\n",
    "\n",
    "> AXZ slices for the win!\n",
    "\n",
    "Single time step reasoning will fall short for our vacuuming robot, which operates in time. In perception, the game is to estimate the state given what was measured, but the ideas we discussed before will not apply directly. For example, recall the maximum likelihood method from the previous chapter, which we could try to apply here. In our case, given a sensor reading of, say, $Z_1$=`medium`, the maximum likelihood estimate (MLE) for the state $X_1$ of the robot is `dining room`: it corresponds to the highest value in the `medium` column. But that takes only *one* measurement into account, even if we take many steps in the environment."
   ]
  },
  {
   "cell_type": "markdown",
   "id": "HFf4dBne0kky",
   "metadata": {},
   "source": [
    "```{index} pair: dynamic Bayes net; DBN\n",
    "```\n",
    "We use a **dynamic Bayes net**, a special type of Bayes net, to reason about multiple measurements.\n",
    "Intuitively, we should be able to use the robot's history to obtain a better estimate of its location. For example, if the robot were just in the living room, there is no way that it could have gotten to the dining room in a single step. In this section we will see how we can reason probabilistically about such things.\n",
    "\n",
    "The key lies in unrolling time in a graph. \n",
    "Recall that directed cycles are not allowed in a Bayes net, i.e., the\n",
    "graph is acyclic. Hence, one might wonder how we deal with time: if a\n",
    "robot is all about the sense-think-act cycle, would we not expect a\n",
    "cycle in the graph when describing robots? The answer is to *unroll* time, as we show below.\n",
    "When a Bayes net is used to unroll the evolution of a system or agent\n",
    "over time, we call it a dynamic Bayes net or **DBN**. "
   ]
  },
  {
   "cell_type": "markdown",
   "id": "0Z2TuaX7k_9V",
   "metadata": {},
   "source": [
    "To illustrate this we will once again resort to code. The piece of code in Figure [2](#fig:dbn_5) builds the entire vacuuming robot dynamic Bayes net. Note that we take care to add CPTs of variables *before* we add the CPT on any of their parents (hence the `reversed` below) for reasons that will soon become clear."
   ]
  },
  {
   "cell_type": "code",
   "execution_count": 6,
   "id": "4ETLzooFvnzN",
   "metadata": {},
   "outputs": [
    {
     "data": {
      "image/svg+xml": [
       "<?xml version=\"1.0\" encoding=\"UTF-8\" standalone=\"no\"?>\n",
       "<!DOCTYPE svg PUBLIC \"-//W3C//DTD SVG 1.1//EN\"\n",
       " \"http://www.w3.org/Graphics/SVG/1.1/DTD/svg11.dtd\">\n",
       "<!-- Generated by graphviz version 9.0.0 (0)\n",
       " -->\n",
       "<!-- Pages: 1 -->\n",
       "<svg width=\"350pt\" height=\"188pt\"\n",
       " viewBox=\"0.00 0.00 350.00 188.00\" xmlns=\"http://www.w3.org/2000/svg\" xmlns:xlink=\"http://www.w3.org/1999/xlink\">\n",
       "<g id=\"graph0\" class=\"graph\" transform=\"scale(1 1) rotate(0) translate(4 184)\">\n",
       "<polygon fill=\"white\" stroke=\"none\" points=\"-4,4 -4,-184 346,-184 346,4 -4,4\"/>\n",
       "<!-- var4683743612465315841 -->\n",
       "<g id=\"node1\" class=\"node\">\n",
       "<title>var4683743612465315841</title>\n",
       "<polygon fill=\"none\" stroke=\"black\" points=\"54,-180 0,-180 0,-144 54,-144 54,-180\"/>\n",
       "<text text-anchor=\"middle\" x=\"27\" y=\"-156.95\" font-family=\"Times,serif\" font-size=\"14.00\">A1</text>\n",
       "</g>\n",
       "<!-- var6341068275337658370 -->\n",
       "<g id=\"node6\" class=\"node\">\n",
       "<title>var6341068275337658370</title>\n",
       "<ellipse fill=\"none\" stroke=\"black\" cx=\"99\" cy=\"-90\" rx=\"27\" ry=\"18\"/>\n",
       "<text text-anchor=\"middle\" x=\"99\" y=\"-84.95\" font-family=\"Times,serif\" font-size=\"14.00\">X2</text>\n",
       "</g>\n",
       "<!-- var4683743612465315841&#45;&gt;var6341068275337658370 -->\n",
       "<g id=\"edge2\" class=\"edge\">\n",
       "<title>var4683743612465315841&#45;&gt;var6341068275337658370</title>\n",
       "<path fill=\"none\" stroke=\"black\" d=\"M45.17,-143.83C54.54,-134.46 66.07,-122.93 76.05,-112.95\"/>\n",
       "<polygon fill=\"black\" stroke=\"black\" points=\"78.33,-115.62 82.92,-106.08 73.38,-110.67 78.33,-115.62\"/>\n",
       "</g>\n",
       "<!-- var4683743612465315842 -->\n",
       "<g id=\"node2\" class=\"node\">\n",
       "<title>var4683743612465315842</title>\n",
       "<polygon fill=\"none\" stroke=\"black\" points=\"126,-180 72,-180 72,-144 126,-144 126,-180\"/>\n",
       "<text text-anchor=\"middle\" x=\"99\" y=\"-156.95\" font-family=\"Times,serif\" font-size=\"14.00\">A2</text>\n",
       "</g>\n",
       "<!-- var6341068275337658371 -->\n",
       "<g id=\"node7\" class=\"node\">\n",
       "<title>var6341068275337658371</title>\n",
       "<ellipse fill=\"none\" stroke=\"black\" cx=\"171\" cy=\"-90\" rx=\"27\" ry=\"18\"/>\n",
       "<text text-anchor=\"middle\" x=\"171\" y=\"-84.95\" font-family=\"Times,serif\" font-size=\"14.00\">X3</text>\n",
       "</g>\n",
       "<!-- var4683743612465315842&#45;&gt;var6341068275337658371 -->\n",
       "<g id=\"edge4\" class=\"edge\">\n",
       "<title>var4683743612465315842&#45;&gt;var6341068275337658371</title>\n",
       "<path fill=\"none\" stroke=\"black\" d=\"M117.17,-143.83C126.54,-134.46 138.07,-122.93 148.05,-112.95\"/>\n",
       "<polygon fill=\"black\" stroke=\"black\" points=\"150.33,-115.62 154.92,-106.08 145.38,-110.67 150.33,-115.62\"/>\n",
       "</g>\n",
       "<!-- var4683743612465315843 -->\n",
       "<g id=\"node3\" class=\"node\">\n",
       "<title>var4683743612465315843</title>\n",
       "<polygon fill=\"none\" stroke=\"black\" points=\"198,-180 144,-180 144,-144 198,-144 198,-180\"/>\n",
       "<text text-anchor=\"middle\" x=\"171\" y=\"-156.95\" font-family=\"Times,serif\" font-size=\"14.00\">A3</text>\n",
       "</g>\n",
       "<!-- var6341068275337658372 -->\n",
       "<g id=\"node8\" class=\"node\">\n",
       "<title>var6341068275337658372</title>\n",
       "<ellipse fill=\"none\" stroke=\"black\" cx=\"243\" cy=\"-90\" rx=\"27\" ry=\"18\"/>\n",
       "<text text-anchor=\"middle\" x=\"243\" y=\"-84.95\" font-family=\"Times,serif\" font-size=\"14.00\">X4</text>\n",
       "</g>\n",
       "<!-- var4683743612465315843&#45;&gt;var6341068275337658372 -->\n",
       "<g id=\"edge6\" class=\"edge\">\n",
       "<title>var4683743612465315843&#45;&gt;var6341068275337658372</title>\n",
       "<path fill=\"none\" stroke=\"black\" d=\"M189.17,-143.83C198.54,-134.46 210.07,-122.93 220.05,-112.95\"/>\n",
       "<polygon fill=\"black\" stroke=\"black\" points=\"222.33,-115.62 226.92,-106.08 217.38,-110.67 222.33,-115.62\"/>\n",
       "</g>\n",
       "<!-- var4683743612465315844 -->\n",
       "<g id=\"node4\" class=\"node\">\n",
       "<title>var4683743612465315844</title>\n",
       "<polygon fill=\"none\" stroke=\"black\" points=\"270,-180 216,-180 216,-144 270,-144 270,-180\"/>\n",
       "<text text-anchor=\"middle\" x=\"243\" y=\"-156.95\" font-family=\"Times,serif\" font-size=\"14.00\">A4</text>\n",
       "</g>\n",
       "<!-- var6341068275337658373 -->\n",
       "<g id=\"node9\" class=\"node\">\n",
       "<title>var6341068275337658373</title>\n",
       "<ellipse fill=\"none\" stroke=\"black\" cx=\"315\" cy=\"-90\" rx=\"27\" ry=\"18\"/>\n",
       "<text text-anchor=\"middle\" x=\"315\" y=\"-84.95\" font-family=\"Times,serif\" font-size=\"14.00\">X5</text>\n",
       "</g>\n",
       "<!-- var4683743612465315844&#45;&gt;var6341068275337658373 -->\n",
       "<g id=\"edge8\" class=\"edge\">\n",
       "<title>var4683743612465315844&#45;&gt;var6341068275337658373</title>\n",
       "<path fill=\"none\" stroke=\"black\" d=\"M261.17,-143.83C270.54,-134.46 282.07,-122.93 292.05,-112.95\"/>\n",
       "<polygon fill=\"black\" stroke=\"black\" points=\"294.33,-115.62 298.92,-106.08 289.38,-110.67 294.33,-115.62\"/>\n",
       "</g>\n",
       "<!-- var6341068275337658369 -->\n",
       "<g id=\"node5\" class=\"node\">\n",
       "<title>var6341068275337658369</title>\n",
       "<ellipse fill=\"none\" stroke=\"black\" cx=\"27\" cy=\"-90\" rx=\"27\" ry=\"18\"/>\n",
       "<text text-anchor=\"middle\" x=\"27\" y=\"-84.95\" font-family=\"Times,serif\" font-size=\"14.00\">X1</text>\n",
       "</g>\n",
       "<!-- var6341068275337658369&#45;&gt;var6341068275337658370 -->\n",
       "<g id=\"edge1\" class=\"edge\">\n",
       "<title>var6341068275337658369&#45;&gt;var6341068275337658370</title>\n",
       "<path fill=\"none\" stroke=\"black\" d=\"M54.22,-90C56.28,-90 58.38,-90 60.5,-90\"/>\n",
       "<polygon fill=\"black\" stroke=\"black\" points=\"60.23,-93.5 70.23,-90 60.23,-86.5 60.23,-93.5\"/>\n",
       "</g>\n",
       "<!-- var6485183463413514241 -->\n",
       "<g id=\"node10\" class=\"node\">\n",
       "<title>var6485183463413514241</title>\n",
       "<ellipse fill=\"none\" stroke=\"black\" cx=\"27\" cy=\"-18\" rx=\"27\" ry=\"18\"/>\n",
       "<text text-anchor=\"middle\" x=\"27\" y=\"-12.95\" font-family=\"Times,serif\" font-size=\"14.00\">Z1</text>\n",
       "</g>\n",
       "<!-- var6341068275337658369&#45;&gt;var6485183463413514241 -->\n",
       "<g id=\"edge13\" class=\"edge\">\n",
       "<title>var6341068275337658369&#45;&gt;var6485183463413514241</title>\n",
       "<path fill=\"none\" stroke=\"black\" d=\"M27,-71.83C27,-64.55 27,-55.98 27,-47.83\"/>\n",
       "<polygon fill=\"black\" stroke=\"black\" points=\"30.5,-47.93 27,-37.93 23.5,-47.93 30.5,-47.93\"/>\n",
       "</g>\n",
       "<!-- var6341068275337658370&#45;&gt;var6341068275337658371 -->\n",
       "<g id=\"edge3\" class=\"edge\">\n",
       "<title>var6341068275337658370&#45;&gt;var6341068275337658371</title>\n",
       "<path fill=\"none\" stroke=\"black\" d=\"M126.22,-90C128.28,-90 130.38,-90 132.5,-90\"/>\n",
       "<polygon fill=\"black\" stroke=\"black\" points=\"132.23,-93.5 142.23,-90 132.23,-86.5 132.23,-93.5\"/>\n",
       "</g>\n",
       "<!-- var6485183463413514242 -->\n",
       "<g id=\"node11\" class=\"node\">\n",
       "<title>var6485183463413514242</title>\n",
       "<ellipse fill=\"none\" stroke=\"black\" cx=\"99\" cy=\"-18\" rx=\"27\" ry=\"18\"/>\n",
       "<text text-anchor=\"middle\" x=\"99\" y=\"-12.95\" font-family=\"Times,serif\" font-size=\"14.00\">Z2</text>\n",
       "</g>\n",
       "<!-- var6341068275337658370&#45;&gt;var6485183463413514242 -->\n",
       "<g id=\"edge12\" class=\"edge\">\n",
       "<title>var6341068275337658370&#45;&gt;var6485183463413514242</title>\n",
       "<path fill=\"none\" stroke=\"black\" d=\"M99,-71.83C99,-64.55 99,-55.98 99,-47.83\"/>\n",
       "<polygon fill=\"black\" stroke=\"black\" points=\"102.5,-47.93 99,-37.93 95.5,-47.93 102.5,-47.93\"/>\n",
       "</g>\n",
       "<!-- var6341068275337658371&#45;&gt;var6341068275337658372 -->\n",
       "<g id=\"edge5\" class=\"edge\">\n",
       "<title>var6341068275337658371&#45;&gt;var6341068275337658372</title>\n",
       "<path fill=\"none\" stroke=\"black\" d=\"M198.22,-90C200.28,-90 202.38,-90 204.5,-90\"/>\n",
       "<polygon fill=\"black\" stroke=\"black\" points=\"204.23,-93.5 214.23,-90 204.23,-86.5 204.23,-93.5\"/>\n",
       "</g>\n",
       "<!-- var6485183463413514243 -->\n",
       "<g id=\"node12\" class=\"node\">\n",
       "<title>var6485183463413514243</title>\n",
       "<ellipse fill=\"none\" stroke=\"black\" cx=\"171\" cy=\"-18\" rx=\"27\" ry=\"18\"/>\n",
       "<text text-anchor=\"middle\" x=\"171\" y=\"-12.95\" font-family=\"Times,serif\" font-size=\"14.00\">Z3</text>\n",
       "</g>\n",
       "<!-- var6341068275337658371&#45;&gt;var6485183463413514243 -->\n",
       "<g id=\"edge11\" class=\"edge\">\n",
       "<title>var6341068275337658371&#45;&gt;var6485183463413514243</title>\n",
       "<path fill=\"none\" stroke=\"black\" d=\"M171,-71.83C171,-64.55 171,-55.98 171,-47.83\"/>\n",
       "<polygon fill=\"black\" stroke=\"black\" points=\"174.5,-47.93 171,-37.93 167.5,-47.93 174.5,-47.93\"/>\n",
       "</g>\n",
       "<!-- var6341068275337658372&#45;&gt;var6341068275337658373 -->\n",
       "<g id=\"edge7\" class=\"edge\">\n",
       "<title>var6341068275337658372&#45;&gt;var6341068275337658373</title>\n",
       "<path fill=\"none\" stroke=\"black\" d=\"M270.22,-90C272.28,-90 274.38,-90 276.5,-90\"/>\n",
       "<polygon fill=\"black\" stroke=\"black\" points=\"276.23,-93.5 286.23,-90 276.23,-86.5 276.23,-93.5\"/>\n",
       "</g>\n",
       "<!-- var6485183463413514244 -->\n",
       "<g id=\"node13\" class=\"node\">\n",
       "<title>var6485183463413514244</title>\n",
       "<ellipse fill=\"none\" stroke=\"black\" cx=\"243\" cy=\"-18\" rx=\"27\" ry=\"18\"/>\n",
       "<text text-anchor=\"middle\" x=\"243\" y=\"-12.95\" font-family=\"Times,serif\" font-size=\"14.00\">Z4</text>\n",
       "</g>\n",
       "<!-- var6341068275337658372&#45;&gt;var6485183463413514244 -->\n",
       "<g id=\"edge10\" class=\"edge\">\n",
       "<title>var6341068275337658372&#45;&gt;var6485183463413514244</title>\n",
       "<path fill=\"none\" stroke=\"black\" d=\"M243,-71.83C243,-64.55 243,-55.98 243,-47.83\"/>\n",
       "<polygon fill=\"black\" stroke=\"black\" points=\"246.5,-47.93 243,-37.93 239.5,-47.93 246.5,-47.93\"/>\n",
       "</g>\n",
       "<!-- var6485183463413514245 -->\n",
       "<g id=\"node14\" class=\"node\">\n",
       "<title>var6485183463413514245</title>\n",
       "<ellipse fill=\"none\" stroke=\"black\" cx=\"315\" cy=\"-18\" rx=\"27\" ry=\"18\"/>\n",
       "<text text-anchor=\"middle\" x=\"315\" y=\"-12.95\" font-family=\"Times,serif\" font-size=\"14.00\">Z5</text>\n",
       "</g>\n",
       "<!-- var6341068275337658373&#45;&gt;var6485183463413514245 -->\n",
       "<g id=\"edge9\" class=\"edge\">\n",
       "<title>var6341068275337658373&#45;&gt;var6485183463413514245</title>\n",
       "<path fill=\"none\" stroke=\"black\" d=\"M315,-71.83C315,-64.55 315,-55.98 315,-47.83\"/>\n",
       "<polygon fill=\"black\" stroke=\"black\" points=\"318.5,-47.93 315,-37.93 311.5,-47.93 318.5,-47.93\"/>\n",
       "</g>\n",
       "</g>\n",
       "</svg>\n"
      ],
      "text/plain": [
       "<gtbook.display.show at 0x10b937580>"
      ]
     },
     "execution_count": 6,
     "metadata": {},
     "output_type": "execute_result"
    }
   ],
   "source": [
    "#| caption: A dynamic Bayes net modeling both actions and sensing.\n",
    "#| label: fig:dbn_5\n",
    "dbn = gtsam.DiscreteBayesNet()\n",
    "for k in range(1,N+1):\n",
    "    dbn.add(Z[k], [X[k]], vacuum.sensor_spec) # Add measurement CPTs\n",
    "for k in reversed(range(1, N)):\n",
    "    dbn.add(X[k+1], [X[k], A[k]], vacuum.action_spec) # Add transition CPTs\n",
    "dbn.add(X[1], \"0/0/1/0/0\") # Add initial state CPT\n",
    "\n",
    "show(dbn, hints={\"A\":2, \"X\":1, \"Z\":0}, boxes={A[k][0] for k in range(1,N)})"
   ]
  },
  {
   "cell_type": "markdown",
   "id": "4WDDMlRMRRTT",
   "metadata": {},
   "source": [
    "Observe that after the first time step, the Bayes net is repeating the same \"AXZ\" pattern (or *slice*!) over and over again. Formally, the joint distribution $P(Z_{1:n},X_{1:n}|A_{1:n})$ over states $X_{1:n} \\doteq (X_1 \\dots, X_n)$ and measurements $Z_{1:n} \\doteq (Z_1, \\dots , Z_n)$, *given* \n",
    "the action sequence $A_{1:n} \\doteq (A_1, \\dots , A_n)$ can be computed, given the DBN factorization, as\n",
    "\\begin{equation}\n",
    "P(Z_{1:n},X_{1:n}|A_{1:n})= P(Z_1| X_1) P(X_1) \\prod_{k=2}^{n} P(Z_k| X_k) P(X_k|A_{k-1},X_{k-1}).\n",
    "\\end{equation}\n",
    "The AXZ slice at time $k$ is given by $P(Z_k| X_k) P(X_k|A_{k-1},X_{k-1})$, whereas the chain is \"jump-started\" using the initial state distribution $P(X_1)$ and the corresponding measurement model $P(Z_1|X_1)$."
   ]
  },
  {
   "cell_type": "markdown",
   "id": "LBIOlQCmDnZh",
   "metadata": {},
   "source": [
    "## Ancestral Sampling\n",
    "\n",
    "> FOR DBNs, ancestry matters!\n",
    "\n",
    "How do we sample over such a complex Bayes net? To explain, recall the Bayes net example from Figure [11](#fig:general_bayes_net) in the previous section. It has four variables W,X,Y,Z, and the joint distribution \n",
    "\\begin{equation}\n",
    "P(W,X,Y,Z)=P(W|X,Z)P(X|Y,Z)P(Y|Z)P(Z).\n",
    "\\end{equation}"
   ]
  },
  {
   "cell_type": "markdown",
   "id": "YoOAMyPRLxzD",
   "metadata": {},
   "source": [
    "```{index} topological sort\n",
    "```\n",
    "Sampling from the joint distribution given in Bayes net form can be done\n",
    "by sampling each variable in turn, but making sure that we always sample\n",
    "a node’s parents first. This can be done using the notion of a\n",
    "**topological sort** of the DAG. A topological sort of a DAG is an ordering\n",
    "of the vertices $\\{v_1, \\dots , v_n\\}$ such that $v_i$ precedes $v_j$ in the sort when there\n",
    "is a directed edge from $v_i$ to $v_j$ in the DAG.\n",
    "\n",
    "```{index} Kahn’s algorithm\n",
    "```\n",
    "An easy algorithm to obtain a topological sort is **Kahn’s algorithm**,\n",
    "which iteratively removes nodes from the graph that either have no parents, or whose parents have all been removed already.\n",
    "The order in which nodes are removed constitutes a (non-unique) topological sort order.\n",
    "\n",
    "Sampling is then done by sampling from each variable separately, in topological sort order, as doing so will ensure each variable's parent values are already available.\n",
    "The example graph above happens to be laid out already in topological sort order, if read from top to bottom.\n",
    "Hence, in this example we sample first $Z$, then $Y$, then $X$, and then $W$.\n",
    "Note that in this case the topological sort happens to be unique, but that is an exception rather than the rule: for arbitrary Bayes nets, more than one topological sort can exist."
   ]
  },
  {
   "cell_type": "markdown",
   "id": "nrZBJrcRMH0x",
   "metadata": {},
   "source": [
    "## Simulation of a Robot\n",
    "\n",
    "> Simulation as sampling, once again!\n",
    "\n",
    "Simulation of a robot is then equivalent\n",
    "to ancestral sampling from the DBN associated with the robot, i.e., the controlled Markov chain augmented with the measurement CPTs.\n",
    "In this case one topological sort is\n",
    "rather obvious, and so is a simulation algorithm to sample from \n",
    "$P(X_{1:n},Z_{1:n}|A_{1:n})$:\n",
    "\n",
    "1. First, assign $k\\leftarrow1$, and sample the initial state $x_1$ from $P(X_1)$, a prior over the state. We write\n",
    "$$\n",
    "x_1 \\sim P(X_1)\n",
    "$$\n",
    "\n",
    "2. Next, simulate the sensor reading by sampling from the sensor model\n",
    "$$\n",
    "z_{k} \\sim P(Z_{k}|X_{k}=x_{k})\n",
    "$$\n",
    "\n",
    "3. Lastly, simulate the effect of the (given) action $a_k$ by sampling the next state $x_{k+1}$:\n",
    "$$\n",
    "x_{k+1} \\sim P(X_{k+1}|X_{k}=s_{k},A_{k}=a_{k}).\n",
    "$$\n",
    "\n",
    "4. Increase $k\\leftarrow k+1$ and return to step $2$.\n",
    "\n",
    "Note that this algorithm is generic for all robot models with this action/sensing structure.\n",
    "\n",
    "### Exercises\n",
    "\n",
    "1. Simulate two different realizations from the dynamic Bayes net above.\n",
    "\n",
    "1. Think of a different way to topologically sort the graph, and the corresponding sampling algorithm."
   ]
  },
  {
   "cell_type": "markdown",
   "id": "tNkrQXWCHErQ",
   "metadata": {},
   "source": [
    "## Ancestral Sampling with GTSAM\n",
    "\n",
    "> Simulation in code.\n",
    "\n",
    "Of course, GTSAM has a method built in to do ancestral sampling, *but* it only works for a *reverse* topologically sorted Bayes net. This matches the way we write down joint distributions, with parents towards the right, and it is also why above we used the built-in `reversed` on the range: this was to make sure that later states get sampled last. Because in our code above we only specified\n",
    "$P(Z_{1:n},X_{1:n}|A_{1:n})$, and specifically did not provide a distribution over actions, we need to give an action sequence $a_{1:n}$ as an argument."
   ]
  },
  {
   "cell_type": "code",
   "execution_count": 7,
   "id": "e4MP797DkFwO",
   "metadata": {},
   "outputs": [
    {
     "data": {
      "text/html": [
       "<div>\n",
       "<table class='DiscreteValues'>\n",
       "  <thead>\n",
       "    <tr><th>Variable</th><th>value</th></tr>\n",
       "  </thead>\n",
       "  <tbody>\n",
       "    <tr><th>A1</th><td>R</td></tr>\n",
       "    <tr><th>A2</th><td>R</td></tr>\n",
       "    <tr><th>A3</th><td>R</td></tr>\n",
       "    <tr><th>A4</th><td>R</td></tr>\n",
       "    <tr><th>X1</th><td>Office</td></tr>\n",
       "    <tr><th>X2</th><td>Office</td></tr>\n",
       "    <tr><th>X3</th><td>Hallway</td></tr>\n",
       "    <tr><th>X4</th><td>Dining Room</td></tr>\n",
       "    <tr><th>X5</th><td>Dining Room</td></tr>\n",
       "    <tr><th>Z1</th><td>dark</td></tr>\n",
       "    <tr><th>Z2</th><td>medium</td></tr>\n",
       "    <tr><th>Z3</th><td>dark</td></tr>\n",
       "    <tr><th>Z4</th><td>medium</td></tr>\n",
       "    <tr><th>Z5</th><td>medium</td></tr>\n",
       "  </tbody>\n",
       "</table>\n",
       "</div>"
      ],
      "text/plain": [
       "<gtbook.display.pretty at 0x10ba3bcd0>"
      ]
     },
     "execution_count": 7,
     "metadata": {},
     "output_type": "execute_result"
    }
   ],
   "source": [
    "#| caption: Sampling from the DBN.\n",
    "#| label: fig:dbn-sample\n",
    "actions = VARIABLES.assignment({A[k]: \"R\" for k in range(1,N)})\n",
    "pretty(dbn.sample(actions))\n"
   ]
  },
  {
   "cell_type": "markdown",
   "id": "5lWM3Hfh-RnB",
   "metadata": {},
   "source": [
    "As an example, in Figure [3](#fig:dbn-sample) we examine what happens when we try the action `Right` 4 times in a row. The actions are included in the resulting `DiscreteValues` instance, so we have a complete picture of one sampled \"world state\" over time.\n",
    "Note that the result now also includes the sampled measurements $Z_k$ at each time step, in addition to the states $X_k$.\n",
    "Not surprisingly, we quickly transition from the dark hallway to the slightly brighter dining room and get stuck there, as there is no room to the right of the dining room!\n",
    "\n",
    "### Exercises\n",
    "\n",
    "- Execute the cell above multiple times and observe you *do* get different realizations (almost) every time.\n",
    "- Try doing the same with different action sequences.\n",
    "- Try formulating an action sequence that gets you to the kitchen. Does it always succeed?"
   ]
  },
  {
   "cell_type": "markdown",
   "id": "WXih5UTGxUDV",
   "metadata": {},
   "source": [
    "## GTSAM 101\n",
    "> The GTSAM concepts used in this section, explained."
   ]
  },
  {
   "cell_type": "markdown",
   "id": "HlzAWlJNSilC",
   "metadata": {},
   "source": [
    "We use the `DiscreteBayesNet` method `sample`, with signature\n",
    "\n",
    "```python\n",
    "    sample(self, given: gtsam::DiscreteValues) -> gtsam::DiscreteValues\n",
    "```"
   ]
  },
  {
   "cell_type": "markdown",
   "id": "q9bo84fGhQ_Z",
   "metadata": {},
   "source": [
    "It implements ancestral sampling, but does assume that the Bayes net is reverse topologically sorted, i.e. last\n",
    "conditional will be sampled first. In addition, it can optionally take an assignment for certain *given* variables, as a `DiscreteValues` instance.\n",
    "In that case, it is also assumed that the Bayes net does not contain any conditionals for the given values.\n",
    "We used this functionality to pass the given action sequence above."
   ]
  }
 ],
 "metadata": {
  "colab": {
   "collapsed_sections": [],
   "include_colab_link": true,
   "name": "S33_vacuum_sensing.ipynb",
   "provenance": []
  },
  "kernelspec": {
   "display_name": "gtbook",
   "language": "python",
   "name": "python3"
  },
  "language_info": {
   "codemirror_mode": {
    "name": "ipython",
    "version": 3
   },
   "file_extension": ".py",
   "mimetype": "text/x-python",
   "name": "python",
   "nbconvert_exporter": "python",
   "pygments_lexer": "ipython3",
   "version": "3.9.19"
  },
  "latex_metadata": {
   "affiliation": "Georgia Institute of Technology",
   "author": "Frank Dellaert and Seth Hutchinson",
   "title": "Introduction to Robotics"
  }
 },
 "nbformat": 4,
 "nbformat_minor": 5
}
