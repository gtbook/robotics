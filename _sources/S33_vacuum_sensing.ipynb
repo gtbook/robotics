{
 "cells": [
  {
   "cell_type": "markdown",
   "metadata": {
    "colab_type": "text",
    "id": "view-in-github",
    "tags": [
     "no-tex"
    ]
   },
   "source": [
    "<a href=\"https://colab.research.google.com/github/gtbook/robotics/blob/main/S33_vacuum_sensing.ipynb\" target=\"_parent\"><img src=\"https://colab.research.google.com/assets/colab-badge.svg\" alt=\"Open In Colab\"/></a>"
   ]
  },
  {
   "cell_type": "code",
   "execution_count": 1,
   "metadata": {
    "id": "JoW4C_OkOMhe",
    "tags": [
     "remove-cell"
    ]
   },
   "outputs": [
    {
     "name": "stdout",
     "output_type": "stream",
     "text": [
      "Note: you may need to restart the kernel to use updated packages.\n"
     ]
    }
   ],
   "source": [
    "%pip install -U -q gtbook\n"
   ]
  },
  {
   "cell_type": "code",
   "execution_count": 2,
   "metadata": {
    "id": "10-snNDwOSuC",
    "tags": [
     "remove-cell"
    ]
   },
   "outputs": [],
   "source": [
    "import gtsam\n",
    "\n",
    "import gtbook\n",
    "import gtbook.display\n",
    "from gtbook import vacuum\n",
    "from gtbook.discrete import Variables\n",
    "VARIABLES = Variables()\n",
    "def pretty(obj):\n",
    "    return gtbook.display.pretty(obj, VARIABLES)\n",
    "def show(obj, **kwargs):\n",
    "    return gtbook.display.show(obj, VARIABLES, **kwargs)\n"
   ]
  },
  {
   "cell_type": "code",
   "execution_count": 3,
   "metadata": {
    "id": "10-snNDwOSuC",
    "tags": [
     "hide-cell",
     "no-tex"
    ]
   },
   "outputs": [],
   "source": [
    "# From section 3.2:\n",
    "wxyz = gtsam.DiscreteBayesNet()\n",
    "W1 = VARIABLES.binary(\"W\")\n",
    "X1 = VARIABLES.binary(\"X\")\n",
    "Y1 = VARIABLES.binary(\"Y\")\n",
    "Z1 = VARIABLES.binary(\"Z\")\n",
    "wxyz.add(W1, [X1, Z1], \"1/1 1/1 1/1 1/1\")\n",
    "wxyz.add(X1, [Y1, Z1], \"1/1 1/1 1/1 1/1\")\n",
    "wxyz.add(Y1, [Z1], \"1/1 1/1\")\n",
    "wxyz.add(Z1, \"1/1\")\n",
    "\n",
    "N = 5\n",
    "X = VARIABLES.discrete_series(\"X\", range(1, N+1), vacuum.rooms)\n",
    "A = VARIABLES.discrete_series(\"A\", range(1, N), vacuum.action_space)\n"
   ]
  },
  {
   "attachments": {},
   "cell_type": "markdown",
   "metadata": {
    "id": "nAvx4-UCNzt2"
   },
   "source": [
    "# Dynamic Bayes Nets\n",
    "\n",
    "> Dynamic Bayes nets replicate a Bayes net fragment over time.\n",
    "\n",
    "<img src=\"Figures3/S33-iRobot_vacuuming_robot-01.jpg\" alt=\"Splash image with balancing steampunk robot sporting big eyes\" width=\"40%\" align=center style=\"vertical-align:middle;margin:10px 0px\">"
   ]
  },
  {
   "cell_type": "markdown",
   "metadata": {},
   "source": [
    "\n",
    "The Markov chain over successive states $X_t$ we discussed in the previous section is an example of a **Dynamic Bayes Net** or **DBN**: a Bayes net in which  *Bayes net slices* are replicated through time, to model the evolution of states over time. Below we add observations into the mix, and show how we can simulate the complete system using a technique called *ancestral sampling*."
   ]
  },
  {
   "cell_type": "markdown",
   "metadata": {},
   "source": [
    "## A Sensor Model\n",
    "\n",
    "> A simple light sensor\n",
    "\n",
    "This chapter is primarily focused on action, and hence the sensing we will consider is fairly simple. Let us conceive of a simple light sensor that gives an indication as to which room we are in. Specifically, let us assume that the living room and kitchen are on the south side, and hence have a lot of light on a typical day. The office in the dining room or on the north side, and the light sensor will typically respond with medium light levels. The hallway, on the other hand, is very dark as it has few windows. We can capture these semantics with a conditional probability distribution $P(Z_t|X_t)$, where $X_t$ is the state at time $t$ as before, and $Z_t\\in\\{\\text{dark}, \\text{medium}, \\text{light}\\}$ is the measured light level. \n",
    "\n",
    "A small code snippet can create a reasonable sensor model:"
   ]
  },
  {
   "cell_type": "code",
   "execution_count": 10,
   "metadata": {},
   "outputs": [
    {
     "data": {
      "text/html": [
       "<div>\n",
       "<p>  <i>P(Z1|X1):</i></p>\n",
       "<table class='DiscreteConditional'>\n",
       "  <thead>\n",
       "    <tr><th><i>X1</i></th><th>dark</th><th>medium</th><th>light</th></tr>\n",
       "  </thead>\n",
       "  <tbody>\n",
       "    <tr><th>Living Room</th><td>0.1</td><td>0.1</td><td>0.8</td></tr>\n",
       "    <tr><th>Kitchen</th><td>0.1</td><td>0.1</td><td>0.8</td></tr>\n",
       "    <tr><th>Office</th><td>0.2</td><td>0.7</td><td>0.1</td></tr>\n",
       "    <tr><th>Hallway</th><td>0.8</td><td>0.1</td><td>0.1</td></tr>\n",
       "    <tr><th>Dining Room</th><td>0.1</td><td>0.8</td><td>0.1</td></tr>\n",
       "  </tbody>\n",
       "</table>\n",
       "</div>"
      ],
      "text/plain": [
       "<gtbook.display.pretty at 0x125fd2f10>"
      ]
     },
     "execution_count": 10,
     "metadata": {},
     "output_type": "execute_result"
    }
   ],
   "source": [
    "# vacuum.light_levels = [\"dark\", \"medium\", \"light\"]\n",
    "Z = VARIABLES.discrete_series(\"Z\", range(1, N+1), vacuum.light_levels) # define variables\n",
    "# vacuum.sensor_spec = \"1/1/8 1/1/8 2/7/1 8/1/1 1/8/1\"\n",
    "pretty(gtsam.DiscreteConditional(Z[1], [X[1]], vacuum.sensor_spec)) # CPT on Z1 at time t=1\n"
   ]
  },
  {
   "cell_type": "markdown",
   "metadata": {},
   "source": [
    "## Dynamic Bayes Nets\n",
    "\n",
    "> AXZ slices for the win!\n",
    "\n",
    "Single time step reasoning will fall short for our vacuuming robot, which operates in time. For example, recall the maximum likelihood method from the previous chapter, which we could try to apply here. In our case, given a sensor reading of, say, $Z_1$=`medium`, the maximum likelihood estimate (MLE) for the state $X_1$ of the robot is `dining room`: it corresponds to the highest value in the `medium` column. But that takes only one measurement into account, even if we take many steps in the environment.\n",
    "Intuitively, we should be able to use the robot's history to obtain a better estimate of its location. For example, if the robot were just in the living room, there is no way that it could have gotten to the dining room in a single step. In this section we will see how we can reason probabilistically about such things."
   ]
  },
  {
   "cell_type": "markdown",
   "metadata": {},
   "source": [
    "We use a **dynamic Bayes net** to reason about this, which is a special type of Bayes net.\n",
    "Recall that directed cycles are not allowed in a Bayes net, i.e., the\n",
    "graph is acyclic. Hence, one might wonder how we deal with time: if a\n",
    "robot is all about the sense-think-act cycle, would we not expect a\n",
    "cycle in the graph when describing robots? The answer is to *unroll* time,\n",
    "as we show below.\n",
    "When a Bayes net is used to unroll the evolution of a system or agent\n",
    "over time, we call it a dynamic Bayes net or **DBN**. "
   ]
  },
  {
   "cell_type": "markdown",
   "metadata": {},
   "source": [
    "To illustrate this we will once again resort to code. The following piece of code builds the entire vacuuming robot dynamic Bayes net. Note that we take care to add CPTs of variables *before* we add the CPT on any of their parents (hence the `reversed` below) for reasons that will soon become clear:"
   ]
  },
  {
   "cell_type": "code",
   "execution_count": 11,
   "metadata": {},
   "outputs": [
    {
     "data": {
      "image/svg+xml": [
       "<?xml version=\"1.0\" encoding=\"UTF-8\" standalone=\"no\"?>\n",
       "<!DOCTYPE svg PUBLIC \"-//W3C//DTD SVG 1.1//EN\"\n",
       " \"http://www.w3.org/Graphics/SVG/1.1/DTD/svg11.dtd\">\n",
       "<!-- Generated by graphviz version 2.50.0 (0)\n",
       " -->\n",
       "<!-- Pages: 1 -->\n",
       "<svg width=\"350pt\" height=\"188pt\"\n",
       " viewBox=\"0.00 0.00 350.00 188.00\" xmlns=\"http://www.w3.org/2000/svg\" xmlns:xlink=\"http://www.w3.org/1999/xlink\">\n",
       "<g id=\"graph0\" class=\"graph\" transform=\"scale(1 1) rotate(0) translate(4 184)\">\n",
       "<polygon fill=\"white\" stroke=\"transparent\" points=\"-4,4 -4,-184 346,-184 346,4 -4,4\"/>\n",
       "<!-- var4683743612465315841 -->\n",
       "<g id=\"node1\" class=\"node\">\n",
       "<title>var4683743612465315841</title>\n",
       "<polygon fill=\"none\" stroke=\"black\" points=\"54,-180 0,-180 0,-144 54,-144 54,-180\"/>\n",
       "<text text-anchor=\"middle\" x=\"27\" y=\"-158.3\" font-family=\"Times,serif\" font-size=\"14.00\">A1</text>\n",
       "</g>\n",
       "<!-- var6341068275337658370 -->\n",
       "<g id=\"node6\" class=\"node\">\n",
       "<title>var6341068275337658370</title>\n",
       "<ellipse fill=\"none\" stroke=\"black\" cx=\"99\" cy=\"-90\" rx=\"27\" ry=\"18\"/>\n",
       "<text text-anchor=\"middle\" x=\"99\" y=\"-86.3\" font-family=\"Times,serif\" font-size=\"14.00\">X2</text>\n",
       "</g>\n",
       "<!-- var4683743612465315841&#45;&gt;var6341068275337658370 -->\n",
       "<g id=\"edge2\" class=\"edge\">\n",
       "<title>var4683743612465315841&#45;&gt;var6341068275337658370</title>\n",
       "<path fill=\"none\" stroke=\"black\" d=\"M45.17,-143.83C54.73,-134.27 66.53,-122.47 76.65,-112.35\"/>\n",
       "<polygon fill=\"black\" stroke=\"black\" points=\"79.4,-114.55 83.99,-105.01 74.45,-109.6 79.4,-114.55\"/>\n",
       "</g>\n",
       "<!-- var4683743612465315842 -->\n",
       "<g id=\"node2\" class=\"node\">\n",
       "<title>var4683743612465315842</title>\n",
       "<polygon fill=\"none\" stroke=\"black\" points=\"126,-180 72,-180 72,-144 126,-144 126,-180\"/>\n",
       "<text text-anchor=\"middle\" x=\"99\" y=\"-158.3\" font-family=\"Times,serif\" font-size=\"14.00\">A2</text>\n",
       "</g>\n",
       "<!-- var6341068275337658371 -->\n",
       "<g id=\"node7\" class=\"node\">\n",
       "<title>var6341068275337658371</title>\n",
       "<ellipse fill=\"none\" stroke=\"black\" cx=\"171\" cy=\"-90\" rx=\"27\" ry=\"18\"/>\n",
       "<text text-anchor=\"middle\" x=\"171\" y=\"-86.3\" font-family=\"Times,serif\" font-size=\"14.00\">X3</text>\n",
       "</g>\n",
       "<!-- var4683743612465315842&#45;&gt;var6341068275337658371 -->\n",
       "<g id=\"edge4\" class=\"edge\">\n",
       "<title>var4683743612465315842&#45;&gt;var6341068275337658371</title>\n",
       "<path fill=\"none\" stroke=\"black\" d=\"M117.17,-143.83C126.73,-134.27 138.53,-122.47 148.65,-112.35\"/>\n",
       "<polygon fill=\"black\" stroke=\"black\" points=\"151.4,-114.55 155.99,-105.01 146.45,-109.6 151.4,-114.55\"/>\n",
       "</g>\n",
       "<!-- var4683743612465315843 -->\n",
       "<g id=\"node3\" class=\"node\">\n",
       "<title>var4683743612465315843</title>\n",
       "<polygon fill=\"none\" stroke=\"black\" points=\"198,-180 144,-180 144,-144 198,-144 198,-180\"/>\n",
       "<text text-anchor=\"middle\" x=\"171\" y=\"-158.3\" font-family=\"Times,serif\" font-size=\"14.00\">A3</text>\n",
       "</g>\n",
       "<!-- var6341068275337658372 -->\n",
       "<g id=\"node8\" class=\"node\">\n",
       "<title>var6341068275337658372</title>\n",
       "<ellipse fill=\"none\" stroke=\"black\" cx=\"243\" cy=\"-90\" rx=\"27\" ry=\"18\"/>\n",
       "<text text-anchor=\"middle\" x=\"243\" y=\"-86.3\" font-family=\"Times,serif\" font-size=\"14.00\">X4</text>\n",
       "</g>\n",
       "<!-- var4683743612465315843&#45;&gt;var6341068275337658372 -->\n",
       "<g id=\"edge6\" class=\"edge\">\n",
       "<title>var4683743612465315843&#45;&gt;var6341068275337658372</title>\n",
       "<path fill=\"none\" stroke=\"black\" d=\"M189.17,-143.83C198.73,-134.27 210.53,-122.47 220.65,-112.35\"/>\n",
       "<polygon fill=\"black\" stroke=\"black\" points=\"223.4,-114.55 227.99,-105.01 218.45,-109.6 223.4,-114.55\"/>\n",
       "</g>\n",
       "<!-- var4683743612465315844 -->\n",
       "<g id=\"node4\" class=\"node\">\n",
       "<title>var4683743612465315844</title>\n",
       "<polygon fill=\"none\" stroke=\"black\" points=\"270,-180 216,-180 216,-144 270,-144 270,-180\"/>\n",
       "<text text-anchor=\"middle\" x=\"243\" y=\"-158.3\" font-family=\"Times,serif\" font-size=\"14.00\">A4</text>\n",
       "</g>\n",
       "<!-- var6341068275337658373 -->\n",
       "<g id=\"node9\" class=\"node\">\n",
       "<title>var6341068275337658373</title>\n",
       "<ellipse fill=\"none\" stroke=\"black\" cx=\"315\" cy=\"-90\" rx=\"27\" ry=\"18\"/>\n",
       "<text text-anchor=\"middle\" x=\"315\" y=\"-86.3\" font-family=\"Times,serif\" font-size=\"14.00\">X5</text>\n",
       "</g>\n",
       "<!-- var4683743612465315844&#45;&gt;var6341068275337658373 -->\n",
       "<g id=\"edge8\" class=\"edge\">\n",
       "<title>var4683743612465315844&#45;&gt;var6341068275337658373</title>\n",
       "<path fill=\"none\" stroke=\"black\" d=\"M261.17,-143.83C270.73,-134.27 282.53,-122.47 292.65,-112.35\"/>\n",
       "<polygon fill=\"black\" stroke=\"black\" points=\"295.4,-114.55 299.99,-105.01 290.45,-109.6 295.4,-114.55\"/>\n",
       "</g>\n",
       "<!-- var6341068275337658369 -->\n",
       "<g id=\"node5\" class=\"node\">\n",
       "<title>var6341068275337658369</title>\n",
       "<ellipse fill=\"none\" stroke=\"black\" cx=\"27\" cy=\"-90\" rx=\"27\" ry=\"18\"/>\n",
       "<text text-anchor=\"middle\" x=\"27\" y=\"-86.3\" font-family=\"Times,serif\" font-size=\"14.00\">X1</text>\n",
       "</g>\n",
       "<!-- var6341068275337658369&#45;&gt;var6341068275337658370 -->\n",
       "<g id=\"edge1\" class=\"edge\">\n",
       "<title>var6341068275337658369&#45;&gt;var6341068275337658370</title>\n",
       "<path fill=\"none\" stroke=\"black\" d=\"M54.22,-90C56.64,-90 59.11,-90 61.6,-90\"/>\n",
       "<polygon fill=\"black\" stroke=\"black\" points=\"61.74,-93.5 71.74,-90 61.74,-86.5 61.74,-93.5\"/>\n",
       "</g>\n",
       "<!-- var6485183463413514241 -->\n",
       "<g id=\"node10\" class=\"node\">\n",
       "<title>var6485183463413514241</title>\n",
       "<ellipse fill=\"none\" stroke=\"black\" cx=\"27\" cy=\"-18\" rx=\"27\" ry=\"18\"/>\n",
       "<text text-anchor=\"middle\" x=\"27\" y=\"-14.3\" font-family=\"Times,serif\" font-size=\"14.00\">Z1</text>\n",
       "</g>\n",
       "<!-- var6341068275337658369&#45;&gt;var6485183463413514241 -->\n",
       "<g id=\"edge13\" class=\"edge\">\n",
       "<title>var6341068275337658369&#45;&gt;var6485183463413514241</title>\n",
       "<path fill=\"none\" stroke=\"black\" d=\"M27,-71.83C27,-64.13 27,-54.97 27,-46.42\"/>\n",
       "<polygon fill=\"black\" stroke=\"black\" points=\"30.5,-46.41 27,-36.41 23.5,-46.41 30.5,-46.41\"/>\n",
       "</g>\n",
       "<!-- var6341068275337658370&#45;&gt;var6341068275337658371 -->\n",
       "<g id=\"edge3\" class=\"edge\">\n",
       "<title>var6341068275337658370&#45;&gt;var6341068275337658371</title>\n",
       "<path fill=\"none\" stroke=\"black\" d=\"M126.22,-90C128.64,-90 131.11,-90 133.6,-90\"/>\n",
       "<polygon fill=\"black\" stroke=\"black\" points=\"133.74,-93.5 143.74,-90 133.74,-86.5 133.74,-93.5\"/>\n",
       "</g>\n",
       "<!-- var6485183463413514242 -->\n",
       "<g id=\"node11\" class=\"node\">\n",
       "<title>var6485183463413514242</title>\n",
       "<ellipse fill=\"none\" stroke=\"black\" cx=\"99\" cy=\"-18\" rx=\"27\" ry=\"18\"/>\n",
       "<text text-anchor=\"middle\" x=\"99\" y=\"-14.3\" font-family=\"Times,serif\" font-size=\"14.00\">Z2</text>\n",
       "</g>\n",
       "<!-- var6341068275337658370&#45;&gt;var6485183463413514242 -->\n",
       "<g id=\"edge12\" class=\"edge\">\n",
       "<title>var6341068275337658370&#45;&gt;var6485183463413514242</title>\n",
       "<path fill=\"none\" stroke=\"black\" d=\"M99,-71.83C99,-64.13 99,-54.97 99,-46.42\"/>\n",
       "<polygon fill=\"black\" stroke=\"black\" points=\"102.5,-46.41 99,-36.41 95.5,-46.41 102.5,-46.41\"/>\n",
       "</g>\n",
       "<!-- var6341068275337658371&#45;&gt;var6341068275337658372 -->\n",
       "<g id=\"edge5\" class=\"edge\">\n",
       "<title>var6341068275337658371&#45;&gt;var6341068275337658372</title>\n",
       "<path fill=\"none\" stroke=\"black\" d=\"M198.22,-90C200.64,-90 203.11,-90 205.6,-90\"/>\n",
       "<polygon fill=\"black\" stroke=\"black\" points=\"205.74,-93.5 215.74,-90 205.74,-86.5 205.74,-93.5\"/>\n",
       "</g>\n",
       "<!-- var6485183463413514243 -->\n",
       "<g id=\"node12\" class=\"node\">\n",
       "<title>var6485183463413514243</title>\n",
       "<ellipse fill=\"none\" stroke=\"black\" cx=\"171\" cy=\"-18\" rx=\"27\" ry=\"18\"/>\n",
       "<text text-anchor=\"middle\" x=\"171\" y=\"-14.3\" font-family=\"Times,serif\" font-size=\"14.00\">Z3</text>\n",
       "</g>\n",
       "<!-- var6341068275337658371&#45;&gt;var6485183463413514243 -->\n",
       "<g id=\"edge11\" class=\"edge\">\n",
       "<title>var6341068275337658371&#45;&gt;var6485183463413514243</title>\n",
       "<path fill=\"none\" stroke=\"black\" d=\"M171,-71.83C171,-64.13 171,-54.97 171,-46.42\"/>\n",
       "<polygon fill=\"black\" stroke=\"black\" points=\"174.5,-46.41 171,-36.41 167.5,-46.41 174.5,-46.41\"/>\n",
       "</g>\n",
       "<!-- var6341068275337658372&#45;&gt;var6341068275337658373 -->\n",
       "<g id=\"edge7\" class=\"edge\">\n",
       "<title>var6341068275337658372&#45;&gt;var6341068275337658373</title>\n",
       "<path fill=\"none\" stroke=\"black\" d=\"M270.22,-90C272.64,-90 275.11,-90 277.6,-90\"/>\n",
       "<polygon fill=\"black\" stroke=\"black\" points=\"277.74,-93.5 287.74,-90 277.74,-86.5 277.74,-93.5\"/>\n",
       "</g>\n",
       "<!-- var6485183463413514244 -->\n",
       "<g id=\"node13\" class=\"node\">\n",
       "<title>var6485183463413514244</title>\n",
       "<ellipse fill=\"none\" stroke=\"black\" cx=\"243\" cy=\"-18\" rx=\"27\" ry=\"18\"/>\n",
       "<text text-anchor=\"middle\" x=\"243\" y=\"-14.3\" font-family=\"Times,serif\" font-size=\"14.00\">Z4</text>\n",
       "</g>\n",
       "<!-- var6341068275337658372&#45;&gt;var6485183463413514244 -->\n",
       "<g id=\"edge10\" class=\"edge\">\n",
       "<title>var6341068275337658372&#45;&gt;var6485183463413514244</title>\n",
       "<path fill=\"none\" stroke=\"black\" d=\"M243,-71.83C243,-64.13 243,-54.97 243,-46.42\"/>\n",
       "<polygon fill=\"black\" stroke=\"black\" points=\"246.5,-46.41 243,-36.41 239.5,-46.41 246.5,-46.41\"/>\n",
       "</g>\n",
       "<!-- var6485183463413514245 -->\n",
       "<g id=\"node14\" class=\"node\">\n",
       "<title>var6485183463413514245</title>\n",
       "<ellipse fill=\"none\" stroke=\"black\" cx=\"315\" cy=\"-18\" rx=\"27\" ry=\"18\"/>\n",
       "<text text-anchor=\"middle\" x=\"315\" y=\"-14.3\" font-family=\"Times,serif\" font-size=\"14.00\">Z5</text>\n",
       "</g>\n",
       "<!-- var6341068275337658373&#45;&gt;var6485183463413514245 -->\n",
       "<g id=\"edge9\" class=\"edge\">\n",
       "<title>var6341068275337658373&#45;&gt;var6485183463413514245</title>\n",
       "<path fill=\"none\" stroke=\"black\" d=\"M315,-71.83C315,-64.13 315,-54.97 315,-46.42\"/>\n",
       "<polygon fill=\"black\" stroke=\"black\" points=\"318.5,-46.41 315,-36.41 311.5,-46.41 318.5,-46.41\"/>\n",
       "</g>\n",
       "</g>\n",
       "</svg>\n"
      ],
      "text/plain": [
       "<gtbook.display.show at 0x12684f610>"
      ]
     },
     "execution_count": 11,
     "metadata": {},
     "output_type": "execute_result"
    }
   ],
   "source": [
    "dbn = gtsam.DiscreteBayesNet()\n",
    "for k in range(1,N+1):\n",
    "    dbn.add(Z[k], [X[k]], vacuum.sensor_spec) # Add measurement CPTs\n",
    "for k in reversed(range(1, N)):\n",
    "    dbn.add(X[k+1], [X[k], A[k]], vacuum.action_spec) # Add transition CPTs\n",
    "dbn.add(X[1], \"1/1/1/1/1\") # Add initial state CPT\n",
    "\n",
    "show(dbn, hints={\"A\":2, \"X\":1, \"Z\":0}, boxes={A[k][0] for k in range(1,N)})\n"
   ]
  },
  {
   "cell_type": "markdown",
   "metadata": {},
   "source": [
    "Observe that after the first time step, the Bayes net is repeating the same \"AXZ\" pattern (or *slice*!) over and over again. Formally, the joint distribution $P(Z_{1:n},X_{1:n}|A_{1:n})$ over states $X_{1:n} = (X_1 \\dots, X_n)$ and measurements $Z_{1:n} = (Z_1, \\dots , Z_n)$, *given* \n",
    "the action sequence $A_{1:n} = (A_1, \\dots , A_n)$ is defined as\n",
    "\n",
    "$$\n",
    "P(Z_{1:n},X_{1:n}|A_{1:n})= P(Z_1| X_1) P(X_1) \\prod_{k=2}^{n} P(Z_k| X_k) P(X_k|A_{k-1},X_{k-1}).\n",
    "$$\n",
    "\n",
    "The AXZ slice at time $k$ is given by $P(Z_k| X_k) P(X_k|A_{k-1},X_{k-1})$, whereas the chain is \"jump-started\" using the initial state distribution $P(X_1)$ and the corresponding measurement model $P(Z_1|X_1)$."
   ]
  },
  {
   "cell_type": "markdown",
   "metadata": {},
   "source": [
    "## Ancestral Sampling\n",
    "\n",
    "> Ancestry matters!\n",
    "\n",
    "How do we sample over such a complex Bayes net? Recall the example Bayes net example above with the four variables W,X,Y,Z, and joint distribution \n",
    "\n",
    "$$P(W,X,Y,Z)=P(W|X,Z)P(X|Y,Z)P(Y|Z)P(Z):$$ "
   ]
  },
  {
   "cell_type": "code",
   "execution_count": 13,
   "metadata": {},
   "outputs": [
    {
     "data": {
      "image/svg+xml": [
       "<?xml version=\"1.0\" encoding=\"UTF-8\" standalone=\"no\"?>\n",
       "<!DOCTYPE svg PUBLIC \"-//W3C//DTD SVG 1.1//EN\"\n",
       " \"http://www.w3.org/Graphics/SVG/1.1/DTD/svg11.dtd\">\n",
       "<!-- Generated by graphviz version 2.50.0 (0)\n",
       " -->\n",
       "<!-- Pages: 1 -->\n",
       "<svg width=\"128pt\" height=\"260pt\"\n",
       " viewBox=\"0.00 0.00 128.00 260.00\" xmlns=\"http://www.w3.org/2000/svg\" xmlns:xlink=\"http://www.w3.org/1999/xlink\">\n",
       "<g id=\"graph0\" class=\"graph\" transform=\"scale(1 1) rotate(0) translate(4 256)\">\n",
       "<polygon fill=\"white\" stroke=\"transparent\" points=\"-4,4 -4,-256 124,-256 124,4 -4,4\"/>\n",
       "<!-- varW -->\n",
       "<g id=\"node1\" class=\"node\">\n",
       "<title>varW</title>\n",
       "<ellipse fill=\"none\" stroke=\"black\" cx=\"27\" cy=\"-18\" rx=\"27\" ry=\"18\"/>\n",
       "<text text-anchor=\"middle\" x=\"27\" y=\"-14.3\" font-family=\"Times,serif\" font-size=\"14.00\">W</text>\n",
       "</g>\n",
       "<!-- varX -->\n",
       "<g id=\"node2\" class=\"node\">\n",
       "<title>varX</title>\n",
       "<ellipse fill=\"none\" stroke=\"black\" cx=\"55\" cy=\"-90\" rx=\"27\" ry=\"18\"/>\n",
       "<text text-anchor=\"middle\" x=\"55\" y=\"-86.3\" font-family=\"Times,serif\" font-size=\"14.00\">X</text>\n",
       "</g>\n",
       "<!-- varX&#45;&gt;varW -->\n",
       "<g id=\"edge4\" class=\"edge\">\n",
       "<title>varX&#45;&gt;varW</title>\n",
       "<path fill=\"none\" stroke=\"black\" d=\"M48.36,-72.41C45.09,-64.22 41.06,-54.14 37.38,-44.95\"/>\n",
       "<polygon fill=\"black\" stroke=\"black\" points=\"40.55,-43.45 33.59,-35.47 34.05,-46.05 40.55,-43.45\"/>\n",
       "</g>\n",
       "<!-- varY -->\n",
       "<g id=\"node3\" class=\"node\">\n",
       "<title>varY</title>\n",
       "<ellipse fill=\"none\" stroke=\"black\" cx=\"93\" cy=\"-162\" rx=\"27\" ry=\"18\"/>\n",
       "<text text-anchor=\"middle\" x=\"93\" y=\"-158.3\" font-family=\"Times,serif\" font-size=\"14.00\">Y</text>\n",
       "</g>\n",
       "<!-- varY&#45;&gt;varX -->\n",
       "<g id=\"edge2\" class=\"edge\">\n",
       "<title>varY&#45;&gt;varX</title>\n",
       "<path fill=\"none\" stroke=\"black\" d=\"M84.19,-144.76C79.58,-136.28 73.84,-125.71 68.68,-116.2\"/>\n",
       "<polygon fill=\"black\" stroke=\"black\" points=\"71.61,-114.27 63.77,-107.15 65.46,-117.61 71.61,-114.27\"/>\n",
       "</g>\n",
       "<!-- varZ -->\n",
       "<g id=\"node4\" class=\"node\">\n",
       "<title>varZ</title>\n",
       "<ellipse fill=\"none\" stroke=\"black\" cx=\"38\" cy=\"-234\" rx=\"27\" ry=\"18\"/>\n",
       "<text text-anchor=\"middle\" x=\"38\" y=\"-230.3\" font-family=\"Times,serif\" font-size=\"14.00\">Z</text>\n",
       "</g>\n",
       "<!-- varZ&#45;&gt;varW -->\n",
       "<g id=\"edge5\" class=\"edge\">\n",
       "<title>varZ&#45;&gt;varW</title>\n",
       "<path fill=\"none\" stroke=\"black\" d=\"M33.85,-216.12C27.14,-186.86 15.04,-124.76 19,-72 19.64,-63.52 20.84,-54.34 22.12,-46.04\"/>\n",
       "<polygon fill=\"black\" stroke=\"black\" points=\"25.58,-46.55 23.75,-36.11 18.68,-45.41 25.58,-46.55\"/>\n",
       "</g>\n",
       "<!-- varZ&#45;&gt;varX -->\n",
       "<g id=\"edge3\" class=\"edge\">\n",
       "<title>varZ&#45;&gt;varX</title>\n",
       "<path fill=\"none\" stroke=\"black\" d=\"M40.05,-215.87C42.95,-191.67 48.27,-147.21 51.72,-118.39\"/>\n",
       "<polygon fill=\"black\" stroke=\"black\" points=\"55.23,-118.53 52.94,-108.19 48.28,-117.7 55.23,-118.53\"/>\n",
       "</g>\n",
       "<!-- varZ&#45;&gt;varY -->\n",
       "<g id=\"edge1\" class=\"edge\">\n",
       "<title>varZ&#45;&gt;varY</title>\n",
       "<path fill=\"none\" stroke=\"black\" d=\"M49.93,-217.81C57.21,-208.55 66.66,-196.52 74.85,-186.09\"/>\n",
       "<polygon fill=\"black\" stroke=\"black\" points=\"77.66,-188.18 81.09,-178.16 72.16,-183.86 77.66,-188.18\"/>\n",
       "</g>\n",
       "</g>\n",
       "</svg>\n"
      ],
      "text/plain": [
       "<gtbook.display.show at 0x107adda60>"
      ]
     },
     "execution_count": 13,
     "metadata": {},
     "output_type": "execute_result"
    }
   ],
   "source": [
    "show(wxyz)\n"
   ]
  },
  {
   "cell_type": "markdown",
   "metadata": {},
   "source": [
    "Sampling from the joint distribution given in Bayes net form can be done\n",
    "by sampling each variable in turn, but making sure that we always sample\n",
    "a node’s parents first. This can be done through the notion of a\n",
    "**topological sort** of the DAG. A topological sort of a DAG is an ordering\n",
    "of the vertices $\\{v_1, \\dots , v_n\\}$ such that $v_i$ precedes $v_j$ in the sort when there\n",
    "is a directed edge from $v_i$ to $v_j$ in the DAG.\n",
    "\n",
    "An easy algorithm to obtain a topological sort is **Kahn’s algorithm**,\n",
    "which iteratively removes nodes from the graph that either have no\n",
    "parents, or whose parents have all been removed already. The order in\n",
    "which nodes are removed constitutes a (non-unique) topological sort\n",
    "order.\n",
    "\n",
    "Sampling is then done by inverse transform sampling for each variable\n",
    "separately, in topological sort order. The graph above happens to be laid out already in topological sort order, if read from top to bottom.\n",
    "Hence, in this example we sample first $Z$, then $Y$, then $X$, and then\n",
    "$W$. Note that in this case the topological sort is unique, but that is\n",
    "an exception rather than the rule: for arbitrary Bayes nets, more than one topological sort can exist."
   ]
  },
  {
   "cell_type": "markdown",
   "metadata": {},
   "source": [
    "## Simulation of a Robot\n",
    "\n",
    "> Simulation as sampling, once again!\n",
    "\n",
    "Simulation of a robot is then equivalent\n",
    "to ancestral sampling from the DBN associated with the robot, i.e., the controlled Markov chain augmented with the measurement CPTs.\n",
    "In this case one topological sort is\n",
    "rather obvious, and so is a simulation algorithm to sample from \n",
    "$P(X_{1:n},Z_{1:n}|A_{1:n})$:\n",
    "\n",
    "1. First, assign $k\\leftarrow1$, and sample the initial state $x_1$ from $P(X_1)$, a prior\n",
    "    over the state. We write\n",
    "\n",
    "    $$x_1 \\sim P(X_1)$$\n",
    "\n",
    "2. Next, simulate the sensor reading by sampling from the sensor model\n",
    "    \n",
    "    $$z_{k} \\sim P(Z_{k}|X_{k}=x_{k})$$\n",
    "\n",
    "3. Lastly, simulate the effect of the (given) action $a_k$ by sampling the next state $x_{k+1}$:\n",
    "\n",
    "    $$x_{k+1} \\sim P(X_{k+1}|X_{k}=s_{k},A_{k}=a_{k}).$$\n",
    "\n",
    "4. Increase $k\\leftarrow k+1$ and return to step $2$.\n",
    "\n",
    "Note that this algorithm is generic for all robot models with this action/sensing structure.\n",
    "\n",
    "### Exercises\n",
    "\n",
    "1. Simulate two different realizations from the dynamic Bayes net above.\n",
    "\n",
    "1. Think of a different way to topologically sort the graph, and the corresponding sampling algorithm."
   ]
  },
  {
   "cell_type": "markdown",
   "metadata": {},
   "source": [
    "## Ancestral Sampling with GTSAM\n",
    "Of course, GTSAM has a method built in to do ancestral sampling, *but* it only works for a *reverse* topologically sorted Bayes nets. This matches the way we write down joint distributions, with parents towards the right, and it is also why above we used the built-in `reversed` on the range: this was to make sure that later states get sampled last. Because in our code above we only specified\n",
    "$P(Z_{1:n},X_{1:n}|A_{1:n})$, we need to give an action sequence $a_{1:n}$ as an argument. Below we examine what happens when we try the action `Right` 4 times in a row:"
   ]
  },
  {
   "cell_type": "code",
   "execution_count": 16,
   "metadata": {},
   "outputs": [
    {
     "data": {
      "text/html": [
       "<div>\n",
       "<table class='DiscreteValues'>\n",
       "  <thead>\n",
       "    <tr><th>Variable</th><th>value</th></tr>\n",
       "  </thead>\n",
       "  <tbody>\n",
       "    <tr><th>A1</th><td>R</td></tr>\n",
       "    <tr><th>A2</th><td>R</td></tr>\n",
       "    <tr><th>A3</th><td>R</td></tr>\n",
       "    <tr><th>A4</th><td>R</td></tr>\n",
       "    <tr><th>X1</th><td>Hallway</td></tr>\n",
       "    <tr><th>X2</th><td>Dining Room</td></tr>\n",
       "    <tr><th>X3</th><td>Dining Room</td></tr>\n",
       "    <tr><th>X4</th><td>Dining Room</td></tr>\n",
       "    <tr><th>X5</th><td>Dining Room</td></tr>\n",
       "    <tr><th>Z1</th><td>dark</td></tr>\n",
       "    <tr><th>Z2</th><td>medium</td></tr>\n",
       "    <tr><th>Z3</th><td>medium</td></tr>\n",
       "    <tr><th>Z4</th><td>medium</td></tr>\n",
       "    <tr><th>Z5</th><td>medium</td></tr>\n",
       "  </tbody>\n",
       "</table>\n",
       "</div>"
      ],
      "text/plain": [
       "<gtbook.display.pretty at 0x12684f160>"
      ]
     },
     "execution_count": 16,
     "metadata": {},
     "output_type": "execute_result"
    }
   ],
   "source": [
    "actions = VARIABLES.assignment({A[k]: \"R\" for k in range(1,N)})\n",
    "pretty(dbn.sample(actions))\n"
   ]
  },
  {
   "cell_type": "markdown",
   "metadata": {},
   "source": [
    "The actions are included in the resulting `DiscreteValues` instance, so we have a complete picture of one sampled \"world state\" over time. Note that it now not only includes the states $X_k$ over time, but also the sampled measurements $Z_k$ at each time step. Not surprisingly, we quickly transition from the dark hallway to the slight brighter dining room, and get stuck there, as there is no room to the right of the dining room!\n",
    "\n",
    "### Exercises\n",
    "\n",
    "- Execute the cell above multiple times and observe you *do* get different realizations (almost) every time.\n",
    "- Try doing the same with different action sequences.\n",
    "- Try formulating an action sequence that gets you to the kitchen. Does it always succeed?"
   ]
  },
  {
   "cell_type": "markdown",
   "metadata": {},
   "source": [
    "## GTSAM 101\n",
    "> The GTSAM concepts used in this section, explained."
   ]
  },
  {
   "cell_type": "markdown",
   "metadata": {},
   "source": [
    "We use the `gtsam.DiscreteBayesNet` method `sample`, with signature\n",
    "\n",
    "```python\n",
    "    sample(self, given: gtsam::DiscreteValues) -> gtsam::DiscreteValues\n",
    "```"
   ]
  },
  {
   "cell_type": "markdown",
   "metadata": {},
   "source": [
    "It implements ancestral sampling, but assumes the Bayes net is reverse topologically sorted, i.e. last\n",
    "conditional will be sampled first. In addition, it can optionally take an assignment for certain *given* variables.\n",
    "In that case, it is also assumed that the Bayes net does not contain any conditionals for the given values.\n",
    "We used this functionality to pass the given action sequence above."
   ]
  }
 ],
 "metadata": {
  "colab": {
   "collapsed_sections": [],
   "include_colab_link": true,
   "name": "S33_vacuum_sensing.ipynb",
   "provenance": []
  },
  "kernelspec": {
   "display_name": "Python 3.8.12 ('nbdev')",
   "language": "python",
   "name": "python3"
  },
  "language_info": {
   "codemirror_mode": {
    "name": "ipython",
    "version": 3
   },
   "file_extension": ".py",
   "mimetype": "text/x-python",
   "name": "python",
   "nbconvert_exporter": "python",
   "pygments_lexer": "ipython3",
   "version": "3.9.18"
  },
  "latex_metadata": {
   "affiliation": "Georgia Institute of Technology",
   "author": "Frank Dellaert and Seth Hutchinson",
   "title": "Introduction to Robotics"
  },
  "vscode": {
   "interpreter": {
    "hash": "341996cd3f3db7b5e0d1eaea072c5502d80452314e72e6b77c40445f6e9ba101"
   }
  }
 },
 "nbformat": 4,
 "nbformat_minor": 4
}
