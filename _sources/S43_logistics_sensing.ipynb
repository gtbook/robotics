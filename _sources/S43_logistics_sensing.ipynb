{
 "cells": [
  {
   "cell_type": "markdown",
   "metadata": {
    "colab_type": "text",
    "id": "view-in-github",
    "tags": [
     "no-tex"
    ]
   },
   "source": [
    "<a href=\"https://colab.research.google.com/github/gtbook/robotics/blob/main/S43_logistics_sensing.ipynb\" target=\"_parent\"><img src=\"https://colab.research.google.com/assets/colab-badge.svg\" alt=\"Open In Colab\"/></a>"
   ]
  },
  {
   "cell_type": "code",
   "execution_count": 12,
   "metadata": {
    "id": "JoW4C_OkOMhe",
    "tags": [
     "remove-cell"
    ]
   },
   "outputs": [
    {
     "name": "stdout",
     "output_type": "stream",
     "text": [
      "Note: you may need to restart the kernel to use updated packages.\n"
     ]
    }
   ],
   "source": [
    "%pip install -q -U gtbook\n"
   ]
  },
  {
   "cell_type": "code",
   "execution_count": 13,
   "metadata": {
    "id": "10-snNDwOSuC",
    "tags": [
     "remove-cell"
    ]
   },
   "outputs": [],
   "source": [
    "import numpy as np\n",
    "import plotly.express as px\n",
    "try:\n",
    "    import google.colab\n",
    "except:\n",
    "    import plotly.io as pio\n",
    "    pio.renderers.default = \"png\"\n",
    "\n",
    "import gtsam\n",
    "from gtbook.display import show\n",
    "from gtbook import logistics\n",
    "\n",
    "N = 5\n",
    "indices = range(1, N+1)\n",
    "u = {k:gtsam.symbol('u',k) for k in indices[:-1]} # controls u_k\n",
    "x = {k:gtsam.symbol('x',k) for k in indices}      # states x_k\n",
    "z = {k:gtsam.symbol('z',k) for k in indices}      # measurements z_k\n"
   ]
  },
  {
   "attachments": {},
   "cell_type": "markdown",
   "metadata": {
    "id": "nAvx4-UCNzt2"
   },
   "source": [
    "# Sensor Models with Continuous State\n",
    "\n",
    "> From Gaussian to non-Gaussian sensors.\n",
    "\n",
    "<img src=\"Figures4/S43-Warehouse_robots-08.jpg\" alt=\"Splash image with warehouse robot surrounded by sensor-like implements\" width=\"40%\" align=center style=\"vertical-align:middle;margin:10px 0px\">"
   ]
  },
  {
   "cell_type": "markdown",
   "metadata": {},
   "source": [
    "In the previous chapters, we have used sensors that could be characterized using fairly simple probabilistic\n",
    "models, either discrete conditional probability distributions (e.g., conductivity for the trash-sorting robot\n",
    "and light sensing for the vacuum cleaning robot), or one-dimensional Gaussian distributions (as for the trash-sorting robot's weight sensor).  In this section we introduce three more realistic sensors,\n",
    "each of which are similar to sensors that are frequently used in modern robotic systems:\n",
    "- a proximity sensor\n",
    "- an RFID range sensor, which has a non-linear measurement prediction model\n",
    "- a GPS-like location sensor, which uses a Gaussian conditional density"
   ]
  },
  {
   "cell_type": "markdown",
   "metadata": {},
   "source": [
    "The proximity sensor detects when the robot is near an obstacle. \n",
    "Therefore, this sensor's response depends on the geometry of the environment.\n",
    "Let us extend the example from the Section 4.1, a warehouse of 100m x 50m, by imagining four sets of shelves placed at regular intervals.\n",
    "\n",
    "We can represent this in code using a 2D image. We can simply use a `numpy` array to do so, and indeed this is what we do. A base map for this environment is defined in `gtbook.logistics`."
   ]
  },
  {
   "cell_type": "code",
   "execution_count": 14,
   "metadata": {},
   "outputs": [
    {
     "name": "stdout",
     "output_type": "stream",
     "text": [
      "type(base_map): <class 'numpy.ndarray'>\n",
      "base_map.dtype: float64\n",
      "base_map.shape: (50, 100)\n"
     ]
    }
   ],
   "source": [
    "base_map = logistics.base_map\n",
    "print(\"type(base_map):\", type(base_map))\n",
    "print(\"base_map.dtype:\", base_map.dtype)\n",
    "print(\"base_map.shape:\", base_map.shape)"
   ]
  },
  {
   "cell_type": "markdown",
   "metadata": {},
   "source": [
    "Below we plot this `base_map` as an image, using the conveniently defined `show_map` function:"
   ]
  },
  {
   "cell_type": "code",
   "execution_count": 15,
   "metadata": {},
   "outputs": [
    {
     "data": {
      "image/png": "[encoded data removed]"
     },
     "metadata": {},
     "output_type": "display_data"
    }
   ],
   "source": [
    "logistics.show_map(base_map)\n"
   ]
  },
  {
   "cell_type": "markdown",
   "metadata": {},
   "source": [
    "In the remainder of this section we then show how to use this map to simulate the three sensors we listed above."
   ]
  },
  {
   "cell_type": "markdown",
   "metadata": {},
   "source": [
    "## A proximity sensor\n",
    "\n",
    "> A binary sensor over a continuous space.\n",
    "\n",
    "We consider a sensor that measures the *proximity* of the robot to obstacles. For example, this could be operationalized using small infrared sensor/receiver pairs, or a magnetic sensor that measures proximity to one of the metal structures within the warehouse.\n",
    "\n",
    "This is a *binary* sensor, just like the conductivity sensor we saw in the trash sorting example. However, a big difference is that the measurement $z_k$ of this sensor at time $k$ depends on the *continuous* state $x_k$. \n",
    "In other words, this is a kind of *hybrid*, discrete-continuous sensor model."
   ]
  },
  {
   "attachments": {},
   "cell_type": "markdown",
   "metadata": {},
   "source": [
    "This sensor can be modeled using a **signed distance function** (SDF), which is a well-known concept from graphics.\n",
    "An SDF measures the distance from any point $x$ to the nearest obstacle, is positive if this location is outside the obstacle, and negative if it is inside the obstacle. Robots will never see negative SDF values.\n",
    "Let $X_{obs}$ denote the set of points on the boundary of the obstacles (the borders of the shelves, and the\n",
    "walls that enclose the warehouse).\n",
    "For a given point $x \\in {\\cal D}$, the distance to the nearest obstacle can be defined by\n",
    "\n",
    "$$\n",
    "d(x) = \\min_{y \\in X_{obs}} \\|x - y\\|\n",
    "$$"
   ]
  },
  {
   "attachments": {},
   "cell_type": "markdown",
   "metadata": {},
   "source": [
    "We now define the signed distance to be negative for $x$ is inside the obstacle, and positive for points outside the obstacle:\n",
    "\n",
    "$$\n",
    "\\mathop{sdf}(x)\n",
    "= \n",
    "\\left\\{\n",
    "    \\begin{array}{lcr} - d(x) & & x \\mathop{\\; inside\\; obstacle}\\\\\n",
    "    + d(x) & & x \\mathop{\\; outside\\;  obstacle}\\\\\n",
    "\\end{array}\n",
    "\\right.\n",
    "$$"
   ]
  },
  {
   "attachments": {},
   "cell_type": "markdown",
   "metadata": {},
   "source": [
    "We can use the function *sdf* to model our proximity sensor by defining a conditional probability\n",
    "distribution $P(z_k=\\text{ON}|x_k)$ as a function of $\\mathrm{sdf}(x)$.\n",
    "For example, if obstacle detection is very reliable for for $d(x) < d_0$,\n",
    "but degrades rapidly as $d(x)$ increases (i.e., as the robot moves further from obstacles),\n",
    "we might define\n",
    "\n",
    "$$\n",
    "P(z_k=\\text{ON}|x_k) = \n",
    "\\left\\{\n",
    "    \\begin{array}{lcr} 1 & & d(x) < d_0 \\\\\n",
    "     e^{- \\alpha d(x)} && \\mathrm{otherwise}\\\\\n",
    "\\end{array}\n",
    "\\right.\n",
    "$$\n",
    "\n",
    "where the value of $\\alpha > 0$ determines how rapidly the probability decreases.\n",
    "Because the conditional probability $P(\\cdot | x_k)$ is a valid probability distribution,\n",
    "we can immediately conclude that\n",
    "$P(z_k=\\text{OFF}|x_k) = 1 - P(z_k=\\text{ON}|x_k)$.\n",
    "\n",
    "Below, we use a simpler model, which assumes that the proximity sensor perfectly\n",
    "detects when the robot is within distance $d_0$ of an obstacle:\n",
    "\n",
    "$$\n",
    "P(z_k=\\text{ON}|x_k)\n",
    "= \n",
    "\\left\\{\n",
    "    \\begin{array}{lcr} 1 & & d(x) < d_0 \\\\\n",
    "     0 && \\mathrm{otherwise}\\\\\n",
    "\\end{array}\n",
    "\\right.\n",
    "$$"
   ]
  },
  {
   "cell_type": "markdown",
   "metadata": {},
   "source": [
    "The figure below shows the likelihood for $z_k = \\text{ON}$.\n",
    "Recall that the likelihood $l(x_k;z_k=\\text{ON})\\propto P(z_k=\\text{ON}|z_k)$ is a function *of the state* $x_k$, so we can show it as a map:"
   ]
  },
  {
   "cell_type": "code",
   "execution_count": 16,
   "metadata": {},
   "outputs": [
    {
     "data": {
      "image/png": "[encoded data removed]"
     },
     "metadata": {},
     "output_type": "display_data"
    }
   ],
   "source": [
    "logistics.show_map(logistics.proximity_map_on)\n"
   ]
  },
  {
   "cell_type": "markdown",
   "metadata": {},
   "source": [
    "Note that we denote a likelihood over a continuous variable with lowercase $l()$, in analogy to the lowercase $p()$ we use for densities. For this specific sensor model, at any location, the likelihood $l(x_k;z_k=\\text{OFF})$ of $x_k$ given that the sensor is OFF will be the mirror image of the map above, as shown below."
   ]
  },
  {
   "cell_type": "code",
   "execution_count": 17,
   "metadata": {
    "scrolled": false
   },
   "outputs": [
    {
     "data": {
      "image/png": "[encoded data removed]"
     },
     "metadata": {},
     "output_type": "display_data"
    }
   ],
   "source": [
    "logistics.show_map(logistics.proximity_map_off)\n"
   ]
  },
  {
   "cell_type": "markdown",
   "metadata": {},
   "source": [
    "## A Range Sensor\n",
    "\n",
    "> A range sensor returns the distance to a landmark.\n",
    "\n",
    "Let us assume that the operator of the warehouse has installed a number of *beacons* throughout the warehouse, at strategically placed locations. The measurement function $h(x_k; b_i)$ for a sensor measuring the range to a beacon at location $b_i$ is given by:\n",
    "\n",
    "$$\n",
    "h(x_k;b_i) = \\|x_k - b_i\\| = \\sqrt{(x_k - b_i)^T(x_k - b_i)}\n",
    "$$\n",
    "\n",
    "The energy emitted by an RFID beacon is, of course, finite. Therefore, there is some maximal\n",
    "distance, say $d_{\\max}$, beyond which the sensor is unable to detect the beacon.\n",
    "In this case, the sensor does not return any range measurement, and indicates\n",
    "\"no beacon present.\"\n",
    "\n",
    "\n",
    "This is actually not an unrealistic model;\n",
    "there is a technology called [radio frequency identification (RFID)](https://en.wikipedia.org/wiki/Radio-frequency_identification), which can be detected using a small radio receiver, and some of the more expensive variants allow for the range to the RFID to be measured, if not very accurately."
   ]
  },
  {
   "cell_type": "markdown",
   "metadata": {},
   "source": [
    "As with the motion model described above, it is typical to assume additive Gaussian\n",
    "noise for sensors, leading to the measurement model:\n",
    "\n",
    "$$z_k = h(x_k;b_i) + w_k$$\n",
    "\n",
    "in which $w_k$ is the noise term (unrelated to the noise in our motion model).\n",
    "Using this model, we see that the conditional probability of a range measurement $z_k$ given a continuous state $x_k$ *is* a Gaussian, even though its mean $\\mu$ is computed as a nonlinear function of $x_k$.\n",
    "\n",
    "$$\n",
    "\\begin{aligned}\n",
    "p(z_k|x_k; b_i) &= \\mathcal{N}(z_k;\\mu=h(x_k;b_i), \\sigma^2) \\\\\n",
    "&= \\frac{1}{\\sqrt{2\\pi\\sigma^2}} \\exp\\{-\\frac{1}{2\\sigma^2}(z_k-h(x_k;b_i))^2\\}\n",
    "\\end{aligned}\n",
    "$$\n",
    "\n",
    "Note that the range is one-dimensional, so we again use the simpler univariate Gaussian, and we use the variance $\\sigma^2$ to characterize the zero-mean Gaussian noise."
   ]
  },
  {
   "cell_type": "markdown",
   "metadata": {},
   "source": [
    "The equation below for the *likelihood* of the state $x_k$ given a measurement $z_k$ (to beacon $b_i$) seems similar to a Gaussian density:\n",
    "\n",
    "$$\n",
    "L(x_k;z_k, b_i) = \\exp\\{-\\frac{1}{2\\sigma^2}(z_k-h(x_k;b_i))^2\\}.\n",
    "$$\n",
    "\n",
    "However, because the likelihood is a function of $x_k$, and not a function of $z_k$ (remember, $z_k$ is *given*\n",
    "when we compute the likelihood for state $x_k$),\n",
    "the likelihood does not even remotely look like a Gaussian! \n",
    "In fact, the likelihood will be high where the state agrees with the given range measurement, i.e., in an *annulus* of the right radius around the beacon. The \"width\" of the annulus will be proportional to the measurement noise $\\sigma$."
   ]
  },
  {
   "cell_type": "markdown",
   "metadata": {},
   "source": [
    "To make this concrete, let us add 8 beacons to the base map, at either end of the shelves, which seems very useful for robot navigation. Again, we define these in `gtbook.logistics.beacons`, and we show them below on the base map:"
   ]
  },
  {
   "cell_type": "code",
   "execution_count": 18,
   "metadata": {},
   "outputs": [
    {
     "data": {
      "image/png": "[encoded data removed]"
     },
     "metadata": {},
     "output_type": "display_data"
    }
   ],
   "source": [
    "logistics.show_map(base_map, logistics.beacons)"
   ]
  },
  {
   "cell_type": "markdown",
   "metadata": {},
   "source": [
    "We can implement a range function that works with any beacon:"
   ]
  },
  {
   "cell_type": "code",
   "execution_count": 19,
   "metadata": {},
   "outputs": [],
   "source": [
    "def rfid_range(position, beacon, max_range=8):\n",
    "    \"\"\"return range to given beacon\"\"\"\n",
    "    range = np.linalg.norm(position-beacon)\n",
    "    return float('inf') if range>max_range else range\n"
   ]
  },
  {
   "cell_type": "markdown",
   "metadata": {},
   "source": [
    "For example, if the robot is at $(20.5, 7.5)$, we are within range of beacon $0$:"
   ]
  },
  {
   "cell_type": "code",
   "execution_count": 20,
   "metadata": {},
   "outputs": [
    {
     "name": "stdout",
     "output_type": "stream",
     "text": [
      "range to beacon 0 = 4.031128874149275\n"
     ]
    }
   ],
   "source": [
    "state = gtsam.Point2(20.5, 7.5)\n",
    "beacon0 = logistics.beacons[0]\n",
    "zk = rfid_range(state, beacon0)\n",
    "print(f\"range to beacon 0 = {zk}\")\n"
   ]
  },
  {
   "cell_type": "markdown",
   "metadata": {},
   "source": [
    "Now we are in a position to show the annulus-like likelihood images:"
   ]
  },
  {
   "cell_type": "code",
   "execution_count": 21,
   "metadata": {},
   "outputs": [
    {
     "data": {
      "image/png": "[encoded data removed]"
     },
     "metadata": {},
     "output_type": "display_data"
    }
   ],
   "source": [
    "dist = np.array([[rfid_range(xy, beacon0) for xy in row] for row in logistics.map_coords])\n",
    "sigma = 1  # In meters\n",
    "likelihood = np.exp(-1/(2 * sigma**2) * (zk - dist)**2)\n",
    "logistics.show_map(likelihood, logistics.beacons)\n"
   ]
  },
  {
   "cell_type": "markdown",
   "metadata": {},
   "source": [
    "As you can see, *all* positions at a range of approximately 4 meters have a high likelihood. "
   ]
  },
  {
   "cell_type": "markdown",
   "metadata": {},
   "source": [
    "## The Case of No Beacons in Sensing Range\n",
    "\n",
    "> The absence of beacons in the sensor data can be informative.\n",
    "\n",
    "The likelihood model above is useful when a beacon is within sensing range of the RFID reader. But what happens when all beacons are out of range? Let us assume that the RFID reader always returns the range to the closest beacon, along with its identification number, but it returns a special value when all the beacons are out of range. Formally, we can model this as a *pair* of values that is returned by the sensor,\n",
    "\n",
    "$$z_{RFID}\\in \\bar{N} \\times \\mathbb{\\bar{R}}^+,$$\n",
    "\n",
    "where $\\bar{N}$ is the set of integers extended with `None`, and $\\mathbb{\\bar{R}}^+$ is the set of positive real numbers extended with $\\infty$. Note that in the case of additive Gaussian sensor noise, it is possible to\n",
    "have $z_k < 0$ returned by the range sensor. In such cases, we might simply assign $z_k = 0$."
   ]
  },
  {
   "cell_type": "markdown",
   "metadata": {},
   "source": [
    "In code this easy to implement: if all sensors are out of range we  return `None` for the identification and `float('inf')` for the range. For example, here is some code that returns the range to the nearest beacon (given in a list `beacons`) and `None, float('inf')` if all are out of range:"
   ]
  },
  {
   "cell_type": "code",
   "execution_count": 22,
   "metadata": {},
   "outputs": [
    {
     "name": "stdout",
     "output_type": "stream",
     "text": [
      "(0, 4.716990566028302)\n",
      "(None, inf)\n"
     ]
    }
   ],
   "source": [
    "def rfid_measurement(position, max_range=8):\n",
    "    \"\"\"Simulate RFID reader that returns nearest RFID range or (None,inf).\"\"\"\n",
    "    ranges = [rfid_range(position, beacon, max_range) for beacon in logistics.beacons]\n",
    "    range = min(ranges)\n",
    "    return (np.argmin(ranges), range) if range<=max_range else (None,range)\n",
    "\n",
    "print(rfid_measurement(gtsam.Point2(20,7)))\n",
    "print(rfid_measurement(gtsam.Point2(7,7)))\n"
   ]
  },
  {
   "cell_type": "markdown",
   "metadata": {},
   "source": [
    "The special \"out of range\" measurement conveys a lot of information as well! If we are within range of a sensor, the likelihood function is as above (an annulus). But when we are *out* of range, the likelihood function has a very strange shape indeed: it will be 1.0 for all continuous states out of range of all beacons, and zero for states within range of a beacon. This makes sense: if the robot were within range of a beacon, the sensor would have returned\n",
    "an actual range, *not* infinity. This in turn tells us that the robot must be somewhere outside the range of all beacons, which is very powerful information. The likelihood for this case can be plotted with the following code."
   ]
  },
  {
   "cell_type": "code",
   "execution_count": 23,
   "metadata": {},
   "outputs": [
    {
     "data": {
      "image/png": "[encoded data removed]"
     },
     "metadata": {},
     "output_type": "display_data"
    }
   ],
   "source": [
    "def out_of_rfid_range(position, max_range=8):\n",
    "    id, _ = rfid_measurement(position, max_range)\n",
    "    return id == None\n",
    "\n",
    "out_of_bound_map = np.array([[out_of_rfid_range(xy) for xy in row] for row in logistics.map_coords])\n",
    "logistics.show_map(out_of_bound_map, logistics.beacons)\n"
   ]
  },
  {
   "cell_type": "markdown",
   "metadata": {},
   "source": [
    "## A GPS-Like Location Sensor\n",
    "\n",
    "> A simple conditionally Gaussian measurement.\n",
    "\n",
    "The last sensor we will consider, a GPS-like location sensor, is a bit of a cheat. In fact, there are no great indoor GPS-like sensors.\n",
    "People have tried all kinds of things, like triangulating WiFi signals etc., but a cheap and reliable GPS-like sensor that works indoors is still not available at the time of writing. \n",
    "However, it is a good illustrative example to introduce a simple, conditionally Gaussian measurement. \n",
    "Also, it can be a good way to model a more complicated sensor, e.g., a camera-based localization system that uses some type of map."
   ]
  },
  {
   "cell_type": "markdown",
   "metadata": {},
   "source": [
    "The **measurement model** $h(x_k)$, that predicts the measurement $z_k$ given the state $x_k$, will again be a conditional Gaussian. In this example, let us assume the measurement is simply the location of the robot, but with coordinates measured in *cm*. The measurement model in this case is *linear*, and we again assume additive noise:\n",
    "\n",
    "$$\n",
    "{z}_k = h(x_k) + w_k = C x_k + w_k\n",
    "$$\n",
    "\n",
    "The matrix $C$ performs a linear transformation on the state, such as converting\n",
    "between different units.\n",
    "Suppose for example that the state is defined in meters and the sensor measures in\n",
    "centimeters.\n",
    "In this case, we could use the $2\\times2$ diagonal matrix $C=\\text{diag}(100,100)$ to\n",
    "apply the appropriate scaling factor to convert from meters to centimeters. \n",
    "Under the assumption that $w_k$ is again zero-mean, Gaussian noise, the conditional density $p(z_k|x_k)$ of the measurement $z_k$ given the state $x_k$ is then\n",
    "\n",
    "$$\n",
    "\\begin{aligned}\n",
    "p(z_k|x_k) &= \\mathcal{N}(z_k;\\mu=C x_k, \\Sigma=R) \\\\\n",
    "&= \\frac{1}{\\sqrt{2\\pi  |R|}} \\exp\\{-0.5 (z_k-C x_k)^TR^{-1}(z_k-C x_k)\\}\n",
    "\\end{aligned}\n",
    "$$\n",
    "\n",
    "where $R$ is the traditional symbol used for measurement model covariance,\n",
    "and $|R|$ in the denominator denotes the determinant of $R$. Assuming a fairly inaccurate sensor, with 30cm standard deviation, we have $R=\\text{diag}(30^2,30^2)$ if the uncertainties in the $x$ and $y$ directions are independent of one another. Note that the $2\\times 2$ measurement covariance matrix $R$ is expressed in the units of the measurement, i.e., centimeters, *not* the units of the state."
   ]
  },
  {
   "cell_type": "markdown",
   "metadata": {},
   "source": [
    "## Simulating States *and* Measurements\n",
    "\n",
    "> Dynamic Bayes nets to the rescue, again!"
   ]
  },
  {
   "cell_type": "markdown",
   "metadata": {},
   "source": [
    "We can now extend the Gaussian DBN from the previous section to include  measurements, so that we can\n",
    "encode the joint density $p(X,Z|U)$ on states $X$ *and* measurements $Z$, given the controls $U$:\n",
    "\n",
    "$$\n",
    "p(X,Z|U) = p(x_1)p(z_1|x_1) \\prod_{k=2}^N p(x_k|x_{k-1}, u_{k-1})p(z_k|x_k).\n",
    "$$\n",
    "\n",
    "Let us add the measurement conditionals to the DBN from the previous section to get an extended dynamic Bayes net:"
   ]
  },
  {
   "cell_type": "code",
   "execution_count": 24,
   "metadata": {},
   "outputs": [],
   "source": [
    "gaussianBayesNet = gtsam.GaussianBayesNet()\n",
    "A, B, C = np.eye(2), np.eye(2), 100 * np.eye(2)\n",
    "motion_model_sigma = 0.2\n",
    "measurement_model_sigma = 30\n",
    "for k in indices:\n",
    "    gaussianBayesNet.push_back(gtsam.GaussianConditional.FromMeanAndStddev(\n",
    "        z[k], C, x[k], [0, 0], measurement_model_sigma))\n",
    "for k in reversed(indices[:-1]):\n",
    "    gaussianBayesNet.push_back(gtsam.GaussianConditional.FromMeanAndStddev(\n",
    "        x[k+1], A, x[k], B, u[k], [0, 0], motion_model_sigma))\n",
    "p_x1 = gtsam.GaussianDensity.FromMeanAndStddev(x[1], [20,10], 0.5)\n",
    "gaussianBayesNet.push_back(p_x1)\n"
   ]
  },
  {
   "cell_type": "code",
   "execution_count": 25,
   "metadata": {},
   "outputs": [
    {
     "data": {
      "image/svg+xml": [
       "<?xml version=\"1.0\" encoding=\"UTF-8\" standalone=\"no\"?>\n",
       "<!DOCTYPE svg PUBLIC \"-//W3C//DTD SVG 1.1//EN\"\n",
       " \"http://www.w3.org/Graphics/SVG/1.1/DTD/svg11.dtd\">\n",
       "<!-- Generated by graphviz version 9.0.0 (0)\n",
       " -->\n",
       "<!-- Pages: 1 -->\n",
       "<svg width=\"350pt\" height=\"188pt\"\n",
       " viewBox=\"0.00 0.00 350.00 188.00\" xmlns=\"http://www.w3.org/2000/svg\" xmlns:xlink=\"http://www.w3.org/1999/xlink\">\n",
       "<g id=\"graph0\" class=\"graph\" transform=\"scale(1 1) rotate(0) translate(4 184)\">\n",
       "<polygon fill=\"white\" stroke=\"none\" points=\"-4,4 -4,-184 346,-184 346,4 -4,4\"/>\n",
       "<!-- var8430738502437568513 -->\n",
       "<g id=\"node1\" class=\"node\">\n",
       "<title>var8430738502437568513</title>\n",
       "<polygon fill=\"none\" stroke=\"black\" points=\"54,-180 0,-180 0,-144 54,-144 54,-180\"/>\n",
       "<text text-anchor=\"middle\" x=\"27\" y=\"-156.95\" font-family=\"Times,serif\" font-size=\"14.00\">u1</text>\n",
       "</g>\n",
       "<!-- var8646911284551352322 -->\n",
       "<g id=\"node6\" class=\"node\">\n",
       "<title>var8646911284551352322</title>\n",
       "<ellipse fill=\"none\" stroke=\"black\" cx=\"99\" cy=\"-90\" rx=\"27\" ry=\"18\"/>\n",
       "<text text-anchor=\"middle\" x=\"99\" y=\"-84.95\" font-family=\"Times,serif\" font-size=\"14.00\">x2</text>\n",
       "</g>\n",
       "<!-- var8430738502437568513&#45;&gt;var8646911284551352322 -->\n",
       "<g id=\"edge2\" class=\"edge\">\n",
       "<title>var8430738502437568513&#45;&gt;var8646911284551352322</title>\n",
       "<path fill=\"none\" stroke=\"black\" d=\"M45.17,-143.83C54.54,-134.46 66.07,-122.93 76.05,-112.95\"/>\n",
       "<polygon fill=\"black\" stroke=\"black\" points=\"78.33,-115.62 82.92,-106.08 73.38,-110.67 78.33,-115.62\"/>\n",
       "</g>\n",
       "<!-- var8430738502437568514 -->\n",
       "<g id=\"node2\" class=\"node\">\n",
       "<title>var8430738502437568514</title>\n",
       "<polygon fill=\"none\" stroke=\"black\" points=\"126,-180 72,-180 72,-144 126,-144 126,-180\"/>\n",
       "<text text-anchor=\"middle\" x=\"99\" y=\"-156.95\" font-family=\"Times,serif\" font-size=\"14.00\">u2</text>\n",
       "</g>\n",
       "<!-- var8646911284551352323 -->\n",
       "<g id=\"node7\" class=\"node\">\n",
       "<title>var8646911284551352323</title>\n",
       "<ellipse fill=\"none\" stroke=\"black\" cx=\"171\" cy=\"-90\" rx=\"27\" ry=\"18\"/>\n",
       "<text text-anchor=\"middle\" x=\"171\" y=\"-84.95\" font-family=\"Times,serif\" font-size=\"14.00\">x3</text>\n",
       "</g>\n",
       "<!-- var8430738502437568514&#45;&gt;var8646911284551352323 -->\n",
       "<g id=\"edge4\" class=\"edge\">\n",
       "<title>var8430738502437568514&#45;&gt;var8646911284551352323</title>\n",
       "<path fill=\"none\" stroke=\"black\" d=\"M117.17,-143.83C126.54,-134.46 138.07,-122.93 148.05,-112.95\"/>\n",
       "<polygon fill=\"black\" stroke=\"black\" points=\"150.33,-115.62 154.92,-106.08 145.38,-110.67 150.33,-115.62\"/>\n",
       "</g>\n",
       "<!-- var8430738502437568515 -->\n",
       "<g id=\"node3\" class=\"node\">\n",
       "<title>var8430738502437568515</title>\n",
       "<polygon fill=\"none\" stroke=\"black\" points=\"198,-180 144,-180 144,-144 198,-144 198,-180\"/>\n",
       "<text text-anchor=\"middle\" x=\"171\" y=\"-156.95\" font-family=\"Times,serif\" font-size=\"14.00\">u3</text>\n",
       "</g>\n",
       "<!-- var8646911284551352324 -->\n",
       "<g id=\"node8\" class=\"node\">\n",
       "<title>var8646911284551352324</title>\n",
       "<ellipse fill=\"none\" stroke=\"black\" cx=\"243\" cy=\"-90\" rx=\"27\" ry=\"18\"/>\n",
       "<text text-anchor=\"middle\" x=\"243\" y=\"-84.95\" font-family=\"Times,serif\" font-size=\"14.00\">x4</text>\n",
       "</g>\n",
       "<!-- var8430738502437568515&#45;&gt;var8646911284551352324 -->\n",
       "<g id=\"edge6\" class=\"edge\">\n",
       "<title>var8430738502437568515&#45;&gt;var8646911284551352324</title>\n",
       "<path fill=\"none\" stroke=\"black\" d=\"M189.17,-143.83C198.54,-134.46 210.07,-122.93 220.05,-112.95\"/>\n",
       "<polygon fill=\"black\" stroke=\"black\" points=\"222.33,-115.62 226.92,-106.08 217.38,-110.67 222.33,-115.62\"/>\n",
       "</g>\n",
       "<!-- var8430738502437568516 -->\n",
       "<g id=\"node4\" class=\"node\">\n",
       "<title>var8430738502437568516</title>\n",
       "<polygon fill=\"none\" stroke=\"black\" points=\"270,-180 216,-180 216,-144 270,-144 270,-180\"/>\n",
       "<text text-anchor=\"middle\" x=\"243\" y=\"-156.95\" font-family=\"Times,serif\" font-size=\"14.00\">u4</text>\n",
       "</g>\n",
       "<!-- var8646911284551352325 -->\n",
       "<g id=\"node9\" class=\"node\">\n",
       "<title>var8646911284551352325</title>\n",
       "<ellipse fill=\"none\" stroke=\"black\" cx=\"315\" cy=\"-90\" rx=\"27\" ry=\"18\"/>\n",
       "<text text-anchor=\"middle\" x=\"315\" y=\"-84.95\" font-family=\"Times,serif\" font-size=\"14.00\">x5</text>\n",
       "</g>\n",
       "<!-- var8430738502437568516&#45;&gt;var8646911284551352325 -->\n",
       "<g id=\"edge8\" class=\"edge\">\n",
       "<title>var8430738502437568516&#45;&gt;var8646911284551352325</title>\n",
       "<path fill=\"none\" stroke=\"black\" d=\"M261.17,-143.83C270.54,-134.46 282.07,-122.93 292.05,-112.95\"/>\n",
       "<polygon fill=\"black\" stroke=\"black\" points=\"294.33,-115.62 298.92,-106.08 289.38,-110.67 294.33,-115.62\"/>\n",
       "</g>\n",
       "<!-- var8646911284551352321 -->\n",
       "<g id=\"node5\" class=\"node\">\n",
       "<title>var8646911284551352321</title>\n",
       "<ellipse fill=\"none\" stroke=\"black\" cx=\"27\" cy=\"-90\" rx=\"27\" ry=\"18\"/>\n",
       "<text text-anchor=\"middle\" x=\"27\" y=\"-84.95\" font-family=\"Times,serif\" font-size=\"14.00\">x1</text>\n",
       "</g>\n",
       "<!-- var8646911284551352321&#45;&gt;var8646911284551352322 -->\n",
       "<g id=\"edge1\" class=\"edge\">\n",
       "<title>var8646911284551352321&#45;&gt;var8646911284551352322</title>\n",
       "<path fill=\"none\" stroke=\"black\" d=\"M54.22,-90C56.28,-90 58.38,-90 60.5,-90\"/>\n",
       "<polygon fill=\"black\" stroke=\"black\" points=\"60.23,-93.5 70.23,-90 60.23,-86.5 60.23,-93.5\"/>\n",
       "</g>\n",
       "<!-- var8791026472627208193 -->\n",
       "<g id=\"node10\" class=\"node\">\n",
       "<title>var8791026472627208193</title>\n",
       "<ellipse fill=\"none\" stroke=\"black\" cx=\"27\" cy=\"-18\" rx=\"27\" ry=\"18\"/>\n",
       "<text text-anchor=\"middle\" x=\"27\" y=\"-12.95\" font-family=\"Times,serif\" font-size=\"14.00\">z1</text>\n",
       "</g>\n",
       "<!-- var8646911284551352321&#45;&gt;var8791026472627208193 -->\n",
       "<g id=\"edge13\" class=\"edge\">\n",
       "<title>var8646911284551352321&#45;&gt;var8791026472627208193</title>\n",
       "<path fill=\"none\" stroke=\"black\" d=\"M27,-71.83C27,-64.55 27,-55.98 27,-47.83\"/>\n",
       "<polygon fill=\"black\" stroke=\"black\" points=\"30.5,-47.93 27,-37.93 23.5,-47.93 30.5,-47.93\"/>\n",
       "</g>\n",
       "<!-- var8646911284551352322&#45;&gt;var8646911284551352323 -->\n",
       "<g id=\"edge3\" class=\"edge\">\n",
       "<title>var8646911284551352322&#45;&gt;var8646911284551352323</title>\n",
       "<path fill=\"none\" stroke=\"black\" d=\"M126.22,-90C128.28,-90 130.38,-90 132.5,-90\"/>\n",
       "<polygon fill=\"black\" stroke=\"black\" points=\"132.23,-93.5 142.23,-90 132.23,-86.5 132.23,-93.5\"/>\n",
       "</g>\n",
       "<!-- var8791026472627208194 -->\n",
       "<g id=\"node11\" class=\"node\">\n",
       "<title>var8791026472627208194</title>\n",
       "<ellipse fill=\"none\" stroke=\"black\" cx=\"99\" cy=\"-18\" rx=\"27\" ry=\"18\"/>\n",
       "<text text-anchor=\"middle\" x=\"99\" y=\"-12.95\" font-family=\"Times,serif\" font-size=\"14.00\">z2</text>\n",
       "</g>\n",
       "<!-- var8646911284551352322&#45;&gt;var8791026472627208194 -->\n",
       "<g id=\"edge12\" class=\"edge\">\n",
       "<title>var8646911284551352322&#45;&gt;var8791026472627208194</title>\n",
       "<path fill=\"none\" stroke=\"black\" d=\"M99,-71.83C99,-64.55 99,-55.98 99,-47.83\"/>\n",
       "<polygon fill=\"black\" stroke=\"black\" points=\"102.5,-47.93 99,-37.93 95.5,-47.93 102.5,-47.93\"/>\n",
       "</g>\n",
       "<!-- var8646911284551352323&#45;&gt;var8646911284551352324 -->\n",
       "<g id=\"edge5\" class=\"edge\">\n",
       "<title>var8646911284551352323&#45;&gt;var8646911284551352324</title>\n",
       "<path fill=\"none\" stroke=\"black\" d=\"M198.22,-90C200.28,-90 202.38,-90 204.5,-90\"/>\n",
       "<polygon fill=\"black\" stroke=\"black\" points=\"204.23,-93.5 214.23,-90 204.23,-86.5 204.23,-93.5\"/>\n",
       "</g>\n",
       "<!-- var8791026472627208195 -->\n",
       "<g id=\"node12\" class=\"node\">\n",
       "<title>var8791026472627208195</title>\n",
       "<ellipse fill=\"none\" stroke=\"black\" cx=\"171\" cy=\"-18\" rx=\"27\" ry=\"18\"/>\n",
       "<text text-anchor=\"middle\" x=\"171\" y=\"-12.95\" font-family=\"Times,serif\" font-size=\"14.00\">z3</text>\n",
       "</g>\n",
       "<!-- var8646911284551352323&#45;&gt;var8791026472627208195 -->\n",
       "<g id=\"edge11\" class=\"edge\">\n",
       "<title>var8646911284551352323&#45;&gt;var8791026472627208195</title>\n",
       "<path fill=\"none\" stroke=\"black\" d=\"M171,-71.83C171,-64.55 171,-55.98 171,-47.83\"/>\n",
       "<polygon fill=\"black\" stroke=\"black\" points=\"174.5,-47.93 171,-37.93 167.5,-47.93 174.5,-47.93\"/>\n",
       "</g>\n",
       "<!-- var8646911284551352324&#45;&gt;var8646911284551352325 -->\n",
       "<g id=\"edge7\" class=\"edge\">\n",
       "<title>var8646911284551352324&#45;&gt;var8646911284551352325</title>\n",
       "<path fill=\"none\" stroke=\"black\" d=\"M270.22,-90C272.28,-90 274.38,-90 276.5,-90\"/>\n",
       "<polygon fill=\"black\" stroke=\"black\" points=\"276.23,-93.5 286.23,-90 276.23,-86.5 276.23,-93.5\"/>\n",
       "</g>\n",
       "<!-- var8791026472627208196 -->\n",
       "<g id=\"node13\" class=\"node\">\n",
       "<title>var8791026472627208196</title>\n",
       "<ellipse fill=\"none\" stroke=\"black\" cx=\"243\" cy=\"-18\" rx=\"27\" ry=\"18\"/>\n",
       "<text text-anchor=\"middle\" x=\"243\" y=\"-12.95\" font-family=\"Times,serif\" font-size=\"14.00\">z4</text>\n",
       "</g>\n",
       "<!-- var8646911284551352324&#45;&gt;var8791026472627208196 -->\n",
       "<g id=\"edge10\" class=\"edge\">\n",
       "<title>var8646911284551352324&#45;&gt;var8791026472627208196</title>\n",
       "<path fill=\"none\" stroke=\"black\" d=\"M243,-71.83C243,-64.55 243,-55.98 243,-47.83\"/>\n",
       "<polygon fill=\"black\" stroke=\"black\" points=\"246.5,-47.93 243,-37.93 239.5,-47.93 246.5,-47.93\"/>\n",
       "</g>\n",
       "<!-- var8791026472627208197 -->\n",
       "<g id=\"node14\" class=\"node\">\n",
       "<title>var8791026472627208197</title>\n",
       "<ellipse fill=\"none\" stroke=\"black\" cx=\"315\" cy=\"-18\" rx=\"27\" ry=\"18\"/>\n",
       "<text text-anchor=\"middle\" x=\"315\" y=\"-12.95\" font-family=\"Times,serif\" font-size=\"14.00\">z5</text>\n",
       "</g>\n",
       "<!-- var8646911284551352325&#45;&gt;var8791026472627208197 -->\n",
       "<g id=\"edge9\" class=\"edge\">\n",
       "<title>var8646911284551352325&#45;&gt;var8791026472627208197</title>\n",
       "<path fill=\"none\" stroke=\"black\" d=\"M315,-71.83C315,-64.55 315,-55.98 315,-47.83\"/>\n",
       "<polygon fill=\"black\" stroke=\"black\" points=\"318.5,-47.93 315,-37.93 311.5,-47.93 318.5,-47.93\"/>\n",
       "</g>\n",
       "</g>\n",
       "</svg>\n"
      ],
      "text/plain": [
       "<gtbook.display.show at 0x146f32160>"
      ]
     },
     "execution_count": 25,
     "metadata": {},
     "output_type": "execute_result"
    }
   ],
   "source": [
    "position_hints = {'u': 2, 'x': 1, 'z': 0}\n",
    "show(gaussianBayesNet, hints=position_hints, boxes=set(list(u.values())))\n"
   ]
  },
  {
   "cell_type": "markdown",
   "metadata": {},
   "source": [
    "This now allows us to simulate a trajectory and *simultaneously* simulate a set of measurements:"
   ]
  },
  {
   "cell_type": "code",
   "execution_count": 26,
   "metadata": {},
   "outputs": [],
   "source": [
    "control_tape = gtsam.VectorValues()\n",
    "for k, (ux,uy) in zip(indices[:-1], [(2,0), (2,0), (0,2), (0,2)]):\n",
    "    control_tape.insert(u[k], gtsam.Point2(ux,uy))\n"
   ]
  },
  {
   "cell_type": "code",
   "execution_count": 27,
   "metadata": {},
   "outputs": [
    {
     "data": {
      "text/html": [
       "<div>\n",
       "<table class='VectorValues'>\n",
       "  <thead>\n",
       "    <tr><th>Variable</th><th>value</th></tr>\n",
       "  </thead>\n",
       "  <tbody>\n",
       "    <tr><th>u1</th><td>2 0</td></tr>\n",
       "    <tr><th>u2</th><td>2 0</td></tr>\n",
       "    <tr><th>u3</th><td>0 2</td></tr>\n",
       "    <tr><th>u4</th><td>0 2</td></tr>\n",
       "    <tr><th>x1</th><td>20.6469  10.199</td></tr>\n",
       "    <tr><th>x2</th><td>22.8706 9.90054</td></tr>\n",
       "    <tr><th>x3</th><td>24.8089 10.1832</td></tr>\n",
       "    <tr><th>x4</th><td>25.1275 12.2733</td></tr>\n",
       "    <tr><th>x5</th><td>25.0941 14.5563</td></tr>\n",
       "    <tr><th>z1</th><td>2117.85 1015.76</td></tr>\n",
       "    <tr><th>z2</th><td>2247.86 985.738</td></tr>\n",
       "    <tr><th>z3</th><td>2536.57 1110.27</td></tr>\n",
       "    <tr><th>z4</th><td>2531.34 1273.51</td></tr>\n",
       "    <tr><th>z5</th><td>2518.76 1490.23</td></tr>\n",
       "  </tbody>\n",
       "</table>\n",
       "</div>"
      ],
      "text/plain": [
       "VectorValues: 14 elements\n",
       "  u1: 2 0\n",
       "  u2: 2 0\n",
       "  u3: 0 2\n",
       "  u4: 0 2\n",
       "  x1: 20.6469  10.199\n",
       "  x2: 22.8706 9.90054\n",
       "  x3: 24.8089 10.1832\n",
       "  x4: 25.1275 12.2733\n",
       "  x5: 25.0941 14.5563\n",
       "  z1: 2117.85 1015.76\n",
       "  z2: 2247.86 985.738\n",
       "  z3: 2536.57 1110.27\n",
       "  z4: 2531.34 1273.51\n",
       "  z5: 2518.76 1490.23"
      ]
     },
     "execution_count": 27,
     "metadata": {},
     "output_type": "execute_result"
    }
   ],
   "source": [
    "gaussianBayesNet.sample(control_tape)\n"
   ]
  },
  {
   "cell_type": "markdown",
   "metadata": {},
   "source": [
    "## GPS-style Likelihoods\n",
    "\n",
    "> A likelihood is not a probability. A likelihood is not a probability. A likelihood is not a probability.\n",
    "\n",
    "Let us recall the definition of the likelihood of a state $x$ from section 2.4, as being a function *proportional* to the conditional density of a measurement $z$, but viewed as a function of $x$:\n",
    "\n",
    "$$L(x;z) \\propto p(z|x).$$\n",
    "\n",
    "The notation emphasizes that the measurement $z$ is given, and the likelihood is a function defined on the *continuous* state $x$."
   ]
  },
  {
   "cell_type": "markdown",
   "metadata": {},
   "source": [
    "What is the likelihood function for our GPS-like sensor? That's easy enough: we take the conditional probability, drop the normalization constant, and view it as a function of the state $x_k$ rather than the *known* measurement $z_k$:\n",
    "\n",
    "$$\n",
    "L(x_k;z_k) \\doteq \\exp\\{-0.5 (z_k-C x_k)^TR^{-1}(z_k-C x_k)\\}\n",
    "$$"
   ]
  },
  {
   "cell_type": "markdown",
   "metadata": {},
   "source": [
    "It turns out that in this case (when $C$ is a square, nonsingular matrix,\n",
    "and $x_k, z_k \\in \\mathbb{R}^n$), the likelihood function *looks* just like a Gaussian, because we can re-write the above as\n",
    "\n",
    "$$\n",
    "\\begin{aligned}\n",
    "L(x_k;z_k) \\doteq \\exp\\{-0.5 (x_k-C^{-1}z_k)^T C^T R^{-1}C(x_k-C^{-1}z_k)\\}\n",
    "\\end{aligned}\n",
    "$$\n",
    "\n",
    "which is *proportional* to a Gaussian density with mean $C^{-1}z_k$ and covariance matrix $\\Sigma=(C^T R^{-1}C)^{-1}=C^{-1}RC^{-T}$. This actually makes sense: the most *likely* state $x_k$ given a measurement $z_k$ is just the measurement, now *divided* by 100 to convert to meters, hence the $C^{-1}$. The covariance is scaled down by 10,000. However, it is important not to go too far and start interpreting this Gaussian-shaped function as a probability: it does not normalize to 1, and it is a coincidence that for *linear-conditional* Gaussians, the likelihood turns out to be Gaussian-shaped as well."
   ]
  },
  {
   "cell_type": "markdown",
   "metadata": {},
   "source": [
    "## GTbook 101\n",
    "\n",
    "> About code defined in gtbook library.\n",
    "\n",
    "Again we used some code defined in the `gtbook` library:\n",
    "- `logistics.base_map`: a 50x100 image with the warehouse shelves\n",
    "- `logistics.beacons`: an 8x2 array of beacon locations"
   ]
  }
 ],
 "metadata": {
  "colab": {
   "collapsed_sections": [],
   "include_colab_link": true,
   "name": "S43_logistics_sensing.ipynb",
   "provenance": []
  },
  "kernelspec": {
   "display_name": "Python 3.8.12 ('gtbook')",
   "language": "python",
   "name": "python3"
  },
  "language_info": {
   "codemirror_mode": {
    "name": "ipython",
    "version": 3
   },
   "file_extension": ".py",
   "mimetype": "text/x-python",
   "name": "python",
   "nbconvert_exporter": "python",
   "pygments_lexer": "ipython3",
   "version": "3.9.18"
  },
  "latex_metadata": {
   "affiliation": "Georgia Institute of Technology",
   "author": "Frank Dellaert and Seth Hutchinson",
   "title": "Introduction to Robotics"
  },
  "vscode": {
   "interpreter": {
    "hash": "9f7376ced4243bb13dfcffa8a3ba834e0602aa8334cd3a1d8ba8d285f4628083"
   }
  }
 },
 "nbformat": 4,
 "nbformat_minor": 2
}
