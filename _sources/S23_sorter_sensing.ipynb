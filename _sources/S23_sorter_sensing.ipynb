{
 "cells": [
  {
   "cell_type": "markdown",
   "metadata": {
    "colab_type": "text",
    "id": "view-in-github",
    "slideshow": {
     "slide_type": "skip"
    },
    "tags": [
     "no-tex"
    ]
   },
   "source": [
    "<a href=\"https://colab.research.google.com/github/gtbook/robotics/blob/main/S23_sorter_sensing.ipynb\" target=\"_parent\"><img src=\"https://colab.research.google.com/assets/colab-badge.svg\" alt=\"Open In Colab\"/></a>"
   ]
  },
  {
   "cell_type": "code",
   "execution_count": 1,
   "metadata": {
    "id": "w-CIikP0ZZnm",
    "slideshow": {
     "slide_type": "skip"
    },
    "tags": [
     "remove-cell"
    ]
   },
   "outputs": [
    {
     "name": "stdout",
     "output_type": "stream",
     "text": [
      "Note: you may need to restart the kernel to use updated packages.\n"
     ]
    }
   ],
   "source": [
    "%pip install -q -U gtbook"
   ]
  },
  {
   "cell_type": "code",
   "execution_count": 2,
   "metadata": {
    "id": "uef6Kglzcrha",
    "slideshow": {
     "slide_type": "skip"
    },
    "tags": [
     "remove-cell"
    ]
   },
   "outputs": [],
   "source": [
    "import numpy as np\n",
    "import gtsam\n",
    "\n",
    "from gtbook.discrete import Variables\n",
    "from gtbook.display import show\n",
    "\n",
    "from IPython.display import display\n",
    "from ipywidgets import interact\n",
    "\n",
    "import plotly.express as px\n",
    "try:\n",
    "    import google.colab\n",
    "except:\n",
    "    import plotly.io as pio\n",
    "    pio.renderers.default = \"png\"\n",
    "\n",
    "import gtbook\n",
    "VARIABLES = Variables()\n",
    "def pretty(obj): \n",
    "    return gtbook.display.pretty(obj, VARIABLES)"
   ]
  },
  {
   "cell_type": "code",
   "execution_count": 3,
   "metadata": {
    "id": "vXWJdNcgTJcQ",
    "slideshow": {
     "slide_type": "skip"
    },
    "tags": [
     "remove-cell"
    ]
   },
   "outputs": [],
   "source": [
    "# Define variables here\n",
    "Conductivity = VARIABLES.binary(\"Conductivity\")\n",
    "Detection = VARIABLES.discrete(\"Detection\", [\"bottle\", \"cardboard\", \"paper\"])\n",
    "categories = [\"cardboard\", \"paper\", \"can\", \"scrap metal\", \"bottle\"]\n",
    "Category = VARIABLES.discrete(\"Category\", categories) # Not an accident that it is defined last."
   ]
  },
  {
   "attachments": {},
   "cell_type": "markdown",
   "metadata": {
    "id": "5_gRa4NQZsD4",
    "slideshow": {
     "slide_type": "slide"
    }
   },
   "source": [
    "# Sensors for Sorting Trash\n",
    "\n",
    "> Probability distributions can be used to model the behavior of sensors.\n",
    "\n",
    "\n",
    "<img src=\"Figures2/S23-Trash_sorting_robot_with_gripper-07.jpg\" alt=\"Splash image with robot that seems to be weighing buckets of trash\" width=\"40%\" align=center style=\"vertical-align:middle;margin:10px 0px\">"
   ]
  },
  {
   "cell_type": "markdown",
   "metadata": {
    "id": "5_gRa4NQZsD4",
    "slideshow": {
     "slide_type": "slide"
    }
   },
   "source": [
    "How can our trash sorting system know the category of an object that enters the sorting area? Robots use sensors to measure aspects of the world, and then make inferences about the world state based on these measurements. So, sensing can be used to infer the type of the object.\n",
    "\n",
    "Let us assume our robot cell only has three sensors:\n",
    "* a conductivity sensor, outputting the value `True` or `False`\n",
    "* a camera with a three detection algorithms: bottle, cardboard, paper\n",
    "* a scale, which gives a continuous value in kg.\n",
    "\n",
    "We will discuss each in turn."
   ]
  },
  {
   "cell_type": "markdown",
   "metadata": {
    "id": "fTcEUT_IAu54",
    "slideshow": {
     "slide_type": "slide"
    }
   },
   "source": [
    "## Binary Sensors\n",
    "\n",
    "> A binary sensor can be modeled using conditional probability distributions.\n",
    "\n",
    "Sadly, sensors are imperfect devices. For example, consider a sensor that measures electrical conductivity. Suppose we have a binary sensor that simply returns `True` or `False` , based on a measurement from an electrical probe, for an object's conductivity.  For a metal can, this sensor will return `True` almost every time; however, some cans may be a bit dirty, or the probe may not make good contact, and these can lead to a mis-classification, returning `False`.\n",
    "\n",
    "Probability theory lets us quantify this. For example, for a metal can, the probability of the sensor returning `True` might be $0.9$, and hence the probability of returning `False` is $1-0.9=0.1$. \n",
    "Of course in reality, we cannot know the true values of these probabilities, but we can estimate them using statistics.\n",
    "A straightforward approach is to merely perform a set of experiments, and construct\n",
    "a histogram of the results.\n",
    "\n",
    "Because the probability of the outcome depends on the type of the trash item, we represent this with a **Conditional Probability**, which accords a value \n",
    "\n",
    "$$P(conductive| trash~category)$$\n",
    "\n",
    "to every possible outcome (only `True` or `False` for this example), and where the `|` indicates that this depends on the category of the trash item. For example, we already established that\n",
    "\n",
    "$$P(conductive=True| trash~category=can)=0.9$$\n",
    "\n",
    "$$P(conductive=False| trash~category=can)=0.1$$\n"
   ]
  },
  {
   "cell_type": "markdown",
   "metadata": {
    "slideshow": {
     "slide_type": "slide"
    }
   },
   "source": [
    "## Conditional Probabilities\n",
    "\n",
    "In general, the probability mass function of *any* single variable $X$ can be\n",
    "parameterized by a parameter $Y$, whose value we assume as known. \n",
    "This corresponds to the notion of a conditional probability,\n",
    "which we write as \n",
    "\n",
    "$$P(X|Y=y).$$\n",
    "\n",
    "Note that given a particular value of\n",
    "$Y$, this is just a probability distribution over $X$, with parameters given by a\n",
    "PMF, as before. \n",
    "\n",
    "There are many ways to specify conditional probabilities, but in this simple case, with a binary outcome and a finite number of discrete categories, the simplest representation is to use a a **Conditional Probability Table** or CPT. "
   ]
  },
  {
   "cell_type": "markdown",
   "metadata": {},
   "source": [
    "An example is shown below for our binary sensor example, taking care to first create the variables for pretty-printing:"
   ]
  },
  {
   "cell_type": "code",
   "execution_count": 4,
   "metadata": {},
   "outputs": [
    {
     "data": {
      "text/html": [
       "<div>\n",
       "<p>  <i>P(Conductivity|Category):</i></p>\n",
       "<table class='DiscreteConditional'>\n",
       "  <thead>\n",
       "    <tr><th><i>Category</i></th><th>false</th><th>true</th></tr>\n",
       "  </thead>\n",
       "  <tbody>\n",
       "    <tr><th>cardboard</th><td>0.99</td><td>0.01</td></tr>\n",
       "    <tr><th>paper</th><td>0.99</td><td>0.01</td></tr>\n",
       "    <tr><th>can</th><td>0.1</td><td>0.9</td></tr>\n",
       "    <tr><th>scrap metal</th><td>0.15</td><td>0.85</td></tr>\n",
       "    <tr><th>bottle</th><td>0.95</td><td>0.05</td></tr>\n",
       "  </tbody>\n",
       "</table>\n",
       "</div>"
      ],
      "text/plain": [
       "<gtbook.display.pretty at 0x11195f760>"
      ]
     },
     "execution_count": 4,
     "metadata": {},
     "output_type": "execute_result"
    }
   ],
   "source": [
    "pCT = gtsam.DiscreteConditional(\n",
    "    Conductivity, [Category], \"99/1 99/1 10/90 15/85 95/5\")\n",
    "pretty(pCT)"
   ]
  },
  {
   "cell_type": "markdown",
   "metadata": {},
   "source": [
    "Note the rows add up to 1.0, as each row is a valid probability mass function (PMF).\n"
   ]
  },
  {
   "cell_type": "markdown",
   "metadata": {},
   "source": [
    "Conditional probability distributions are a great way to represent\n",
    "knowledge about the world in robotics. In particular, we use them\n",
    "to model sensors in this chapter.\n",
    "In the next chapter, we will use them to model \n",
    "how we can affect the state of the robot by *actions*.\n",
    "\n",
    "A complete **sensor model** specifies a (potentially giant) CPT for every\n",
    "possible state. An observation $z$ can be rather impoverished, or very\n",
    "detailed, and one can also envision modeling several different sensors\n",
    "on the robot. In the latter case, we will be able to *fuse* the\n",
    "information from multiple sensors.\n",
    "\n",
    "Conditional probability tables do not *have* to be specified as giant\n",
    "tables. In case we index the discrete states with semantically\n",
    "meaningful indices.\n",
    "For example, in later chapters we will represent a robot's workspace\n",
    "as a grid, and the indices into the grid can serve this purpose.\n",
    "In such cases, we can often specify the CPT in parametric form."
   ]
  },
  {
   "cell_type": "markdown",
   "metadata": {
    "id": "yXqXJGUOMD7w",
    "slideshow": {
     "slide_type": "slide"
    }
   },
   "source": [
    "## Multi-Valued Sensors\n",
    "\n",
    "Binary sensors are easily generalized to multi-valued sensors. For our running example, assume that there is a camera mounted in the work cell, looking down on the trash conveyor belt. The camera is connected to a computer which runs a vision algorithm that can output three possible detected classes: `bottle` , `cardboard` , and `paper`.\n",
    "We can model this sensor using the conditional probability distribution\n",
    "\n",
    "$$P(detection| trash~category)$$\n",
    "\n",
    " The CPT for this sensor now has three columns, and one plausible CPT is given in python code below:\n"
   ]
  },
  {
   "cell_type": "code",
   "execution_count": 5,
   "metadata": {
    "id": "4LQ4c-RKTJcS"
   },
   "outputs": [
    {
     "data": {
      "text/html": [
       "<div>\n",
       "<p>  <i>P(Detection|Category):</i></p>\n",
       "<table class='DiscreteConditional'>\n",
       "  <thead>\n",
       "    <tr><th><i>Category</i></th><th>bottle</th><th>cardboard</th><th>paper</th></tr>\n",
       "  </thead>\n",
       "  <tbody>\n",
       "    <tr><th>cardboard</th><td>0.02</td><td>0.88</td><td>0.1</td></tr>\n",
       "    <tr><th>paper</th><td>0.02</td><td>0.2</td><td>0.78</td></tr>\n",
       "    <tr><th>can</th><td>0.33</td><td>0.33</td><td>0.34</td></tr>\n",
       "    <tr><th>scrap metal</th><td>0.33</td><td>0.33</td><td>0.34</td></tr>\n",
       "    <tr><th>bottle</th><td>0.95</td><td>0.02</td><td>0.03</td></tr>\n",
       "  </tbody>\n",
       "</table>\n",
       "</div>"
      ],
      "text/plain": [
       "<gtbook.display.pretty at 0x11195ba90>"
      ]
     },
     "execution_count": 5,
     "metadata": {},
     "output_type": "execute_result"
    }
   ],
   "source": [
    "pDT = gtsam.DiscreteConditional(\n",
    "    Detection, [Category], \"2/88/10 2/20/78 33/33/34 33/33/34 95/2/3\")\n",
    "pretty(pDT)\n"
   ]
  },
  {
   "cell_type": "markdown",
   "metadata": {
    "id": "gp9Hi9knTJcS"
   },
   "source": [
    "As you can tell, this detector is pretty good at detecting cardboard.\n",
    "For example, \n",
    "we have $P(Detection = cardboard| Category = cardboard) = 0.88$. \n",
    "Incidentally, this means that our sensor still mis-classifies cardboard about 1 in 10 times, 12% to be exact, as $1-0.88 = .12$. Unfortunately, our \"vision sensor\" is not great when dealing with classes it does *not* know about, which is rather typical of this type of model. Hence, for a metal can, the sensor essentially outputs a class at random.\n"
   ]
  },
  {
   "cell_type": "markdown",
   "metadata": {
    "id": "2cuF7k7GMcVp"
   },
   "source": [
    "## Continuous Valued Sensors\n",
    "\n",
    "Next we discuss continuous-valued sensors, like a *scale*, which measures an object's weight.\n",
    "For our trash sorting system, it stands to reason that the weight of an object is a great indicator of what category it might belong to, but, how should we treat *continuous* measurements? \n",
    "We could use a very finely quantized histogram on some discretized weight scale, allowing us to use the `DiscreteConditional` machinery from above, but we can do much better by explicitly representing\n",
    "weight as a continuous quantity. \n",
    "In particular, we will not  represent the probability distribution as a PMF, but will instead use a **probability density function (pdf)**.\n",
    "\n",
    "We will have much more to say about continuous random variable's and pdf's later in the book, but for now we skip these details, and represent the conditional pdf for our weight sensor using the omnipresent \"Bell Curve.\"\n",
    "In particular, let us assume that we can fit a Gaussian curve to the data of a particular category. As a reminder, a Gaussian curve is defined as below:"
   ]
  },
  {
   "cell_type": "code",
   "execution_count": 6,
   "metadata": {
    "id": "ka3Bv2v0TJcS"
   },
   "outputs": [],
   "source": [
    "def Gaussian(x, mu=0.0, sigma=1.0):\n",
    "    return np.exp(-0.5*(x-mu)**2/sigma**2)/np.sqrt(2*np.pi*sigma**2)"
   ]
  },
  {
   "cell_type": "markdown",
   "metadata": {
    "id": "gnNSeLEvTJcS"
   },
   "source": [
    "We can easily plot this using plotly:"
   ]
  },
  {
   "cell_type": "code",
   "execution_count": 7,
   "metadata": {
    "id": "REzI-uFBTJcT"
   },
   "outputs": [
    {
     "data": {
      "image/png": "[encoded data removed]"
     },
     "metadata": {},
     "output_type": "display_data"
    }
   ],
   "source": [
    "#| caption: a Gaussian distribution with mean 250 and standard deviation 50.\n",
    "#| label: fig:gaussian\n",
    "X = np.arange(0, 500)\n",
    "px.line(x=X, y=Gaussian(X, mu=250, sigma=50))"
   ]
  },
  {
   "cell_type": "markdown",
   "metadata": {
    "id": "X14X0FzuTJcT"
   },
   "source": [
    "Note that for any given continuous value, the probability is zero: we can only use the Gaussian as a *density*, integrating over a small (or large) continuous interval to obtain the probability of the value landing within that interval.\n",
    "\n",
    "We denote a conditional **density** with a lowercase $p$ to indicate it is a density over a continuous quantity. The condition to the right of the bar is still a discrete category:\n",
    "\n",
    "$$p(Weight|Category)$$\n"
   ]
  },
  {
   "cell_type": "markdown",
   "metadata": {
    "id": "1A-T0y5aTJcT"
   },
   "source": [
    "Let us assume that we fit a Gaussian to the weight of a sample of objects from every one of our 5 categories. We can represent the resulting mean and standard deviation (specified in in grams) any way we want, e.g., using a numpy array as below:"
   ]
  },
  {
   "cell_type": "code",
   "execution_count": 8,
   "metadata": {
    "id": "INqcfA6lTJcT"
   },
   "outputs": [
    {
     "data": {
      "text/plain": [
       "array([[ 20,  10],\n",
       "       [  5,   5],\n",
       "       [ 15,   5],\n",
       "       [150, 100],\n",
       "       [300, 200]])"
      ]
     },
     "execution_count": 8,
     "metadata": {},
     "output_type": "execute_result"
    }
   ],
   "source": [
    "pWC = np.array([[20, 10], [5, 5], [15, 5], [150, 100], [300, 200]])\n",
    "pWC"
   ]
  },
  {
   "cell_type": "markdown",
   "metadata": {
    "id": "AY2aBq-wTJcT"
   },
   "source": [
    "You might not remember what the 5 categories were, so let's make a small interactive applet wherein we can change the category to see the resulting conditional density:"
   ]
  },
  {
   "cell_type": "code",
   "execution_count": 9,
   "metadata": {
    "id": "-JTfcy7bTJcT"
   },
   "outputs": [
    {
     "data": {
      "application/vnd.jupyter.widget-view+json": {
       "model_id": "11f81095f04648aea491dd78cecadcb0",
       "version_major": 2,
       "version_minor": 0
      },
      "text/plain": [
       "interactive(children=(Dropdown(description='Category', index=2, options=('cardboard', 'paper', 'can', 'scrap m…"
      ]
     },
     "metadata": {},
     "output_type": "display_data"
    }
   ],
   "source": [
    "#| caption: The conditional density of weight given category.\n",
    "#| label: fig:weight_density\n",
    "@interact(Category=categories)\n",
    "def plot_weight_density(Category=\"can\"):\n",
    "    index = categories.index(Category)\n",
    "    display(px.line(x=X, y=Gaussian(X, *pWC[index])))"
   ]
  },
  {
   "cell_type": "markdown",
   "metadata": {
    "id": "r7RbXHzOTJcT"
   },
   "source": [
    "## Simulation by Sampling\n",
    "\n",
    "> Simulation can be implemented by sampling from both state and measurement.\n",
    "\n",
    "We can sample from a conditional distribution $P(X|Y)$ by selecting the\n",
    "appropriate PMF, depending on the value of $Y$, and proceeding as before\n",
    "using a method known as **inverse transform sampling**.\n",
    "\n",
    "To simulate our trash example for a single discrete sensor, we  sample in two steps. We first sample from the category prior $C$ (Section 2.1), and then sample from the conditional probability distribution $P(S|C)$. Sampling from a conditional probability distribution works exactly the same way as sampling from the category prior - via the cumulative distribution function. Here we will not belabor the details again, but just use the sample method in GTSAM:\n"
   ]
  },
  {
   "cell_type": "code",
   "execution_count": 10,
   "metadata": {
    "id": "mlb9SUrATJcT"
   },
   "outputs": [
    {
     "data": {
      "text/html": [
       "<div>\n",
       "<p>  <i>P(Category):</i></p>\n",
       "<div>\n",
       "<table class='DecisionTreeFactor'>\n",
       "  <thead>\n",
       "    <tr><th>Category</th><th>value</th></tr>\n",
       "  </thead>\n",
       "  <tbody>\n",
       "    <tr><th>cardboard</th><td>0.2</td></tr>\n",
       "    <tr><th>paper</th><td>0.3</td></tr>\n",
       "    <tr><th>can</th><td>0.25</td></tr>\n",
       "    <tr><th>scrap metal</th><td>0.2</td></tr>\n",
       "    <tr><th>bottle</th><td>0.05</td></tr>\n",
       "  </tbody>\n",
       "</table>\n",
       "</div>"
      ],
      "text/plain": [
       "<gtbook.display.pretty at 0x15a195e50>"
      ]
     },
     "execution_count": 10,
     "metadata": {},
     "output_type": "execute_result"
    }
   ],
   "source": [
    "category_prior = gtsam.DiscreteDistribution(Category, \"200/300/250/200/50\")\n",
    "pretty(category_prior)"
   ]
  },
  {
   "cell_type": "code",
   "execution_count": 11,
   "metadata": {
    "colab": {
     "base_uri": "https://localhost:8080/"
    },
    "id": "N6mmk2VtTJcU",
    "latex_metadata": {
     "affiliation": "Georgia Institute of Technology",
     "author": "Frank Dellaert and Seth Hutchinson",
     "title": "Introduction to Robotics"
    },
    "outputId": "b6a3eb27-57ab-4133-f2e1-42633fa2c611"
   },
   "outputs": [
    {
     "name": "stdout",
     "output_type": "stream",
     "text": [
      "category=0\n",
      "conductivity = 0\n",
      "detection = 2\n"
     ]
    }
   ],
   "source": [
    "# sample from category\n",
    "category = category_prior.sample()\n",
    "print(f\"category={category}\")\n",
    "\n",
    "# then sample from the discrete sensors\n",
    "# TODO: single value\n",
    "values = gtsam.DiscreteValues()\n",
    "values[Category[0]] = category\n",
    "print(f\"conductivity = {pCT.sample(values)}\")\n",
    "print(f\"detection = {pDT.sample(values)}\")"
   ]
  },
  {
   "cell_type": "markdown",
   "metadata": {
    "id": "fsQPly7dTJcU"
   },
   "source": [
    "Sampling from a continuous probability distribution is slightly more involved. For now, we will merely use numpy to sample from the continuous density $p(S|C)$:"
   ]
  },
  {
   "cell_type": "code",
   "execution_count": 12,
   "metadata": {
    "id": "YlT34beVTJcU"
   },
   "outputs": [
    {
     "name": "stdout",
     "output_type": "stream",
     "text": [
      "weight = 13.367022785959453\n"
     ]
    }
   ],
   "source": [
    "# sample from Gaussian with `numpy.random.normal`\n",
    "print(f\"weight = {np.random.normal(*pWC[category])}\")"
   ]
  },
  {
   "cell_type": "markdown",
   "metadata": {
    "id": "1BkCebvMTJcU"
   },
   "source": [
    "## Simulating Multiple Sensors\n",
    "\n",
    "> To simulate multiple sensors, we sample from the state, and then from each sensor.\n",
    "The code to do this is as follows:"
   ]
  },
  {
   "cell_type": "code",
   "execution_count": 13,
   "metadata": {
    "id": "Jeaon-HvTJcU"
   },
   "outputs": [],
   "source": [
    "# Sample from state, then from all three sensors:\n",
    "def sample():\n",
    "    category = category_prior.sample()\n",
    "    values = gtsam.DiscreteValues()\n",
    "    values[Category[0]] = category\n",
    "    conductivity = pCT.sample(category)\n",
    "    detection = pDT.sample(category)\n",
    "    weight = np.random.normal(*pWC[category])\n",
    "    return category, conductivity, detection, weight"
   ]
  },
  {
   "cell_type": "code",
   "execution_count": 14,
   "metadata": {},
   "outputs": [
    {
     "name": "stdout",
     "output_type": "stream",
     "text": [
      "(1, 0, 1, 6.466999978013559)\n",
      "(2, 1, 1, 17.42165090112751)\n",
      "(2, 1, 2, 20.550087221787766)\n",
      "(1, 0, 2, 10.03143948161786)\n",
      "(1, 0, 2, 1.9731791993020624)\n",
      "(0, 0, 1, 36.01619858439088)\n",
      "(1, 0, 1, 14.843048905370305)\n",
      "(1, 0, 2, -1.279893559656321)\n",
      "(3, 1, 0, 185.0702110134971)\n",
      "(1, 0, 2, 9.225698046368052)\n"
     ]
    }
   ],
   "source": [
    "for _ in range(10):\n",
    "    print(sample())"
   ]
  },
  {
   "cell_type": "markdown",
   "metadata": {
    "id": "cC-4Y7OATJcU"
   },
   "source": [
    "## GTSAM 101\n",
    "\n",
    "> The GTSAM concepts used in this section, explained.\n",
    "\n",
    "### DiscreteConditional"
   ]
  },
  {
   "cell_type": "markdown",
   "metadata": {},
   "source": [
    "Above we created an instance of the `gtsam.DiscreteConditional` class. As with any GTSAM class, you can type\n",
    "\n",
    "```python\n",
    "help(gtsam.DiscreteConditional)\n",
    "```\n",
    "\n",
    "to get documentation on its constructors and methods. In particular, we called the constructor\n",
    "\n",
    "```python\n",
    " __init__(self: gtsam.DiscreteConditional, \n",
    "          key: Tuple[int, int], \n",
    "          parents: List[Tuple[int, int]], \n",
    "          spec: str) -> None\n",
    " ```\n",
    "\n",
    "which expects *three* arguments (besides `self`, which you can ignore):\n",
    "* `key`: A tuple (id, cardinality), saying which variable this conditional is on.\n",
    "* `parents`: A *list* of tuples, specifying the variables behind the bar.\n",
    "* `spec`: A string that specifies a CPT (remember: conditional probability table) which is given as a string of PMF specifications (numbers, separated by `/`), in turn separated by spaces. There should be as many PMFs as there are different assignments to the parents.\n",
    "\n",
    "We have not actually used this before, but let's look at an example where there are *two* parents:"
   ]
  },
  {
   "cell_type": "code",
   "execution_count": 15,
   "metadata": {},
   "outputs": [
    {
     "data": {
      "text/html": [
       "<div>\n",
       "<p>  <i>P(Category|Conductivity,Detection):</i></p>\n",
       "<table class='DiscreteConditional'>\n",
       "  <thead>\n",
       "    <tr><th><i>Conductivity</i></th><th><i>Detection</i></th><th>cardboard</th><th>paper</th><th>can</th><th>scrap metal</th><th>bottle</th></tr>\n",
       "  </thead>\n",
       "  <tbody>\n",
       "    <tr><th>false</th><th>bottle</th><td>0.6</td><td>0.1</td><td>0.1</td><td>0.1</td><td>0.1</td></tr>\n",
       "    <tr><th>false</th><th>cardboard</th><td>0.1</td><td>0.6</td><td>0.1</td><td>0.1</td><td>0.1</td></tr>\n",
       "    <tr><th>false</th><th>paper</th><td>0.1</td><td>0.1</td><td>0.6</td><td>0.1</td><td>0.1</td></tr>\n",
       "    <tr><th>true</th><th>bottle</th><td>0.1</td><td>0.1</td><td>0.1</td><td>0.6</td><td>0.1</td></tr>\n",
       "    <tr><th>true</th><th>cardboard</th><td>0.1</td><td>0.1</td><td>0.1</td><td>0.1</td><td>0.6</td></tr>\n",
       "    <tr><th>true</th><th>paper</th><td>0.3</td><td>0.1</td><td>0.2</td><td>0.1</td><td>0.3</td></tr>\n",
       "  </tbody>\n",
       "</table>\n",
       "</div>"
      ],
      "text/plain": [
       "<gtbook.display.pretty at 0x15a198a90>"
      ]
     },
     "execution_count": 15,
     "metadata": {},
     "output_type": "execute_result"
    }
   ],
   "source": [
    "conditional = gtsam.DiscreteConditional(Category, [Conductivity, Detection], \n",
    "    \"6/1/1/1/1 1/6/1/1/1 1/1/6/1/1 1/1/1/6/1 1/1/1/1/6 3/1/2/1/3\")\n",
    "pretty(conditional)"
   ]
  },
  {
   "cell_type": "markdown",
   "metadata": {},
   "source": [
    " As you can see above, we had to specify six PMF groups, because there are six combinations of conductivity and detection values. The PMF specifications are read in the order that you see in the table representation above. Since conductivity is mentioned first in the parent list, it varies the slowest. It is important to pay attention to disordering rent specifying conditional probability tables in this way."
   ]
  },
  {
   "cell_type": "markdown",
   "metadata": {
    "id": "W4Pb07V9TJcU"
   },
   "source": [
    "We saw in Section 2.1 that GSM represents probability mass functions as decision trees. It should come as no surprise that GTSAM also represents discrete *conditional* distributions in this way, i.e., as decision trees with more than one level. For example, for the binary conductivity sensor we have:"
   ]
  },
  {
   "cell_type": "code",
   "execution_count": 16,
   "metadata": {
    "id": "9sLpeLQiTJcU"
   },
   "outputs": [
    {
     "data": {
      "image/svg+xml": [
       "<?xml version=\"1.0\" encoding=\"UTF-8\" standalone=\"no\"?>\n",
       "<!DOCTYPE svg PUBLIC \"-//W3C//DTD SVG 1.1//EN\"\n",
       " \"http://www.w3.org/Graphics/SVG/1.1/DTD/svg11.dtd\">\n",
       "<!-- Generated by graphviz version 9.0.0 (0)\n",
       " -->\n",
       "<!-- Title: G Pages: 1 -->\n",
       "<svg width=\"710pt\" height=\"177pt\"\n",
       " viewBox=\"0.00 0.00 710.00 177.20\" xmlns=\"http://www.w3.org/2000/svg\" xmlns:xlink=\"http://www.w3.org/1999/xlink\">\n",
       "<g id=\"graph0\" class=\"graph\" transform=\"scale(1 1) rotate(0) translate(4 173.2)\">\n",
       "<title>G</title>\n",
       "<polygon fill=\"white\" stroke=\"none\" points=\"-4,4 -4,-173.2 706,-173.2 706,4 -4,4\"/>\n",
       "<!-- 0x1259f4a20 -->\n",
       "<g id=\"node1\" class=\"node\">\n",
       "<title>0x1259f4a20</title>\n",
       "<ellipse fill=\"none\" stroke=\"black\" cx=\"351\" cy=\"-151.2\" rx=\"18\" ry=\"18\"/>\n",
       "<text text-anchor=\"middle\" x=\"351\" y=\"-146.15\" font-family=\"Times,serif\" font-size=\"14.00\">2</text>\n",
       "</g>\n",
       "<!-- 0x12790b640 -->\n",
       "<g id=\"node2\" class=\"node\">\n",
       "<title>0x12790b640</title>\n",
       "<ellipse fill=\"none\" stroke=\"black\" cx=\"99\" cy=\"-79.2\" rx=\"18\" ry=\"18\"/>\n",
       "<text text-anchor=\"middle\" x=\"99\" y=\"-74.15\" font-family=\"Times,serif\" font-size=\"14.00\">0</text>\n",
       "</g>\n",
       "<!-- 0x1259f4a20&#45;&gt;0x12790b640 -->\n",
       "<g id=\"edge1\" class=\"edge\">\n",
       "<title>0x1259f4a20&#45;&gt;0x12790b640</title>\n",
       "<path fill=\"none\" stroke=\"black\" d=\"M333.68,-145.39C290.88,-133.5 179.81,-102.65 127.3,-88.06\"/>\n",
       "<polygon fill=\"black\" stroke=\"black\" points=\"128.47,-84.75 117.9,-85.45 126.6,-91.5 128.47,-84.75\"/>\n",
       "</g>\n",
       "<!-- 0x127910480 -->\n",
       "<g id=\"node5\" class=\"node\">\n",
       "<title>0x127910480</title>\n",
       "<ellipse fill=\"none\" stroke=\"black\" cx=\"243\" cy=\"-79.2\" rx=\"18\" ry=\"18\"/>\n",
       "<text text-anchor=\"middle\" x=\"243\" y=\"-74.15\" font-family=\"Times,serif\" font-size=\"14.00\">0</text>\n",
       "</g>\n",
       "<!-- 0x1259f4a20&#45;&gt;0x127910480 -->\n",
       "<g id=\"edge4\" class=\"edge\">\n",
       "<title>0x1259f4a20&#45;&gt;0x127910480</title>\n",
       "<path fill=\"none\" stroke=\"black\" d=\"M335.98,-140.47C318.25,-128.97 288.51,-109.7 267.44,-96.04\"/>\n",
       "<polygon fill=\"black\" stroke=\"black\" points=\"269.45,-93.18 259.16,-90.67 265.65,-99.05 269.45,-93.18\"/>\n",
       "</g>\n",
       "<!-- 0x12791b4e0 -->\n",
       "<g id=\"node8\" class=\"node\">\n",
       "<title>0x12791b4e0</title>\n",
       "<ellipse fill=\"none\" stroke=\"black\" cx=\"351\" cy=\"-79.2\" rx=\"18\" ry=\"18\"/>\n",
       "<text text-anchor=\"middle\" x=\"351\" y=\"-74.15\" font-family=\"Times,serif\" font-size=\"14.00\">0</text>\n",
       "</g>\n",
       "<!-- 0x1259f4a20&#45;&gt;0x12791b4e0 -->\n",
       "<g id=\"edge7\" class=\"edge\">\n",
       "<title>0x1259f4a20&#45;&gt;0x12791b4e0</title>\n",
       "<path fill=\"none\" stroke=\"black\" d=\"M351,-132.9C351,-125.61 351,-116.93 351,-108.74\"/>\n",
       "<polygon fill=\"black\" stroke=\"black\" points=\"354.5,-108.82 351,-98.82 347.5,-108.82 354.5,-108.82\"/>\n",
       "</g>\n",
       "<!-- 0x12790c920 -->\n",
       "<g id=\"node11\" class=\"node\">\n",
       "<title>0x12790c920</title>\n",
       "<ellipse fill=\"none\" stroke=\"black\" cx=\"459\" cy=\"-79.2\" rx=\"18\" ry=\"18\"/>\n",
       "<text text-anchor=\"middle\" x=\"459\" y=\"-74.15\" font-family=\"Times,serif\" font-size=\"14.00\">0</text>\n",
       "</g>\n",
       "<!-- 0x1259f4a20&#45;&gt;0x12790c920 -->\n",
       "<g id=\"edge10\" class=\"edge\">\n",
       "<title>0x1259f4a20&#45;&gt;0x12790c920</title>\n",
       "<path fill=\"none\" stroke=\"black\" d=\"M366.02,-140.47C383.75,-128.97 413.49,-109.7 434.56,-96.04\"/>\n",
       "<polygon fill=\"black\" stroke=\"black\" points=\"436.35,-99.05 442.84,-90.67 432.55,-93.18 436.35,-99.05\"/>\n",
       "</g>\n",
       "<!-- 0x12790c970 -->\n",
       "<g id=\"node14\" class=\"node\">\n",
       "<title>0x12790c970</title>\n",
       "<ellipse fill=\"none\" stroke=\"black\" cx=\"603\" cy=\"-79.2\" rx=\"18\" ry=\"18\"/>\n",
       "<text text-anchor=\"middle\" x=\"603\" y=\"-74.15\" font-family=\"Times,serif\" font-size=\"14.00\">0</text>\n",
       "</g>\n",
       "<!-- 0x1259f4a20&#45;&gt;0x12790c970 -->\n",
       "<g id=\"edge13\" class=\"edge\">\n",
       "<title>0x1259f4a20&#45;&gt;0x12790c970</title>\n",
       "<path fill=\"none\" stroke=\"black\" d=\"M368.32,-145.39C411.12,-133.5 522.19,-102.65 574.7,-88.06\"/>\n",
       "<polygon fill=\"black\" stroke=\"black\" points=\"575.4,-91.5 584.1,-85.45 573.53,-84.75 575.4,-91.5\"/>\n",
       "</g>\n",
       "<!-- 0x1259d1550 -->\n",
       "<g id=\"node3\" class=\"node\">\n",
       "<title>0x1259d1550</title>\n",
       "<polygon fill=\"none\" stroke=\"black\" points=\"54,-25.2 0,-25.2 0,0 54,0 54,-25.2\"/>\n",
       "<text text-anchor=\"middle\" x=\"27\" y=\"-7.55\" font-family=\"Times,serif\" font-size=\"14.00\">0.99</text>\n",
       "</g>\n",
       "<!-- 0x12790b640&#45;&gt;0x1259d1550 -->\n",
       "<g id=\"edge2\" class=\"edge\">\n",
       "<title>0x12790b640&#45;&gt;0x1259d1550</title>\n",
       "<path fill=\"none\" stroke=\"black\" stroke-dasharray=\"5,2\" d=\"M85.79,-66.35C75.34,-56.97 60.53,-43.68 48.39,-32.79\"/>\n",
       "<polygon fill=\"black\" stroke=\"black\" points=\"51.03,-30.46 41.25,-26.38 46.35,-35.67 51.03,-30.46\"/>\n",
       "</g>\n",
       "<!-- 0x1259f97c0 -->\n",
       "<g id=\"node4\" class=\"node\">\n",
       "<title>0x1259f97c0</title>\n",
       "<polygon fill=\"none\" stroke=\"black\" points=\"126,-25.2 72,-25.2 72,0 126,0 126,-25.2\"/>\n",
       "<text text-anchor=\"middle\" x=\"99\" y=\"-7.55\" font-family=\"Times,serif\" font-size=\"14.00\">0.01</text>\n",
       "</g>\n",
       "<!-- 0x12790b640&#45;&gt;0x1259f97c0 -->\n",
       "<g id=\"edge3\" class=\"edge\">\n",
       "<title>0x12790b640&#45;&gt;0x1259f97c0</title>\n",
       "<path fill=\"none\" stroke=\"black\" d=\"M99,-60.89C99,-53.53 99,-44.84 99,-36.93\"/>\n",
       "<polygon fill=\"black\" stroke=\"black\" points=\"102.5,-36.96 99,-26.96 95.5,-36.96 102.5,-36.96\"/>\n",
       "</g>\n",
       "<!-- 0x1259a3eb0 -->\n",
       "<g id=\"node6\" class=\"node\">\n",
       "<title>0x1259a3eb0</title>\n",
       "<polygon fill=\"none\" stroke=\"black\" points=\"198,-25.2 144,-25.2 144,0 198,0 198,-25.2\"/>\n",
       "<text text-anchor=\"middle\" x=\"171\" y=\"-7.55\" font-family=\"Times,serif\" font-size=\"14.00\">0.99</text>\n",
       "</g>\n",
       "<!-- 0x127910480&#45;&gt;0x1259a3eb0 -->\n",
       "<g id=\"edge5\" class=\"edge\">\n",
       "<title>0x127910480&#45;&gt;0x1259a3eb0</title>\n",
       "<path fill=\"none\" stroke=\"black\" stroke-dasharray=\"5,2\" d=\"M229.79,-66.35C219.34,-56.97 204.53,-43.68 192.39,-32.79\"/>\n",
       "<polygon fill=\"black\" stroke=\"black\" points=\"195.03,-30.46 185.25,-26.38 190.35,-35.67 195.03,-30.46\"/>\n",
       "</g>\n",
       "<!-- 0x1259e2b80 -->\n",
       "<g id=\"node7\" class=\"node\">\n",
       "<title>0x1259e2b80</title>\n",
       "<polygon fill=\"none\" stroke=\"black\" points=\"270,-25.2 216,-25.2 216,0 270,0 270,-25.2\"/>\n",
       "<text text-anchor=\"middle\" x=\"243\" y=\"-7.55\" font-family=\"Times,serif\" font-size=\"14.00\">0.01</text>\n",
       "</g>\n",
       "<!-- 0x127910480&#45;&gt;0x1259e2b80 -->\n",
       "<g id=\"edge6\" class=\"edge\">\n",
       "<title>0x127910480&#45;&gt;0x1259e2b80</title>\n",
       "<path fill=\"none\" stroke=\"black\" d=\"M243,-60.89C243,-53.53 243,-44.84 243,-36.93\"/>\n",
       "<polygon fill=\"black\" stroke=\"black\" points=\"246.5,-36.96 243,-26.96 239.5,-36.96 246.5,-36.96\"/>\n",
       "</g>\n",
       "<!-- 0x12599e290 -->\n",
       "<g id=\"node9\" class=\"node\">\n",
       "<title>0x12599e290</title>\n",
       "<polygon fill=\"none\" stroke=\"black\" points=\"342,-25.2 288,-25.2 288,0 342,0 342,-25.2\"/>\n",
       "<text text-anchor=\"middle\" x=\"315\" y=\"-7.55\" font-family=\"Times,serif\" font-size=\"14.00\"> 0.1</text>\n",
       "</g>\n",
       "<!-- 0x12791b4e0&#45;&gt;0x12599e290 -->\n",
       "<g id=\"edge8\" class=\"edge\">\n",
       "<title>0x12791b4e0&#45;&gt;0x12599e290</title>\n",
       "<path fill=\"none\" stroke=\"black\" stroke-dasharray=\"5,2\" d=\"M342.47,-62.89C337.87,-54.63 332.11,-44.3 327.05,-35.23\"/>\n",
       "<polygon fill=\"black\" stroke=\"black\" points=\"330.22,-33.72 322.29,-26.69 324.1,-37.13 330.22,-33.72\"/>\n",
       "</g>\n",
       "<!-- 0x1259db4b0 -->\n",
       "<g id=\"node10\" class=\"node\">\n",
       "<title>0x1259db4b0</title>\n",
       "<polygon fill=\"none\" stroke=\"black\" points=\"414,-25.2 360,-25.2 360,0 414,0 414,-25.2\"/>\n",
       "<text text-anchor=\"middle\" x=\"387\" y=\"-7.55\" font-family=\"Times,serif\" font-size=\"14.00\"> 0.9</text>\n",
       "</g>\n",
       "<!-- 0x12791b4e0&#45;&gt;0x1259db4b0 -->\n",
       "<g id=\"edge9\" class=\"edge\">\n",
       "<title>0x12791b4e0&#45;&gt;0x1259db4b0</title>\n",
       "<path fill=\"none\" stroke=\"black\" d=\"M359.53,-62.89C364.13,-54.63 369.89,-44.3 374.95,-35.23\"/>\n",
       "<polygon fill=\"black\" stroke=\"black\" points=\"377.9,-37.13 379.71,-26.69 371.78,-33.72 377.9,-37.13\"/>\n",
       "</g>\n",
       "<!-- 0x1259e1700 -->\n",
       "<g id=\"node12\" class=\"node\">\n",
       "<title>0x1259e1700</title>\n",
       "<polygon fill=\"none\" stroke=\"black\" points=\"486,-25.2 432,-25.2 432,0 486,0 486,-25.2\"/>\n",
       "<text text-anchor=\"middle\" x=\"459\" y=\"-7.55\" font-family=\"Times,serif\" font-size=\"14.00\">0.15</text>\n",
       "</g>\n",
       "<!-- 0x12790c920&#45;&gt;0x1259e1700 -->\n",
       "<g id=\"edge11\" class=\"edge\">\n",
       "<title>0x12790c920&#45;&gt;0x1259e1700</title>\n",
       "<path fill=\"none\" stroke=\"black\" stroke-dasharray=\"5,2\" d=\"M459,-60.89C459,-53.53 459,-44.84 459,-36.93\"/>\n",
       "<polygon fill=\"black\" stroke=\"black\" points=\"462.5,-36.96 459,-26.96 455.5,-36.96 462.5,-36.96\"/>\n",
       "</g>\n",
       "<!-- 0x1259c6c50 -->\n",
       "<g id=\"node13\" class=\"node\">\n",
       "<title>0x1259c6c50</title>\n",
       "<polygon fill=\"none\" stroke=\"black\" points=\"558,-25.2 504,-25.2 504,0 558,0 558,-25.2\"/>\n",
       "<text text-anchor=\"middle\" x=\"531\" y=\"-7.55\" font-family=\"Times,serif\" font-size=\"14.00\">0.85</text>\n",
       "</g>\n",
       "<!-- 0x12790c920&#45;&gt;0x1259c6c50 -->\n",
       "<g id=\"edge12\" class=\"edge\">\n",
       "<title>0x12790c920&#45;&gt;0x1259c6c50</title>\n",
       "<path fill=\"none\" stroke=\"black\" d=\"M472.21,-66.35C482.66,-56.97 497.47,-43.68 509.61,-32.79\"/>\n",
       "<polygon fill=\"black\" stroke=\"black\" points=\"511.65,-35.67 516.75,-26.38 506.97,-30.46 511.65,-35.67\"/>\n",
       "</g>\n",
       "<!-- 0x12790d580 -->\n",
       "<g id=\"node15\" class=\"node\">\n",
       "<title>0x12790d580</title>\n",
       "<polygon fill=\"none\" stroke=\"black\" points=\"630,-25.2 576,-25.2 576,0 630,0 630,-25.2\"/>\n",
       "<text text-anchor=\"middle\" x=\"603\" y=\"-7.55\" font-family=\"Times,serif\" font-size=\"14.00\">0.95</text>\n",
       "</g>\n",
       "<!-- 0x12790c970&#45;&gt;0x12790d580 -->\n",
       "<g id=\"edge14\" class=\"edge\">\n",
       "<title>0x12790c970&#45;&gt;0x12790d580</title>\n",
       "<path fill=\"none\" stroke=\"black\" stroke-dasharray=\"5,2\" d=\"M603,-60.89C603,-53.53 603,-44.84 603,-36.93\"/>\n",
       "<polygon fill=\"black\" stroke=\"black\" points=\"606.5,-36.96 603,-26.96 599.5,-36.96 606.5,-36.96\"/>\n",
       "</g>\n",
       "<!-- 0x1259c48d0 -->\n",
       "<g id=\"node16\" class=\"node\">\n",
       "<title>0x1259c48d0</title>\n",
       "<polygon fill=\"none\" stroke=\"black\" points=\"702,-25.2 648,-25.2 648,0 702,0 702,-25.2\"/>\n",
       "<text text-anchor=\"middle\" x=\"675\" y=\"-7.55\" font-family=\"Times,serif\" font-size=\"14.00\">0.05</text>\n",
       "</g>\n",
       "<!-- 0x12790c970&#45;&gt;0x1259c48d0 -->\n",
       "<g id=\"edge15\" class=\"edge\">\n",
       "<title>0x12790c970&#45;&gt;0x1259c48d0</title>\n",
       "<path fill=\"none\" stroke=\"black\" d=\"M616.21,-66.35C626.66,-56.97 641.47,-43.68 653.61,-32.79\"/>\n",
       "<polygon fill=\"black\" stroke=\"black\" points=\"655.65,-35.67 660.75,-26.38 650.97,-30.46 655.65,-35.67\"/>\n",
       "</g>\n",
       "</g>\n",
       "</svg>\n"
      ],
      "text/plain": [
       "<gtbook.display.show at 0x15864ef10>"
      ]
     },
     "execution_count": 16,
     "metadata": {},
     "output_type": "execute_result"
    }
   ],
   "source": [
    "#| caption: Decision tree for the conditional distribution P(C|T).\n",
    "#| label: fig:decision_tree\n",
    "show(pCT)"
   ]
  },
  {
   "cell_type": "markdown",
   "metadata": {
    "id": "tjA0EMg1TJcU"
   },
   "source": [
    "Now each PMF on the conductivity, given the category, corresponds to a small \"decision stump\" at the lower level of the tree, where the two leaf probabilities always add up to 1.0.\n",
    "\n",
    "For the three-valued sensor, we get the following decision tree:\n"
   ]
  },
  {
   "cell_type": "code",
   "execution_count": 17,
   "metadata": {
    "id": "co8LvwqaTJcU"
   },
   "outputs": [
    {
     "data": {
      "image/svg+xml": [
       "<?xml version=\"1.0\" encoding=\"UTF-8\" standalone=\"no\"?>\n",
       "<!DOCTYPE svg PUBLIC \"-//W3C//DTD SVG 1.1//EN\"\n",
       " \"http://www.w3.org/Graphics/SVG/1.1/DTD/svg11.dtd\">\n",
       "<!-- Generated by graphviz version 9.0.0 (0)\n",
       " -->\n",
       "<!-- Title: G Pages: 1 -->\n",
       "<svg width=\"1070pt\" height=\"177pt\"\n",
       " viewBox=\"0.00 0.00 1070.00 177.20\" xmlns=\"http://www.w3.org/2000/svg\" xmlns:xlink=\"http://www.w3.org/1999/xlink\">\n",
       "<g id=\"graph0\" class=\"graph\" transform=\"scale(1 1) rotate(0) translate(4 173.2)\">\n",
       "<title>G</title>\n",
       "<polygon fill=\"white\" stroke=\"none\" points=\"-4,4 -4,-173.2 1066,-173.2 1066,4 -4,4\"/>\n",
       "<!-- 0x112a8cfd0 -->\n",
       "<g id=\"node1\" class=\"node\">\n",
       "<title>0x112a8cfd0</title>\n",
       "<ellipse fill=\"none\" stroke=\"black\" cx=\"531\" cy=\"-151.2\" rx=\"18\" ry=\"18\"/>\n",
       "<text text-anchor=\"middle\" x=\"531\" y=\"-146.15\" font-family=\"Times,serif\" font-size=\"14.00\">2</text>\n",
       "</g>\n",
       "<!-- 0x112a8aa30 -->\n",
       "<g id=\"node2\" class=\"node\">\n",
       "<title>0x112a8aa30</title>\n",
       "<ellipse fill=\"none\" stroke=\"black\" cx=\"135\" cy=\"-79.2\" rx=\"18\" ry=\"18\"/>\n",
       "<text text-anchor=\"middle\" x=\"135\" y=\"-74.15\" font-family=\"Times,serif\" font-size=\"14.00\">1</text>\n",
       "</g>\n",
       "<!-- 0x112a8cfd0&#45;&gt;0x112a8aa30 -->\n",
       "<g id=\"edge1\" class=\"edge\">\n",
       "<title>0x112a8cfd0&#45;&gt;0x112a8aa30</title>\n",
       "<path fill=\"none\" stroke=\"black\" d=\"M513.22,-147.06C450.79,-136.02 241.26,-98.98 163.96,-85.32\"/>\n",
       "<polygon fill=\"black\" stroke=\"black\" points=\"164.68,-81.89 154.23,-83.6 163.46,-88.79 164.68,-81.89\"/>\n",
       "</g>\n",
       "<!-- 0x112a98d70 -->\n",
       "<g id=\"node6\" class=\"node\">\n",
       "<title>0x112a98d70</title>\n",
       "<ellipse fill=\"none\" stroke=\"black\" cx=\"351\" cy=\"-79.2\" rx=\"18\" ry=\"18\"/>\n",
       "<text text-anchor=\"middle\" x=\"351\" y=\"-74.15\" font-family=\"Times,serif\" font-size=\"14.00\">1</text>\n",
       "</g>\n",
       "<!-- 0x112a8cfd0&#45;&gt;0x112a98d70 -->\n",
       "<g id=\"edge5\" class=\"edge\">\n",
       "<title>0x112a8cfd0&#45;&gt;0x112a98d70</title>\n",
       "<path fill=\"none\" stroke=\"black\" d=\"M514.39,-143.74C483.26,-131.63 415.88,-105.43 378.09,-90.74\"/>\n",
       "<polygon fill=\"black\" stroke=\"black\" points=\"379.83,-87.66 369.24,-87.29 377.29,-94.18 379.83,-87.66\"/>\n",
       "</g>\n",
       "<!-- 0x112a86010 -->\n",
       "<g id=\"node10\" class=\"node\">\n",
       "<title>0x112a86010</title>\n",
       "<ellipse fill=\"none\" stroke=\"black\" cx=\"531\" cy=\"-79.2\" rx=\"18\" ry=\"18\"/>\n",
       "<text text-anchor=\"middle\" x=\"531\" y=\"-74.15\" font-family=\"Times,serif\" font-size=\"14.00\">1</text>\n",
       "</g>\n",
       "<!-- 0x112a8cfd0&#45;&gt;0x112a86010 -->\n",
       "<g id=\"edge9\" class=\"edge\">\n",
       "<title>0x112a8cfd0&#45;&gt;0x112a86010</title>\n",
       "<path fill=\"none\" stroke=\"black\" d=\"M531,-132.9C531,-125.61 531,-116.93 531,-108.74\"/>\n",
       "<polygon fill=\"black\" stroke=\"black\" points=\"534.5,-108.82 531,-98.82 527.5,-108.82 534.5,-108.82\"/>\n",
       "</g>\n",
       "<!-- 0x112aaf480 -->\n",
       "<g id=\"node14\" class=\"node\">\n",
       "<title>0x112aaf480</title>\n",
       "<ellipse fill=\"none\" stroke=\"black\" cx=\"711\" cy=\"-79.2\" rx=\"18\" ry=\"18\"/>\n",
       "<text text-anchor=\"middle\" x=\"711\" y=\"-74.15\" font-family=\"Times,serif\" font-size=\"14.00\">1</text>\n",
       "</g>\n",
       "<!-- 0x112a8cfd0&#45;&gt;0x112aaf480 -->\n",
       "<g id=\"edge13\" class=\"edge\">\n",
       "<title>0x112a8cfd0&#45;&gt;0x112aaf480</title>\n",
       "<path fill=\"none\" stroke=\"black\" d=\"M547.61,-143.74C578.74,-131.63 646.12,-105.43 683.91,-90.74\"/>\n",
       "<polygon fill=\"black\" stroke=\"black\" points=\"684.71,-94.18 692.76,-87.29 682.17,-87.66 684.71,-94.18\"/>\n",
       "</g>\n",
       "<!-- 0x112acc630 -->\n",
       "<g id=\"node18\" class=\"node\">\n",
       "<title>0x112acc630</title>\n",
       "<ellipse fill=\"none\" stroke=\"black\" cx=\"927\" cy=\"-79.2\" rx=\"18\" ry=\"18\"/>\n",
       "<text text-anchor=\"middle\" x=\"927\" y=\"-74.15\" font-family=\"Times,serif\" font-size=\"14.00\">1</text>\n",
       "</g>\n",
       "<!-- 0x112a8cfd0&#45;&gt;0x112acc630 -->\n",
       "<g id=\"edge17\" class=\"edge\">\n",
       "<title>0x112a8cfd0&#45;&gt;0x112acc630</title>\n",
       "<path fill=\"none\" stroke=\"black\" d=\"M548.78,-147.06C611.21,-136.02 820.74,-98.98 898.04,-85.32\"/>\n",
       "<polygon fill=\"black\" stroke=\"black\" points=\"898.54,-88.79 907.77,-83.6 897.32,-81.89 898.54,-88.79\"/>\n",
       "</g>\n",
       "<!-- 0x112a51950 -->\n",
       "<g id=\"node3\" class=\"node\">\n",
       "<title>0x112a51950</title>\n",
       "<polygon fill=\"none\" stroke=\"black\" points=\"54,-25.2 0,-25.2 0,0 54,0 54,-25.2\"/>\n",
       "<text text-anchor=\"middle\" x=\"27\" y=\"-7.55\" font-family=\"Times,serif\" font-size=\"14.00\">0.02</text>\n",
       "</g>\n",
       "<!-- 0x112a8aa30&#45;&gt;0x112a51950 -->\n",
       "<g id=\"edge2\" class=\"edge\">\n",
       "<title>0x112a8aa30&#45;&gt;0x112a51950</title>\n",
       "<path fill=\"none\" stroke=\"black\" d=\"M119.98,-69.22C103.72,-59.49 77.36,-43.72 56.85,-31.45\"/>\n",
       "<polygon fill=\"black\" stroke=\"black\" points=\"58.71,-28.49 48.33,-26.36 55.11,-34.49 58.71,-28.49\"/>\n",
       "</g>\n",
       "<!-- 0x125f9c2b0 -->\n",
       "<g id=\"node4\" class=\"node\">\n",
       "<title>0x125f9c2b0</title>\n",
       "<polygon fill=\"none\" stroke=\"black\" points=\"126,-25.2 72,-25.2 72,0 126,0 126,-25.2\"/>\n",
       "<text text-anchor=\"middle\" x=\"99\" y=\"-7.55\" font-family=\"Times,serif\" font-size=\"14.00\">0.88</text>\n",
       "</g>\n",
       "<!-- 0x112a8aa30&#45;&gt;0x125f9c2b0 -->\n",
       "<g id=\"edge3\" class=\"edge\">\n",
       "<title>0x112a8aa30&#45;&gt;0x125f9c2b0</title>\n",
       "<path fill=\"none\" stroke=\"black\" d=\"M126.47,-62.89C121.87,-54.63 116.11,-44.3 111.05,-35.23\"/>\n",
       "<polygon fill=\"black\" stroke=\"black\" points=\"114.22,-33.72 106.29,-26.69 108.1,-37.13 114.22,-33.72\"/>\n",
       "</g>\n",
       "<!-- 0x125f870b0 -->\n",
       "<g id=\"node5\" class=\"node\">\n",
       "<title>0x125f870b0</title>\n",
       "<polygon fill=\"none\" stroke=\"black\" points=\"198,-25.2 144,-25.2 144,0 198,0 198,-25.2\"/>\n",
       "<text text-anchor=\"middle\" x=\"171\" y=\"-7.55\" font-family=\"Times,serif\" font-size=\"14.00\"> 0.1</text>\n",
       "</g>\n",
       "<!-- 0x112a8aa30&#45;&gt;0x125f870b0 -->\n",
       "<g id=\"edge4\" class=\"edge\">\n",
       "<title>0x112a8aa30&#45;&gt;0x125f870b0</title>\n",
       "<path fill=\"none\" stroke=\"black\" d=\"M143.53,-62.89C148.13,-54.63 153.89,-44.3 158.95,-35.23\"/>\n",
       "<polygon fill=\"black\" stroke=\"black\" points=\"161.9,-37.13 163.71,-26.69 155.78,-33.72 161.9,-37.13\"/>\n",
       "</g>\n",
       "<!-- 0x112a80370 -->\n",
       "<g id=\"node7\" class=\"node\">\n",
       "<title>0x112a80370</title>\n",
       "<polygon fill=\"none\" stroke=\"black\" points=\"270,-25.2 216,-25.2 216,0 270,0 270,-25.2\"/>\n",
       "<text text-anchor=\"middle\" x=\"243\" y=\"-7.55\" font-family=\"Times,serif\" font-size=\"14.00\">0.02</text>\n",
       "</g>\n",
       "<!-- 0x112a98d70&#45;&gt;0x112a80370 -->\n",
       "<g id=\"edge6\" class=\"edge\">\n",
       "<title>0x112a98d70&#45;&gt;0x112a80370</title>\n",
       "<path fill=\"none\" stroke=\"black\" d=\"M335.98,-69.22C319.72,-59.49 293.36,-43.72 272.85,-31.45\"/>\n",
       "<polygon fill=\"black\" stroke=\"black\" points=\"274.71,-28.49 264.33,-26.36 271.11,-34.49 274.71,-28.49\"/>\n",
       "</g>\n",
       "<!-- 0x125f84da0 -->\n",
       "<g id=\"node8\" class=\"node\">\n",
       "<title>0x125f84da0</title>\n",
       "<polygon fill=\"none\" stroke=\"black\" points=\"342,-25.2 288,-25.2 288,0 342,0 342,-25.2\"/>\n",
       "<text text-anchor=\"middle\" x=\"315\" y=\"-7.55\" font-family=\"Times,serif\" font-size=\"14.00\"> 0.2</text>\n",
       "</g>\n",
       "<!-- 0x112a98d70&#45;&gt;0x125f84da0 -->\n",
       "<g id=\"edge7\" class=\"edge\">\n",
       "<title>0x112a98d70&#45;&gt;0x125f84da0</title>\n",
       "<path fill=\"none\" stroke=\"black\" d=\"M342.47,-62.89C337.87,-54.63 332.11,-44.3 327.05,-35.23\"/>\n",
       "<polygon fill=\"black\" stroke=\"black\" points=\"330.22,-33.72 322.29,-26.69 324.1,-37.13 330.22,-33.72\"/>\n",
       "</g>\n",
       "<!-- 0x125f8f340 -->\n",
       "<g id=\"node9\" class=\"node\">\n",
       "<title>0x125f8f340</title>\n",
       "<polygon fill=\"none\" stroke=\"black\" points=\"414,-25.2 360,-25.2 360,0 414,0 414,-25.2\"/>\n",
       "<text text-anchor=\"middle\" x=\"387\" y=\"-7.55\" font-family=\"Times,serif\" font-size=\"14.00\">0.78</text>\n",
       "</g>\n",
       "<!-- 0x112a98d70&#45;&gt;0x125f8f340 -->\n",
       "<g id=\"edge8\" class=\"edge\">\n",
       "<title>0x112a98d70&#45;&gt;0x125f8f340</title>\n",
       "<path fill=\"none\" stroke=\"black\" d=\"M359.53,-62.89C364.13,-54.63 369.89,-44.3 374.95,-35.23\"/>\n",
       "<polygon fill=\"black\" stroke=\"black\" points=\"377.9,-37.13 379.71,-26.69 371.78,-33.72 377.9,-37.13\"/>\n",
       "</g>\n",
       "<!-- 0x125fb0990 -->\n",
       "<g id=\"node11\" class=\"node\">\n",
       "<title>0x125fb0990</title>\n",
       "<polygon fill=\"none\" stroke=\"black\" points=\"486,-25.2 432,-25.2 432,0 486,0 486,-25.2\"/>\n",
       "<text text-anchor=\"middle\" x=\"459\" y=\"-7.55\" font-family=\"Times,serif\" font-size=\"14.00\">0.33</text>\n",
       "</g>\n",
       "<!-- 0x112a86010&#45;&gt;0x125fb0990 -->\n",
       "<g id=\"edge10\" class=\"edge\">\n",
       "<title>0x112a86010&#45;&gt;0x125fb0990</title>\n",
       "<path fill=\"none\" stroke=\"black\" d=\"M517.79,-66.35C507.34,-56.97 492.53,-43.68 480.39,-32.79\"/>\n",
       "<polygon fill=\"black\" stroke=\"black\" points=\"483.03,-30.46 473.25,-26.38 478.35,-35.67 483.03,-30.46\"/>\n",
       "</g>\n",
       "<!-- 0x125fbcda0 -->\n",
       "<g id=\"node12\" class=\"node\">\n",
       "<title>0x125fbcda0</title>\n",
       "<polygon fill=\"none\" stroke=\"black\" points=\"558,-25.2 504,-25.2 504,0 558,0 558,-25.2\"/>\n",
       "<text text-anchor=\"middle\" x=\"531\" y=\"-7.55\" font-family=\"Times,serif\" font-size=\"14.00\">0.33</text>\n",
       "</g>\n",
       "<!-- 0x112a86010&#45;&gt;0x125fbcda0 -->\n",
       "<g id=\"edge11\" class=\"edge\">\n",
       "<title>0x112a86010&#45;&gt;0x125fbcda0</title>\n",
       "<path fill=\"none\" stroke=\"black\" d=\"M531,-60.89C531,-53.53 531,-44.84 531,-36.93\"/>\n",
       "<polygon fill=\"black\" stroke=\"black\" points=\"534.5,-36.96 531,-26.96 527.5,-36.96 534.5,-36.96\"/>\n",
       "</g>\n",
       "<!-- 0x125fa77d0 -->\n",
       "<g id=\"node13\" class=\"node\">\n",
       "<title>0x125fa77d0</title>\n",
       "<polygon fill=\"none\" stroke=\"black\" points=\"630,-25.2 576,-25.2 576,0 630,0 630,-25.2\"/>\n",
       "<text text-anchor=\"middle\" x=\"603\" y=\"-7.55\" font-family=\"Times,serif\" font-size=\"14.00\">0.34</text>\n",
       "</g>\n",
       "<!-- 0x112a86010&#45;&gt;0x125fa77d0 -->\n",
       "<g id=\"edge12\" class=\"edge\">\n",
       "<title>0x112a86010&#45;&gt;0x125fa77d0</title>\n",
       "<path fill=\"none\" stroke=\"black\" d=\"M544.21,-66.35C554.66,-56.97 569.47,-43.68 581.61,-32.79\"/>\n",
       "<polygon fill=\"black\" stroke=\"black\" points=\"583.65,-35.67 588.75,-26.38 578.97,-30.46 583.65,-35.67\"/>\n",
       "</g>\n",
       "<!-- 0x125f3d450 -->\n",
       "<g id=\"node15\" class=\"node\">\n",
       "<title>0x125f3d450</title>\n",
       "<polygon fill=\"none\" stroke=\"black\" points=\"702,-25.2 648,-25.2 648,0 702,0 702,-25.2\"/>\n",
       "<text text-anchor=\"middle\" x=\"675\" y=\"-7.55\" font-family=\"Times,serif\" font-size=\"14.00\">0.33</text>\n",
       "</g>\n",
       "<!-- 0x112aaf480&#45;&gt;0x125f3d450 -->\n",
       "<g id=\"edge14\" class=\"edge\">\n",
       "<title>0x112aaf480&#45;&gt;0x125f3d450</title>\n",
       "<path fill=\"none\" stroke=\"black\" d=\"M702.47,-62.89C697.87,-54.63 692.11,-44.3 687.05,-35.23\"/>\n",
       "<polygon fill=\"black\" stroke=\"black\" points=\"690.22,-33.72 682.29,-26.69 684.1,-37.13 690.22,-33.72\"/>\n",
       "</g>\n",
       "<!-- 0x125f4ee30 -->\n",
       "<g id=\"node16\" class=\"node\">\n",
       "<title>0x125f4ee30</title>\n",
       "<polygon fill=\"none\" stroke=\"black\" points=\"774,-25.2 720,-25.2 720,0 774,0 774,-25.2\"/>\n",
       "<text text-anchor=\"middle\" x=\"747\" y=\"-7.55\" font-family=\"Times,serif\" font-size=\"14.00\">0.33</text>\n",
       "</g>\n",
       "<!-- 0x112aaf480&#45;&gt;0x125f4ee30 -->\n",
       "<g id=\"edge15\" class=\"edge\">\n",
       "<title>0x112aaf480&#45;&gt;0x125f4ee30</title>\n",
       "<path fill=\"none\" stroke=\"black\" d=\"M719.53,-62.89C724.13,-54.63 729.89,-44.3 734.95,-35.23\"/>\n",
       "<polygon fill=\"black\" stroke=\"black\" points=\"737.9,-37.13 739.71,-26.69 731.78,-33.72 737.9,-37.13\"/>\n",
       "</g>\n",
       "<!-- 0x125f5d7d0 -->\n",
       "<g id=\"node17\" class=\"node\">\n",
       "<title>0x125f5d7d0</title>\n",
       "<polygon fill=\"none\" stroke=\"black\" points=\"846,-25.2 792,-25.2 792,0 846,0 846,-25.2\"/>\n",
       "<text text-anchor=\"middle\" x=\"819\" y=\"-7.55\" font-family=\"Times,serif\" font-size=\"14.00\">0.34</text>\n",
       "</g>\n",
       "<!-- 0x112aaf480&#45;&gt;0x125f5d7d0 -->\n",
       "<g id=\"edge16\" class=\"edge\">\n",
       "<title>0x112aaf480&#45;&gt;0x125f5d7d0</title>\n",
       "<path fill=\"none\" stroke=\"black\" d=\"M726.02,-69.22C742.28,-59.49 768.64,-43.72 789.15,-31.45\"/>\n",
       "<polygon fill=\"black\" stroke=\"black\" points=\"790.89,-34.49 797.67,-26.36 787.29,-28.49 790.89,-34.49\"/>\n",
       "</g>\n",
       "<!-- 0x125fc2610 -->\n",
       "<g id=\"node19\" class=\"node\">\n",
       "<title>0x125fc2610</title>\n",
       "<polygon fill=\"none\" stroke=\"black\" points=\"918,-25.2 864,-25.2 864,0 918,0 918,-25.2\"/>\n",
       "<text text-anchor=\"middle\" x=\"891\" y=\"-7.55\" font-family=\"Times,serif\" font-size=\"14.00\">0.95</text>\n",
       "</g>\n",
       "<!-- 0x112acc630&#45;&gt;0x125fc2610 -->\n",
       "<g id=\"edge18\" class=\"edge\">\n",
       "<title>0x112acc630&#45;&gt;0x125fc2610</title>\n",
       "<path fill=\"none\" stroke=\"black\" d=\"M918.47,-62.89C913.87,-54.63 908.11,-44.3 903.05,-35.23\"/>\n",
       "<polygon fill=\"black\" stroke=\"black\" points=\"906.22,-33.72 898.29,-26.69 900.1,-37.13 906.22,-33.72\"/>\n",
       "</g>\n",
       "<!-- 0x125f31b50 -->\n",
       "<g id=\"node20\" class=\"node\">\n",
       "<title>0x125f31b50</title>\n",
       "<polygon fill=\"none\" stroke=\"black\" points=\"990,-25.2 936,-25.2 936,0 990,0 990,-25.2\"/>\n",
       "<text text-anchor=\"middle\" x=\"963\" y=\"-7.55\" font-family=\"Times,serif\" font-size=\"14.00\">0.02</text>\n",
       "</g>\n",
       "<!-- 0x112acc630&#45;&gt;0x125f31b50 -->\n",
       "<g id=\"edge19\" class=\"edge\">\n",
       "<title>0x112acc630&#45;&gt;0x125f31b50</title>\n",
       "<path fill=\"none\" stroke=\"black\" d=\"M935.53,-62.89C940.13,-54.63 945.89,-44.3 950.95,-35.23\"/>\n",
       "<polygon fill=\"black\" stroke=\"black\" points=\"953.9,-37.13 955.71,-26.69 947.78,-33.72 953.9,-37.13\"/>\n",
       "</g>\n",
       "<!-- 0x125f8f8d0 -->\n",
       "<g id=\"node21\" class=\"node\">\n",
       "<title>0x125f8f8d0</title>\n",
       "<polygon fill=\"none\" stroke=\"black\" points=\"1062,-25.2 1008,-25.2 1008,0 1062,0 1062,-25.2\"/>\n",
       "<text text-anchor=\"middle\" x=\"1035\" y=\"-7.55\" font-family=\"Times,serif\" font-size=\"14.00\">0.03</text>\n",
       "</g>\n",
       "<!-- 0x112acc630&#45;&gt;0x125f8f8d0 -->\n",
       "<g id=\"edge20\" class=\"edge\">\n",
       "<title>0x112acc630&#45;&gt;0x125f8f8d0</title>\n",
       "<path fill=\"none\" stroke=\"black\" d=\"M942.02,-69.22C958.28,-59.49 984.64,-43.72 1005.15,-31.45\"/>\n",
       "<polygon fill=\"black\" stroke=\"black\" points=\"1006.89,-34.49 1013.67,-26.36 1003.29,-28.49 1006.89,-34.49\"/>\n",
       "</g>\n",
       "</g>\n",
       "</svg>\n"
      ],
      "text/plain": [
       "<gtbook.display.show at 0x15a198610>"
      ]
     },
     "execution_count": 17,
     "metadata": {},
     "output_type": "execute_result"
    }
   ],
   "source": [
    "#| caption: Decision tree for the conditional distribution P(D|T).\n",
    "#| label: fig:decision_tree_3\n",
    "show(pDT)"
   ]
  },
  {
   "cell_type": "markdown",
   "metadata": {
    "id": "WtqUt66VTJcU"
   },
   "source": [
    "Again, the decision between the 3 detections is made probabilistically at the stump level, but note a peculiar property of this sensor: for categories `can` and `scrap metal` (category indices 2 and 3, respectively) the probability is exactly $1/3$, *regardless* of the detection, so the stump is simply omitted."
   ]
  },
  {
   "cell_type": "markdown",
   "metadata": {},
   "source": [
    "### DiscreteValues\n",
    "\n",
    "Above we also used the `DiscreteConditional.sample` method, which takes a single argument of type `gtsam.DiscreteValues`, specifying the actual values for the conditioning variables. Internally, this is implemented simply as a mapping from variable IDs (like `Category`) to values, represented as integers. \n",
    "\n",
    "We can create a `gtsam.DiscreteValues` instance by calling its default constructor, after which it behaves just like a Python dictionary:"
   ]
  },
  {
   "cell_type": "code",
   "execution_count": 21,
   "metadata": {},
   "outputs": [
    {
     "data": {
      "text/html": [
       "<div>\n",
       "<table class='DiscreteValues'>\n",
       "  <thead>\n",
       "    <tr><th>Variable</th><th>value</th></tr>\n",
       "  </thead>\n",
       "  <tbody>\n",
       "  </tbody>\n",
       "</table>\n",
       "</div>"
      ],
      "text/plain": [
       "<gtbook.display.pretty at 0x15a1d3be0>"
      ]
     },
     "execution_count": 21,
     "metadata": {},
     "output_type": "execute_result"
    }
   ],
   "source": [
    "values = gtsam.DiscreteValues()\n",
    "pretty(values)"
   ]
  },
  {
   "cell_type": "markdown",
   "metadata": {},
   "source": [
    "The key of the dictionary refers to the variable we want to assign a value to. It is an integer, if we want to assign a value to `Category`, which integer key should we use? We did this with the Variables object:"
   ]
  },
  {
   "cell_type": "code",
   "execution_count": 23,
   "metadata": {},
   "outputs": [
    {
     "data": {
      "text/html": [
       "<div>\n",
       "<table class='Variables'>\n",
       "  <thead>\n",
       "    <tr><th>Variable</th><th>Domain</th></tr>\n",
       "  </thead>\n",
       "  <tbody>\n",
       "    <tr><th>Conductivity</th><td>false, true</td></tr>\n",
       "    <tr><th>Detection</th><td>bottle, cardboard, paper</td></tr>\n",
       "    <tr><th>Category</th><td>cardboard, paper, can, scrap metal, bottle</td></tr>\n",
       "  </tbody>\n",
       "</table>\n",
       "</div>"
      ],
      "text/plain": [
       "<gtbook.discrete.Variables at 0x11195f370>"
      ]
     },
     "execution_count": 23,
     "metadata": {},
     "output_type": "execute_result"
    }
   ],
   "source": [
    "VARIABLES"
   ]
  },
  {
   "cell_type": "markdown",
   "metadata": {},
   "source": [
    "The indices for the variables above are 0,1, and 2 respectively. So, we can just assign a value to the `Conductivity` variable using the index 0:"
   ]
  },
  {
   "cell_type": "code",
   "execution_count": 25,
   "metadata": {},
   "outputs": [
    {
     "data": {
      "text/html": [
       "<div>\n",
       "<table class='DiscreteValues'>\n",
       "  <thead>\n",
       "    <tr><th>Variable</th><th>value</th></tr>\n",
       "  </thead>\n",
       "  <tbody>\n",
       "    <tr><th>Conductivity</th><td>true</td></tr>\n",
       "  </tbody>\n",
       "</table>\n",
       "</div>"
      ],
      "text/plain": [
       "<gtbook.display.pretty at 0x15a486e20>"
      ]
     },
     "execution_count": 25,
     "metadata": {},
     "output_type": "execute_result"
    }
   ],
   "source": [
    "values[0] = 1\n",
    "pretty(values)"
   ]
  },
  {
   "cell_type": "markdown",
   "metadata": {},
   "source": [
    "Of course, we can also use the fact that the `Variables.discrete` method returns both the index and cardinality for the created variable, so that's a bit more readable:"
   ]
  },
  {
   "cell_type": "code",
   "execution_count": 46,
   "metadata": {},
   "outputs": [
    {
     "data": {
      "text/html": [
       "<div>\n",
       "<table class='DiscreteValues'>\n",
       "  <thead>\n",
       "    <tr><th>Variable</th><th>value</th></tr>\n",
       "  </thead>\n",
       "  <tbody>\n",
       "    <tr><th>Category</th><td>scrap metal</td></tr>\n",
       "  </tbody>\n",
       "</table>\n",
       "</div>"
      ],
      "text/plain": [
       "<gtbook.display.pretty at 0x15a47d5e0>"
      ]
     },
     "execution_count": 46,
     "metadata": {},
     "output_type": "execute_result"
    }
   ],
   "source": [
    "id, cardinality = Category\n",
    "values[id] = categories.index(\"scrap metal\")\n",
    "pretty(values)"
   ]
  },
  {
   "cell_type": "markdown",
   "metadata": {},
   "source": [
    "Note that we can pretty-print it, which is nice. After creation, we can query it, again using the id:"
   ]
  },
  {
   "cell_type": "code",
   "execution_count": 47,
   "metadata": {},
   "outputs": [
    {
     "name": "stdout",
     "output_type": "stream",
     "text": [
      "3 which corresponds to 'scrap metal'\n"
     ]
    }
   ],
   "source": [
    "print(values[id],\n",
    "      f\"which corresponds to '{categories[values[id]]}'\")"
   ]
  },
  {
   "cell_type": "markdown",
   "metadata": {},
   "source": [
    "### Sampling\n",
    "\n",
    "Why does `sample` take a `DiscreteValues`? Because, if we want to sample from a conditional distribution, for example $P(Detection|Category)$, we need to specify values for the conditioning variables!"
   ]
  },
  {
   "cell_type": "code",
   "execution_count": 51,
   "metadata": {},
   "outputs": [
    {
     "name": "stdout",
     "output_type": "stream",
     "text": [
      "detection = 2\n",
      "detection = 1\n",
      "detection = 0\n",
      "detection = 1\n",
      "detection = 0\n"
     ]
    }
   ],
   "source": [
    "for i in range(5):\n",
    "    print(f\"detection = {pDT.sample(values)}\")"
   ]
  },
  {
   "cell_type": "markdown",
   "metadata": {},
   "source": [
    "Check back earlier in this section to find the values for `pDT` and explain why you are seeing these values for \"scrap metal\". You could try modifying the `values` variable to assign a different variable to the trash category, and confirm that sample does indeed do the right thing."
   ]
  }
 ],
 "metadata": {
  "colab": {
   "include_colab_link": true,
   "name": "S23_sorter_sensing.ipynb",
   "provenance": []
  },
  "interpreter": {
   "hash": "c6e4e9f98eb68ad3b7c296f83d20e6de614cb42e90992a65aa266555a3137d0d"
  },
  "kernelspec": {
   "display_name": "Python 3 (ipykernel)",
   "language": "python",
   "name": "python3"
  },
  "language_info": {
   "codemirror_mode": {
    "name": "ipython",
    "version": 3
   },
   "file_extension": ".py",
   "mimetype": "text/x-python",
   "name": "python",
   "nbconvert_exporter": "python",
   "pygments_lexer": "ipython3",
   "version": "3.9.18"
  }
 },
 "nbformat": 4,
 "nbformat_minor": 1
}
