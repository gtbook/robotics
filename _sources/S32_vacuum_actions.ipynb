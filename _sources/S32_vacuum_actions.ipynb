{
 "cells": [
  {
   "cell_type": "markdown",
   "metadata": {
    "colab_type": "text",
    "id": "view-in-github",
    "tags": [
     "no-tex"
    ]
   },
   "source": [
    "<a href=\"https://colab.research.google.com/github/gtbook/robotics/blob/main/S32_vacuum_actions.ipynb\" target=\"_parent\"><img src=\"https://colab.research.google.com/assets/colab-badge.svg\" alt=\"Open In Colab\"/></a>"
   ]
  },
  {
   "cell_type": "code",
   "execution_count": 2,
   "metadata": {
    "colab": {
     "base_uri": "https://localhost:8080/"
    },
    "id": "_lb_cdVxGrN1",
    "outputId": "8e5f4d6e-a5ba-4011-9fa9-a9ef3627686b",
    "tags": [
     "remove-cell"
    ]
   },
   "outputs": [
    {
     "name": "stdout",
     "output_type": "stream",
     "text": [
      "Note: you may need to restart the kernel to use updated packages.\n"
     ]
    }
   ],
   "source": [
    "%pip install -U -q gtbook\n"
   ]
  },
  {
   "cell_type": "code",
   "execution_count": 3,
   "metadata": {
    "id": "_vgA01LrHBkU",
    "tags": [
     "remove-cell"
    ]
   },
   "outputs": [],
   "source": [
    "import numpy as np\n",
    "import gtsam\n",
    "\n",
    "import gtbook\n",
    "import gtbook.display\n",
    "from gtbook import vacuum\n",
    "from gtbook.discrete import Variables\n",
    "\n",
    "VARIABLES = Variables()\n",
    "def pretty(obj):\n",
    "    return gtbook.display.pretty(obj, VARIABLES)\n",
    "def show(obj, **kwargs):\n",
    "    return gtbook.display.show(obj, VARIABLES, **kwargs)\n",
    "\n",
    "# From section 3.1:\n",
    "X = VARIABLES.discrete_series(\"X\", [1], vacuum.rooms)\n",
    "state_prior = gtsam.DiscreteDistribution(X[1], \"0/0/1/0/0\")\n"
   ]
  },
  {
   "attachments": {},
   "cell_type": "markdown",
   "metadata": {
    "id": "dd_NRh1QLVrg"
   },
   "source": [
    "# Actions over time\n",
    "\n",
    "> We can use the language of probability to describe systems with uncertainty in the effects of actions.\n",
    "\n",
    "<img src=\"Figures3/S32-iRobot_vacuuming_robot-04.jpg\" alt=\"Splash image with vacuuming robot in action\" width=\"40%\" align=center style=\"vertical-align:middle;margin:10px 0px\">"
   ]
  },
  {
   "cell_type": "markdown",
   "metadata": {},
   "source": [
    "In the real world, robots do not always execute actions perfectly, for a\n",
    "variety of reasons. \n",
    "To model the uncertainty when executing an action, we will once again use the\n",
    "language of probability. \n",
    "We will use *conditional probability distributions* to model how we can affect the state \n",
    "of the robot by actions. \n",
    "Recall that in Chapter 2 we used conditional probabilities to model\n",
    "the effects of uncertainty in sensing at a specific moment in time.\n",
    "Here, we use conditional probabilities to model the uncertainty in state transitions when\n",
    "actions are executed.\n",
    "\n",
    "We can model this using graphs, with directed edges that specify conditional\n",
    "probabilities on variables.\n",
    "We can use these graphical models to generate sample system trajectories\n",
    "for a fixed sequence of actions.\n",
    "Such sample trajectories can be used for planning, as we will see later in the chapter.\n",
    "In addition, the graphical model approach allows us to easily extend probabilistic actions to\n",
    "factored state representations, which can provide significant computational advantages."
   ]
  },
  {
   "cell_type": "markdown",
   "metadata": {},
   "source": [
    "## Primitive Actions\n",
    "\n",
    "We will assume that our robot is equipped with navigation software that implements four\n",
    "primitive actions: *move left, move right, move up, move down*,\n",
    "which we will denote by *L,R,U,D*.\n",
    "Together, these four actions define the **action space**.\n",
    "The nominal effects of these actions (i.e., the effects of the actions without taking into account uncertainty) \n",
    "are to move the robot from the current room to an adjacent\n",
    "room, according to the direction specified by the action.\n",
    "For example, executing the *move down* action from the living room should take the robot into the hallway.\n",
    "\n",
    "We can represent these actions graphically by making a slight modification to our state space graph\n",
    "from the previous section.\n",
    "Instead of using undirected edges to denote adjacency, each action contributes a directed edge, as shown in \n",
    "Figure <a href=\"#fig:Stochastic\" data-reference-type=\"ref\" data-reference=\"fig:Stochastic\">1</a>.\n",
    "Note that to simplify notation  we use *L,R,U,D*\n",
    "instead of *move left, move right, move up, move down* to label the edges.\n",
    "\n",
    "<figure id=\"fig:Stochastic\">\n",
    "<img src=\"https://github.com/gtbook/robotics/blob/main/Figures3/S32-Actions.png?raw=1\" style=\"width:14cm\" alt=\"\" />\n",
    "<figcaption>Our robot is equipped with\n",
    "four primitive actions: Left, Right, Up, and Down.\n",
    "</figcaption>\n",
    "</figure>"
   ]
  },
  {
   "cell_type": "markdown",
   "metadata": {},
   "source": [
    "## Probabilistic Outcomes of Actions\n",
    "\n",
    "<figure id=\"fig:Mud\">\n",
    "<img src=\"https://github.com/gtbook/robotics/blob/main/Figures3/N3-Mud.png?raw=1\" style=\"width:14cm\" alt=\"\" />\n",
    "<figcaption>Mobile robot driving in mud.</figcaption>\n",
    "</figure>\n",
    "\n",
    "In the real world, robots do not always execute actions perfectly, for a\n",
    "variety of reasons. For example, as shown in Figure\n",
    "<a href=\"#fig:Mud\" data-reference-type=\"ref\" data-reference=\"fig:Mud\">2</a>,\n",
    "a robot may want to drive forward in an outdoor environment but mud\n",
    "under its wheels might prevent it from traveling as far as we would like.\n",
    "\n",
    "<figure id=\"fig:Pickup\">\n",
    "<img src=\"https://github.com/gtbook/robotics/blob/main/Figures3/N3-Pick.png?raw=1\" style=\"width:14cm\" alt=\"\" />\n",
    "<figcaption>A humanoid attempting to pick up an object.</figcaption>\n",
    "</figure>\n",
    "\n",
    "Or a robot with an articulated arm (Figure\n",
    "<a href=\"#fig:Pickup\" data-reference-type=\"ref\" data-reference=\"fig:Pickup\">3</a>)\n",
    "might attempt to pick up an object, but fail. "
   ]
  },
  {
   "cell_type": "markdown",
   "metadata": {},
   "source": [
    "\n",
    "For our vacuum cleaning robot, a variety of things could go wrong: a particular doorway might be blocked, the robot might get lost, or it might take an action that is simply not available in a particular room - for example executing\n",
    "*move up* in the office."
   ]
  },
  {
   "cell_type": "markdown",
   "metadata": {},
   "source": [
    "To model the uncertainty associated with executing an action, we will once again use the language of probability. \n",
    "In particular, we will use the conditional probability $P(X_{t+1}|X_{t}=x,A=a)$ to define\n",
    "the the **state transition model**  model, i.e.,\n",
    "the conditional probability distribution for the next state $X_{t+1}$, \n",
    "given the value $x$ of the current state $X_{t}$, and the value $a$ of the action $A$. \n",
    "Because the state space in this case involves navigation, we also call the corresponding conditional distribution \n",
    "$P(X_{t+1}|X_{t},A)$ a **motion model**."
   ]
  },
  {
   "cell_type": "markdown",
   "metadata": {},
   "source": [
    "The code below generates a motion model for moving from state $X_1$ to $X_2$ in the\n",
    "form of a large conditional probability table:"
   ]
  },
  {
   "cell_type": "code",
   "execution_count": 5,
   "metadata": {},
   "outputs": [
    {
     "data": {
      "text/html": [
       "<div>\n",
       "<p>  <i>P(X2|X1,A1):</i></p>\n",
       "<table class='DiscreteConditional'>\n",
       "  <thead>\n",
       "    <tr><th><i>X1</i></th><th><i>A1</i></th><th>Living Room</th><th>Kitchen</th><th>Office</th><th>Hallway</th><th>Dining Room</th></tr>\n",
       "  </thead>\n",
       "  <tbody>\n",
       "    <tr><th>Living Room</th><th>L</th><td>1</td><td>0</td><td>0</td><td>0</td><td>0</td></tr>\n",
       "    <tr><th>Living Room</th><th>R</th><td>0.2</td><td>0.8</td><td>0</td><td>0</td><td>0</td></tr>\n",
       "    <tr><th>Living Room</th><th>U</th><td>1</td><td>0</td><td>0</td><td>0</td><td>0</td></tr>\n",
       "    <tr><th>Living Room</th><th>D</th><td>0.2</td><td>0</td><td>0</td><td>0.8</td><td>0</td></tr>\n",
       "    <tr><th>Kitchen</th><th>L</th><td>0.8</td><td>0.2</td><td>0</td><td>0</td><td>0</td></tr>\n",
       "    <tr><th>Kitchen</th><th>R</th><td>0</td><td>1</td><td>0</td><td>0</td><td>0</td></tr>\n",
       "    <tr><th>Kitchen</th><th>U</th><td>0</td><td>1</td><td>0</td><td>0</td><td>0</td></tr>\n",
       "    <tr><th>Kitchen</th><th>D</th><td>0</td><td>0.2</td><td>0</td><td>0</td><td>0.8</td></tr>\n",
       "    <tr><th>Office</th><th>L</th><td>0</td><td>0</td><td>1</td><td>0</td><td>0</td></tr>\n",
       "    <tr><th>Office</th><th>R</th><td>0</td><td>0</td><td>0.2</td><td>0.8</td><td>0</td></tr>\n",
       "    <tr><th>Office</th><th>U</th><td>0</td><td>0</td><td>1</td><td>0</td><td>0</td></tr>\n",
       "    <tr><th>Office</th><th>D</th><td>0</td><td>0</td><td>1</td><td>0</td><td>0</td></tr>\n",
       "    <tr><th>Hallway</th><th>L</th><td>0</td><td>0</td><td>0.8</td><td>0.2</td><td>0</td></tr>\n",
       "    <tr><th>Hallway</th><th>R</th><td>0</td><td>0</td><td>0</td><td>0.2</td><td>0.8</td></tr>\n",
       "    <tr><th>Hallway</th><th>U</th><td>0.8</td><td>0</td><td>0</td><td>0.2</td><td>0</td></tr>\n",
       "    <tr><th>Hallway</th><th>D</th><td>0</td><td>0</td><td>0</td><td>1</td><td>0</td></tr>\n",
       "    <tr><th>Dining Room</th><th>L</th><td>0</td><td>0</td><td>0</td><td>0.8</td><td>0.2</td></tr>\n",
       "    <tr><th>Dining Room</th><th>R</th><td>0</td><td>0</td><td>0</td><td>0</td><td>1</td></tr>\n",
       "    <tr><th>Dining Room</th><th>U</th><td>0</td><td>0.8</td><td>0</td><td>0</td><td>0.2</td></tr>\n",
       "    <tr><th>Dining Room</th><th>D</th><td>0</td><td>0</td><td>0</td><td>0</td><td>1</td></tr>\n",
       "  </tbody>\n",
       "</table>\n",
       "</div>"
      ],
      "text/plain": [
       "<gtbook.display.pretty at 0x10b82cf70>"
      ]
     },
     "execution_count": 5,
     "metadata": {},
     "output_type": "execute_result"
    }
   ],
   "source": [
    "# vacuum.action_space = [\"L\",\"R\",\"U\",\"D\",]\n",
    "# vacuum.action_spec is a string with the transition probabilities:\n",
    "#  \"1/0/0/0/0 2/8/0/0/0 1/0/0/0/0 2/0/0/8/0\n",
    "#   8/2/0/0/0 0/1/0/0/0 0/1/0/0/0 0/2/0/0/8\n",
    "#   0/0/1/0/0 0/0/2/8/0 0/0/1/0/0 0/0/1/0/0\n",
    "#   0/0/8/2/0 0/0/0/2/8 8/0/0/2/0 0/0/0/1/0\n",
    "#   0/0/0/8/2 0/0/0/0/1 0/8/0/0/2 0/0/0/0/1\"\n",
    "X = VARIABLES.discrete_series(\"X\", [1, 2, 3], vacuum.rooms) # states for times 1,2 and 3\n",
    "A = VARIABLES.discrete_series(\"A\", [1, 2], vacuum.action_space) # actions for times 1 and 2\n",
    "motion_model = gtsam.DiscreteConditional(X[2], [X[1], A[1]], vacuum.action_spec)\n",
    "pretty(motion_model)\n"
   ]
  },
  {
   "cell_type": "markdown",
   "metadata": {},
   "source": [
    "It is of course very tedious to specify this table by hand.\n",
    "In this case, for each of the four actions, we must compute a transition probability from\n",
    "each of the five possible starting rooms to each of the five possible destination rooms:\n",
    "$4*5*5=100$ entries.\n",
    "In the example above, impossible transitions (e.g., moving up from the living room to any other room)\n",
    "are assigned zero probability.\n",
    "Other actions are assumed to have 80% chance of success (e.g., moving right from the living room\n",
    "and arriving to the kitchen is assigned a transition probability of $0.8$).\n",
    "\n",
    "Conditional probability distributions do not *have* to be specified as giant\n",
    "tables. Because the state space is potentially quite large, such a\n",
    "motion model is almost never explicitly specified, but\n",
    "rather exploits the semantics of the states and actions to calculate the conditional distribution at run-time.\n",
    "For example, rather than enumerate every possible action from every possible room, we might\n",
    "determine the probability of successfully moving to an adjacent room is $0.8$, for all\n",
    "rooms and for all actions, and that the probability of failing to do so is $0.2$.\n",
    "If we apply this rule to each combination of action and adjacent rooms, we can\n",
    "construct specific rows the table above on an as-needed basis."
   ]
  },
  {
   "cell_type": "markdown",
   "metadata": {},
   "source": [
    "### Exercises\n",
    "\n",
    "1.  Even though the CPT above\n",
    "    has 100 numbers in it, how many independent degrees of freedom do we\n",
    "    actually have when specifying this CPT?\n",
    "\n",
    "2.  Specify a *parametric* conditional density for the action models for\n",
    "    the vacuuming robot that is somewhat realistic, yet not completely\n",
    "    deterministic.\n",
    "\n",
    "3.  It is possible to create models that do not reflect everyday\n",
    "    physics. For example, how could we model the game “Portal”?"
   ]
  },
  {
   "cell_type": "markdown",
   "metadata": {},
   "source": [
    "## Computing the Posterior Distribution for a Sequence of Actions\n",
    "\n",
    "Suppose we apply a sequence of actions $a_1 \\dots a_t$\n",
    "and we wish to compute the probability distribution associated to the resulting state $X_{t+1}$.\n",
    "We can accomplish this by applying the law of total probability.\n",
    "\n",
    "The **law of total probability** provides a convenient way to compute the probability of an\n",
    "event by considering all of the different ways the event could occur. Suppose\n",
    "we have a set of events ${\\cal B} = \\{B_1, \\dots , B_n\\}$ such that $B_i \\cap B_j = \\emptyset$ when $i \\neq j$\n",
    "and with $\\cup B_i = \\Omega$, i.e., the set of events ${\\cal B}$ form a partition of the sample space.\n",
    "To compute the probability of an event $A$, the law of total probability is given by \n",
    "\n",
    "$$\n",
    "P(A) = \\sum_{i} P(A | B_i ) P(B_i)\n",
    "$$\n",
    "\n",
    "We merely sum the conditional probabilities $P(A | B_i)$ for each event $B_i$, weighted by the probability\n",
    "of the event $B_i$.\n",
    "\n",
    "\n",
    "We can use the law of total probability to compute the probability that the robot\n",
    "is in state $x_{t+1}$ at time $t+1$ by conditioning on the possible states for time $t$.:\n",
    "\n",
    "$$\n",
    "P(X_{t+1} = x_{t+1} ) = \\sum_{x_t} P(X_{t+1} | X_t = x_t) P(X_t = x_t)\n",
    "$$\n",
    "\n",
    "Now, condition every term in the above equation on the sequence of actions\n",
    "$a_1 \\dots a_t$, and we obtain\n",
    "\n",
    "$$\n",
    "P(X_{t+1} = x_{t+1} | a_1 \\dots a_t) = \\sum_{x_t} P(X_{t+1} | X_t = x_t, a_1 \\dots a_t) P(X_t = x_t |a_1 \\dots a_t)\n",
    "$$\n",
    "\n",
    "This expression may seem complex, but it can be simplified by making the following observation:\n",
    "*If we know that the robot is in a specific state $x_t$ at time $t$, then the next state will depend only\n",
    "on the action executed at time $t$; the previously executed actions will not affect our belief\n",
    "about $X_{t+1}$.*  \n",
    "For example, if the robot executes the action *move down* knowing with certainty that it is in the living room at time $t$,\n",
    "the sequence of actions that brought the robot to the living room (i.e., actions $a_1 \\dots a_{t-1}$) does not affect our belief\n",
    "about whether the robot will arrive to the hallway.\n",
    "Mathematically, we can write this relationship as follows:\n",
    "\n",
    "$$\n",
    "P(X_{t+1} | X_t = x_t, a_1 \\dots a_t) =  P(X_{t+1} | X_t = x_t,  a_t)\n",
    "$$\n",
    "\n",
    "We can also  simplify the term $P(X_t = x_t |a_1 \\dots a_t)$.\n",
    "Notice that the action performed at time $t$ has no affect on the state at time $t$.\n",
    "For example, if the robot executes the *move down* action\n",
    "in the living room at time $t$, this actions does not change the fact that the robot was in the living room\n",
    "at time *t*.\n",
    "Therefore, we have\n",
    "\n",
    "$$\n",
    "P(X_t = x_t |a_1 \\dots a_t) =  P(X_t = x_t |a_1 \\dots a_{t-1})\n",
    "$$\n",
    "\n",
    "Applying these two simplifications, we obtain the final form for our posterior:\n",
    "\n",
    "$$\n",
    "P(X_{t+1} = x_{t+1} | a_1 \\dots a_t) = \\sum_{x_t} P(X_{t+1} | X_t = x_t, a_t) P(X_t = x_t |a_1 \\dots a_{t-1})\n",
    "$$\n",
    "\n",
    "We can think of the terms in this expression as follows:\n",
    "- $P(X_{t+1} = x_{t+1} | a_1 \\dots a_t)$ is the posterior\n",
    "- $P(X_{t+1} | X_t = x_t, a_t)$ is the motion model\n",
    "- $P(X_t = x_t |a_1 \\dots a_{t-1})$ is the prior.\n",
    "\n",
    "For the initial state, no actions have yet been applied, and the prior is merely \n",
    "the probability distribution at the initial state $P(X_1 = x_1)$.\n",
    "Specifically, we can compute the posterior at time $t=2$ by\n",
    "\n",
    "$$\n",
    "P(X_{2} = x_{2} | a_1 ) = \\sum_{x_1} P(X_{2} | X_1 = x_1, a_1) P(X_1 = x_1 )\n",
    "$$\n"
   ]
  },
  {
   "cell_type": "markdown",
   "metadata": {},
   "source": [
    "## State Transition Matrices and the Belief State\n",
    "\n",
    "In order to specify the complete posterior distribution at time $t+1$, we would need to perform the calculation above\n",
    "five times, once for each of the possible next states ($L,K,O,H,D$).\n",
    "This complete distribution is called the belief state, defined as\n",
    "\n",
    "$$b_{t+1} = \\left[ \n",
    "P(X_{t+1} = L | a_{1:t}),\n",
    "P(X_{t+1} = K | a_{1:t}),\n",
    "P(X_{t+1} = O | a_{1:t}),\n",
    "P(X_{t+1} = H | a_{1:t}),\n",
    "P(X_{t+1} = D | a_{1:t}) \\right]\n",
    "$$\n",
    "\n",
    "in which we have simplified notation by using the notation\n",
    "$a_{1:t} = a_1, \\dots, a_t$.\n",
    "\n",
    "We can write the equations for the belief state in a compact form by writing the conditional probability tables as\n",
    "transition matrices.\n",
    "To do so, for each action, we merely gather the corresponding rows from the complete conditional probability\n",
    "table into a state transition matrix.\n",
    "For the action *move right*, this is illustrated below in \n",
    "Figure <a href=\"#fig:TM\" data-reference-type=\"ref\" data-reference=\"fig:TM\">4</a>.\n",
    "\n",
    "<figure id=\"fig:TM\">\n",
    "<img src=\"https://github.com/gtbook/robotics/blob/main/Figures3/S32-transition-matrix.png?raw=1\" style=\"width:20cm\" alt=\"\" />\n",
    "<figcaption>The transition matrix for the action *move right*.\n",
    "</figcaption>\n",
    "</figure>\n",
    "\n",
    "If we apply the action *move right* to the initial state, by straightforward calculations, we can see that $b_2 = b_1 M_r$.\n",
    "This can be generalized to a sequence of actions.\n",
    "If we execute action ${\\cal A}_t$ at time $t$,\n",
    "the belief state $b_{t+1}$ is given by\n",
    "\n",
    "$$b_{t+1} = b_t M_{{\\cal A}_t}$$\n",
    "\n",
    "\n",
    "in which $M_{\\cal A}$\n",
    "the conditional probability matrix for action $\\cal A$ and $b_t$ is the\n",
    "belief state at time $t$.\n",
    "We refer to this equation as a *belief transition function* -- given the\n",
    "belief at time $t$ and the action $a_t$, it can be applied to compute the belief at time $t+1$.\n",
    "This result can be applied recursively to yield\n",
    "\n",
    "$$b_{t+1} = b_1 M_{{\\cal A}_1} \\dots M_{{\\cal A}_t}$$"
   ]
  },
  {
   "cell_type": "markdown",
   "metadata": {},
   "source": [
    "## Controlled Markov Chains"
   ]
  },
  {
   "cell_type": "markdown",
   "metadata": {},
   "source": [
    "In the derivation above of the belief transition function we employed a temporal decoupling property,\n",
    "namely, given the state at time $t$, all actions that were applied prior to time $t$ were irrelevant\n",
    "to determining the belief state $b_{t+1}$.\n",
    "This is an example of what is called **the Markov property**.\n",
    "Variations of this property\n",
    "are essential for reducing the amount of computation required to reason probabilistically over long periods of time.\n",
    "\n",
    "The most common example of this property arises in systems that are called **Markov chains**.\n",
    "In its simplest form, a Markov chain is a sequence of random variables, $X_1, X_2, \\dots $\n",
    "for which\n",
    "\n",
    "$$P(X_{t+1} | X_1 \\dots X_t) = P(X_{t+1} | X_t)$$\n",
    "\n",
    "For Markov chains, knowing $X_t$ completely decouples the past (i.e., $X_1 \\dots X_{t-1}$) from the future (i.e., $X_{t+1}$).\n",
    "Therefore, when reasoning about future states, we need not perform computations over the entire\n",
    "history of the system; if we know $X_t$, we need only perform computations related to the present \n",
    "when reasoning about the future."
   ]
  },
  {
   "cell_type": "markdown",
   "metadata": {},
   "source": [
    "Markov chains have a nice graphical representation.\n",
    "Each node corresponds to a random variable,\n",
    "and directed edges specify conditional probabilities.\n",
    "As an application, we can use this simple graphical model to represent\n",
    "the probabilistic transitions between states, as shown below:"
   ]
  },
  {
   "cell_type": "code",
   "execution_count": 6,
   "metadata": {},
   "outputs": [
    {
     "data": {
      "image/svg+xml": [
       "<?xml version=\"1.0\" encoding=\"UTF-8\" standalone=\"no\"?>\n",
       "<!DOCTYPE svg PUBLIC \"-//W3C//DTD SVG 1.1//EN\"\n",
       " \"http://www.w3.org/Graphics/SVG/1.1/DTD/svg11.dtd\">\n",
       "<!-- Generated by graphviz version 2.50.0 (0)\n",
       " -->\n",
       "<!-- Pages: 1 -->\n",
       "<svg width=\"206pt\" height=\"44pt\"\n",
       " viewBox=\"0.00 0.00 206.00 44.00\" xmlns=\"http://www.w3.org/2000/svg\" xmlns:xlink=\"http://www.w3.org/1999/xlink\">\n",
       "<g id=\"graph0\" class=\"graph\" transform=\"scale(1 1) rotate(0) translate(4 40)\">\n",
       "<polygon fill=\"white\" stroke=\"transparent\" points=\"-4,4 -4,-40 202,-40 202,4 -4,4\"/>\n",
       "<!-- var6341068275337658369 -->\n",
       "<g id=\"node1\" class=\"node\">\n",
       "<title>var6341068275337658369</title>\n",
       "<ellipse fill=\"none\" stroke=\"black\" cx=\"27\" cy=\"-18\" rx=\"27\" ry=\"18\"/>\n",
       "<text text-anchor=\"middle\" x=\"27\" y=\"-14.3\" font-family=\"Times,serif\" font-size=\"14.00\">X1</text>\n",
       "</g>\n",
       "<!-- var6341068275337658370 -->\n",
       "<g id=\"node2\" class=\"node\">\n",
       "<title>var6341068275337658370</title>\n",
       "<ellipse fill=\"none\" stroke=\"black\" cx=\"99\" cy=\"-18\" rx=\"27\" ry=\"18\"/>\n",
       "<text text-anchor=\"middle\" x=\"99\" y=\"-14.3\" font-family=\"Times,serif\" font-size=\"14.00\">X2</text>\n",
       "</g>\n",
       "<!-- var6341068275337658369&#45;&gt;var6341068275337658370 -->\n",
       "<g id=\"edge2\" class=\"edge\">\n",
       "<title>var6341068275337658369&#45;&gt;var6341068275337658370</title>\n",
       "<path fill=\"none\" stroke=\"black\" d=\"M54.22,-18C56.64,-18 59.11,-18 61.6,-18\"/>\n",
       "<polygon fill=\"black\" stroke=\"black\" points=\"61.74,-21.5 71.74,-18 61.74,-14.5 61.74,-21.5\"/>\n",
       "</g>\n",
       "<!-- var6341068275337658371 -->\n",
       "<g id=\"node3\" class=\"node\">\n",
       "<title>var6341068275337658371</title>\n",
       "<ellipse fill=\"none\" stroke=\"black\" cx=\"171\" cy=\"-18\" rx=\"27\" ry=\"18\"/>\n",
       "<text text-anchor=\"middle\" x=\"171\" y=\"-14.3\" font-family=\"Times,serif\" font-size=\"14.00\">X3</text>\n",
       "</g>\n",
       "<!-- var6341068275337658370&#45;&gt;var6341068275337658371 -->\n",
       "<g id=\"edge1\" class=\"edge\">\n",
       "<title>var6341068275337658370&#45;&gt;var6341068275337658371</title>\n",
       "<path fill=\"none\" stroke=\"black\" d=\"M126.22,-18C128.64,-18 131.11,-18 133.6,-18\"/>\n",
       "<polygon fill=\"black\" stroke=\"black\" points=\"133.74,-21.5 143.74,-18 133.74,-14.5 133.74,-21.5\"/>\n",
       "</g>\n",
       "</g>\n",
       "</svg>\n"
      ],
      "text/plain": [
       "<gtbook.display.show at 0x10b82ca00>"
      ]
     },
     "execution_count": 6,
     "metadata": {},
     "output_type": "execute_result"
    }
   ],
   "source": [
    "N = 3\n",
    "X = VARIABLES.discrete_series(\"X\", range(1, N+1), vacuum.rooms) ## states for times 1...N\n",
    "markov_chain = gtsam.DiscreteBayesNet()\n",
    "markov_chain.add(state_prior)\n",
    "for k in range(1, N):\n",
    "    markov_chain.add(X[k+1], [X[k]], \"6/1/1/1/1 1/6/1/1/1 1/1/6/1/1 1/1/6/1/1 1/1/1/1/6 \")\n",
    "show(markov_chain, hints={\"X\":1})\n"
   ]
  },
  {
   "cell_type": "markdown",
   "metadata": {},
   "source": [
    "Each node in this graph denotes a random variable, and therefore each node has an associated probability distribution.\n",
    "If we know the distribution for the initial state $X_1$, we can iteratively compute the distributions for\n",
    "$X_t$ for all $t > 1$ by evaluating the conditional distributions associated to the directed edges in the graph."
   ]
  },
  {
   "cell_type": "markdown",
   "metadata": {},
   "source": [
    "Our robot vacuum cleaner is slightly more sophisticated than this simple Markov chain, since\n",
    "the robot has the ability to execute actions, and these actions affect the propagation\n",
    "of probabilities through the chain.\n",
    "This type of system is sometimes called a **controlled Markov chain**, since it incorporates\n",
    "a control input (the actions) into the usual Markov chain."
   ]
  },
  {
   "cell_type": "markdown",
   "metadata": {},
   "source": [
    "Graphically, we can represent such a system by augmenting the graph above to include nodes that denote actions.\n",
    "We use a *box* to denote nodes whose values are known.\n",
    "Since the robot knows which actions it executes, action nodes are denoted by boxes.\n",
    "For our vacuuming robot, we also know the value of the initial state,\n",
    "since the robot always begins in the office.\n",
    "Therefore, we also use a box to denote the initial state in this graph."
   ]
  },
  {
   "cell_type": "markdown",
   "metadata": {},
   "source": [
    "As an example, the code below builds the controlled Markov chain for our system up to time $t=2$.\n",
    "By applying the belief transition equation above, we can compute the probabililty distribution for $X_2$,\n",
    "since the action $a_1$ and the initial state $X_1$ are both completely known."
   ]
  },
  {
   "cell_type": "code",
   "execution_count": 7,
   "metadata": {},
   "outputs": [
    {
     "data": {
      "image/svg+xml": [
       "<?xml version=\"1.0\" encoding=\"UTF-8\" standalone=\"no\"?>\n",
       "<!DOCTYPE svg PUBLIC \"-//W3C//DTD SVG 1.1//EN\"\n",
       " \"http://www.w3.org/Graphics/SVG/1.1/DTD/svg11.dtd\">\n",
       "<!-- Generated by graphviz version 2.50.0 (0)\n",
       " -->\n",
       "<!-- Pages: 1 -->\n",
       "<svg width=\"134pt\" height=\"116pt\"\n",
       " viewBox=\"0.00 0.00 134.00 116.00\" xmlns=\"http://www.w3.org/2000/svg\" xmlns:xlink=\"http://www.w3.org/1999/xlink\">\n",
       "<g id=\"graph0\" class=\"graph\" transform=\"scale(1 1) rotate(0) translate(4 112)\">\n",
       "<polygon fill=\"white\" stroke=\"transparent\" points=\"-4,4 -4,-112 130,-112 130,4 -4,4\"/>\n",
       "<!-- var4683743612465315841 -->\n",
       "<g id=\"node1\" class=\"node\">\n",
       "<title>var4683743612465315841</title>\n",
       "<polygon fill=\"none\" stroke=\"black\" points=\"54,-108 0,-108 0,-72 54,-72 54,-108\"/>\n",
       "<text text-anchor=\"middle\" x=\"27\" y=\"-86.3\" font-family=\"Times,serif\" font-size=\"14.00\">A1</text>\n",
       "</g>\n",
       "<!-- var6341068275337658370 -->\n",
       "<g id=\"node3\" class=\"node\">\n",
       "<title>var6341068275337658370</title>\n",
       "<ellipse fill=\"none\" stroke=\"black\" cx=\"99\" cy=\"-18\" rx=\"27\" ry=\"18\"/>\n",
       "<text text-anchor=\"middle\" x=\"99\" y=\"-14.3\" font-family=\"Times,serif\" font-size=\"14.00\">X2</text>\n",
       "</g>\n",
       "<!-- var4683743612465315841&#45;&gt;var6341068275337658370 -->\n",
       "<g id=\"edge2\" class=\"edge\">\n",
       "<title>var4683743612465315841&#45;&gt;var6341068275337658370</title>\n",
       "<path fill=\"none\" stroke=\"black\" d=\"M45.17,-71.83C54.73,-62.27 66.53,-50.47 76.65,-40.35\"/>\n",
       "<polygon fill=\"black\" stroke=\"black\" points=\"79.4,-42.55 83.99,-33.01 74.45,-37.6 79.4,-42.55\"/>\n",
       "</g>\n",
       "<!-- var6341068275337658369 -->\n",
       "<g id=\"node2\" class=\"node\">\n",
       "<title>var6341068275337658369</title>\n",
       "<polygon fill=\"none\" stroke=\"black\" points=\"54,-36 0,-36 0,0 54,0 54,-36\"/>\n",
       "<text text-anchor=\"middle\" x=\"27\" y=\"-14.3\" font-family=\"Times,serif\" font-size=\"14.00\">X1</text>\n",
       "</g>\n",
       "<!-- var6341068275337658369&#45;&gt;var6341068275337658370 -->\n",
       "<g id=\"edge1\" class=\"edge\">\n",
       "<title>var6341068275337658369&#45;&gt;var6341068275337658370</title>\n",
       "<path fill=\"none\" stroke=\"black\" d=\"M54.22,-18C56.64,-18 59.11,-18 61.6,-18\"/>\n",
       "<polygon fill=\"black\" stroke=\"black\" points=\"61.74,-21.5 71.74,-18 61.74,-14.5 61.74,-21.5\"/>\n",
       "</g>\n",
       "</g>\n",
       "</svg>\n"
      ],
      "text/plain": [
       "<gtbook.display.show at 0x10b82cbe0>"
      ]
     },
     "execution_count": 7,
     "metadata": {},
     "output_type": "execute_result"
    }
   ],
   "source": [
    "action_prior = gtsam.DiscreteDistribution(A[1], \"1/1/1/1\")\n",
    "fragment = gtsam.DiscreteBayesNet()\n",
    "fragment.add(motion_model)\n",
    "show(fragment, hints={\"A\":2, \"X\":1}, boxes={A[1][0], X[1][0]})\n"
   ]
  },
  {
   "cell_type": "markdown",
   "metadata": {},
   "source": [
    "Given values for the parent variables, we can examine the corresponding transition probability. For example, if we start from the $X_1=\\text{Office}$ and attempt to go right, i.e., action $a_1=\\text{R}$, we retrieve the following PMF over the next state $X_2$:"
   ]
  },
  {
   "cell_type": "code",
   "execution_count": 8,
   "metadata": {},
   "outputs": [
    {
     "data": {
      "text/html": [
       "<div>\n",
       "<p>  <i>P(X2):</i></p>\n",
       "<div>\n",
       "<table class='DecisionTreeFactor'>\n",
       "  <thead>\n",
       "    <tr><th>X2</th><th>value</th></tr>\n",
       "  </thead>\n",
       "  <tbody>\n",
       "    <tr><th>Living Room</th><td>0</td></tr>\n",
       "    <tr><th>Kitchen</th><td>0</td></tr>\n",
       "    <tr><th>Office</th><td>0.2</td></tr>\n",
       "    <tr><th>Hallway</th><td>0.8</td></tr>\n",
       "    <tr><th>Dining Room</th><td>0</td></tr>\n",
       "  </tbody>\n",
       "</table>\n",
       "</div>"
      ],
      "text/plain": [
       "<gtbook.display.pretty at 0x10b82ceb0>"
      ]
     },
     "execution_count": 8,
     "metadata": {},
     "output_type": "execute_result"
    }
   ],
   "source": [
    "values = VARIABLES.assignment({X[1]:\"Office\", A[1]: \"R\"})\n",
    "pretty(motion_model.choose(values))\n"
   ]
  },
  {
   "cell_type": "markdown",
   "metadata": {},
   "source": [
    "This idea can be extended to arbitrarily many actions by merely adding action and state nodes for each\n",
    "time $t$. The code below creates a controlled Markov chain with three states.\n",
    "Try varying the value of $N$ to see other examples."
   ]
  },
  {
   "cell_type": "code",
   "execution_count": 9,
   "metadata": {},
   "outputs": [
    {
     "data": {
      "image/svg+xml": [
       "<?xml version=\"1.0\" encoding=\"UTF-8\" standalone=\"no\"?>\n",
       "<!DOCTYPE svg PUBLIC \"-//W3C//DTD SVG 1.1//EN\"\n",
       " \"http://www.w3.org/Graphics/SVG/1.1/DTD/svg11.dtd\">\n",
       "<!-- Generated by graphviz version 2.50.0 (0)\n",
       " -->\n",
       "<!-- Pages: 1 -->\n",
       "<svg width=\"206pt\" height=\"116pt\"\n",
       " viewBox=\"0.00 0.00 206.00 116.00\" xmlns=\"http://www.w3.org/2000/svg\" xmlns:xlink=\"http://www.w3.org/1999/xlink\">\n",
       "<g id=\"graph0\" class=\"graph\" transform=\"scale(1 1) rotate(0) translate(4 112)\">\n",
       "<polygon fill=\"white\" stroke=\"transparent\" points=\"-4,4 -4,-112 202,-112 202,4 -4,4\"/>\n",
       "<!-- var4683743612465315841 -->\n",
       "<g id=\"node1\" class=\"node\">\n",
       "<title>var4683743612465315841</title>\n",
       "<polygon fill=\"none\" stroke=\"black\" points=\"54,-108 0,-108 0,-72 54,-72 54,-108\"/>\n",
       "<text text-anchor=\"middle\" x=\"27\" y=\"-86.3\" font-family=\"Times,serif\" font-size=\"14.00\">A1</text>\n",
       "</g>\n",
       "<!-- var6341068275337658370 -->\n",
       "<g id=\"node4\" class=\"node\">\n",
       "<title>var6341068275337658370</title>\n",
       "<ellipse fill=\"none\" stroke=\"black\" cx=\"99\" cy=\"-18\" rx=\"27\" ry=\"18\"/>\n",
       "<text text-anchor=\"middle\" x=\"99\" y=\"-14.3\" font-family=\"Times,serif\" font-size=\"14.00\">X2</text>\n",
       "</g>\n",
       "<!-- var4683743612465315841&#45;&gt;var6341068275337658370 -->\n",
       "<g id=\"edge4\" class=\"edge\">\n",
       "<title>var4683743612465315841&#45;&gt;var6341068275337658370</title>\n",
       "<path fill=\"none\" stroke=\"black\" d=\"M45.17,-71.83C54.73,-62.27 66.53,-50.47 76.65,-40.35\"/>\n",
       "<polygon fill=\"black\" stroke=\"black\" points=\"79.4,-42.55 83.99,-33.01 74.45,-37.6 79.4,-42.55\"/>\n",
       "</g>\n",
       "<!-- var4683743612465315842 -->\n",
       "<g id=\"node2\" class=\"node\">\n",
       "<title>var4683743612465315842</title>\n",
       "<polygon fill=\"none\" stroke=\"black\" points=\"126,-108 72,-108 72,-72 126,-72 126,-108\"/>\n",
       "<text text-anchor=\"middle\" x=\"99\" y=\"-86.3\" font-family=\"Times,serif\" font-size=\"14.00\">A2</text>\n",
       "</g>\n",
       "<!-- var6341068275337658371 -->\n",
       "<g id=\"node5\" class=\"node\">\n",
       "<title>var6341068275337658371</title>\n",
       "<ellipse fill=\"none\" stroke=\"black\" cx=\"171\" cy=\"-18\" rx=\"27\" ry=\"18\"/>\n",
       "<text text-anchor=\"middle\" x=\"171\" y=\"-14.3\" font-family=\"Times,serif\" font-size=\"14.00\">X3</text>\n",
       "</g>\n",
       "<!-- var4683743612465315842&#45;&gt;var6341068275337658371 -->\n",
       "<g id=\"edge2\" class=\"edge\">\n",
       "<title>var4683743612465315842&#45;&gt;var6341068275337658371</title>\n",
       "<path fill=\"none\" stroke=\"black\" d=\"M117.17,-71.83C126.73,-62.27 138.53,-50.47 148.65,-40.35\"/>\n",
       "<polygon fill=\"black\" stroke=\"black\" points=\"151.4,-42.55 155.99,-33.01 146.45,-37.6 151.4,-42.55\"/>\n",
       "</g>\n",
       "<!-- var6341068275337658369 -->\n",
       "<g id=\"node3\" class=\"node\">\n",
       "<title>var6341068275337658369</title>\n",
       "<ellipse fill=\"none\" stroke=\"black\" cx=\"27\" cy=\"-18\" rx=\"27\" ry=\"18\"/>\n",
       "<text text-anchor=\"middle\" x=\"27\" y=\"-14.3\" font-family=\"Times,serif\" font-size=\"14.00\">X1</text>\n",
       "</g>\n",
       "<!-- var6341068275337658369&#45;&gt;var6341068275337658370 -->\n",
       "<g id=\"edge3\" class=\"edge\">\n",
       "<title>var6341068275337658369&#45;&gt;var6341068275337658370</title>\n",
       "<path fill=\"none\" stroke=\"black\" d=\"M54.22,-18C56.64,-18 59.11,-18 61.6,-18\"/>\n",
       "<polygon fill=\"black\" stroke=\"black\" points=\"61.74,-21.5 71.74,-18 61.74,-14.5 61.74,-21.5\"/>\n",
       "</g>\n",
       "<!-- var6341068275337658370&#45;&gt;var6341068275337658371 -->\n",
       "<g id=\"edge1\" class=\"edge\">\n",
       "<title>var6341068275337658370&#45;&gt;var6341068275337658371</title>\n",
       "<path fill=\"none\" stroke=\"black\" d=\"M126.22,-18C128.64,-18 131.11,-18 133.6,-18\"/>\n",
       "<polygon fill=\"black\" stroke=\"black\" points=\"133.74,-21.5 143.74,-18 133.74,-14.5 133.74,-21.5\"/>\n",
       "</g>\n",
       "</g>\n",
       "</svg>\n"
      ],
      "text/plain": [
       "<gtbook.display.show at 0x10b8490a0>"
      ]
     },
     "execution_count": 9,
     "metadata": {},
     "output_type": "execute_result"
    }
   ],
   "source": [
    "A = VARIABLES.discrete_series(\"A\", range(1, N), vacuum.action_space) # actions for times 1...N-1\n",
    "bayesNet = gtsam.DiscreteBayesNet()\n",
    "bayesNet.add(state_prior)\n",
    "for k in range(1, N):\n",
    "    bayesNet.add(X[k+1], [X[k], A[k]], vacuum.action_spec) # add creates conditional and adds\n",
    "show(bayesNet, hints={\"A\":2, \"X\":1}, boxes={A[1][0],A[2][0]})\n"
   ]
  },
  {
   "cell_type": "markdown",
   "metadata": {},
   "source": [
    "## Forward Simulation\n",
    "\n",
    "We can use simulation in a graphical model to explore what a sequence of\n",
    "actions might yield as an outcome. \n",
    "To sample from a *conditional* distribution $p(X|Y)$ we need to make\n",
    "sure we sample the variable $Y$ beforehand, and then proceed simply by\n",
    "selecting the appropriate PMF depending on the value of $Y$. We can then\n",
    "proceed as before using the inverse transform sampling method.\n",
    "\n",
    "Forward sampling in a Markov chain simply repeats these steps in\n",
    "succession, proceeding from left to right. \n",
    "Simulating a robot *given* an initial state $X_1$ and \n",
    "sequence of actions $a_{1}, a_{2},\\ldots$ is then equivalent to sampling\n",
    "from this Markov chain:\n",
    "\n",
    "1.  Set $k=1$.\n",
    "\n",
    "2.  Simulate the effect of the next action by sampling the next state\n",
    "    $x_{k+1}$ from \n",
    "    \n",
    "    $$P(X_{k+1}|X_{k}=x_{k},A_{k}=a_{k}).$$\n",
    "\n",
    "3.  Increment $k$ and return to step $2$."
   ]
  },
  {
   "cell_type": "markdown",
   "metadata": {},
   "source": [
    "Below we show how to code this up and show  4 different **rollouts** by simulating in this way. \n",
    "Rollouts will be discussed in more detail in Section 3.5. \n",
    "After that, we can approximate the PMF of the final state by constructing a\n",
    "histogram over the possible values of the state:"
   ]
  },
  {
   "cell_type": "code",
   "execution_count": 12,
   "metadata": {},
   "outputs": [
    {
     "name": "stdout",
     "output_type": "stream",
     "text": [
      "['Office', 'Hallway', 'Living Room']\n",
      "['Office', 'Hallway', 'Living Room']\n",
      "['Office', 'Office', 'Office']\n",
      "['Office', 'Hallway', 'Living Room']\n"
     ]
    }
   ],
   "source": [
    "def sample(x1, a1, a2):\n",
    "    values = VARIABLES.assignment({X[1]:x1, A[1]: a1}) # initial state and action\n",
    "    x2 = vacuum.rooms[bayesNet.at(1).sample(values)]\n",
    "    values = VARIABLES.assignment({X[2]:x2, A[2]: a2}) # next state and action\n",
    "    x3 = vacuum.rooms[bayesNet.at(2).sample(values)]\n",
    "    return [x1, x2, x3]\n",
    "\n",
    "for i in range(4):\n",
    "    print(sample(\"Office\", \"R\",\"U\"))\n"
   ]
  },
  {
   "cell_type": "markdown",
   "metadata": {},
   "source": [
    "While simple, simulating from a forward model is a rather important\n",
    "technique, and underlies some of the recent successes in deep\n",
    "reinforcement learning, as well as the success of DeepMind in beating\n",
    "the world’s best players of the game of Go.\n",
    "\n",
    "### Exercise\n",
    "\n",
    "Generalize the above forward sampling algorithm to an arbitrary number of actions. Hint: you will have to make sure the variables are defined, and the Bayes Net is extended properly."
   ]
  },
  {
   "cell_type": "markdown",
   "metadata": {},
   "source": [
    "## Bayes Nets\n",
    "\n",
    ">  Bayes nets provide a graphical language to string together conditional probabilities into a generative world model.\n",
    "\n",
    "A Markov chain is a special case of the more general **Bayes network**.\n",
    "A Bayes net is a directed *acyclic* graph (DAG) describing a factored\n",
    "probability distribution over a set of random variables. \n",
    "By the term *factored probability distribution*, we mean that the\n",
    "probability distribution is expressed as a product of terms, each of which is\n",
    "called a factor.\n",
    "\n",
    "For Bayes nets, the joint probability distribution for a set\n",
    "of random variables, $X_1, \\dots, X_n$ is expressed in terms\n",
    "of conditional probabilities for the individual variables $X_i$\n",
    "as\n",
    "\n",
    "$$P(X_1, \\dots , X_n)=\\prod_{i=1}^{n}P(X_{i}|\\Pi_{i})$$ \n",
    "\n",
    "where $n$ is the number\n",
    "of variables, and $\\Pi_{i}$ denotes the set of parents for variable\n",
    "$X_{i}$. An example of a Bayes net is shown in the Figure below,\n",
    "and it is simply a graphical representation of which random variables’s\n",
    "CPT depend on which other variables. In this case, the joint\n",
    "distribution can be read off as\n",
    "\n",
    "$$P(W,X,Y,Z)=P(W|X,Z)P(X|Y,Z)P(Y|Z)P(Z).$$\n",
    "\n",
    "Note that the order in which\n",
    "we multiply the conditionals does not matter, but we typically prefer to put the parents more towards the right, as above."
   ]
  },
  {
   "cell_type": "code",
   "execution_count": 10,
   "metadata": {},
   "outputs": [
    {
     "data": {
      "image/svg+xml": [
       "<?xml version=\"1.0\" encoding=\"UTF-8\" standalone=\"no\"?>\n",
       "<!DOCTYPE svg PUBLIC \"-//W3C//DTD SVG 1.1//EN\"\n",
       " \"http://www.w3.org/Graphics/SVG/1.1/DTD/svg11.dtd\">\n",
       "<!-- Generated by graphviz version 2.50.0 (0)\n",
       " -->\n",
       "<!-- Pages: 1 -->\n",
       "<svg width=\"128pt\" height=\"260pt\"\n",
       " viewBox=\"0.00 0.00 128.00 260.00\" xmlns=\"http://www.w3.org/2000/svg\" xmlns:xlink=\"http://www.w3.org/1999/xlink\">\n",
       "<g id=\"graph0\" class=\"graph\" transform=\"scale(1 1) rotate(0) translate(4 256)\">\n",
       "<polygon fill=\"white\" stroke=\"transparent\" points=\"-4,4 -4,-256 124,-256 124,4 -4,4\"/>\n",
       "<!-- var5 -->\n",
       "<g id=\"node1\" class=\"node\">\n",
       "<title>var5</title>\n",
       "<ellipse fill=\"none\" stroke=\"black\" cx=\"27\" cy=\"-18\" rx=\"27\" ry=\"18\"/>\n",
       "<text text-anchor=\"middle\" x=\"27\" y=\"-14.3\" font-family=\"Times,serif\" font-size=\"14.00\">W</text>\n",
       "</g>\n",
       "<!-- var6 -->\n",
       "<g id=\"node2\" class=\"node\">\n",
       "<title>var6</title>\n",
       "<ellipse fill=\"none\" stroke=\"black\" cx=\"55\" cy=\"-90\" rx=\"27\" ry=\"18\"/>\n",
       "<text text-anchor=\"middle\" x=\"55\" y=\"-86.3\" font-family=\"Times,serif\" font-size=\"14.00\">X</text>\n",
       "</g>\n",
       "<!-- var6&#45;&gt;var5 -->\n",
       "<g id=\"edge4\" class=\"edge\">\n",
       "<title>var6&#45;&gt;var5</title>\n",
       "<path fill=\"none\" stroke=\"black\" d=\"M48.36,-72.41C45.09,-64.22 41.06,-54.14 37.38,-44.95\"/>\n",
       "<polygon fill=\"black\" stroke=\"black\" points=\"40.55,-43.45 33.59,-35.47 34.05,-46.05 40.55,-43.45\"/>\n",
       "</g>\n",
       "<!-- var7 -->\n",
       "<g id=\"node3\" class=\"node\">\n",
       "<title>var7</title>\n",
       "<ellipse fill=\"none\" stroke=\"black\" cx=\"93\" cy=\"-162\" rx=\"27\" ry=\"18\"/>\n",
       "<text text-anchor=\"middle\" x=\"93\" y=\"-158.3\" font-family=\"Times,serif\" font-size=\"14.00\">Y</text>\n",
       "</g>\n",
       "<!-- var7&#45;&gt;var6 -->\n",
       "<g id=\"edge2\" class=\"edge\">\n",
       "<title>var7&#45;&gt;var6</title>\n",
       "<path fill=\"none\" stroke=\"black\" d=\"M84.19,-144.76C79.58,-136.28 73.84,-125.71 68.68,-116.2\"/>\n",
       "<polygon fill=\"black\" stroke=\"black\" points=\"71.61,-114.27 63.77,-107.15 65.46,-117.61 71.61,-114.27\"/>\n",
       "</g>\n",
       "<!-- var8 -->\n",
       "<g id=\"node4\" class=\"node\">\n",
       "<title>var8</title>\n",
       "<ellipse fill=\"none\" stroke=\"black\" cx=\"38\" cy=\"-234\" rx=\"27\" ry=\"18\"/>\n",
       "<text text-anchor=\"middle\" x=\"38\" y=\"-230.3\" font-family=\"Times,serif\" font-size=\"14.00\">Z</text>\n",
       "</g>\n",
       "<!-- var8&#45;&gt;var5 -->\n",
       "<g id=\"edge5\" class=\"edge\">\n",
       "<title>var8&#45;&gt;var5</title>\n",
       "<path fill=\"none\" stroke=\"black\" d=\"M33.85,-216.12C27.14,-186.86 15.04,-124.76 19,-72 19.64,-63.52 20.84,-54.34 22.12,-46.04\"/>\n",
       "<polygon fill=\"black\" stroke=\"black\" points=\"25.58,-46.55 23.75,-36.11 18.68,-45.41 25.58,-46.55\"/>\n",
       "</g>\n",
       "<!-- var8&#45;&gt;var6 -->\n",
       "<g id=\"edge3\" class=\"edge\">\n",
       "<title>var8&#45;&gt;var6</title>\n",
       "<path fill=\"none\" stroke=\"black\" d=\"M40.05,-215.87C42.95,-191.67 48.27,-147.21 51.72,-118.39\"/>\n",
       "<polygon fill=\"black\" stroke=\"black\" points=\"55.23,-118.53 52.94,-108.19 48.28,-117.7 55.23,-118.53\"/>\n",
       "</g>\n",
       "<!-- var8&#45;&gt;var7 -->\n",
       "<g id=\"edge1\" class=\"edge\">\n",
       "<title>var8&#45;&gt;var7</title>\n",
       "<path fill=\"none\" stroke=\"black\" d=\"M49.93,-217.81C57.21,-208.55 66.66,-196.52 74.85,-186.09\"/>\n",
       "<polygon fill=\"black\" stroke=\"black\" points=\"77.66,-188.18 81.09,-178.16 72.16,-183.86 77.66,-188.18\"/>\n",
       "</g>\n",
       "</g>\n",
       "</svg>\n"
      ],
      "text/plain": [
       "<gtbook.display.show at 0x1188c4ac0>"
      ]
     },
     "execution_count": 10,
     "metadata": {},
     "output_type": "execute_result"
    }
   ],
   "source": [
    "wxyz = gtsam.DiscreteBayesNet()\n",
    "W1 = VARIABLES.binary(\"W\")\n",
    "X1 = VARIABLES.binary(\"X\")\n",
    "Y1 = VARIABLES.binary(\"Y\")\n",
    "Z1 = VARIABLES.binary(\"Z\")\n",
    "wxyz.add(W1, [X1, Z1], \"1/1 1/1 1/1 1/1\")\n",
    "wxyz.add(X1, [Y1, Z1], \"1/1 1/1 1/1 1/1\")\n",
    "wxyz.add(Y1, [Z1], \"1/1 1/1\")\n",
    "wxyz.add(Z1, \"1/1\")\n",
    "show(wxyz)\n"
   ]
  },
  {
   "cell_type": "markdown",
   "metadata": {},
   "source": [
    "Note that the above graph has cycles, but the cycles are only in the underlying *undirected* graph, not in the directed graph. Directed cycles, i.e. cycles with a consistent direction, are not allowed."
   ]
  },
  {
   "cell_type": "markdown",
   "metadata": {},
   "source": [
    "Bayes nets can be very efficient representations of complex\n",
    "probability distributions, as they encode the dependence and especially\n",
    "independence relationships between the variables.\n",
    "The Bayes net above was created assuming binary variables, and hence did not take\n",
    "a lot of effort to specify, but as we saw above, even for relatively small state spaces \n",
    "the complexity of specifying CPTs can be daunting.\n",
    "\n",
    "If we were to construct a full table of probabilities for each possible\n",
    "outcome of the variables $W$,$X$,$Y$, and $Z$, the table could be quite\n",
    "long. For example, if we assume they all have 10 possible values, \n",
    "then the table required to represent the full joint distribution will have $10^{4}$ entries,\n",
    "i.e., $10,000$ unique values. You\n",
    "can save a tiny bit, because they have to sum up to 1, so strictly\n",
    "speaking we need only $9,999$ values. In contrast, we can tally how many\n",
    "entries all four CPT tables have for the Bayes net above. \n",
    "This is shown in the following table.\n",
    "\n",
    "|     CPT    | \\# entries |\n",
    "|-|-|\n",
    "|   *P(Z)*   |      9     |\n",
    "|  *P(Y\\|Z)*  |     90     |\n",
    "| *P(X\\|Y,Z)* |     900    |\n",
    "| *P(W\\|X,Z)* |     900    |\n",
    "\n",
    "For example, $P(X|Y,Z)$ has 900 entries, i.e., 9\n",
    "(independent) entries for each of 100 possible combinations of $Y$ and\n",
    "$Z$. Hence, the total number of parameters we need is only $1,899$,\n",
    "which is significantly less than $9,999$."
   ]
  },
  {
   "cell_type": "markdown",
   "metadata": {},
   "source": [
    "## Factored State Representations\n",
    "\n",
    "Factored state representations are useful if the state of the robot can\n",
    "be described using features that are relatively independent of each\n",
    "other. Continuing our example, the robot vacuum cleaner might also run\n",
    "out of battery power, so we could associate a different variable with\n",
    "its battery status, e.g., `empty`, `half`, or `full`.\n",
    "The state of the robot would then be specified by the combination of\n",
    "two variables: the room the robot is in, and its battery status. \n",
    "Note that now the total number of possible states\n",
    "is combinatorial: if there are five rooms and three different battery\n",
    "levels, we have a total of 15 possible states for the robot.\n",
    "\n",
    "A possible model for battery life could be the following transition table, which is independent of which action was taken, and will always progress from `full` to `half`, then from `half` to `empty`, and of course once the battery is empty it will stay empty:"
   ]
  },
  {
   "cell_type": "code",
   "execution_count": 11,
   "metadata": {},
   "outputs": [
    {
     "data": {
      "text/html": [
       "<div>\n",
       "<p>  <i>P(B2|B1):</i></p>\n",
       "<table class='DiscreteConditional'>\n",
       "  <thead>\n",
       "    <tr><th><i>B1</i></th><th>full</th><th>half</th><th>empty</th></tr>\n",
       "  </thead>\n",
       "  <tbody>\n",
       "    <tr><th>full</th><td>0.9</td><td>0.1</td><td>0</td></tr>\n",
       "    <tr><th>half</th><td>0</td><td>0.9</td><td>0.1</td></tr>\n",
       "    <tr><th>empty</th><td>0</td><td>0</td><td>1</td></tr>\n",
       "  </tbody>\n",
       "</table>\n",
       "</div>"
      ],
      "text/plain": [
       "<gtbook.display.pretty at 0x1188c46d0>"
      ]
     },
     "execution_count": 11,
     "metadata": {},
     "output_type": "execute_result"
    }
   ],
   "source": [
    "battery_states = [\"full\", \"half\", \"empty\"]\n",
    "B = VARIABLES.discrete_series(\"B\", range(1,N+1), battery_states)\n",
    "spec_b = \"9/1/0 0/9/1 0/0/1 \"\n",
    "pretty(gtsam.DiscreteConditional(B[2], [B[1]], spec_b))\n"
   ]
  },
  {
   "cell_type": "markdown",
   "metadata": {},
   "source": [
    "The graphical model approach allows us to easily extend probabilistic\n",
    "actions to factored state representations. The code below shows one way to do it: "
   ]
  },
  {
   "cell_type": "code",
   "execution_count": 12,
   "metadata": {},
   "outputs": [
    {
     "data": {
      "image/svg+xml": [
       "<?xml version=\"1.0\" encoding=\"UTF-8\" standalone=\"no\"?>\n",
       "<!DOCTYPE svg PUBLIC \"-//W3C//DTD SVG 1.1//EN\"\n",
       " \"http://www.w3.org/Graphics/SVG/1.1/DTD/svg11.dtd\">\n",
       "<!-- Generated by graphviz version 2.50.0 (0)\n",
       " -->\n",
       "<!-- Pages: 1 -->\n",
       "<svg width=\"206pt\" height=\"188pt\"\n",
       " viewBox=\"0.00 0.00 206.00 188.00\" xmlns=\"http://www.w3.org/2000/svg\" xmlns:xlink=\"http://www.w3.org/1999/xlink\">\n",
       "<g id=\"graph0\" class=\"graph\" transform=\"scale(1 1) rotate(0) translate(4 184)\">\n",
       "<polygon fill=\"white\" stroke=\"transparent\" points=\"-4,4 -4,-184 202,-184 202,4 -4,4\"/>\n",
       "<!-- var4683743612465315841 -->\n",
       "<g id=\"node1\" class=\"node\">\n",
       "<title>var4683743612465315841</title>\n",
       "<polygon fill=\"none\" stroke=\"black\" points=\"54,-180 0,-180 0,-144 54,-144 54,-180\"/>\n",
       "<text text-anchor=\"middle\" x=\"27\" y=\"-158.3\" font-family=\"Times,serif\" font-size=\"14.00\">A1</text>\n",
       "</g>\n",
       "<!-- var4755801206503243778 -->\n",
       "<g id=\"node4\" class=\"node\">\n",
       "<title>var4755801206503243778</title>\n",
       "<ellipse fill=\"none\" stroke=\"black\" cx=\"99\" cy=\"-18\" rx=\"27\" ry=\"18\"/>\n",
       "<text text-anchor=\"middle\" x=\"99\" y=\"-14.3\" font-family=\"Times,serif\" font-size=\"14.00\">B2</text>\n",
       "</g>\n",
       "<!-- var4683743612465315841&#45;&gt;var4755801206503243778 -->\n",
       "<g id=\"edge5\" class=\"edge\">\n",
       "<title>var4683743612465315841&#45;&gt;var4755801206503243778</title>\n",
       "<path fill=\"none\" stroke=\"black\" d=\"M36.12,-143.76C48.7,-118.6 71.45,-73.1 85.86,-44.28\"/>\n",
       "<polygon fill=\"black\" stroke=\"black\" points=\"89.06,-45.7 90.4,-35.19 82.8,-42.57 89.06,-45.7\"/>\n",
       "</g>\n",
       "<!-- var6341068275337658370 -->\n",
       "<g id=\"node7\" class=\"node\">\n",
       "<title>var6341068275337658370</title>\n",
       "<ellipse fill=\"none\" stroke=\"black\" cx=\"99\" cy=\"-90\" rx=\"27\" ry=\"18\"/>\n",
       "<text text-anchor=\"middle\" x=\"99\" y=\"-86.3\" font-family=\"Times,serif\" font-size=\"14.00\">X2</text>\n",
       "</g>\n",
       "<!-- var4683743612465315841&#45;&gt;var6341068275337658370 -->\n",
       "<g id=\"edge8\" class=\"edge\">\n",
       "<title>var4683743612465315841&#45;&gt;var6341068275337658370</title>\n",
       "<path fill=\"none\" stroke=\"black\" d=\"M45.17,-143.83C54.73,-134.27 66.53,-122.47 76.65,-112.35\"/>\n",
       "<polygon fill=\"black\" stroke=\"black\" points=\"79.4,-114.55 83.99,-105.01 74.45,-109.6 79.4,-114.55\"/>\n",
       "</g>\n",
       "<!-- var4683743612465315842 -->\n",
       "<g id=\"node2\" class=\"node\">\n",
       "<title>var4683743612465315842</title>\n",
       "<polygon fill=\"none\" stroke=\"black\" points=\"126,-180 72,-180 72,-144 126,-144 126,-180\"/>\n",
       "<text text-anchor=\"middle\" x=\"99\" y=\"-158.3\" font-family=\"Times,serif\" font-size=\"14.00\">A2</text>\n",
       "</g>\n",
       "<!-- var4755801206503243779 -->\n",
       "<g id=\"node5\" class=\"node\">\n",
       "<title>var4755801206503243779</title>\n",
       "<ellipse fill=\"none\" stroke=\"black\" cx=\"171\" cy=\"-18\" rx=\"27\" ry=\"18\"/>\n",
       "<text text-anchor=\"middle\" x=\"171\" y=\"-14.3\" font-family=\"Times,serif\" font-size=\"14.00\">B3</text>\n",
       "</g>\n",
       "<!-- var4683743612465315842&#45;&gt;var4755801206503243779 -->\n",
       "<g id=\"edge1\" class=\"edge\">\n",
       "<title>var4683743612465315842&#45;&gt;var4755801206503243779</title>\n",
       "<path fill=\"none\" stroke=\"black\" d=\"M108.12,-143.76C120.7,-118.6 143.45,-73.1 157.86,-44.28\"/>\n",
       "<polygon fill=\"black\" stroke=\"black\" points=\"161.06,-45.7 162.4,-35.19 154.8,-42.57 161.06,-45.7\"/>\n",
       "</g>\n",
       "<!-- var6341068275337658371 -->\n",
       "<g id=\"node8\" class=\"node\">\n",
       "<title>var6341068275337658371</title>\n",
       "<ellipse fill=\"none\" stroke=\"black\" cx=\"171\" cy=\"-90\" rx=\"27\" ry=\"18\"/>\n",
       "<text text-anchor=\"middle\" x=\"171\" y=\"-86.3\" font-family=\"Times,serif\" font-size=\"14.00\">X3</text>\n",
       "</g>\n",
       "<!-- var4683743612465315842&#45;&gt;var6341068275337658371 -->\n",
       "<g id=\"edge4\" class=\"edge\">\n",
       "<title>var4683743612465315842&#45;&gt;var6341068275337658371</title>\n",
       "<path fill=\"none\" stroke=\"black\" d=\"M117.17,-143.83C126.73,-134.27 138.53,-122.47 148.65,-112.35\"/>\n",
       "<polygon fill=\"black\" stroke=\"black\" points=\"151.4,-114.55 155.99,-105.01 146.45,-109.6 151.4,-114.55\"/>\n",
       "</g>\n",
       "<!-- var4755801206503243777 -->\n",
       "<g id=\"node3\" class=\"node\">\n",
       "<title>var4755801206503243777</title>\n",
       "<ellipse fill=\"none\" stroke=\"black\" cx=\"27\" cy=\"-18\" rx=\"27\" ry=\"18\"/>\n",
       "<text text-anchor=\"middle\" x=\"27\" y=\"-14.3\" font-family=\"Times,serif\" font-size=\"14.00\">B1</text>\n",
       "</g>\n",
       "<!-- var4755801206503243777&#45;&gt;var4755801206503243778 -->\n",
       "<g id=\"edge6\" class=\"edge\">\n",
       "<title>var4755801206503243777&#45;&gt;var4755801206503243778</title>\n",
       "<path fill=\"none\" stroke=\"black\" d=\"M54.22,-18C56.64,-18 59.11,-18 61.6,-18\"/>\n",
       "<polygon fill=\"black\" stroke=\"black\" points=\"61.74,-21.5 71.74,-18 61.74,-14.5 61.74,-21.5\"/>\n",
       "</g>\n",
       "<!-- var4755801206503243778&#45;&gt;var4755801206503243779 -->\n",
       "<g id=\"edge2\" class=\"edge\">\n",
       "<title>var4755801206503243778&#45;&gt;var4755801206503243779</title>\n",
       "<path fill=\"none\" stroke=\"black\" d=\"M126.22,-18C128.64,-18 131.11,-18 133.6,-18\"/>\n",
       "<polygon fill=\"black\" stroke=\"black\" points=\"133.74,-21.5 143.74,-18 133.74,-14.5 133.74,-21.5\"/>\n",
       "</g>\n",
       "<!-- var6341068275337658369 -->\n",
       "<g id=\"node6\" class=\"node\">\n",
       "<title>var6341068275337658369</title>\n",
       "<ellipse fill=\"none\" stroke=\"black\" cx=\"27\" cy=\"-90\" rx=\"27\" ry=\"18\"/>\n",
       "<text text-anchor=\"middle\" x=\"27\" y=\"-86.3\" font-family=\"Times,serif\" font-size=\"14.00\">X1</text>\n",
       "</g>\n",
       "<!-- var6341068275337658369&#45;&gt;var6341068275337658370 -->\n",
       "<g id=\"edge7\" class=\"edge\">\n",
       "<title>var6341068275337658369&#45;&gt;var6341068275337658370</title>\n",
       "<path fill=\"none\" stroke=\"black\" d=\"M54.22,-90C56.64,-90 59.11,-90 61.6,-90\"/>\n",
       "<polygon fill=\"black\" stroke=\"black\" points=\"61.74,-93.5 71.74,-90 61.74,-86.5 61.74,-93.5\"/>\n",
       "</g>\n",
       "<!-- var6341068275337658370&#45;&gt;var6341068275337658371 -->\n",
       "<g id=\"edge3\" class=\"edge\">\n",
       "<title>var6341068275337658370&#45;&gt;var6341068275337658371</title>\n",
       "<path fill=\"none\" stroke=\"black\" d=\"M126.22,-90C128.64,-90 131.11,-90 133.6,-90\"/>\n",
       "<polygon fill=\"black\" stroke=\"black\" points=\"133.74,-93.5 143.74,-90 133.74,-86.5 133.74,-93.5\"/>\n",
       "</g>\n",
       "</g>\n",
       "</svg>\n"
      ],
      "text/plain": [
       "<gtbook.display.show at 0x118a0c8b0>"
      ]
     },
     "execution_count": 12,
     "metadata": {},
     "output_type": "execute_result"
    }
   ],
   "source": [
    "factored = gtsam.DiscreteBayesNet()\n",
    "factored.add(state_prior)\n",
    "factored.add(B[1], [], \"1/0/0\") # initial battery state\n",
    "for k in range(1, N):\n",
    "    factored.add(X[k+1], [X[k], A[k]], vacuum.action_spec) # motion model for location\n",
    "    factored.add(B[k+1], [A[k], B[k]], \"\".join([spec_b]*4)) # battery evolution model\n",
    "show(factored, hints={\"A\":2, \"X\":1, \"B\":0}, boxes={A[1][0],A[2][0]})\n"
   ]
  },
  {
   "cell_type": "markdown",
   "metadata": {},
   "source": [
    "You can see that under the transition models chosen, there are now Markov chains, and these are indpendent when the action sequence is *given*."
   ]
  },
  {
   "cell_type": "markdown",
   "metadata": {},
   "source": [
    "### Exercise\n",
    "Note that the above model makes a number of strong statements about the nature of the world:\n",
    "1. The next battery state does not depend on where we are in the world. This seems like an OK assumption. Still, can you think of situations where this is not a realistic assumption?\n",
    "2. The next state does not depend on the battery life. Maybe this is not so defensible: clearly, if the battery is empty the robot cannot move, and the next state is the same as the previous state. It is worthwhile to think about what you would change above to make a more realistic model of the world."
   ]
  },
  {
   "cell_type": "markdown",
   "metadata": {},
   "source": [
    "## GTSAM 101\n",
    "\n",
    "> The GTSAM concepts used in this section, explained."
   ]
  },
  {
   "cell_type": "markdown",
   "metadata": {},
   "source": [
    "Above, we use the `gtsam.DiscreteBayesNet` class, and in particular these methods:\n",
    "\n",
    "- `add(self:, key: Tuple[int, int], parents: List[Tuple[int, int]], spec: str) -> None`: adds a conditional with the same arguments as the `gtsam.DiscreteConditional` constructor.\n",
    "- `at(self, i: int) -> gtsam.DiscreteConditional`: retrieves the $i^{th}$ conditional added."
   ]
  },
  {
   "cell_type": "markdown",
   "metadata": {},
   "source": [
    "We used a sleight of hand above to extend the battery depletion model to depend on the navigation action. The following is a bit of python code that replicates our specification four times:"
   ]
  },
  {
   "cell_type": "code",
   "execution_count": 13,
   "metadata": {},
   "outputs": [
    {
     "data": {
      "text/plain": [
       "'9/1/0 0/9/1 0/0/1 9/1/0 0/9/1 0/0/1 9/1/0 0/9/1 0/0/1 9/1/0 0/9/1 0/0/1 '"
      ]
     },
     "execution_count": 13,
     "metadata": {},
     "output_type": "execute_result"
    }
   ],
   "source": [
    "\"\".join([spec_b]*4)\n"
   ]
  },
  {
   "cell_type": "markdown",
   "metadata": {},
   "source": [
    "We then made sure to specify the action *before* the previous battery state, so that the string above works out. Below we pretty-print to  verify that this came out right:"
   ]
  },
  {
   "cell_type": "code",
   "execution_count": 14,
   "metadata": {},
   "outputs": [
    {
     "data": {
      "text/html": [
       "<div>\n",
       "<p>  <i>P(B2|A2,B1):</i></p>\n",
       "<table class='DiscreteConditional'>\n",
       "  <thead>\n",
       "    <tr><th><i>A2</i></th><th><i>B1</i></th><th>full</th><th>half</th><th>empty</th></tr>\n",
       "  </thead>\n",
       "  <tbody>\n",
       "    <tr><th>L</th><th>full</th><td>0.9</td><td>0.1</td><td>0</td></tr>\n",
       "    <tr><th>L</th><th>half</th><td>0</td><td>0.9</td><td>0.1</td></tr>\n",
       "    <tr><th>L</th><th>empty</th><td>0</td><td>0</td><td>1</td></tr>\n",
       "    <tr><th>R</th><th>full</th><td>0.9</td><td>0.1</td><td>0</td></tr>\n",
       "    <tr><th>R</th><th>half</th><td>0</td><td>0.9</td><td>0.1</td></tr>\n",
       "    <tr><th>R</th><th>empty</th><td>0</td><td>0</td><td>1</td></tr>\n",
       "    <tr><th>U</th><th>full</th><td>0.9</td><td>0.1</td><td>0</td></tr>\n",
       "    <tr><th>U</th><th>half</th><td>0</td><td>0.9</td><td>0.1</td></tr>\n",
       "    <tr><th>U</th><th>empty</th><td>0</td><td>0</td><td>1</td></tr>\n",
       "    <tr><th>D</th><th>full</th><td>0.9</td><td>0.1</td><td>0</td></tr>\n",
       "    <tr><th>D</th><th>half</th><td>0</td><td>0.9</td><td>0.1</td></tr>\n",
       "    <tr><th>D</th><th>empty</th><td>0</td><td>0</td><td>1</td></tr>\n",
       "  </tbody>\n",
       "</table>\n",
       "</div>"
      ],
      "text/plain": [
       "<gtbook.display.pretty at 0x1188c4a90>"
      ]
     },
     "execution_count": 14,
     "metadata": {},
     "output_type": "execute_result"
    }
   ],
   "source": [
    "pretty(gtsam.DiscreteConditional(B[2], [A[2], B[1]], \"\".join([spec_b]*4)))\n"
   ]
  },
  {
   "cell_type": "markdown",
   "metadata": {},
   "source": [
    "Of course, it is entirely possible to make the battery model *dependent* on the action chosen."
   ]
  },
  {
   "cell_type": "markdown",
   "metadata": {},
   "source": [
    "Finally, a word about the graphs above. You might wonder, why these graphs come out so beautifully positioned, e.g., to indicate time from left to right. This was accomplished with the `hints` argument, which positions variables series at an appropriate height. Similarly, the `boxes` argument (which takes `gtsam.Keys`, not tuples) indicates which variables should considered as given.\n",
    "\n",
    "These arguments are handled in the [`gtbook` library](https://gtbook.github.io/gtbook/), and are passed on in the appropriate format to the underlying GTSAM `dot` methods."
   ]
  }
 ],
 "metadata": {
  "colab": {
   "authorship_tag": "ABX9TyOWJ1do7sX2VVOgPTc45upi",
   "include_colab_link": true,
   "name": "S32_vacuum_actions.ipynb",
   "provenance": []
  },
  "kernelspec": {
   "display_name": "Python 3.8.12 ('gtbook')",
   "language": "python",
   "name": "python3"
  },
  "language_info": {
   "codemirror_mode": {
    "name": "ipython",
    "version": 3
   },
   "file_extension": ".py",
   "mimetype": "text/x-python",
   "name": "python",
   "nbconvert_exporter": "python",
   "pygments_lexer": "ipython3",
   "version": "3.8.12"
  },
  "latex_metadata": {
   "affiliation": "Georgia Institute of Technology",
   "author": "Frank Dellaert and Seth Hutchinson",
   "title": "Introduction to Robotics"
  },
  "vscode": {
   "interpreter": {
    "hash": "9f7376ced4243bb13dfcffa8a3ba834e0602aa8334cd3a1d8ba8d285f4628083"
   }
  }
 },
 "nbformat": 4,
 "nbformat_minor": 4
}
