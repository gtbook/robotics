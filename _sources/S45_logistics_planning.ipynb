{
 "cells": [
  {
   "cell_type": "markdown",
   "metadata": {
    "colab_type": "text",
    "id": "view-in-github",
    "tags": [
     "no-tex"
    ]
   },
   "source": [
    "<a href=\"https://colab.research.google.com/github/gtbook/robotics/blob/main/S45_logistics_planning.ipynb\" target=\"_parent\"><img src=\"https://colab.research.google.com/assets/colab-badge.svg\" alt=\"Open In Colab\"/></a>"
   ]
  },
  {
   "cell_type": "code",
   "execution_count": 1,
   "metadata": {
    "id": "JoW4C_OkOMhe",
    "tags": [
     "remove-cell"
    ]
   },
   "outputs": [
    {
     "name": "stdout",
     "output_type": "stream",
     "text": [
      "Note: you may need to restart the kernel to use updated packages.\n"
     ]
    }
   ],
   "source": [
    "%pip install -q -U gtbook\n"
   ]
  },
  {
   "cell_type": "code",
   "execution_count": 2,
   "metadata": {
    "id": "10-snNDwOSuC",
    "tags": [
     "remove-cell"
    ]
   },
   "outputs": [],
   "source": [
    "from numpy.random import default_rng\n",
    "rng = default_rng()\n",
    "import plotly.express as px\n",
    "try:\n",
    "    import google.colab\n",
    "except:\n",
    "    import plotly.io as pio\n",
    "    pio.renderers.default = \"png\"\n",
    "\n",
    "from gtbook import logistics\n"
   ]
  },
  {
   "attachments": {},
   "cell_type": "markdown",
   "metadata": {
    "id": "nAvx4-UCNzt2"
   },
   "source": [
    "# Planning for Logistics\n",
    "\n",
    "> Our warehouse robot needs to know its location in the warehouse with more precision than the vacuuming robot.\n",
    "\n",
    "<img src=\"Figures4/S45-Warehouse_robots-05.jpg\" alt=\"Splash image with warehouse robot thinking\" width=\"40%\" align=center style=\"vertical-align:middle;margin:10px 0px\">\n",
    "\n",
    "In Chapter 3, we modeled a robot system as an MDP, and saw how to compute both\n",
    "the optimal value function and the corresponding optimal policy.\n",
    "The state space in Chapter 3 was very simple, having only five states.\n",
    "For our vacuuming robot, it was sufficient to know the room in which the\n",
    "robot was located, but this level of detail is not sufficient for our warehouse\n",
    "robot.\n",
    "In order to position itself accurately with respect to the shelves that\n",
    "contain inventory, the warehouse robot needs a quantitative description\n",
    "of its location, namely, coordinates in a warehouse coordinate frame.\n",
    "Therefore, for our warehouse robot, we represent\n",
    "the state space by a discrete grid, whose coordinates\n",
    "define the location of the robot.\n",
    "This representation has significantly more states than for the vacuuming robot.\n",
    "In this section, we show how to perform value iteration on such a grid, and\n",
    "briefly discuss the implications of estimating the state using sensor data.\n"
   ]
  },
  {
   "cell_type": "markdown",
   "metadata": {},
   "source": [
    "## Value Iteration in 2D\n",
    "\n",
    "> It works, but can be slow."
   ]
  },
  {
   "cell_type": "markdown",
   "metadata": {},
   "source": [
    "Recall that value iteration starts with an initial guess, $V^0$, and at each iteration we update\n",
    "our approximation of the value function by the update rule:\n",
    "\n",
    "$$\n",
    "V^{k+1}(x) \\leftarrow \\max_a \\left\\{ \\bar{R}(x,a) + \\gamma \\sum_{x'} P(x'|x, a) V^k(x')   \\right\\}\n",
    "= \\max_a Q(x, a; V^k)\n",
    "$$\n",
    "\n",
    "This can be *very* expensive if applied naively, when the number of states is large. Indeed, if we use the 5000-state finite element discretization of the warehouse, the conditional probability table (CPT) above contains $5k \\times 4 \\times 5k = 100M$ entries.\n",
    "\n",
    "There are ways to deal with this, computationally. Indeed, most transitions have zero probability, and hence we could store the CPT in a *sparse* multi-dimensional array instead. Alternatively, we can implement the Q value calculation as a *function*. This is what we will do below, and we will also immediately switch to using the 2D coordinates $(i,j)$ for the discretized cells:"
   ]
  },
  {
   "cell_type": "code",
   "execution_count": 3,
   "metadata": {},
   "outputs": [],
   "source": [
    "goal = 35, 50\n",
    "proximity = logistics.base_map + logistics.proximity_map_on\n",
    "\n",
    "def Q_value(x, a, V):\n",
    "    \"\"\"Given a state x=(i,j) action a, and value image, calculate Q value.\"\"\"\n",
    "    i, j = x\n",
    "    if x==goal: return 0 # only reward when *first* arriving at goal\n",
    "    if logistics.base_map[i,j]: return 0 # invalid state\n",
    "    if a == 0: next = (i,j-1) if j>0 else x # LEFT\n",
    "    if a == 1: next = (i,j+1) if j<99 else x # RIGHT\n",
    "    if a == 2: next = (i-1,j) if i>0 else x # UP\n",
    "    if a == 3: next = (i+1,j) if i<49 else x # DOWN\n",
    "    reward = 100 if next==goal else 0\n",
    "    r, c = next\n",
    "    if logistics.proximity_map_on[i,j]: reward -= 50 # in proximity is bad!\n",
    "    if logistics.proximity_map_on[r,c]: reward -= 50 # as is going in proximity.\n",
    "    return reward + 0.975 * V[r,c]\n",
    "\n",
    "def update_V(x, V):\n",
    "    \"\"\"Given a state x=(i,j) and value image, calculate updated value.\"\"\"\n",
    "    Q_x = [Q_value(x, a, V) for a in range(4)]\n",
    "    return max(Q_x)\n"
   ]
  },
  {
   "cell_type": "markdown",
   "metadata": {},
   "source": [
    "Note above we assumed actions were *deterministic*, but the function can be easily adapted to non-deterministic actions. We awarded 100 points upon reaching the goal, but make sure that happens only once, or otherwise the value of that state will be infinite. In addition, when the state is near an obstacle (we use the `proximity_map_on` likelihood image from Section 4.3), the agent gets punished by 100 points. Below, we do value iteration using a brute force loop, which is still remarkably fast:"
   ]
  },
  {
   "cell_type": "code",
   "execution_count": 4,
   "metadata": {},
   "outputs": [
    {
     "ename": "NameError",
     "evalue": "name 'np' is not defined",
     "output_type": "error",
     "traceback": [
      "\u001b[0;31m---------------------------------------------------------------------------\u001b[0m",
      "\u001b[0;31mNameError\u001b[0m                                 Traceback (most recent call last)",
      "File \u001b[0;32m<timed exec>:1\u001b[0m\n",
      "\u001b[0;31mNameError\u001b[0m: name 'np' is not defined"
     ]
    }
   ],
   "source": [
    "%%time\n",
    "I, J = np.meshgrid(range(50), range(100), indexing='ij')\n",
    "states = np.dstack((I, J)).reshape(5000,2)\n",
    "k = 0\n",
    "V_k = np.full((50,100), 0.0)\n",
    "error = float('inf')\n",
    "while error>1e-5:\n",
    "    V_plus = np.empty((50,100), float)\n",
    "    for i,j in states:\n",
    "        V_plus[i,j] = update_V((i,j), V_k)\n",
    "    error = np.max(np.abs(V_plus-V_k))\n",
    "    V_k = V_plus\n",
    "    k += 1\n",
    "print(f\"after {k} iterations, error = {error}\")\n"
   ]
  },
  {
   "cell_type": "code",
   "execution_count": 5,
   "metadata": {},
   "outputs": [
    {
     "ename": "NameError",
     "evalue": "name 'V_k' is not defined",
     "output_type": "error",
     "traceback": [
      "\u001b[0;31m---------------------------------------------------------------------------\u001b[0m",
      "\u001b[0;31mNameError\u001b[0m                                 Traceback (most recent call last)",
      "Cell \u001b[0;32mIn[5], line 1\u001b[0m\n\u001b[0;32m----> 1\u001b[0m px\u001b[38;5;241m.\u001b[39mimshow(\u001b[43mV_k\u001b[49m, color_continuous_scale\u001b[38;5;241m=\u001b[39m\u001b[38;5;124m'\u001b[39m\u001b[38;5;124mTurbo\u001b[39m\u001b[38;5;124m'\u001b[39m,origin\u001b[38;5;241m=\u001b[39m\u001b[38;5;124m\"\u001b[39m\u001b[38;5;124mupper\u001b[39m\u001b[38;5;124m\"\u001b[39m, aspect\u001b[38;5;241m=\u001b[39m\u001b[38;5;124m'\u001b[39m\u001b[38;5;124mequal\u001b[39m\u001b[38;5;124m'\u001b[39m)\n",
      "\u001b[0;31mNameError\u001b[0m: name 'V_k' is not defined"
     ]
    }
   ],
   "source": [
    "px.imshow(V_k, color_continuous_scale='Turbo',origin=\"upper\", aspect='equal')\n"
   ]
  },
  {
   "cell_type": "markdown",
   "metadata": {},
   "source": [
    "Notice that the *gradient* of the value function determines the optimal policy: at any cell, we can just look around in all 4 directions and move to the cell with the largest value.\n",
    "\n",
    "### Thought Exercise\n",
    "\n",
    "Why might the algorithm terminate after 86 iterations?"
   ]
  },
  {
   "cell_type": "markdown",
   "metadata": {},
   "source": [
    "## The Intuition behind Value Iteration\n",
    "\n",
    "> Costs and rewards propagate.\n",
    "\n",
    "It is instructive to look at an animation for how the value function evolves in successive iterations of the value iteration algorithm:"
   ]
  },
  {
   "cell_type": "markdown",
   "metadata": {},
   "source": [
    "<figure id=\"fig:value\">\n",
    "<img src=\"https://github.com/gtbook/robotics/blob/main/Figures4/value.gif?raw=1\" style=\"width:14cm\" alt=\"\">\n",
    "<figcaption>The <b>value iteration</b> algorithm, animated.</figcaption>\n",
    "</figure>"
   ]
  },
  {
   "cell_type": "markdown",
   "metadata": {},
   "source": [
    "The most prominent phenomenon that one can make out in the animation above is that the reward from reaching the goal state, in the middle of the warehouse, gradually propagates towards every location. It gradually decreases in value because of the discount factor. It also does not penetrate the obstacles in the map, because those states simply have a value of zero.\n",
    "\n",
    "There is a deep connection between value iteration and the all-source-shortest-path algorithm that you might have seen in an algorithms class.\n",
    "Deterministic actions set up a graph, and while in this case we have no penalty to moving in the the graph, the discount factor plays the same role in practice.\n",
    "In fact, if we set the discount factor to zero and give actions a cost, both algorithms will return identical results."
   ]
  },
  {
   "cell_type": "markdown",
   "metadata": {},
   "source": [
    "## Closing the Loop\n",
    "\n",
    "> Adding a state estimator closes the sense-think-act loop.\n",
    "\n",
    "When the robot acts in the world, it senses, estimates its state, and executes a policy. We can take any of the algorithms from the last section and use them to estimate the robot's current state. The value function gives us a policy, which the robot can then execute. After that, repeat.\n",
    "\n",
    "To calculate the policy, we should take into account the uncertainty in actions. The policy we calculated above for the warehouse may not be optimal, because we assumed deterministic actions in the calculation of the Q values. In Section 3.5 we saw how to account for uncertain, Gaussian actions.\n",
    "We could do the same here to potentially obtain a better policy.\n",
    "In particular, the robot will be more cautious and stay even further away from obstacles,\n",
    "since the robot does not always perfectly execute commands.\n",
    "\n",
    "### Thought Exercise\n",
    "\n",
    "Estimating a single location for the robot is not always possible: posterior densities can be *multi-modal*, and so do not know any better than that we are in one of a number of possible locations. What should we do in that case?"
   ]
  },
  {
   "cell_type": "markdown",
   "metadata": {},
   "source": [
    "## Partially Observable MDPs\n",
    "\n",
    "> POMDPs facilitate planning to sense.\n",
    "\n",
    "To *really* calculate the optimal policy, we would need to know how future actions\n",
    "will affect sensing. Even when we take into account the uncertainty in the actions, there is something we have not taken into account: uncertain *sensing*. Indeed, when calculating the optimal policy we have assumed that we have perfect knowledge of the state. The probabilistic model that takes into account uncertain sensing is called a **partially observable Markov decision process**, or POMDP. \n",
    "\n",
    "While out of scope for this book, it is important to be aware of this limitation of the MDP framework. A POMDP policy could improve on this by planning to sense: for example, the robot could deliberately move closer to an RFID beacon on purpose, to re-localize the robot when it is not very certain about its location. \n",
    "\n",
    "POMDPs are computationally incredibly expensive, because the state is no longer simply *where* we are, but also *what we believe* the state is. Hence, POMDPs are about planning in the *belief space*, which is a very high-dimensional concept."
   ]
  }
 ],
 "metadata": {
  "colab": {
   "collapsed_sections": [],
   "include_colab_link": true,
   "name": "S45_logistics_planning.ipynb",
   "provenance": []
  },
  "interpreter": {
   "hash": "c6e4e9f98eb68ad3b7c296f83d20e6de614cb42e90992a65aa266555a3137d0d"
  },
  "kernelspec": {
   "display_name": "Python 3 (ipykernel)",
   "language": "python",
   "name": "python3"
  },
  "language_info": {
   "codemirror_mode": {
    "name": "ipython",
    "version": 3
   },
   "file_extension": ".py",
   "mimetype": "text/x-python",
   "name": "python",
   "nbconvert_exporter": "python",
   "pygments_lexer": "ipython3",
   "version": "3.9.18"
  },
  "latex_metadata": {
   "affiliation": "Georgia Institute of Technology",
   "author": "Frank Dellaert and Seth Hutchinson",
   "title": "Introduction to Robotics"
  }
 },
 "nbformat": 4,
 "nbformat_minor": 2
}
