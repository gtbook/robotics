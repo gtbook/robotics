{
 "cells": [
  {
   "cell_type": "markdown",
   "metadata": {
    "colab_type": "text",
    "id": "view-in-github",
    "tags": [
     "no-tex"
    ]
   },
   "source": [
    "<a href=\"https://colab.research.google.com/github/gtbook/robotics/blob/main/S74_drone_perception.ipynb\" target=\"_parent\"><img src=\"https://colab.research.google.com/assets/colab-badge.svg\" alt=\"Open In Colab\"/></a>"
   ]
  },
  {
   "cell_type": "code",
   "execution_count": 1,
   "metadata": {
    "id": "JoW4C_OkOMhe",
    "tags": [
     "remove-cell"
    ]
   },
   "outputs": [
    {
     "name": "stdout",
     "output_type": "stream",
     "text": [
      "Note: you may need to restart the kernel to use updated packages.\n"
     ]
    }
   ],
   "source": [
    "%pip install -q -U gtbook\n"
   ]
  },
  {
   "cell_type": "code",
   "execution_count": 2,
   "metadata": {
    "id": "10-snNDwOSuC",
    "tags": [
     "remove-cell"
    ]
   },
   "outputs": [],
   "source": [
    "import numpy as np\n",
    "import matplotlib.pyplot as plt\n",
    "import plotly.graph_objects as go\n",
    "try:\n",
    "    import google.colab\n",
    "except:\n",
    "    import plotly.io as pio\n",
    "    pio.renderers.default = \"png\"\n",
    "\n",
    "import gtsam\n",
    "from gtbook.display import show\n",
    "import gtsam.utils.plot as gtsam_plot\n"
   ]
  },
  {
   "attachments": {},
   "cell_type": "markdown",
   "metadata": {
    "id": "nAvx4-UCNzt2"
   },
   "source": [
    "# Visual SLAM\n",
    "\n",
    "> When we do SLAM with cameras, we call it visual SLAM.\n",
    "\n",
    "<img src=\"Figures7/S74-Autonomous_camera_drone-04.jpg\" alt=\"Splash image with strange drone presumably thinking about maps\" width=\"40%\" align=center style=\"vertical-align:middle;margin:10px 0px\">"
   ]
  },
  {
   "cell_type": "markdown",
   "id": "ca30f321",
   "metadata": {
    "slideshow": {
     "slide_type": "slide"
    }
   },
   "source": [
    "Visual SLAM *almost* the same problem as the \"SLAM with Landmarks\" problem from Section 6.4, but we will now use 3D poses and 3D points, and we will use the inertial measurements from the IMU to inform us about the movement of the platform. This is a typical pipeline on drones, phones, etc., everything with an IMU. \n",
    "\n",
    "Many unmanned aerial vehicles use cameras as their main sensors in addition to inertial sensing, as they are an incredibly rich sensing modality, do not consume a whole lot of energy, and are quite small. Especially the latter two considerations are very important in the weight and energy constrained world of autonomous drones. Furthermore, in military applications there is another reason to favor cameras over active sensors like LIDAR: cameras do not *emit* energy and hence are stealthier.\n",
    "\n",
    "Below we first introduce how we can estimate the trajectory of a drone using an inertial measurement unit or IMU, which we introduced in Section 7.2. Here we integrate IMU measurements over time to yield an estimate of the trajectory of the drone over time. Below that we discuss how we can build 3D maps from images alone (!), in a process called **Structure from Motion** or SfM. We then discuss Visual SLAM, which combines both IMU integration and SfM in a real-time, incremental pipeline. Implementing visual SLAM is beyond our scope, but it should be easy to imagine how inertial sensing and 3D reconstruction done together and in real-time is an incredible asset to autonomous flight."
   ]
  },
  {
   "cell_type": "markdown",
   "metadata": {},
   "source": [
    "## Integrating the IMU\n",
    "\n",
    "We start off by encoding the information provided by the inertial measurement unit (IMU) in a factor graph.\n",
    "\n",
    "As an example in code, below we define a scenario with forward velocity 2m/s, while pitching up\n",
    "with angular velocity 30 degree/sec (negative in FLU). We set up a simulation using a built-in GTSAM class called the `ScenarioRunner`. To use this class, we need to define four things:\n",
    "\n",
    "- a scenario: below we use a \"constant twist\" scenario, which is very much like the example in Section 7.2, a constant angular and linear velocity specified in the body frame\n",
    "- noise parameters for the gyroscope and accelerometer\n",
    "- the sample frequency, which we set at 10Hz\n",
    "- bias parameters, to simulate how a bias actually corrupts the IMU measurements\n",
    "\n",
    "We then create a `runner` with these:"
   ]
  },
  {
   "cell_type": "code",
   "execution_count": 3,
   "id": "e0615c59",
   "metadata": {
    "slideshow": {
     "slide_type": "skip"
    }
   },
   "outputs": [],
   "source": [
    "# Set up the scenario with a constant velocity model, both angular (W) and linear (V)\n",
    "wb = np.array([0, -np.radians(30), 0])\n",
    "vb = np.array([2, 0, 0])\n",
    "scenario = gtsam.ConstantTwistScenario(wb, vb)\n",
    "\n",
    "# Create noise parameters\n",
    "noise_parameters = gtsam.PreintegrationParams.MakeSharedU(9.8)\n",
    "kGyroSigma = np.radians(0.5) / 60  # 0.5 degree ARW\n",
    "kAccelSigma = 0.1 / 60  # 10 cm VRW\n",
    "I3 = np.identity(3, float)\n",
    "noise_parameters.setGyroscopeCovariance(kGyroSigma**2 * I3)\n",
    "noise_parameters.setAccelerometerCovariance(kAccelSigma**2 * I3)\n",
    "noise_parameters.setIntegrationCovariance(0.0000001**2 * I3) # ignore this for now\n",
    "\n",
    "# Set the sample time\n",
    "dt = 0.1 # 10 Hz\n",
    "\n",
    "# Create bias parameters\n",
    "accBias = np.array([0, 0.1, 0]) # bias in accelerometer\n",
    "gyroBias = np.array([0, 0, 0]) # bias in gyroscope\n",
    "bias = gtsam.imuBias.ConstantBias(accBias, gyroBias)\n",
    "\n",
    "# Instantiate IMU simulation class as `runner`\n",
    "runner = gtsam.ScenarioRunner(scenario, noise_parameters, dt, bias)\n"
   ]
  },
  {
   "cell_type": "markdown",
   "metadata": {},
   "source": [
    "Our approach will be to use the `runner` class to generate noisy measurements, and then use GTSAM to optimize for the optimal trajectory given those measurements.\n",
    "\n",
    "With the `scenario` class, we can create some (good) initial values by calling the `scenario.navState` at $t=0$ as well as every 5 steps, which is twice per second, given our sampling time $dt=0.1$:"
   ]
  },
  {
   "cell_type": "code",
   "execution_count": 4,
   "metadata": {},
   "outputs": [
    {
     "name": "stdout",
     "output_type": "stream",
     "text": [
      "Adding initial state with position [0. 0. 0.]\n",
      "Adding navState 1 at t=0.5 with position [1.  0.  0.1]\n",
      "Adding navState 2 at t=1.0 with position [1.9 0.  0.5]\n",
      "Adding navState 3 at t=1.5 with position [2.7 0.  1.1]\n",
      "Adding navState 4 at t=2.0 with position [3.3 0.  1.9]\n",
      "Adding navState 5 at t=2.5 with position [3.7 0.  2.8]\n",
      "Adding navState 6 at t=3.0 with position [3.8 0.  3.8]\n"
     ]
    }
   ],
   "source": [
    "# Define key naming scheme for GTSAM\n",
    "X = gtsam.symbol_shorthand.X # for poses\n",
    "V = gtsam.symbol_shorthand.V # for velocities\n",
    "B0 = gtsam.symbol('b', 0) # for bias\n",
    "\n",
    "# Create values and add initial state\n",
    "values = gtsam.Values()\n",
    "state = scenario.navState(0)\n",
    "print(f\"Adding initial state with position {np.round(state.pose().translation(),1)}\")\n",
    "values.insert(X(0), state.pose())\n",
    "values.insert(V(0), state.velocity())\n",
    "\n",
    "i, T = 0, 3.5 # run scenario at 10Hz for 3.5 seconds, adding state every 5th iteration\n",
    "for j, t in enumerate(np.arange(0, T, dt)):\n",
    "    if j>0 and j % 5 == 0:\n",
    "        # create IMU factor\n",
    "        i += 1\n",
    "        state = scenario.navState(t)\n",
    "        print(f\"Adding navState {i} at t={t} with position {np.round(state.pose().translation(),1)}\")\n",
    "        values.insert(X(i), state.pose().retract(np.random.normal(scale=0.1, size=(6,))))\n",
    "        values.insert(V(i), state.velocity() + np.random.normal(scale=0.1, size=(3,)))\n",
    "\n",
    "# Add bias, as we will need it below\n",
    "values.insert(B0, bias)\n"
   ]
  },
  {
   "cell_type": "markdown",
   "metadata": {},
   "source": [
    "Now we will create the most complicated factor graph of the entire book, as it involves a factor that is connected to no less than five unknowns at every step. GTSAM contains a powerful, state of the art factor called the `ImuFactor` that allows us to accumulate IMU measurements and periodically add the resulting relative pose information to the graph. \n",
    "\n",
    "The accumulation of (high-rate) IMU measurements is done in a class called `PreintegratedImuMeasurements`, abbreviated \"PIM\", which is done at 10Hz.\n",
    "Every 5 steps we add an `ImuFactor` that is connected to two successive poses with keys `X(i)` and `X(i+1)` and their corresponding velocities with keys `V(i)` and `V(i+1)`, as well as the (single) bias unknown with key `B(0)`."
   ]
  },
  {
   "cell_type": "code",
   "execution_count": 5,
   "id": "ed36f3f8",
   "metadata": {
    "slideshow": {
     "slide_type": "skip"
    }
   },
   "outputs": [],
   "source": [
    "# Create graph\n",
    "imu_graph = gtsam.NonlinearFactorGraph()\n",
    "Iso = gtsam.noiseModel.Isotropic\n",
    "state = scenario.navState(0)\n",
    "imu_graph.addPriorPose3(X(0), state.pose(), Iso.Sigma(6, 0.1))\n",
    "imu_graph.addPriorVector(V(0), state.velocity(), Iso.Sigma(3, 0.1))\n",
    "imu_graph.addPriorConstantBias(B0, bias, Iso.Sigma(6, 0.1))\n",
    "\n",
    "i, T = 0, 3.5 # run scenario at 10Hz for 3.5 seconds, adding state every 5th iteration\n",
    "pim = gtsam.PreintegratedImuMeasurements(noise_parameters, bias)\n",
    "for j, t in enumerate(np.arange(0, T, dt)):\n",
    "    measuredOmega = runner.measuredAngularVelocity(t)\n",
    "    measuredAcc = runner.measuredSpecificForce(t)\n",
    "    pim.integrateMeasurement(measuredAcc, measuredOmega, dt)\n",
    "    if j>0 and j % 5 == 0:\n",
    "        # create IMU factor\n",
    "        factor = gtsam.ImuFactor(X(i), V(i), X(i + 1), V(i + 1), B0, pim)\n",
    "        imu_graph.push_back(factor)\n",
    "        i += 1\n",
    "        pim.resetIntegration()\n"
   ]
  },
  {
   "cell_type": "markdown",
   "metadata": {},
   "source": [
    "The graph displayed below shows (a bit messily) that the IMUFactors tie together the `Pose3` states $x_k$, the velocities $v_k$ and the unknown IMU biases $b_0$."
   ]
  },
  {
   "cell_type": "code",
   "execution_count": 6,
   "id": "78794d08",
   "metadata": {
    "slideshow": {
     "slide_type": "-"
    }
   },
   "outputs": [
    {
     "data": {
      "image/svg+xml": [
       "<?xml version=\"1.0\" encoding=\"UTF-8\" standalone=\"no\"?>\n",
       "<!DOCTYPE svg PUBLIC \"-//W3C//DTD SVG 1.1//EN\"\n",
       " \"http://www.w3.org/Graphics/SVG/1.1/DTD/svg11.dtd\">\n",
       "<!-- Generated by graphviz version 9.0.0 (0)\n",
       " -->\n",
       "<!-- Pages: 1 -->\n",
       "<svg width=\"360pt\" height=\"145pt\"\n",
       " viewBox=\"0.00 0.00 360.00 144.85\" xmlns=\"http://www.w3.org/2000/svg\" xmlns:xlink=\"http://www.w3.org/1999/xlink\">\n",
       "<g id=\"graph0\" class=\"graph\" transform=\"scale(0.622362 0.622362) rotate(0) translate(4 228.75)\">\n",
       "<polygon fill=\"white\" stroke=\"none\" points=\"-4,4 -4,-228.75 574.44,-228.75 574.44,4 -4,4\"/>\n",
       "<!-- var7061644215716937728 -->\n",
       "<g id=\"node1\" class=\"node\">\n",
       "<title>var7061644215716937728</title>\n",
       "<ellipse fill=\"none\" stroke=\"black\" cx=\"240.68\" cy=\"-79.76\" rx=\"27\" ry=\"18\"/>\n",
       "<text text-anchor=\"middle\" x=\"240.68\" y=\"-74.71\" font-family=\"Times,serif\" font-size=\"14.00\">b0</text>\n",
       "</g>\n",
       "<!-- factor2 -->\n",
       "<g id=\"node18\" class=\"node\">\n",
       "<title>factor2</title>\n",
       "<ellipse fill=\"black\" stroke=\"black\" cx=\"219.69\" cy=\"-1.8\" rx=\"1.8\" ry=\"1.8\"/>\n",
       "</g>\n",
       "<!-- var7061644215716937728&#45;&#45;factor2 -->\n",
       "<g id=\"edge3\" class=\"edge\">\n",
       "<title>var7061644215716937728&#45;&#45;factor2</title>\n",
       "<path fill=\"none\" stroke=\"black\" d=\"M235.81,-61.68C230.48,-41.89 222.4,-11.89 220.24,-3.85\"/>\n",
       "</g>\n",
       "<!-- factor3 -->\n",
       "<g id=\"node19\" class=\"node\">\n",
       "<title>factor3</title>\n",
       "<ellipse fill=\"black\" stroke=\"black\" cx=\"132.96\" cy=\"-99.08\" rx=\"1.8\" ry=\"1.8\"/>\n",
       "</g>\n",
       "<!-- var7061644215716937728&#45;&#45;factor3 -->\n",
       "<g id=\"edge8\" class=\"edge\">\n",
       "<title>var7061644215716937728&#45;&#45;factor3</title>\n",
       "<path fill=\"none\" stroke=\"black\" d=\"M214.33,-84.49C186.42,-89.49 145.06,-96.91 135.15,-98.69\"/>\n",
       "</g>\n",
       "<!-- factor4 -->\n",
       "<g id=\"node20\" class=\"node\">\n",
       "<title>factor4</title>\n",
       "<ellipse fill=\"black\" stroke=\"black\" cx=\"180.96\" cy=\"-160.41\" rx=\"1.8\" ry=\"1.8\"/>\n",
       "</g>\n",
       "<!-- var7061644215716937728&#45;&#45;factor4 -->\n",
       "<g id=\"edge13\" class=\"edge\">\n",
       "<title>var7061644215716937728&#45;&#45;factor4</title>\n",
       "<path fill=\"none\" stroke=\"black\" d=\"M228.59,-96.08C213.33,-116.7 188.31,-150.49 182.29,-158.61\"/>\n",
       "</g>\n",
       "<!-- factor5 -->\n",
       "<g id=\"node21\" class=\"node\">\n",
       "<title>factor5</title>\n",
       "<ellipse fill=\"black\" stroke=\"black\" cx=\"231.24\" cy=\"-156.49\" rx=\"1.8\" ry=\"1.8\"/>\n",
       "</g>\n",
       "<!-- var7061644215716937728&#45;&#45;factor5 -->\n",
       "<g id=\"edge18\" class=\"edge\">\n",
       "<title>var7061644215716937728&#45;&#45;factor5</title>\n",
       "<path fill=\"none\" stroke=\"black\" d=\"M238.44,-97.94C236.04,-117.44 232.45,-146.67 231.48,-154.5\"/>\n",
       "</g>\n",
       "<!-- factor6 -->\n",
       "<g id=\"node22\" class=\"node\">\n",
       "<title>factor6</title>\n",
       "<ellipse fill=\"black\" stroke=\"black\" cx=\"288.07\" cy=\"-110.42\" rx=\"1.8\" ry=\"1.8\"/>\n",
       "</g>\n",
       "<!-- var7061644215716937728&#45;&#45;factor6 -->\n",
       "<g id=\"edge23\" class=\"edge\">\n",
       "<title>var7061644215716937728&#45;&#45;factor6</title>\n",
       "<path fill=\"none\" stroke=\"black\" d=\"M260.23,-92.41C270.83,-99.27 282.58,-106.87 286.62,-109.48\"/>\n",
       "</g>\n",
       "<!-- factor7 -->\n",
       "<g id=\"node23\" class=\"node\">\n",
       "<title>factor7</title>\n",
       "<ellipse fill=\"black\" stroke=\"black\" cx=\"325.18\" cy=\"-86.26\" rx=\"1.8\" ry=\"1.8\"/>\n",
       "</g>\n",
       "<!-- var7061644215716937728&#45;&#45;factor7 -->\n",
       "<g id=\"edge28\" class=\"edge\">\n",
       "<title>var7061644215716937728&#45;&#45;factor7</title>\n",
       "<path fill=\"none\" stroke=\"black\" d=\"M267.88,-81.85C288.72,-83.45 315.19,-85.49 322.95,-86.09\"/>\n",
       "</g>\n",
       "<!-- factor8 -->\n",
       "<g id=\"node24\" class=\"node\">\n",
       "<title>factor8</title>\n",
       "<ellipse fill=\"black\" stroke=\"black\" cx=\"358.17\" cy=\"-90.19\" rx=\"1.8\" ry=\"1.8\"/>\n",
       "</g>\n",
       "<!-- var7061644215716937728&#45;&#45;factor8 -->\n",
       "<g id=\"edge33\" class=\"edge\">\n",
       "<title>var7061644215716937728&#45;&#45;factor8</title>\n",
       "<path fill=\"none\" stroke=\"black\" d=\"M267.93,-82.18C298.84,-84.93 346.27,-89.14 356.28,-90.03\"/>\n",
       "</g>\n",
       "<!-- var8502796096475496448 -->\n",
       "<g id=\"node2\" class=\"node\">\n",
       "<title>var8502796096475496448</title>\n",
       "<ellipse fill=\"none\" stroke=\"black\" cx=\"111.44\" cy=\"-206.75\" rx=\"27\" ry=\"18\"/>\n",
       "<text text-anchor=\"middle\" x=\"111.44\" y=\"-201.7\" font-family=\"Times,serif\" font-size=\"14.00\">v0</text>\n",
       "</g>\n",
       "<!-- factor1 -->\n",
       "<g id=\"node17\" class=\"node\">\n",
       "<title>factor1</title>\n",
       "<ellipse fill=\"black\" stroke=\"black\" cx=\"1.8\" cy=\"-195.51\" rx=\"1.8\" ry=\"1.8\"/>\n",
       "</g>\n",
       "<!-- var8502796096475496448&#45;&#45;factor1 -->\n",
       "<g id=\"edge2\" class=\"edge\">\n",
       "<title>var8502796096475496448&#45;&#45;factor1</title>\n",
       "<path fill=\"none\" stroke=\"black\" d=\"M84.34,-203.97C55.93,-201.06 14.04,-196.77 4.01,-195.74\"/>\n",
       "</g>\n",
       "<!-- var8502796096475496448&#45;&#45;factor3 -->\n",
       "<g id=\"edge5\" class=\"edge\">\n",
       "<title>var8502796096475496448&#45;&#45;factor3</title>\n",
       "<path fill=\"none\" stroke=\"black\" d=\"M115.09,-188.49C120.56,-161.13 130.46,-111.59 132.56,-101.08\"/>\n",
       "</g>\n",
       "<!-- var8502796096475496449 -->\n",
       "<g id=\"node3\" class=\"node\">\n",
       "<title>var8502796096475496449</title>\n",
       "<ellipse fill=\"none\" stroke=\"black\" cx=\"183.44\" cy=\"-206.75\" rx=\"27\" ry=\"18\"/>\n",
       "<text text-anchor=\"middle\" x=\"183.44\" y=\"-201.7\" font-family=\"Times,serif\" font-size=\"14.00\">v1</text>\n",
       "</g>\n",
       "<!-- var8502796096475496449&#45;&#45;factor3 -->\n",
       "<g id=\"edge7\" class=\"edge\">\n",
       "<title>var8502796096475496449&#45;&#45;factor3</title>\n",
       "<path fill=\"none\" stroke=\"black\" d=\"M175.33,-189.45C162.62,-162.35 138.94,-111.84 133.92,-101.12\"/>\n",
       "</g>\n",
       "<!-- var8502796096475496449&#45;&#45;factor4 -->\n",
       "<g id=\"edge10\" class=\"edge\">\n",
       "<title>var8502796096475496449&#45;&#45;factor4</title>\n",
       "<path fill=\"none\" stroke=\"black\" d=\"M182.46,-188.44C181.93,-178.52 181.33,-167.36 181.08,-162.67\"/>\n",
       "</g>\n",
       "<!-- var8502796096475496450 -->\n",
       "<g id=\"node4\" class=\"node\">\n",
       "<title>var8502796096475496450</title>\n",
       "<ellipse fill=\"none\" stroke=\"black\" cx=\"255.44\" cy=\"-206.75\" rx=\"27\" ry=\"18\"/>\n",
       "<text text-anchor=\"middle\" x=\"255.44\" y=\"-201.7\" font-family=\"Times,serif\" font-size=\"14.00\">v2</text>\n",
       "</g>\n",
       "<!-- var8502796096475496450&#45;&#45;factor4 -->\n",
       "<g id=\"edge12\" class=\"edge\">\n",
       "<title>var8502796096475496450&#45;&#45;factor4</title>\n",
       "<path fill=\"none\" stroke=\"black\" d=\"M235.48,-194.33C216.52,-182.54 189.89,-165.96 182.77,-161.53\"/>\n",
       "</g>\n",
       "<!-- var8502796096475496450&#45;&#45;factor5 -->\n",
       "<g id=\"edge15\" class=\"edge\">\n",
       "<title>var8502796096475496450&#45;&#45;factor5</title>\n",
       "<path fill=\"none\" stroke=\"black\" d=\"M246.98,-189.17C241.41,-177.62 234.72,-163.73 232.23,-158.56\"/>\n",
       "</g>\n",
       "<!-- var8502796096475496451 -->\n",
       "<g id=\"node5\" class=\"node\">\n",
       "<title>var8502796096475496451</title>\n",
       "<ellipse fill=\"none\" stroke=\"black\" cx=\"327.44\" cy=\"-206.75\" rx=\"27\" ry=\"18\"/>\n",
       "<text text-anchor=\"middle\" x=\"327.44\" y=\"-201.7\" font-family=\"Times,serif\" font-size=\"14.00\">v3</text>\n",
       "</g>\n",
       "<!-- var8502796096475496451&#45;&#45;factor5 -->\n",
       "<g id=\"edge17\" class=\"edge\">\n",
       "<title>var8502796096475496451&#45;&#45;factor5</title>\n",
       "<path fill=\"none\" stroke=\"black\" d=\"M306.09,-195.6C280.85,-182.41 241.2,-161.69 232.82,-157.32\"/>\n",
       "</g>\n",
       "<!-- var8502796096475496451&#45;&#45;factor6 -->\n",
       "<g id=\"edge20\" class=\"edge\">\n",
       "<title>var8502796096475496451&#45;&#45;factor6</title>\n",
       "<path fill=\"none\" stroke=\"black\" d=\"M320.22,-189.08C310.1,-164.31 292.5,-121.27 288.77,-112.15\"/>\n",
       "</g>\n",
       "<!-- var8502796096475496452 -->\n",
       "<g id=\"node6\" class=\"node\">\n",
       "<title>var8502796096475496452</title>\n",
       "<ellipse fill=\"none\" stroke=\"black\" cx=\"399.44\" cy=\"-206.75\" rx=\"27\" ry=\"18\"/>\n",
       "<text text-anchor=\"middle\" x=\"399.44\" y=\"-201.7\" font-family=\"Times,serif\" font-size=\"14.00\">v4</text>\n",
       "</g>\n",
       "<!-- var8502796096475496452&#45;&#45;factor6 -->\n",
       "<g id=\"edge22\" class=\"edge\">\n",
       "<title>var8502796096475496452&#45;&#45;factor6</title>\n",
       "<path fill=\"none\" stroke=\"black\" d=\"M383.01,-192.54C354.93,-168.25 299.77,-120.54 289.67,-111.81\"/>\n",
       "</g>\n",
       "<!-- var8502796096475496452&#45;&#45;factor7 -->\n",
       "<g id=\"edge25\" class=\"edge\">\n",
       "<title>var8502796096475496452&#45;&#45;factor7</title>\n",
       "<path fill=\"none\" stroke=\"black\" d=\"M388.96,-189.74C370.41,-159.64 333.1,-99.11 326.27,-88.02\"/>\n",
       "</g>\n",
       "<!-- var8502796096475496453 -->\n",
       "<g id=\"node7\" class=\"node\">\n",
       "<title>var8502796096475496453</title>\n",
       "<ellipse fill=\"none\" stroke=\"black\" cx=\"471.44\" cy=\"-206.75\" rx=\"27\" ry=\"18\"/>\n",
       "<text text-anchor=\"middle\" x=\"471.44\" y=\"-201.7\" font-family=\"Times,serif\" font-size=\"14.00\">v5</text>\n",
       "</g>\n",
       "<!-- var8502796096475496453&#45;&#45;factor7 -->\n",
       "<g id=\"edge27\" class=\"edge\">\n",
       "<title>var8502796096475496453&#45;&#45;factor7</title>\n",
       "<path fill=\"none\" stroke=\"black\" d=\"M454.09,-192.46C418.37,-163.03 338.95,-97.61 326.76,-87.56\"/>\n",
       "</g>\n",
       "<!-- var8502796096475496453&#45;&#45;factor8 -->\n",
       "<g id=\"edge30\" class=\"edge\">\n",
       "<title>var8502796096475496453&#45;&#45;factor8</title>\n",
       "<path fill=\"none\" stroke=\"black\" d=\"M456.63,-191.51C428.57,-162.63 369.54,-101.9 359.6,-91.67\"/>\n",
       "</g>\n",
       "<!-- var8502796096475496454 -->\n",
       "<g id=\"node8\" class=\"node\">\n",
       "<title>var8502796096475496454</title>\n",
       "<ellipse fill=\"none\" stroke=\"black\" cx=\"543.44\" cy=\"-206.75\" rx=\"27\" ry=\"18\"/>\n",
       "<text text-anchor=\"middle\" x=\"543.44\" y=\"-201.7\" font-family=\"Times,serif\" font-size=\"14.00\">v6</text>\n",
       "</g>\n",
       "<!-- var8502796096475496454&#45;&#45;factor8 -->\n",
       "<g id=\"edge32\" class=\"edge\">\n",
       "<title>var8502796096475496454&#45;&#45;factor8</title>\n",
       "<path fill=\"none\" stroke=\"black\" d=\"M523.61,-194.28C479.18,-166.32 374.37,-100.38 359.85,-91.25\"/>\n",
       "</g>\n",
       "<!-- var8646911284551352320 -->\n",
       "<g id=\"node9\" class=\"node\">\n",
       "<title>var8646911284551352320</title>\n",
       "<ellipse fill=\"none\" stroke=\"black\" cx=\"111.44\" cy=\"-134.75\" rx=\"27\" ry=\"18\"/>\n",
       "<text text-anchor=\"middle\" x=\"111.44\" y=\"-129.7\" font-family=\"Times,serif\" font-size=\"14.00\">x0</text>\n",
       "</g>\n",
       "<!-- factor0 -->\n",
       "<g id=\"node16\" class=\"node\">\n",
       "<title>factor0</title>\n",
       "<ellipse fill=\"black\" stroke=\"black\" cx=\"5.77\" cy=\"-63.09\" rx=\"1.8\" ry=\"1.8\"/>\n",
       "</g>\n",
       "<!-- var8646911284551352320&#45;&#45;factor0 -->\n",
       "<g id=\"edge1\" class=\"edge\">\n",
       "<title>var8646911284551352320&#45;&#45;factor0</title>\n",
       "<path fill=\"none\" stroke=\"black\" d=\"M92.55,-121.94C65,-103.26 16.11,-70.1 7.19,-64.05\"/>\n",
       "</g>\n",
       "<!-- var8646911284551352320&#45;&#45;factor3 -->\n",
       "<g id=\"edge4\" class=\"edge\">\n",
       "<title>var8646911284551352320&#45;&#45;factor3</title>\n",
       "<path fill=\"none\" stroke=\"black\" d=\"M121.7,-117.75C125.85,-110.86 130.11,-103.81 131.98,-100.71\"/>\n",
       "</g>\n",
       "<!-- var8646911284551352321 -->\n",
       "<g id=\"node10\" class=\"node\">\n",
       "<title>var8646911284551352321</title>\n",
       "<ellipse fill=\"none\" stroke=\"black\" cx=\"183.44\" cy=\"-134.75\" rx=\"27\" ry=\"18\"/>\n",
       "<text text-anchor=\"middle\" x=\"183.44\" y=\"-129.7\" font-family=\"Times,serif\" font-size=\"14.00\">x1</text>\n",
       "</g>\n",
       "<!-- var8646911284551352321&#45;&#45;factor3 -->\n",
       "<g id=\"edge6\" class=\"edge\">\n",
       "<title>var8646911284551352321&#45;&#45;factor3</title>\n",
       "<path fill=\"none\" stroke=\"black\" d=\"M164.64,-121.47C152.98,-113.23 139.36,-103.6 134.66,-100.28\"/>\n",
       "</g>\n",
       "<!-- var8646911284551352321&#45;&#45;factor4 -->\n",
       "<g id=\"edge9\" class=\"edge\">\n",
       "<title>var8646911284551352321&#45;&#45;factor4</title>\n",
       "<path fill=\"none\" stroke=\"black\" d=\"M181.67,-153.13C181.47,-155.18 181.29,-157 181.17,-158.31\"/>\n",
       "</g>\n",
       "<!-- var8646911284551352322 -->\n",
       "<g id=\"node11\" class=\"node\">\n",
       "<title>var8646911284551352322</title>\n",
       "<ellipse fill=\"none\" stroke=\"black\" cx=\"255.44\" cy=\"-134.75\" rx=\"27\" ry=\"18\"/>\n",
       "<text text-anchor=\"middle\" x=\"255.44\" y=\"-129.7\" font-family=\"Times,serif\" font-size=\"14.00\">x2</text>\n",
       "</g>\n",
       "<!-- var8646911284551352322&#45;&#45;factor4 -->\n",
       "<g id=\"edge11\" class=\"edge\">\n",
       "<title>var8646911284551352322&#45;&#45;factor4</title>\n",
       "<path fill=\"none\" stroke=\"black\" d=\"M231.05,-143.15C212.73,-149.47 189.67,-157.41 182.91,-159.74\"/>\n",
       "</g>\n",
       "<!-- var8646911284551352322&#45;&#45;factor5 -->\n",
       "<g id=\"edge14\" class=\"edge\">\n",
       "<title>var8646911284551352322&#45;&#45;factor5</title>\n",
       "<path fill=\"none\" stroke=\"black\" d=\"M239.16,-149.37C236.43,-151.83 234.02,-154 232.59,-155.28\"/>\n",
       "</g>\n",
       "<!-- var8646911284551352323 -->\n",
       "<g id=\"node12\" class=\"node\">\n",
       "<title>var8646911284551352323</title>\n",
       "<ellipse fill=\"none\" stroke=\"black\" cx=\"327.44\" cy=\"-134.75\" rx=\"27\" ry=\"18\"/>\n",
       "<text text-anchor=\"middle\" x=\"327.44\" y=\"-129.7\" font-family=\"Times,serif\" font-size=\"14.00\">x3</text>\n",
       "</g>\n",
       "<!-- var8646911284551352323&#45;&#45;factor5 -->\n",
       "<g id=\"edge16\" class=\"edge\">\n",
       "<title>var8646911284551352323&#45;&#45;factor5</title>\n",
       "<path fill=\"none\" stroke=\"black\" d=\"M301.41,-140.63C276.7,-146.22 242.08,-154.04 233.32,-156.02\"/>\n",
       "</g>\n",
       "<!-- var8646911284551352323&#45;&#45;factor6 -->\n",
       "<g id=\"edge19\" class=\"edge\">\n",
       "<title>var8646911284551352323&#45;&#45;factor6</title>\n",
       "<path fill=\"none\" stroke=\"black\" d=\"M307.29,-122.3C300.03,-117.81 292.85,-113.37 289.71,-111.43\"/>\n",
       "</g>\n",
       "<!-- var8646911284551352324 -->\n",
       "<g id=\"node13\" class=\"node\">\n",
       "<title>var8646911284551352324</title>\n",
       "<ellipse fill=\"none\" stroke=\"black\" cx=\"399.44\" cy=\"-134.75\" rx=\"27\" ry=\"18\"/>\n",
       "<text text-anchor=\"middle\" x=\"399.44\" y=\"-129.7\" font-family=\"Times,serif\" font-size=\"14.00\">x4</text>\n",
       "</g>\n",
       "<!-- var8646911284551352324&#45;&#45;factor6 -->\n",
       "<g id=\"edge21\" class=\"edge\">\n",
       "<title>var8646911284551352324&#45;&#45;factor6</title>\n",
       "<path fill=\"none\" stroke=\"black\" d=\"M373.33,-129.05C344.01,-122.64 299.29,-112.87 289.85,-110.81\"/>\n",
       "</g>\n",
       "<!-- var8646911284551352324&#45;&#45;factor7 -->\n",
       "<g id=\"edge24\" class=\"edge\">\n",
       "<title>var8646911284551352324&#45;&#45;factor7</title>\n",
       "<path fill=\"none\" stroke=\"black\" d=\"M379.93,-122.01C361.02,-109.66 334.18,-92.13 327,-87.45\"/>\n",
       "</g>\n",
       "<!-- var8646911284551352325 -->\n",
       "<g id=\"node14\" class=\"node\">\n",
       "<title>var8646911284551352325</title>\n",
       "<ellipse fill=\"none\" stroke=\"black\" cx=\"471.44\" cy=\"-134.75\" rx=\"27\" ry=\"18\"/>\n",
       "<text text-anchor=\"middle\" x=\"471.44\" y=\"-129.7\" font-family=\"Times,serif\" font-size=\"14.00\">x5</text>\n",
       "</g>\n",
       "<!-- var8646911284551352325&#45;&#45;factor7 -->\n",
       "<g id=\"edge26\" class=\"edge\">\n",
       "<title>var8646911284551352325&#45;&#45;factor7</title>\n",
       "<path fill=\"none\" stroke=\"black\" d=\"M446.96,-126.63C409.23,-114.12 339.87,-91.13 327.19,-86.93\"/>\n",
       "</g>\n",
       "<!-- var8646911284551352325&#45;&#45;factor8 -->\n",
       "<g id=\"edge29\" class=\"edge\">\n",
       "<title>var8646911284551352325&#45;&#45;factor8</title>\n",
       "<path fill=\"none\" stroke=\"black\" d=\"M447.97,-125.52C418.42,-113.89 370.27,-94.96 360.1,-90.95\"/>\n",
       "</g>\n",
       "<!-- var8646911284551352326 -->\n",
       "<g id=\"node15\" class=\"node\">\n",
       "<title>var8646911284551352326</title>\n",
       "<ellipse fill=\"none\" stroke=\"black\" cx=\"543.44\" cy=\"-134.75\" rx=\"27\" ry=\"18\"/>\n",
       "<text text-anchor=\"middle\" x=\"543.44\" y=\"-129.7\" font-family=\"Times,serif\" font-size=\"14.00\">x6</text>\n",
       "</g>\n",
       "<!-- var8646911284551352326&#45;&#45;factor8 -->\n",
       "<g id=\"edge31\" class=\"edge\">\n",
       "<title>var8646911284551352326&#45;&#45;factor8</title>\n",
       "<path fill=\"none\" stroke=\"black\" d=\"M517.68,-128.56C470.75,-117.27 374.79,-94.19 360.08,-90.65\"/>\n",
       "</g>\n",
       "</g>\n",
       "</svg>\n"
      ],
      "text/plain": [
       "<gtbook.display.show at 0x117392670>"
      ]
     },
     "execution_count": 6,
     "metadata": {},
     "output_type": "execute_result"
    }
   ],
   "source": [
    "#| caption: A (somewhat messy) factor graph for the IMU preintegration problem.\n",
    "#| label: fig:imu_graph\n",
    "position_hints = {'u': 2, 'x': 1, 'z': 0}\n",
    "position_hints.update({'v':2})\n",
    "show(imu_graph, gtsam.Values(), hints=position_hints)\n"
   ]
  },
  {
   "cell_type": "markdown",
   "id": "f7dd5960",
   "metadata": {
    "slideshow": {
     "slide_type": "slide"
    }
   },
   "source": [
    "We can optimize even *without* any external measurements, but unless you pay for a very expensive IMU, your estimate will drift very rapidly."
   ]
  },
  {
   "cell_type": "code",
   "execution_count": 7,
   "id": "6d75b7d4",
   "metadata": {
    "slideshow": {
     "slide_type": "skip"
    }
   },
   "outputs": [
    {
     "name": "stdout",
     "output_type": "stream",
     "text": [
      "initial error: 20190512.217341486\n",
      "final error: 1.4256262246403582e-23\n"
     ]
    }
   ],
   "source": [
    "print(f\"initial error: {imu_graph.error(values)}\")\n",
    "try:\n",
    "    lm = gtsam.LevenbergMarquardtOptimizer(imu_graph, values)\n",
    "    imu_result = lm.optimize()\n",
    "except RuntimeError:\n",
    "    print(\"LM Optimization failed\")\n",
    "print(f\"final error: {imu_graph.error(imu_result)}\")\n"
   ]
  },
  {
   "cell_type": "code",
   "execution_count": 8,
   "id": "ed87f830",
   "metadata": {},
   "outputs": [
    {
     "data": {
      "image/png": "[encoded data removed]",
      "text/plain": [
       "<Figure size 640x480 with 1 Axes>"
      ]
     },
     "metadata": {},
     "output_type": "display_data"
    }
   ],
   "source": [
    "#| caption: Result of the IMU preintegration optimization.\n",
    "#| label: fig:imu_result\n",
    "i = 0\n",
    "while imu_result.exists(X(i)):\n",
    "    gtsam_plot.plot_pose3(1, imu_result.atPose3(X(i)), 1)\n",
    "    i += 1\n",
    "plt.title(\"imu_result\")\n",
    "gtsam.utils.plot.set_axes_equal(1)\n"
   ]
  },
  {
   "cell_type": "markdown",
   "metadata": {},
   "source": [
    "## Incorporating Visual Measurements\n",
    "\n",
    "> Structure from Motion is 3D reconstruction from images\n",
    "\n",
    "In this section we provide an introduction to reconstructing a 3D environment from camera images over time, which allows for planning and obstacle avoidance, which we discuss in more detail in the next section. However, mapping the environment is in and of itself a useful capability in many applications. In some industrial and military applications, the map *is* the product of interest. In this section we discuss 3D reconstruction as a *batch* process, done after the drone has collected images."
   ]
  },
  {
   "cell_type": "markdown",
   "id": "0a8e2d5d",
   "metadata": {
    "slideshow": {
     "slide_type": "slide"
    }
   },
   "source": [
    "![Balbianello](https://github.com/gtbook/robotics/blob/main/Figures7/Balbianello.jpg?raw=1 \"Balbianello\")\n",
    "\n",
    "Structure from Motion, or SfM, is the problem of computing the 3D structure of a scene from multiple images, either taken from different cameras, or taken at different times as the camera moves in the environment. In the figure above we show one such image sequence, five images of the \"Balbianello\" villa in Italy, situated on lake Como. "
   ]
  },
  {
   "cell_type": "markdown",
   "id": "b9715f32",
   "metadata": {
    "slideshow": {
     "slide_type": "slide"
    }
   },
   "source": [
    "SfM is almost the same problem as Visual SLAM, but typically there is no odometry information to relate\n",
    "different camera views. The resulting optimization problem is sometimes called **Bundle Adjustment**. \n",
    "The most difficult problems associated with SfM are feature detection, data association, and initializing the optimization.\n",
    "\n",
    "Below we load the Balbianello data from a file and create a factor graph, as well as an initial estimate. A lot of work is done in the code snippet below! The particular file format, which stems from the \"Bundler\"\" library, is transformed into a data structure `sfm_data`. The method `sfmFactorGraph` then creates a factor graph with *all* the projection factors derived from the close to 1500 visual measurements. The `initialCamerasAndPointsEstimate` methods next instantiates a `Valeus` object with initial estimates for all the cameras and the points, extracted from the Bundler file. We then print the initial error and see that it has a value of $126.9$, which is normalized with respect to 1-pixel standard deviation given in the noise model."
   ]
  },
  {
   "cell_type": "code",
   "execution_count": 16,
   "id": "ff7d45ce",
   "metadata": {},
   "outputs": [
    {
     "name": "stdout",
     "output_type": "stream",
     "text": [
      "initial error: 126.9\n"
     ]
    }
   ],
   "source": [
    "filename = gtsam.findExampleDataFile(\"Balbianello.out\")\n",
    "sfm_data = gtsam.SfmData.FromBundlerFile(filename)\n",
    "model = gtsam.noiseModel.Isotropic.Sigma(2, 1.0)  # one pixel in u and v\n",
    "graph = sfm_data.sfmFactorGraph(model)\n",
    "initial = gtsam.initialCamerasAndPointsEstimate(sfm_data)\n",
    "print(f\"initial error: {graph.error(initial):.1f}\")\n"
   ]
  },
  {
   "cell_type": "markdown",
   "metadata": {},
   "source": [
    "The code above already did most of the heavy lifting that was so cumbersome and manual in earlier sections of this book, but it does not yet optimize! We once again use the Levenberg-Marquardt non-linear optimizer below, which is now performing *structure from motion*: we optimize for both the unknown camera poses (calibration is assumed known here) and the unknown 3D points in the scene:"
   ]
  },
  {
   "cell_type": "code",
   "execution_count": 17,
   "id": "704cbe24",
   "metadata": {},
   "outputs": [
    {
     "name": "stdout",
     "output_type": "stream",
     "text": [
      "final error: 125.5\n"
     ]
    }
   ],
   "source": [
    "try:\n",
    "    lm = gtsam.LevenbergMarquardtOptimizer(graph, initial)\n",
    "    result = lm.optimize()\n",
    "except RuntimeError:\n",
    "    print(\"LM Optimization failed\")\n",
    "print(f\"final error: {graph.error(result):.1f}\")\n"
   ]
  },
  {
   "cell_type": "markdown",
   "id": "24491487",
   "metadata": {
    "slideshow": {
     "slide_type": "slide"
    }
   },
   "source": [
    "The final error is not much smaller than the initial error, which tells us that the initial estimate was already very good. It is quite fortunate to have found that initial estimate in the file, because in many cases initializing a structure for motion problem can be quite a difficult undertaking. When we are flying a drone, we can build up an estimate of the 3D environment gradually, and hence an initial estimate is always available to use from the previous time step. However, we will not discuss this more in depth here.\n",
    "\n",
    "The result of SfM is a sparse point cloud and a set of well-determined camera poses, which can be \"densified\" using multi-view stereo techniques. This is out of scope of this book, however, and below we simply extract the 3D points and display them in 3D with `plotly`."
   ]
  },
  {
   "cell_type": "code",
   "execution_count": 12,
   "id": "8fa3f485",
   "metadata": {},
   "outputs": [],
   "source": [
    "structure = gtsam.utilities.extractPoint3(result)\n",
    "valid = structure[:,2] > -5.0\n",
    "bRc = sfm_data.camera(0).pose().rotation()\n",
    "wRc = gtsam.Rot3([1,0,0],[0,0,-1],[0,1,0]) # make camera point to world y\n",
    "wRb = wRc.compose(bRc.inverse())\n",
    "structure = (wRb.matrix() @ structure.T).T"
   ]
  },
  {
   "cell_type": "code",
   "execution_count": null,
   "metadata": {},
   "outputs": [],
   "source": [
    "#| caption: Structure from motion result as a sparse 3D point cloud.\n",
    "#| label: fig:sfm_result\n",
    "fig = go.Figure()\n",
    "fig.add_trace(go.Scatter3d(x=structure[valid,0],y=structure[valid,1],z=structure[valid,2],\n",
    "    mode=\"markers\", marker=dict(size=2, color=\"blue\"), showlegend= False))\n",
    "fig.update_layout(margin=dict(l=0, r=0, t=0, b=0))\n",
    "fig.update_yaxes(scaleanchor = \"x\", scaleratio = 1); fig.show()"
   ]
  },
  {
   "cell_type": "markdown",
   "metadata": {},
   "source": [
    "## Visual SLAM\n",
    "\n",
    "> Visual SLAM is based on Structure from Motion\n",
    "\n",
    "Visual SLAM combines both IMU integration and SfM in a real-time, incremental pipeline. Typically, The drone starts with no pre-built map, opens its eyes as it were, and starts building a 3D map of the environment incrementally. Initial estimates for the camera positions are given by integrating the IMU forward. New landmarks are added incrementally as the drone progresses throughout the environment. Fast, incremental optimization techniques can be used to keep the computation under control, but discussing these is out of scope for an introductory textbook. Suffice to say that, modulo a *lot* of engineering efforts, this process can be made to work incredibly well. When done well, this provides a superpower to autonomous drones, allowing them to map their environment in real time and affording it to do obstacle avoidance and planning in hitherto unknown environments.\n",
    "\n",
    "Visual SLAM from images and IMU integration compliment each other perfectly. The IMU excels at dealing with high frequency motion like vibrations, which is common on drones. However, it suffers from drift: the inertial measurement units available for consumer drones can drift away from the true trajectory quite rapidly. High quality IMUs are typically very expensive and only available in high-end applications. In fact, this technology is so sensitive that even *disclosing* the accuracy of military-grade IMUs is a crime in many countries. Visual SLAM, on the other hand, is not great at dealing with high frequency motions, but does not suffer from drift as much, especially in environments where many loop closures can be made. It is only in very long, open-ended trajectories that drift is again be a problem."
   ]
  },
  {
   "cell_type": "markdown",
   "metadata": {},
   "source": [
    "## Summary\n",
    "\n"
   ]
  },
  {
   "cell_type": "markdown",
   "metadata": {},
   "source": [
    "In summary, above we introduced Visual SLAM as an extension of SLAM with landmarks and its critical integration with an IMU integration process. We discussed how the latter can be done with factor graphs, and while these are some of the most complex factor graphs we encountered, the principle stays the same. Structure from Motion was introduced as a method for constructing 3D maps from images, and while we did not go into too much detail about the specific factors, the same optimization pattern can be found at the center of it. Visual SLAM was then introduced, at a high level, as a combination of IMU integration and SfM."
   ]
  }
 ],
 "metadata": {
  "colab": {
   "collapsed_sections": [],
   "include_colab_link": true,
   "name": "S74_drone_perception.ipynb",
   "provenance": []
  },
  "kernelspec": {
   "display_name": "Python 3.8.12 ('gtbook')",
   "language": "python",
   "name": "python3"
  },
  "language_info": {
   "codemirror_mode": {
    "name": "ipython",
    "version": 3
   },
   "file_extension": ".py",
   "mimetype": "text/x-python",
   "name": "python",
   "nbconvert_exporter": "python",
   "pygments_lexer": "ipython3",
   "version": "3.9.18"
  },
  "latex_metadata": {
   "affiliation": "Georgia Institute of Technology",
   "author": "Frank Dellaert and Seth Hutchinson",
   "title": "Introduction to Robotics"
  },
  "vscode": {
   "interpreter": {
    "hash": "9f7376ced4243bb13dfcffa8a3ba834e0602aa8334cd3a1d8ba8d285f4628083"
   }
  }
 },
 "nbformat": 4,
 "nbformat_minor": 2
}
