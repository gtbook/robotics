{
 "cells": [
  {
   "attachments": {},
   "cell_type": "markdown",
   "metadata": {
    "id": "nAvx4-UCNzt2"
   },
   "source": [
    "# A Robot Vacuum Cleaner\n",
    "\n",
    "> Where we will reason over time about probabilistic actions in a discrete state space.\n",
    "\n",
    "<img src=\"Figures3/S30-iRobot_vacuuming_robot-08.jpg\" alt=\"A robot resembling a vacuum cleaner in operation.\" width=\"60%\" align=center style=\"vertical-align:middle;margin:10px 0px\">"
   ]
  },
  {
   "cell_type": "markdown",
   "metadata": {
    "id": "nAvx4-UCNzt2"
   },
   "source": [
    "The second robot we will discuss is a mobile robot, modeled on the vacuum cleaning robots that many of us are already familiar with.  We assume that this robot is equipped with hardware and software such that it can perform navigation, motion planning, and motion control, but we will not be specific on how these capabilities are implemented.  This assumption allows us to focus on high-level problems (for example, deciding which room to clean next), without worrying now about low-level details (e.g., planning specific paths to cover a particular room, or navigating through a doorway).\n",
    "\n",
    "Besides the obvious fact that our vacuum cleaning robot can *move*, our vacuum cleaning robot exhibits several key differences from the trash sorting robot discussed in the previous chapter.\n",
    "First, the effects of actions depend on the current world state; if a robot is in the living room and moves to its left, it will arrive to a different location than if it had started in the office.\n",
    "Second, the actions executed by the vacuum cleaning robot have uncertain effects.\n",
    "This is rather different than the actions of the trash sorting robot, which achieved its goals deterministically,\n",
    "regardless of the current state (the \"move object to the metal bin\" action moves an object to the metal\n",
    "bin, regardless of the category of the object, and with 100% reliability).\n",
    "Third, because the effects of actions depend on state, achieving goals in the future will depend\n",
    "on the actions the robot executes now (since current actions affect future states).\n",
    "Therefore, this robot must consider how the world state evolves with the passing of time."
   ]
  },
  {
   "cell_type": "markdown",
   "metadata": {},
   "source": [
    "Hence, in this chapter, we will learn about probabilistic outcomes of actions.\n",
    "For our vacuum cleaning robot, states correspond to rooms in the house, and trajectories correspond to the robot moving from room to room.\n",
    "We will model uncertain actions with conditional probability distributions, just like we did with sensor measurements in the previous chapter.\n",
    "Using these, we will be able to to propagate uncertainty forward in time for specific sequences of actions, and learn how to generate sample trajectories from the corresponding probability distributions.\n",
    "\n",
    "Sensing will be quite limited in this chapter. \n",
    "We will model the use of a simple, discrete light sensor.\n",
    "However, because sensor measurements depend on state, and because state depends on\n",
    "the sequence of actions that has been executed, *perception* becomes a more interesting problem.\n",
    "While our trash sorting robot relied on simple MLE or MAP estimation using the current sensor reading, the vacuum cleaning robot will need to combine knowledge about the history of its actions (which have uncertain\n",
    "effects) with the sequence of sensor measurements.\n",
    "We will solve this perception problem using **Hidden Markov Models (HMMs)**,\n",
    "which define probabilistic models for sensing over time.\n",
    "And, crucially, we show how to convert them into a **factor graph**, allowing us to efficiently find the most probable sequence of states given a sequence of sensor measurements and actions.\n",
    "\n",
    "Planning is also more interesting for our vacuum cleaning robot.\n",
    "Instead of choosing a single action to minimize a cost for the current action,\n",
    "we will reason about sequences of actions that occur over time.\n",
    "To do this, we will introduce **Markov Decision Processes (MDPs)**. \n",
    "An MDP adds the notion of *reward*, which will allow us to reason about optimal actions.\n",
    "We will even be able to deduce an optimal *policy*, i.e., a recipe for what to do in each state to maximize the aggregate reward over time.\n",
    "\n",
    "Finally, we will introduce the notion of reinforcement learning, where we will estimate the parameters of an MDP using data that is obtained during the robot's normal operation."
   ]
  }
 ],
 "metadata": {
  "colab": {
   "collapsed_sections": [],
   "include_colab_link": true,
   "name": "S30_vacuum_intro.ipynb",
   "provenance": []
  },
  "interpreter": {
   "hash": "c6e4e9f98eb68ad3b7c296f83d20e6de614cb42e90992a65aa266555a3137d0d"
  },
  "kernelspec": {
   "display_name": "Python 3 (ipykernel)",
   "language": "python",
   "name": "python3"
  },
  "language_info": {
   "codemirror_mode": {
    "name": "ipython",
    "version": 3
   },
   "file_extension": ".py",
   "mimetype": "text/x-python",
   "name": "python",
   "nbconvert_exporter": "python",
   "pygments_lexer": "ipython3",
   "version": "3.9.9"
  },
  "latex_metadata": {
   "affiliation": "Georgia Institute of Technology",
   "author": "Frank Dellaert and Seth Hutchinson",
   "title": "Introduction to Robotics"
  }
 },
 "nbformat": 4,
 "nbformat_minor": 2
}
