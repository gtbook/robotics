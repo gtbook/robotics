{
 "cells": [
  {
   "attachments": {},
   "cell_type": "markdown",
   "id": "HD4BzoemUv30",
   "metadata": {},
   "source": [
    "# A Robot Vacuum Cleaner\n",
    "\n",
    "> Where we will reason over time about probabilistic actions in a discrete state space.\n",
    "\n",
    "<img src=\"Figures3/S30-iRobot_vacuuming_robot-08.jpg\" alt=\"A robot resembling a vacuum cleaner in operation.\" width=\"60%\" align=center style=\"vertical-align:middle;margin:10px 0px\">"
   ]
  },
  {
   "cell_type": "markdown",
   "id": "8x6uL5cjwMO1",
   "metadata": {},
   "source": [
    "The second robot we will discuss is a mobile robot, modeled on the vacuum cleaning robots that many of us are already familiar with.  We assume that this robot is equipped with hardware and software such that it can perform navigation, motion planning, and motion control, but we will not be specific on how these capabilities are implemented.  This assumption allows us to focus on high-level problems (for example, deciding which room to clean next), without worrying now about low-level details (e.g., planning specific paths to cover a particular room, or navigating through a doorway).\n",
    "\n",
    "Besides the obvious fact that our vacuum cleaning robot can *move*, our vacuum cleaning robot exhibits several key differences from the trash sorting robot discussed in the previous chapter.\n",
    "First, the effects of actions depend on the current world state; if a robot is in the living room and moves to its left, it will arrive to a different location than if it had started in the office.\n",
    "Second, the actions executed by the vacuum cleaning robot have uncertain effects.\n",
    "This is rather different than the actions of the trash sorting robot, which achieved its goals deterministically,\n",
    "regardless of the current state (the \"move object to the metal bin\" action moves an object to the metal\n",
    "bin, regardless of the category of the object, and with 100% reliability).\n",
    "Third, because the effects of actions depend on state, achieving goals in the future will depend\n",
    "on the actions the robot executes now (since current actions affect future states).\n",
    "Therefore, this robot must consider how the world state evolves with the passing of time."
   ]
  },
  {
   "cell_type": "markdown",
   "id": "cSI4IeQh6S0J",
   "metadata": {},
   "source": [
    "In this chapter, we will explore the probabilistic outcomes of actions.  \n",
    "For our vacuum cleaning robot, states correspond to rooms in the house, and trajectories represent the robot moving from room to room.  \n",
    "We will model uncertain actions using conditional probability distributions, similar to how we modeled sensor measurements in the previous chapter. Using these distributions, we can propagate uncertainty forward in time for specific sequences of actions and generate sample trajectories from the corresponding probability distributions.\n",
    "\n",
    "Our treatment of sensing will be quite limited in this chapter.  \n",
    "We will model a simple, discrete light sensor. However, because sensor measurements depend on the state, and the state depends on the sequence of actions executed, *perception* becomes a more complex problem.  \n",
    "While our trash-sorting robot relied on simple MLE or MAP estimation using only the current sensor reading, the vacuum cleaning robot will need to integrate knowledge about its history of actions (which have uncertain effects) with the sequence of sensor measurements."
   ]
  },
  {
   "cell_type": "markdown",
   "id": "4f00950c",
   "metadata": {},
   "source": [
    "```{index} factor graph\n",
    "```\n",
    "```{index} pair: hidden Markov model; HMM \n",
    "```\n",
    "We will address this perception problem using **Hidden Markov Models (HMMs)**, \n",
    "which define probabilistic models for sensing over time.\n",
    "Crucially, we will demonstrate how to convert these models into a **factor graph**, \n",
    "enabling efficient computation of the most probable sequence of states given a series of sensor measurements and actions.\n",
    "\n",
    "```{index} pair: Markov decision process; MDP\n",
    "```\n",
    "Planning becomes more sophisticated for our vacuum cleaning robot.  \n",
    "Instead of selecting a single action to minimize the cost of the current step,\n",
    "we will reason about sequences of actions over time.\n",
    "To achieve this, we will introduce **Markov Decision Processes (MDPs)**.\n",
    "An MDP incorporates the concept of *reward*, allowing us to identify optimal actions.\n",
    "We will also derive an optimal *policy*—a strategy specifying what action to take in each state to maximize the aggregate reward over time.\n",
    "\n",
    "Finally, we will introduce the concept of reinforcement learning, where the parameters of an MDP are estimated using data collected during the robot’s normal operation."
   ]
  }
 ],
 "metadata": {
  "colab": {
   "collapsed_sections": [],
   "include_colab_link": true,
   "name": "S30_vacuum_intro.ipynb",
   "provenance": []
  },
  "interpreter": {
   "hash": "c6e4e9f98eb68ad3b7c296f83d20e6de614cb42e90992a65aa266555a3137d0d"
  },
  "kernelspec": {
   "display_name": "Python 3 (ipykernel)",
   "language": "python",
   "name": "python3"
  },
  "language_info": {
   "codemirror_mode": {
    "name": "ipython",
    "version": 3
   },
   "file_extension": ".py",
   "mimetype": "text/x-python",
   "name": "python",
   "nbconvert_exporter": "python",
   "pygments_lexer": "ipython3",
   "version": "3.9.9"
  },
  "latex_metadata": {
   "affiliation": "Georgia Institute of Technology",
   "author": "Frank Dellaert and Seth Hutchinson",
   "title": "Introduction to Robotics"
  }
 },
 "nbformat": 4,
 "nbformat_minor": 5
}
