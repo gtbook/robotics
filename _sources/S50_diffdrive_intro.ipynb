{
 "cells": [
  {
   "cell_type": "markdown",
   "metadata": {
    "colab_type": "text",
    "id": "view-in-github",
    "tags": [
     "no-tex"
    ]
   },
   "source": [
    "<a href=\"https://colab.research.google.com/github/gtbook/robotics/blob/main/S51_diffdrive_intro.ipynb\" target=\"_parent\"><img src=\"https://colab.research.google.com/assets/colab-badge.svg\" alt=\"Open In Colab\"/></a>"
   ]
  },
  {
   "cell_type": "code",
   "execution_count": 1,
   "metadata": {
    "id": "JoW4C_OkOMhe",
    "tags": [
     "remove-cell"
    ]
   },
   "outputs": [
    {
     "name": "stdout",
     "output_type": "stream",
     "text": [
      "Note: you may need to restart the kernel to use updated packages.\n"
     ]
    }
   ],
   "source": [
    "%pip install -q -U gtbook\n"
   ]
  },
  {
   "cell_type": "code",
   "execution_count": null,
   "metadata": {
    "id": "10-snNDwOSuC",
    "tags": [
     "remove-cell"
    ]
   },
   "outputs": [],
   "source": []
  },
  {
   "attachments": {},
   "cell_type": "markdown",
   "metadata": {
    "id": "nAvx4-UCNzt2"
   },
   "source": [
    "# A Mobile Robot With Simple Kinematics\n",
    "\n",
    "> A simple, differential-drive robot that is similar to a car, but can rotate in place.\n",
    "\n",
    "<img src=\"Figures5/S50-Two-wheeled_Toy_Robot-02.jpg\" alt=\"Splash image with steampunk differential drive robot\" width=\"60%\" align=center style=\"vertical-align:middle;margin:10px 0px\">"
   ]
  },
  {
   "cell_type": "markdown",
   "metadata": {},
   "source": [
    "In this chapter we introduce a robot with differential drive, i.e, two wheels that can spin in either direction to move the robot forwards or backwards, or change its orientation by turning. In contrast to the previous chapter, we will now treat *orientation* as a first class citizen.\n",
    "\n",
    "We will also introduce a new and powerful sensor, the *camera*,\n",
    "which is used by computer vision systems.\n",
    "The last decade has seen spectacular advances in computer vision powered by new breakthroughs in machine learning, specifically deep neural networks in computer vision. We first lay the groundwork by describing cameras and mathematical models for image formation, and then dive in with some elementary image processing, In the perception section we discuss multilayer perceptrons and convolutional neural networks to give a taste for the machine learning methods currently in vogue. We also discuss *learning* the parameters of these networks in the last section.\n",
    "\n",
    "In this chapter, we move beyond the grid-based representation of the robot state, introduce the notion\n",
    "of the robot's configuration, a continuous space that captures all of the robot's degrees\n",
    "of freedom.\n",
    "We introduce several planning methods that work in continuous configuration space, including\n",
    "state-of-the-art sampling based methods. \n",
    "\n",
    "We conclude the chapter with an introduction to modern Deep Learning (DL) methods.\n",
    "These methods can be applied to train the neural networks that we introduce in this chapter."
   ]
  },
  {
   "cell_type": "markdown",
   "metadata": {},
   "source": []
  }
 ],
 "metadata": {
  "colab": {
   "collapsed_sections": [],
   "include_colab_link": true,
   "name": "S51_diffdrive_intro.ipynb",
   "provenance": []
  },
  "interpreter": {
   "hash": "c6e4e9f98eb68ad3b7c296f83d20e6de614cb42e90992a65aa266555a3137d0d"
  },
  "kernelspec": {
   "display_name": "Python 3 (ipykernel)",
   "language": "python",
   "name": "python3"
  },
  "language_info": {
   "codemirror_mode": {
    "name": "ipython",
    "version": 3
   },
   "file_extension": ".py",
   "mimetype": "text/x-python",
   "name": "python",
   "nbconvert_exporter": "python",
   "pygments_lexer": "ipython3",
   "version": "3.8.12"
  },
  "latex_metadata": {
   "affiliation": "Georgia Institute of Technology",
   "author": "Frank Dellaert and Seth Hutchinson",
   "title": "Introduction to Robotics"
  }
 },
 "nbformat": 4,
 "nbformat_minor": 2
}
