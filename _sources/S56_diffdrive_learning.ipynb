{
 "cells": [
  {
   "cell_type": "markdown",
   "metadata": {
    "colab_type": "text",
    "id": "view-in-github",
    "tags": [
     "no-tex"
    ]
   },
   "source": [
    "<a href=\"https://colab.research.google.com/github/gtbook/robotics/blob/main/S56_diffdrive_learning.ipynb\" target=\"_parent\"><img src=\"https://colab.research.google.com/assets/colab-badge.svg\" alt=\"Open In Colab\"/></a>"
   ]
  },
  {
   "cell_type": "code",
   "execution_count": 1,
   "metadata": {
    "id": "JoW4C_OkOMhe",
    "tags": [
     "remove-cell"
    ]
   },
   "outputs": [
    {
     "name": "stdout",
     "output_type": "stream",
     "text": [
      "Note: you may need to restart the kernel to use updated packages.\n"
     ]
    }
   ],
   "source": [
    "%pip install -q -U gtbook\n"
   ]
  },
  {
   "cell_type": "code",
   "execution_count": 2,
   "metadata": {
    "id": "10-snNDwOSuC",
    "tags": [
     "remove-cell"
    ]
   },
   "outputs": [
    {
     "name": "stdout",
     "output_type": "stream",
     "text": [
      "Using device: mps\n"
     ]
    }
   ],
   "source": [
    "import plotly\n",
    "import pandas as pd\n",
    "import plotly.express as px\n",
    "\n",
    "import torch\n",
    "import torch.nn as nn\n",
    "import torch.optim as optim\n",
    "from torch.utils.data import DataLoader, TensorDataset\n",
    "\n",
    "try:\n",
    "    import google.colab\n",
    "except:\n",
    "    import plotly.io as pio\n",
    "    pio.renderers.default = \"png\"\n",
    "\n",
    "DEVICE = (\n",
    "    torch.device(\"cuda\") if torch.cuda.is_available()\n",
    "    else torch.device(\"mps\") if torch.backends.mps.is_available()\n",
    "    else torch.device(\"cpu\")\n",
    ")\n",
    "print(f\"Using device: {DEVICE}\")"
   ]
  },
  {
   "attachments": {},
   "cell_type": "markdown",
   "metadata": {
    "id": "nAvx4-UCNzt2"
   },
   "source": [
    "# Deep Learning\n",
    "\n",
    "> Stochastic gradient descent and the like.\n",
    "\n",
    "<img src=\"Figures5/S56-Two-wheeled_Toy_Robot-09.jpg\" alt=\"Splash image with steampunk differential drive robot\" width=\"40%\" align=center style=\"vertical-align:middle;margin:10px 0px\">"
   ]
  },
  {
   "cell_type": "markdown",
   "metadata": {},
   "source": [
    "## Supervised Learning Setup\n",
    "\n",
    "> From data, learn concept.\n",
    "\n",
    "In the **supervised learning** setup, we have a large number of examples of inputs $x$ and corresponding labels $y$.\n",
    "We will often refer to the *training dataset* as $D$, consisting of pairs $(x,y)$. The nature of the output labels $y$ determine the type of learning problem we are dealing with:\n",
    "\n",
    "1. **Classification**; If the labels $y$ are *discrete*, we talk about a supervised *classification* problem. The prototypical example is classifying images as portraying either a cat or a dog: here the images are the inputs $x$, and the output label $y \\in \\{\\text{cat},\\text{dog}\\}$.\n",
    "\n",
    "2. **Regression** If the labels $y$ are *continuous*, this is called a supervised *regression* problem. For example, predicting the blue-book value of a second-hand car based on its make, model, year, and miles driven."
   ]
  },
  {
   "cell_type": "markdown",
   "metadata": {},
   "source": [
    "Whether we are talking about classification or regression, the supervised leaning process normally follows these steps:\n",
    "\n",
    "1. Define a model $f$ and its parameters $\\theta$ that allow you to output a prediction $\\hat{y}$ from the input features $x$:\n",
    "\n",
    "$$\n",
    "\\hat{y} = f(x; \\theta)\n",
    "$$\n",
    "\n",
    "2. Divide your data into *training*, *validation*, and *test* datasets. Typically, the largest portion of the data is used for training, while setting aside smaller validation and test portions of the data.\n",
    "\n",
    "2. Train the model using the training data $D_{\\text{train}}$, while monitoring for \"overfitting\" on the validation dataset $D_{\\text{val}}$. We train by adjusting the parameters $\\theta$ to minimize a training loss, both of which we look at in more detail below.\n",
    "\n",
    "3. After we decided to stop the training process, we typically test the model on the held-out dataset $D_{\\text{test}}$ that the training process has never seen, to get an independent assessment on how well the model will generalize towards new, unseen data.\n",
    "\n",
    "Supervised learning is the staple of machine learning and its use has exploded in recent years to encompass almost any human economic activity, ranging from finance to healthcare and everything in between. Most recently the success of large language models is also based on supervised learning, where a \"transformer\"-based model is trained to predict the next word (or token) in a sequence, from very large textual datasets, a paradigm which is rapidly finding its way to different modalities like vision as well."
   ]
  },
  {
   "cell_type": "markdown",
   "metadata": {},
   "source": [
    "## Example: Interpolation in 1D\n",
    "\n",
    "As an example, e formulate a simple regression problem that asks for interpolating functions in 1D. We will create a *differentiable* interpolation scheme that can be trained using samples from any function we want to interpolate, even functions with multi-dimensional outputs.\n",
    "\n",
    "The `LineGrid` class below is designed for this purpose, and divides up the 1D interval over which the function is defined in a number of *cells*, arranged in a 1D grid. It is initialized with two parameters:\n",
    "\n",
    "- `n`: the number of cells in a 1D grid\n",
    "- `d`: the dimensionality of the function we want to interpolate\n",
    "\n",
    "In our case, we will focus on interpolating the grid values defined at the cell boundaries. The `forward` method of the `LineGrid` module performs the interpolation for any value inside the grid."
   ]
  },
  {
   "cell_type": "code",
   "execution_count": 3,
   "metadata": {},
   "outputs": [],
   "source": [
    "def interpolate(v0, v1, alpha):\n",
    "    \"\"\"Interpolate between v0 and v1 using alpha, using unsqueeze to properly handle batches.\"\"\"\n",
    "    return v0 * (1 - alpha.unsqueeze(-1)) + v1 * alpha.unsqueeze(-1)\n",
    "\n",
    "class LineGrid(nn.Module):\n",
    "    \"\"\"A 1D grid with learnable values at the boundaries on n cells.\"\"\"\n",
    "\n",
    "    def __init__(self, n, d=1):\n",
    "        super().__init__()  # Calling the superclass's __init__ method\n",
    "        self.grid = nn.Parameter(nn.init.normal_(torch.empty(n + 1, d)))\n",
    "\n",
    "    def forward(self, x):\n",
    "        X = torch.floor(x).long()\n",
    "        a = x - X  # blending weights (same size as x)\n",
    "        return interpolate(self.grid[X], self.grid[X + 1], a)"
   ]
  },
  {
   "cell_type": "markdown",
   "metadata": {},
   "source": [
    "Here is an example of how to initialize a `LineGrid` instance, and subsequently call its `forward` method:"
   ]
  },
  {
   "cell_type": "code",
   "execution_count": 4,
   "metadata": {},
   "outputs": [
    {
     "name": "stdout",
     "output_type": "stream",
     "text": [
      "Interpolated Output: tensor([[-0.9117,  0.6705],\n",
      "        [ 0.2919,  0.5310],\n",
      "        [ 0.6040,  0.1555]], grad_fn=<AddBackward0>)\n"
     ]
    }
   ],
   "source": [
    "grid_module = LineGrid(n=5, d=2)\n",
    "\n",
    "x = torch.Tensor([1.5, 2.7, 3.6])\n",
    "print(\"Interpolated Output:\", grid_module(x))"
   ]
  },
  {
   "cell_type": "markdown",
   "metadata": {},
   "source": [
    "In the example above, the shape of the output is $3\\times 2$ because we asked to interpolate a 2D function (`d` is 2) at three different locations (as `x.shape` is (3,)). In addition, the interpolate function is written to accommodate and shape for the tensor x to allow evaluating over arbitrary batches of examples. If we input a tensor with shape `(b, m)`, the output will have shape `(b, m, d)`, and so forth."
   ]
  },
  {
   "cell_type": "markdown",
   "metadata": {},
   "source": [
    "The output looks rather random, however, because the grid was initialized with random values in the constructor. Below we discuss often-used loss functions and the stochastic gradient descent method to train models, and show how to train the simple regression example above to drive all these concepts home. "
   ]
  },
  {
   "cell_type": "markdown",
   "metadata": {},
   "source": [
    "### Exercise\n",
    "\n",
    "For the example above with $n=5$ and $d=2$, give a single $(x,y)$ pair. What is the model $f$? What are the model parameters $\\theta$? How many parameters are there?"
   ]
  },
  {
   "cell_type": "markdown",
   "metadata": {},
   "source": [
    "## Loss Functions\n",
    "\n",
    "> A loss function for every occasion.\n",
    "\n",
    "Different tasks require different loss functions, and a lot of creativity and research goes into crafting loss functions for complex tasks. For \"vanilla\" regression tasks, we typically use a **mean squared error** loss function as we already encountered before:\n",
    "\n",
    "$$L_{\\text{MSE}}(\\theta; D) \\doteq \\frac{1}{|D|} \\sum_{(x,y)\\in D}|f(x;\\theta)-y|^2$$\n",
    "\n",
    "Above $f(x;\\theta)$ is the continuous prediction function implemented by, say, a neural network, where $\\theta$ represents the weights in all layers. Note that the formula above can be easily generalized to vector-valued labels $y$. In fact, our 1D interpolation example above yielded a 2-dimensional output, so let us illustrate the MSE loss in that case: "
   ]
  },
  {
   "cell_type": "code",
   "execution_count": 5,
   "metadata": {},
   "outputs": [
    {
     "name": "stdout",
     "output_type": "stream",
     "text": [
      "Our MSE Loss: 13.045638084411621\n"
     ]
    }
   ],
   "source": [
    "label = torch.Tensor([[1.0, 2.0], [3.0, 4.0], [5.0, 6.0]])\n",
    "print(\"Our MSE Loss:\", ((grid_module(x) - label)**2).mean().item())"
   ]
  },
  {
   "cell_type": "markdown",
   "metadata": {},
   "source": [
    "We used the vectorized versions of subtraction and power above, and then used the `mean` method of tensors. As you can see, the MSE loss in this case is 14.8715. Even though in this case the calculation is simple, many other loss functions exists and might not be that straightforward to implement. Luckily, PyTorch has many loss functions built-in:"
   ]
  },
  {
   "cell_type": "code",
   "execution_count": 6,
   "metadata": {},
   "outputs": [
    {
     "name": "stdout",
     "output_type": "stream",
     "text": [
      "Pytorch MSE Loss: 13.045638084411621\n"
     ]
    }
   ],
   "source": [
    "mse = nn.MSELoss() # Instantiate the loss function\n",
    "mse_loss = mse(grid_module(x), label) # Compute the loss\n",
    "print(\"Pytorch MSE Loss:\", mse_loss.item())"
   ]
  },
  {
   "cell_type": "markdown",
   "metadata": {},
   "source": [
    "For classification, the **cross entropy** loss function is very popular: it measures the average disagreement of the predicted labels with the ground truth labels:\n",
    "\n",
    "$$L_{\\text{CE}}(\\theta; D) \\doteq \\sum_c \\sum_{(x,y=c)\\in D}\\log\\frac{1}{p_c(x;\\theta)}$$\n",
    "\n",
    "This formula seems perhaps unintuitive and rather complicated. However, it is actually quite intuitive once you understand a few concepts.\n",
    "In particular, in the multi-class classification problem we assume that the model outputs a probability $p_c(x;\\theta)$ for every class $c\\in[N]$, where $N$ is the number of classes. The quantity \n",
    "\n",
    "$$\\log\\frac{1}{p_c(x;\\theta)}$$\n",
    "\n",
    "is called the *surprise* that we should experience when seeing a label $y=c$. \n",
    "Indeed, for example, if we see class $3$ and the probability output by the network is $p_3(x;\\theta)=1$, we are not surprised at all, as $\\log\\frac{1}{1}=\\log 1 = 0$. \n",
    "However, if the probability is only $0.01$, our surprise is $\\log\\frac{1}{0.01}=\\log 100 = 2$.\n",
    "The lower the probability, the higher the surprise. Hence, the cross-entropy above measures the *average surprise* for seeing the labeled examples in the training data. After training, the model is the least surprised possible, hopefully, which is why it is an intuitive loss function to minimize.\n",
    "\n",
    "Note that training with cross-entropy does not guarantee that the outputs can be *truly* interpreted as probabilities: the recent field of \"model calibration\" has shown that especially neural networks can severely over-estimate those probability values in attempting to minimize the loss. If this interpretation is important for the application at hand, several techniques now exist to \"calibrate\" the models to be more interpretable that way."
   ]
  },
  {
   "cell_type": "markdown",
   "metadata": {},
   "source": [
    "## Gradient Descent\n",
    "\n",
    "> Calculate gradient, reduce loss.\n",
    "\n",
    "A neural network output, and in particular a CNN, depends on the large set of continuous weights $W$ that make up its convolutional layers, pooling layers, and fully connected layers. In other words, the neural network is the model $f(x;\\theta)$ in the learning setup discussed above, and the weights $W$ are its parameters $\\theta$.\n",
    "\n",
    "\n",
    "When we train a neural networks, we adjust its weights $W$ to perform better on the task at hand, be it classification or regression. To measure whether the model performs \"better\", we can use one of the loss functions defined above. To adjust the weights, we could calculate the gradient of the loss function with respect to each of the weights, and adjust the weights accordingly. That procedure is called **gradient descent**."
   ]
  },
  {
   "cell_type": "markdown",
   "metadata": {},
   "source": [
    "Below we illustrate gradient descent with the 1D interpolation model we created above. As an example, maybe we can learn a sine and cosine function at the same time? Let us create some training data by creating 500 noisy samples of these two functions. To integrate smoothly with the pytorch library we will use, we create a `TensorDataset` below."
   ]
  },
  {
   "cell_type": "code",
   "execution_count": 7,
   "metadata": {},
   "outputs": [],
   "source": [
    "m = 250  # number of samples to train our model\n",
    "n = 20  # Grid size of 20, allowing for x values between 0 and 20\n",
    "x_samples = torch.rand((m, )) * n\n",
    "noisy_sin = torch.sin(x_samples * 2 * torch.pi / n) + 0.1 * torch.randn((m, ))\n",
    "noisy_cos = torch.cos(x_samples * 2 * torch.pi / n) + 0.1 * torch.randn((m, ))\n",
    "y_samples = torch.stack([noisy_sin, noisy_cos], dim=1)\n",
    "dataset = TensorDataset(x_samples, y_samples)"
   ]
  },
  {
   "cell_type": "markdown",
   "metadata": {},
   "source": [
    "A `TensorDataset` is a PyTorch class that wraps a pair of tensors, and its `__getitem__` method retrieves a training sample by indexing the tensors along the first dimension. For example, we can retrieve the training sample with index 12, or even slice to get the 5 training samples with indices 10..14:"
   ]
  },
  {
   "cell_type": "code",
   "execution_count": 8,
   "metadata": {},
   "outputs": [
    {
     "name": "stdout",
     "output_type": "stream",
     "text": [
      "dataset[12]: (tensor(8.8767), tensor([ 0.2129, -0.9513]))\n",
      "dataset[10:15]: (tensor([13.4652, 13.4830,  8.8767, 17.0182, 15.3461]), tensor([[-0.7812, -0.4369],\n",
      "        [-0.9439, -0.4867],\n",
      "        [ 0.2129, -0.9513],\n",
      "        [-0.8921,  0.4847],\n",
      "        [-1.0568,  0.1415]]))\n"
     ]
    }
   ],
   "source": [
    "print(\"dataset[12]:\", dataset[12])\n",
    "print(\"dataset[10:15]:\", dataset[10:15])"
   ]
  },
  {
   "cell_type": "markdown",
   "metadata": {},
   "source": [
    "We can then use the PyTorch training code below, which is a standard way of training any differentiable function, including our LineGrid class. That is  because all the operations inside the LineGrid class are differentiable, so gradient descent will just work.\n",
    "\n",
    "Inside the training loop below, you'll find the typical sequence of operations: zeroing gradients, performing a forward pass to get predictions, computing the loss, and doing a backward pass to update the model's parameters. Try to understand the code, as this same training loop is at the core of most deep learning architectures. Now, let's take a closer look at the code itself, which is extensively documented for clarity:"
   ]
  },
  {
   "cell_type": "code",
   "execution_count": 9,
   "metadata": {},
   "outputs": [],
   "source": [
    "def train_gd(model, dataset, loss_fn, callback=None, learning_rate=0.5, num_iterations=301):\n",
    "    # Initialize optimizer\n",
    "    optimizer = optim.SGD(model.parameters(), lr=learning_rate)\n",
    "    \n",
    "    # Extract data from dataset\n",
    "    x_samples, y_samples = dataset[:]\n",
    "\n",
    "    # Loop over the dataset multiple times (each loop is an iteration)\n",
    "    for iteration in range(num_iterations):\n",
    "        # Zero the parameter gradients\n",
    "        optimizer.zero_grad()\n",
    "\n",
    "        # Forward pass: Compute predicted y by passing x_samples through the model\n",
    "        output = model(x_samples)\n",
    "\n",
    "        # Compute loss\n",
    "        loss = loss_fn(output, y_samples)\n",
    "\n",
    "        # Backward pass and update\n",
    "        loss.backward()\n",
    "        optimizer.step()\n",
    "\n",
    "        # Report if callback is given\n",
    "        if callback is not None:\n",
    "            callback(iteration, model)"
   ]
  },
  {
   "cell_type": "markdown",
   "metadata": {},
   "source": [
    "To use the code, we initialize the model, specify the loss function, and create a callback function that allows us to monitor the progress made by the optimizer. After that, we simply call `train_gd`:"
   ]
  },
  {
   "cell_type": "code",
   "execution_count": 10,
   "metadata": {},
   "outputs": [],
   "source": [
    "# Initialize model\n",
    "model = LineGrid(n=n, d=2)  # d=2 as we are regressing both sin and cos\n",
    "\n",
    "# Initialize the built-in Mean-Squared Error loss function\n",
    "mse = nn.MSELoss()\n",
    "\n",
    "# Create a callback that saves loss to a dataframe\n",
    "loss_data = pd.DataFrame(columns=['Iteration', 'Loss'])\n",
    "def record_loss(iteration, model):\n",
    "    loss_data.loc[len(loss_data)] = [iteration, mse(model(x_samples), y_samples).item()]\n",
    "            \n",
    "# Run the training loop\n",
    "train_gd(model, dataset, loss_fn=mse, callback=record_loss)"
   ]
  },
  {
   "cell_type": "code",
   "execution_count": 11,
   "metadata": {},
   "outputs": [
    {
     "data": {
      "application/vnd.plotly.v1+json": {
       "config": {
        "plotlyServerURL": "https://plot.ly"
       },
       "data": [
        {
         "hovertemplate": "Iteration=%{x}<br>Loss=%{y}<extra></extra>",
         "legendgroup": "",
         "line": {
          "color": "#636efa",
          "dash": "solid"
         },
         "marker": {
          "symbol": "circle"
         },
         "mode": "lines",
         "name": "",
         "orientation": "v",
         "showlegend": false,
         "type": "scatter",
         "x": [
          0,
          1,
          2,
          3,
          4,
          5,
          6,
          7,
          8,
          9,
          10,
          11,
          12,
          13,
          14,
          15,
          16,
          17,
          18,
          19,
          20,
          21,
          22,
          23,
          24,
          25,
          26,
          27,
          28,
          29,
          30,
          31,
          32,
          33,
          34,
          35,
          36,
          37,
          38,
          39,
          40,
          41,
          42,
          43,
          44,
          45,
          46,
          47,
          48,
          49,
          50,
          51,
          52,
          53,
          54,
          55,
          56,
          57,
          58,
          59,
          60,
          61,
          62,
          63,
          64,
          65,
          66,
          67,
          68,
          69,
          70,
          71,
          72,
          73,
          74,
          75,
          76,
          77,
          78,
          79,
          80,
          81,
          82,
          83,
          84,
          85,
          86,
          87,
          88,
          89,
          90,
          91,
          92,
          93,
          94,
          95,
          96,
          97,
          98,
          99,
          100,
          101,
          102,
          103,
          104,
          105,
          106,
          107,
          108,
          109,
          110,
          111,
          112,
          113,
          114,
          115,
          116,
          117,
          118,
          119,
          120,
          121,
          122,
          123,
          124,
          125,
          126,
          127,
          128,
          129,
          130,
          131,
          132,
          133,
          134,
          135,
          136,
          137,
          138,
          139,
          140,
          141,
          142,
          143,
          144,
          145,
          146,
          147,
          148,
          149,
          150,
          151,
          152,
          153,
          154,
          155,
          156,
          157,
          158,
          159,
          160,
          161,
          162,
          163,
          164,
          165,
          166,
          167,
          168,
          169,
          170,
          171,
          172,
          173,
          174,
          175,
          176,
          177,
          178,
          179,
          180,
          181,
          182,
          183,
          184,
          185,
          186,
          187,
          188,
          189,
          190,
          191,
          192,
          193,
          194,
          195,
          196,
          197,
          198,
          199,
          200,
          201,
          202,
          203,
          204,
          205,
          206,
          207,
          208,
          209,
          210,
          211,
          212,
          213,
          214,
          215,
          216,
          217,
          218,
          219,
          220,
          221,
          222,
          223,
          224,
          225,
          226,
          227,
          228,
          229,
          230,
          231,
          232,
          233,
          234,
          235,
          236,
          237,
          238,
          239,
          240,
          241,
          242,
          243,
          244,
          245,
          246,
          247,
          248,
          249,
          250,
          251,
          252,
          253,
          254,
          255,
          256,
          257,
          258,
          259,
          260,
          261,
          262,
          263,
          264,
          265,
          266,
          267,
          268,
          269,
          270,
          271,
          272,
          273,
          274,
          275,
          276,
          277,
          278,
          279,
          280,
          281,
          282,
          283,
          284,
          285,
          286,
          287,
          288,
          289,
          290,
          291,
          292,
          293,
          294,
          295,
          296,
          297,
          298,
          299,
          300
         ],
         "xaxis": "x",
         "y": [
          1.0020482540130615,
          0.960557222366333,
          0.9210560321807861,
          0.883441150188446,
          0.8476154208183289,
          0.8134863972663879,
          0.7809668779373169,
          0.7499741911888123,
          0.720430314540863,
          0.692261278629303,
          0.6653971672058105,
          0.6397716999053955,
          0.615322470664978,
          0.5919898748397827,
          0.5697178840637207,
          0.5484533309936523,
          0.5281458497047424,
          0.5087478756904602,
          0.49021410942077637,
          0.47250187397003174,
          0.45557060837745667,
          0.4393819570541382,
          0.4238995313644409,
          0.4090888500213623,
          0.39491721987724304,
          0.3813537061214447,
          0.3683689832687378,
          0.35593515634536743,
          0.3440258800983429,
          0.33261603116989136,
          0.3216819167137146,
          0.3112010061740875,
          0.30115193128585815,
          0.2915143370628357,
          0.28226909041404724,
          0.27339786291122437,
          0.2648833096027374,
          0.25670886039733887,
          0.24885903298854828,
          0.24131889641284943,
          0.23407430946826935,
          0.22711187601089478,
          0.22041888535022736,
          0.21398323774337769,
          0.20779336988925934,
          0.20183834433555603,
          0.19610783457756042,
          0.19059181213378906,
          0.18528097867965698,
          0.1801663190126419,
          0.17523935437202454,
          0.17049191892147064,
          0.1659163385629654,
          0.16150525212287903,
          0.15725162625312805,
          0.1531488597393036,
          0.14919055998325348,
          0.1453707069158554,
          0.14168350398540497,
          0.13812346756458282,
          0.13468536734580994,
          0.13136421144008636,
          0.12815524637699127,
          0.12505391240119934,
          0.12205588072538376,
          0.11915700882673264,
          0.116353340446949,
          0.113641157746315,
          0.11101681739091873,
          0.10847689211368561,
          0.1060180813074112,
          0.10363730043172836,
          0.10133150964975357,
          0.0990978553891182,
          0.09693360328674316,
          0.09483614563941956,
          0.09280294179916382,
          0.09083163738250732,
          0.08891990780830383,
          0.08706557750701904,
          0.08526653051376343,
          0.08352077752351761,
          0.08182638138532639,
          0.08018148690462112,
          0.07858433574438095,
          0.07703324407339096,
          0.07552657276391983,
          0.0740627646446228,
          0.07264033704996109,
          0.07125785946846008,
          0.06991393864154816,
          0.06860727816820145,
          0.06733659654855728,
          0.06610068678855896,
          0.06489839404821396,
          0.06372857093811035,
          0.06259016692638397,
          0.061482127755880356,
          0.06040346622467041,
          0.059353239834308624,
          0.058330509811639786,
          0.05733441188931465,
          0.05636407434940338,
          0.055418696254491806,
          0.05449749156832695,
          0.05359969660639763,
          0.052724577486515045,
          0.05187143385410309,
          0.051039598882198334,
          0.05022841691970825,
          0.049437254667282104,
          0.04866550862789154,
          0.04791259765625,
          0.047177962958812714,
          0.04646105691790581,
          0.0457613542675972,
          0.045078344643116,
          0.0444115549325943,
          0.0437605082988739,
          0.04312475770711899,
          0.04250384867191315,
          0.04189737141132355,
          0.04130491614341736,
          0.040726080536842346,
          0.040160492062568665,
          0.03960777446627617,
          0.039067573845386505,
          0.038539543747901917,
          0.03802335262298584,
          0.03751867637038231,
          0.037025194615125656,
          0.0365426242351532,
          0.03607065603137016,
          0.03560902178287506,
          0.03515743091702461,
          0.03471563011407852,
          0.0342833586037159,
          0.03386036306619644,
          0.03344641625881195,
          0.03304126486182213,
          0.03264469653367996,
          0.032256487756967545,
          0.03187642619013786,
          0.0315043069422245,
          0.031139926984906197,
          0.030783092603087425,
          0.030433613806962967,
          0.030091311782598495,
          0.029756007716059685,
          0.029427530243992805,
          0.029105709865689278,
          0.028790388256311417,
          0.02848140150308609,
          0.028178606182336807,
          0.027881845831871033,
          0.027590977028012276,
          0.027305861935019493,
          0.027026360854506493,
          0.026752343401312828,
          0.026483681052923203,
          0.026220252737402916,
          0.025961926206946373,
          0.025708593428134918,
          0.02546013332903385,
          0.02521643601357937,
          0.024977389723062515,
          0.024742895737290382,
          0.024512846022844315,
          0.024287138134241104,
          0.02406567521393299,
          0.023848367854952812,
          0.02363511733710766,
          0.023425834253430367,
          0.02322043478488922,
          0.02301882579922676,
          0.022820930927991867,
          0.022626666352152824,
          0.022435955703258514,
          0.02224871516227722,
          0.022064877673983574,
          0.021884368732571602,
          0.021707110106945038,
          0.021533042192459106,
          0.02136208862066269,
          0.02119419164955616,
          0.0210292786359787,
          0.02086728997528553,
          0.02070816606283188,
          0.02055184356868267,
          0.020398270338773727,
          0.020247379317879677,
          0.020099125802516937,
          0.019953452050685883,
          0.019810300320386887,
          0.01966962404549122,
          0.01953137293457985,
          0.0193954985588789,
          0.01926194690167904,
          0.019130676984786987,
          0.019001638516783714,
          0.018874794244766235,
          0.01875009387731552,
          0.01862749457359314,
          0.018506957218050957,
          0.01838844083249569,
          0.018271908164024353,
          0.018157314509153366,
          0.018044626340270042,
          0.017933804541826248,
          0.017824811860919,
          0.017717618495225906,
          0.017612187191843987,
          0.017508478835225105,
          0.017406463623046875,
          0.017306111752986908,
          0.017207389697432518,
          0.017110267654061317,
          0.01701471395790577,
          0.016920696943998337,
          0.01682819426059723,
          0.01673716865479946,
          0.01664760150015354,
          0.016559457406401634,
          0.016472717747092247,
          0.016387350857257843,
          0.016303330659866333,
          0.016220636665821075,
          0.01613924279808998,
          0.01605912670493126,
          0.01598026044666767,
          0.015902627259492874,
          0.01582620106637478,
          0.015750957652926445,
          0.01567688025534153,
          0.015603949315845966,
          0.015532138757407665,
          0.015461429953575134,
          0.01539180800318718,
          0.015323246829211712,
          0.015255734324455261,
          0.015189247205853462,
          0.015123767778277397,
          0.015059279277920723,
          0.014995764009654522,
          0.014933203347027302,
          0.014871585182845592,
          0.014810889028012753,
          0.014751101844012737,
          0.014692203141748905,
          0.014634184539318085,
          0.014577025547623634,
          0.014520712196826935,
          0.014465229585766792,
          0.01441056840121746,
          0.014356708154082298,
          0.014303639531135559,
          0.0142513457685709,
          0.01419981848448515,
          0.014149039052426815,
          0.014098999090492725,
          0.01404968649148941,
          0.014001085422933102,
          0.013953184708952904,
          0.01390597689896822,
          0.013859445229172707,
          0.013813582248985767,
          0.013768377713859081,
          0.01372381579130888,
          0.013679889030754566,
          0.013636588118970394,
          0.01359389815479517,
          0.01355181634426117,
          0.01351032592356205,
          0.013469421304762363,
          0.013429091311991215,
          0.013389330357313156,
          0.013350124470889568,
          0.013311464339494705,
          0.013273346237838268,
          0.013235757127404213,
          0.013198691420257092,
          0.013162138871848583,
          0.013126091100275517,
          0.013090543448925018,
          0.013055482879281044,
          0.013020903803408146,
          0.012986800633370876,
          0.012953163124620914,
          0.012919986620545387,
          0.012887262739241123,
          0.01285498309880495,
          0.012823143042623997,
          0.01279173418879509,
          0.012760750018060207,
          0.012730184942483902,
          0.012700030580163002,
          0.01267028134316206,
          0.012640934437513351,
          0.012611979618668556,
          0.012583410367369652,
          0.012555224820971489
         ],
         "yaxis": "y"
        }
       ],
       "layout": {
        "legend": {
         "tracegroupgap": 0
        },
        "margin": {
         "t": 60
        },
        "template": {
         "data": {
          "bar": [
           {
            "error_x": {
             "color": "#2a3f5f"
            },
            "error_y": {
             "color": "#2a3f5f"
            },
            "marker": {
             "line": {
              "color": "#E5ECF6",
              "width": 0.5
             },
             "pattern": {
              "fillmode": "overlay",
              "size": 10,
              "solidity": 0.2
             }
            },
            "type": "bar"
           }
          ],
          "barpolar": [
           {
            "marker": {
             "line": {
              "color": "#E5ECF6",
              "width": 0.5
             },
             "pattern": {
              "fillmode": "overlay",
              "size": 10,
              "solidity": 0.2
             }
            },
            "type": "barpolar"
           }
          ],
          "carpet": [
           {
            "aaxis": {
             "endlinecolor": "#2a3f5f",
             "gridcolor": "white",
             "linecolor": "white",
             "minorgridcolor": "white",
             "startlinecolor": "#2a3f5f"
            },
            "baxis": {
             "endlinecolor": "#2a3f5f",
             "gridcolor": "white",
             "linecolor": "white",
             "minorgridcolor": "white",
             "startlinecolor": "#2a3f5f"
            },
            "type": "carpet"
           }
          ],
          "choropleth": [
           {
            "colorbar": {
             "outlinewidth": 0,
             "ticks": ""
            },
            "type": "choropleth"
           }
          ],
          "contour": [
           {
            "colorbar": {
             "outlinewidth": 0,
             "ticks": ""
            },
            "colorscale": [
             [
              0,
              "#0d0887"
             ],
             [
              0.1111111111111111,
              "#46039f"
             ],
             [
              0.2222222222222222,
              "#7201a8"
             ],
             [
              0.3333333333333333,
              "#9c179e"
             ],
             [
              0.4444444444444444,
              "#bd3786"
             ],
             [
              0.5555555555555556,
              "#d8576b"
             ],
             [
              0.6666666666666666,
              "#ed7953"
             ],
             [
              0.7777777777777778,
              "#fb9f3a"
             ],
             [
              0.8888888888888888,
              "#fdca26"
             ],
             [
              1,
              "#f0f921"
             ]
            ],
            "type": "contour"
           }
          ],
          "contourcarpet": [
           {
            "colorbar": {
             "outlinewidth": 0,
             "ticks": ""
            },
            "type": "contourcarpet"
           }
          ],
          "heatmap": [
           {
            "colorbar": {
             "outlinewidth": 0,
             "ticks": ""
            },
            "colorscale": [
             [
              0,
              "#0d0887"
             ],
             [
              0.1111111111111111,
              "#46039f"
             ],
             [
              0.2222222222222222,
              "#7201a8"
             ],
             [
              0.3333333333333333,
              "#9c179e"
             ],
             [
              0.4444444444444444,
              "#bd3786"
             ],
             [
              0.5555555555555556,
              "#d8576b"
             ],
             [
              0.6666666666666666,
              "#ed7953"
             ],
             [
              0.7777777777777778,
              "#fb9f3a"
             ],
             [
              0.8888888888888888,
              "#fdca26"
             ],
             [
              1,
              "#f0f921"
             ]
            ],
            "type": "heatmap"
           }
          ],
          "heatmapgl": [
           {
            "colorbar": {
             "outlinewidth": 0,
             "ticks": ""
            },
            "colorscale": [
             [
              0,
              "#0d0887"
             ],
             [
              0.1111111111111111,
              "#46039f"
             ],
             [
              0.2222222222222222,
              "#7201a8"
             ],
             [
              0.3333333333333333,
              "#9c179e"
             ],
             [
              0.4444444444444444,
              "#bd3786"
             ],
             [
              0.5555555555555556,
              "#d8576b"
             ],
             [
              0.6666666666666666,
              "#ed7953"
             ],
             [
              0.7777777777777778,
              "#fb9f3a"
             ],
             [
              0.8888888888888888,
              "#fdca26"
             ],
             [
              1,
              "#f0f921"
             ]
            ],
            "type": "heatmapgl"
           }
          ],
          "histogram": [
           {
            "marker": {
             "pattern": {
              "fillmode": "overlay",
              "size": 10,
              "solidity": 0.2
             }
            },
            "type": "histogram"
           }
          ],
          "histogram2d": [
           {
            "colorbar": {
             "outlinewidth": 0,
             "ticks": ""
            },
            "colorscale": [
             [
              0,
              "#0d0887"
             ],
             [
              0.1111111111111111,
              "#46039f"
             ],
             [
              0.2222222222222222,
              "#7201a8"
             ],
             [
              0.3333333333333333,
              "#9c179e"
             ],
             [
              0.4444444444444444,
              "#bd3786"
             ],
             [
              0.5555555555555556,
              "#d8576b"
             ],
             [
              0.6666666666666666,
              "#ed7953"
             ],
             [
              0.7777777777777778,
              "#fb9f3a"
             ],
             [
              0.8888888888888888,
              "#fdca26"
             ],
             [
              1,
              "#f0f921"
             ]
            ],
            "type": "histogram2d"
           }
          ],
          "histogram2dcontour": [
           {
            "colorbar": {
             "outlinewidth": 0,
             "ticks": ""
            },
            "colorscale": [
             [
              0,
              "#0d0887"
             ],
             [
              0.1111111111111111,
              "#46039f"
             ],
             [
              0.2222222222222222,
              "#7201a8"
             ],
             [
              0.3333333333333333,
              "#9c179e"
             ],
             [
              0.4444444444444444,
              "#bd3786"
             ],
             [
              0.5555555555555556,
              "#d8576b"
             ],
             [
              0.6666666666666666,
              "#ed7953"
             ],
             [
              0.7777777777777778,
              "#fb9f3a"
             ],
             [
              0.8888888888888888,
              "#fdca26"
             ],
             [
              1,
              "#f0f921"
             ]
            ],
            "type": "histogram2dcontour"
           }
          ],
          "mesh3d": [
           {
            "colorbar": {
             "outlinewidth": 0,
             "ticks": ""
            },
            "type": "mesh3d"
           }
          ],
          "parcoords": [
           {
            "line": {
             "colorbar": {
              "outlinewidth": 0,
              "ticks": ""
             }
            },
            "type": "parcoords"
           }
          ],
          "pie": [
           {
            "automargin": true,
            "type": "pie"
           }
          ],
          "scatter": [
           {
            "fillpattern": {
             "fillmode": "overlay",
             "size": 10,
             "solidity": 0.2
            },
            "type": "scatter"
           }
          ],
          "scatter3d": [
           {
            "line": {
             "colorbar": {
              "outlinewidth": 0,
              "ticks": ""
             }
            },
            "marker": {
             "colorbar": {
              "outlinewidth": 0,
              "ticks": ""
             }
            },
            "type": "scatter3d"
           }
          ],
          "scattercarpet": [
           {
            "marker": {
             "colorbar": {
              "outlinewidth": 0,
              "ticks": ""
             }
            },
            "type": "scattercarpet"
           }
          ],
          "scattergeo": [
           {
            "marker": {
             "colorbar": {
              "outlinewidth": 0,
              "ticks": ""
             }
            },
            "type": "scattergeo"
           }
          ],
          "scattergl": [
           {
            "marker": {
             "colorbar": {
              "outlinewidth": 0,
              "ticks": ""
             }
            },
            "type": "scattergl"
           }
          ],
          "scattermapbox": [
           {
            "marker": {
             "colorbar": {
              "outlinewidth": 0,
              "ticks": ""
             }
            },
            "type": "scattermapbox"
           }
          ],
          "scatterpolar": [
           {
            "marker": {
             "colorbar": {
              "outlinewidth": 0,
              "ticks": ""
             }
            },
            "type": "scatterpolar"
           }
          ],
          "scatterpolargl": [
           {
            "marker": {
             "colorbar": {
              "outlinewidth": 0,
              "ticks": ""
             }
            },
            "type": "scatterpolargl"
           }
          ],
          "scatterternary": [
           {
            "marker": {
             "colorbar": {
              "outlinewidth": 0,
              "ticks": ""
             }
            },
            "type": "scatterternary"
           }
          ],
          "surface": [
           {
            "colorbar": {
             "outlinewidth": 0,
             "ticks": ""
            },
            "colorscale": [
             [
              0,
              "#0d0887"
             ],
             [
              0.1111111111111111,
              "#46039f"
             ],
             [
              0.2222222222222222,
              "#7201a8"
             ],
             [
              0.3333333333333333,
              "#9c179e"
             ],
             [
              0.4444444444444444,
              "#bd3786"
             ],
             [
              0.5555555555555556,
              "#d8576b"
             ],
             [
              0.6666666666666666,
              "#ed7953"
             ],
             [
              0.7777777777777778,
              "#fb9f3a"
             ],
             [
              0.8888888888888888,
              "#fdca26"
             ],
             [
              1,
              "#f0f921"
             ]
            ],
            "type": "surface"
           }
          ],
          "table": [
           {
            "cells": {
             "fill": {
              "color": "#EBF0F8"
             },
             "line": {
              "color": "white"
             }
            },
            "header": {
             "fill": {
              "color": "#C8D4E3"
             },
             "line": {
              "color": "white"
             }
            },
            "type": "table"
           }
          ]
         },
         "layout": {
          "annotationdefaults": {
           "arrowcolor": "#2a3f5f",
           "arrowhead": 0,
           "arrowwidth": 1
          },
          "autotypenumbers": "strict",
          "coloraxis": {
           "colorbar": {
            "outlinewidth": 0,
            "ticks": ""
           }
          },
          "colorscale": {
           "diverging": [
            [
             0,
             "#8e0152"
            ],
            [
             0.1,
             "#c51b7d"
            ],
            [
             0.2,
             "#de77ae"
            ],
            [
             0.3,
             "#f1b6da"
            ],
            [
             0.4,
             "#fde0ef"
            ],
            [
             0.5,
             "#f7f7f7"
            ],
            [
             0.6,
             "#e6f5d0"
            ],
            [
             0.7,
             "#b8e186"
            ],
            [
             0.8,
             "#7fbc41"
            ],
            [
             0.9,
             "#4d9221"
            ],
            [
             1,
             "#276419"
            ]
           ],
           "sequential": [
            [
             0,
             "#0d0887"
            ],
            [
             0.1111111111111111,
             "#46039f"
            ],
            [
             0.2222222222222222,
             "#7201a8"
            ],
            [
             0.3333333333333333,
             "#9c179e"
            ],
            [
             0.4444444444444444,
             "#bd3786"
            ],
            [
             0.5555555555555556,
             "#d8576b"
            ],
            [
             0.6666666666666666,
             "#ed7953"
            ],
            [
             0.7777777777777778,
             "#fb9f3a"
            ],
            [
             0.8888888888888888,
             "#fdca26"
            ],
            [
             1,
             "#f0f921"
            ]
           ],
           "sequentialminus": [
            [
             0,
             "#0d0887"
            ],
            [
             0.1111111111111111,
             "#46039f"
            ],
            [
             0.2222222222222222,
             "#7201a8"
            ],
            [
             0.3333333333333333,
             "#9c179e"
            ],
            [
             0.4444444444444444,
             "#bd3786"
            ],
            [
             0.5555555555555556,
             "#d8576b"
            ],
            [
             0.6666666666666666,
             "#ed7953"
            ],
            [
             0.7777777777777778,
             "#fb9f3a"
            ],
            [
             0.8888888888888888,
             "#fdca26"
            ],
            [
             1,
             "#f0f921"
            ]
           ]
          },
          "colorway": [
           "#636efa",
           "#EF553B",
           "#00cc96",
           "#ab63fa",
           "#FFA15A",
           "#19d3f3",
           "#FF6692",
           "#B6E880",
           "#FF97FF",
           "#FECB52"
          ],
          "font": {
           "color": "#2a3f5f"
          },
          "geo": {
           "bgcolor": "white",
           "lakecolor": "white",
           "landcolor": "#E5ECF6",
           "showlakes": true,
           "showland": true,
           "subunitcolor": "white"
          },
          "hoverlabel": {
           "align": "left"
          },
          "hovermode": "closest",
          "mapbox": {
           "style": "light"
          },
          "paper_bgcolor": "white",
          "plot_bgcolor": "#E5ECF6",
          "polar": {
           "angularaxis": {
            "gridcolor": "white",
            "linecolor": "white",
            "ticks": ""
           },
           "bgcolor": "#E5ECF6",
           "radialaxis": {
            "gridcolor": "white",
            "linecolor": "white",
            "ticks": ""
           }
          },
          "scene": {
           "xaxis": {
            "backgroundcolor": "#E5ECF6",
            "gridcolor": "white",
            "gridwidth": 2,
            "linecolor": "white",
            "showbackground": true,
            "ticks": "",
            "zerolinecolor": "white"
           },
           "yaxis": {
            "backgroundcolor": "#E5ECF6",
            "gridcolor": "white",
            "gridwidth": 2,
            "linecolor": "white",
            "showbackground": true,
            "ticks": "",
            "zerolinecolor": "white"
           },
           "zaxis": {
            "backgroundcolor": "#E5ECF6",
            "gridcolor": "white",
            "gridwidth": 2,
            "linecolor": "white",
            "showbackground": true,
            "ticks": "",
            "zerolinecolor": "white"
           }
          },
          "shapedefaults": {
           "line": {
            "color": "#2a3f5f"
           }
          },
          "ternary": {
           "aaxis": {
            "gridcolor": "white",
            "linecolor": "white",
            "ticks": ""
           },
           "baxis": {
            "gridcolor": "white",
            "linecolor": "white",
            "ticks": ""
           },
           "bgcolor": "#E5ECF6",
           "caxis": {
            "gridcolor": "white",
            "linecolor": "white",
            "ticks": ""
           }
          },
          "title": {
           "x": 0.05
          },
          "xaxis": {
           "automargin": true,
           "gridcolor": "white",
           "linecolor": "white",
           "ticks": "",
           "title": {
            "standoff": 15
           },
           "zerolinecolor": "white",
           "zerolinewidth": 2
          },
          "yaxis": {
           "automargin": true,
           "gridcolor": "white",
           "linecolor": "white",
           "ticks": "",
           "title": {
            "standoff": 15
           },
           "zerolinecolor": "white",
           "zerolinewidth": 2
          }
         }
        },
        "xaxis": {
         "anchor": "y",
         "domain": [
          0,
          1
         ],
         "title": {
          "text": "Iteration"
         }
        },
        "yaxis": {
         "anchor": "x",
         "domain": [
          0,
          1
         ],
         "title": {
          "text": "Loss"
         }
        }
       }
      }
     },
     "metadata": {},
     "output_type": "display_data"
    }
   ],
   "source": [
    "#| caption: Loss of the model during training. The loss decreases as the model learns to fit the data.\n",
    "#| label: fig:loss_training\n",
    "px.line(loss_data, x='Iteration', y='Loss')"
   ]
  },
  {
   "cell_type": "markdown",
   "metadata": {},
   "source": [
    "Note that gradient descent converges rather slow. You could try experimenting with the learning rate to speed this up. \n",
    "\n",
    "After the training has converged, we can evaluate the resulting functions and plot the result against the training data, and we see that we get decent approximations of sin and cos, even with noisy training data:"
   ]
  },
  {
   "cell_type": "code",
   "execution_count": 12,
   "metadata": {},
   "outputs": [],
   "source": [
    "x_sorted = torch.sort(x_samples).values\n",
    "y_pred = model(x_sorted).detach().numpy()\n",
    "fig = plotly.graph_objects.Figure()\n",
    "fig.add_scatter(x=x_samples, y=y_samples[:, 0], mode='markers', name='sin')\n",
    "fig.add_scatter(x=x_samples, y=y_samples[:, 1], mode='markers', name='cos')\n",
    "fig.add_scatter(x=x_sorted, y=y_pred[:, 0], mode='lines', name='predicted sin')\n",
    "fig.add_scatter(x=x_sorted, y=y_pred[:, 1], mode='lines', name='predicted cos');\n"
   ]
  },
  {
   "cell_type": "code",
   "execution_count": 13,
   "metadata": {},
   "outputs": [
    {
     "data": {
      "application/vnd.plotly.v1+json": {
       "config": {
        "plotlyServerURL": "https://plot.ly"
       },
       "data": [
        {
         "mode": "markers",
         "name": "sin",
         "type": "scatter",
         "x": [
          17.422494888305664,
          11.30678653717041,
          12.323713302612305,
          6.827205657958984,
          14.093791007995605,
          17.616409301757812,
          7.835086822509766,
          5.215301513671875,
          4.2861199378967285,
          12.185577392578125,
          13.465243339538574,
          13.482992172241211,
          8.876691818237305,
          17.018226623535156,
          15.346060752868652,
          10.625635147094727,
          16.109350204467773,
          8.066204071044922,
          8.468995094299316,
          18.033313751220703,
          11.960634231567383,
          9.067375183105469,
          6.800272464752197,
          12.556123733520508,
          8.567663192749023,
          17.479005813598633,
          16.98340606689453,
          16.83734703063965,
          17.161300659179688,
          6.405045986175537,
          1.2166154384613037,
          0.3680551052093506,
          13.15762710571289,
          8.571853637695312,
          0.7523691654205322,
          10.954645156860352,
          17.491546630859375,
          13.430078506469727,
          18.672292709350586,
          9.845478057861328,
          6.135457992553711,
          17.348129272460938,
          6.356841087341309,
          19.076290130615234,
          15.773439407348633,
          17.23524284362793,
          15.751947402954102,
          16.065860748291016,
          1.8120622634887695,
          19.691650390625,
          16.51757049560547,
          9.871065139770508,
          7.686488628387451,
          6.262289047241211,
          0.9777176380157471,
          8.953585624694824,
          18.285306930541992,
          0.436323881149292,
          7.947064399719238,
          17.252056121826172,
          13.0809326171875,
          14.406189918518066,
          7.640516757965088,
          4.754365921020508,
          16.809656143188477,
          9.706592559814453,
          9.335010528564453,
          18.25397491455078,
          18.891555786132812,
          6.867748260498047,
          2.1109390258789062,
          16.98797607421875,
          2.7280819416046143,
          8.933879852294922,
          12.915831565856934,
          18.657081604003906,
          16.11656951904297,
          11.417320251464844,
          18.269550323486328,
          13.005849838256836,
          14.020866394042969,
          11.855871200561523,
          11.052102088928223,
          5.643153190612793,
          14.360384941101074,
          8.691987037658691,
          16.902175903320312,
          9.897113800048828,
          8.445825576782227,
          10.152503967285156,
          16.719783782958984,
          6.915597915649414,
          6.650129318237305,
          5.100219249725342,
          19.627513885498047,
          8.23298454284668,
          12.865224838256836,
          10.244341850280762,
          10.105470657348633,
          1.5106046199798584,
          5.755672454833984,
          7.317872047424316,
          5.050227642059326,
          6.539413928985596,
          6.720819473266602,
          10.970444679260254,
          0.040895938873291016,
          12.464743614196777,
          15.600521087646484,
          6.9557929039001465,
          0.013948678970336914,
          3.3947348594665527,
          9.432644844055176,
          12.203714370727539,
          6.8519697189331055,
          9.053104400634766,
          0.8258235454559326,
          17.657867431640625,
          3.2758843898773193,
          12.436424255371094,
          13.786698341369629,
          16.304515838623047,
          0.07713675498962402,
          17.368009567260742,
          3.308345079421997,
          13.986522674560547,
          8.007991790771484,
          2.6703011989593506,
          4.839377403259277,
          18.364328384399414,
          7.906147003173828,
          5.7204437255859375,
          4.89998722076416,
          0.47307848930358887,
          1.8132007122039795,
          7.401996612548828,
          18.34174156188965,
          18.57698631286621,
          1.3941395282745361,
          2.4560141563415527,
          10.034879684448242,
          12.000118255615234,
          0.19671082496643066,
          0.8174967765808105,
          12.204200744628906,
          12.28666877746582,
          3.4966695308685303,
          3.342740535736084,
          7.1112165451049805,
          10.57254409790039,
          16.376182556152344,
          0.6103038787841797,
          1.0345959663391113,
          4.900165557861328,
          5.63753604888916,
          0.03612041473388672,
          6.425355911254883,
          2.513681650161743,
          19.412857055664062,
          7.585973739624023,
          13.28614330291748,
          5.593837738037109,
          17.758256912231445,
          4.071742057800293,
          10.795757293701172,
          5.942845344543457,
          6.101057529449463,
          8.324690818786621,
          9.277153015136719,
          11.58725643157959,
          16.73517608642578,
          19.85165786743164,
          18.38734245300293,
          19.565689086914062,
          12.076244354248047,
          11.656380653381348,
          9.933394432067871,
          11.449089050292969,
          13.886689186096191,
          16.04302978515625,
          3.881051540374756,
          14.447470664978027,
          7.943719863891602,
          1.047227382659912,
          14.810652732849121,
          10.358644485473633,
          18.831024169921875,
          5.250430107116699,
          17.360858917236328,
          6.473998069763184,
          15.403963088989258,
          11.463875770568848,
          16.840150833129883,
          6.068975925445557,
          19.811168670654297,
          8.340198516845703,
          8.128257751464844,
          11.923213958740234,
          6.488176345825195,
          1.7003655433654785,
          7.599430084228516,
          6.338374614715576,
          9.548328399658203,
          15.131477355957031,
          12.352585792541504,
          12.63088321685791,
          19.187223434448242,
          2.8364193439483643,
          5.8951520919799805,
          8.830385208129883,
          18.40532684326172,
          1.8780088424682617,
          11.316356658935547,
          7.133246421813965,
          1.1909723281860352,
          11.108701705932617,
          12.14115047454834,
          14.799022674560547,
          19.420616149902344,
          8.237525939941406,
          10.329428672790527,
          4.968232154846191,
          5.339422225952148,
          8.724078178405762,
          13.78111457824707,
          17.45797348022461,
          3.0856311321258545,
          19.803876876831055,
          1.964937448501587,
          13.690472602844238,
          1.6091811656951904,
          10.201739311218262,
          1.8640589714050293,
          2.216362953186035,
          2.3309409618377686,
          19.500850677490234,
          16.003496170043945,
          17.38471221923828,
          4.645357131958008,
          4.683555603027344,
          10.094738006591797,
          13.943578720092773,
          3.947904109954834,
          11.490639686584473,
          0.828850269317627,
          15.636960983276367,
          2.347261905670166,
          8.41047191619873,
          5.058535575866699,
          16.716625213623047
         ],
         "y": [
          -0.5833233594894409,
          -0.3153873682022095,
          -0.6571068167686462,
          0.8554474115371704,
          -1.1424345970153809,
          -0.6090477108955383,
          0.43671369552612305,
          1.0004042387008667,
          1.2127463817596436,
          -0.5966402292251587,
          -0.7811923027038574,
          -0.9438899755477905,
          0.2129165083169937,
          -0.8920503854751587,
          -1.056775689125061,
          -0.045750826597213745,
          -0.927799642086029,
          0.4199700951576233,
          0.49916401505470276,
          -0.6126013398170471,
          -0.5926474332809448,
          0.12525852024555206,
          0.7541669011116028,
          -0.6581082344055176,
          0.48377904295921326,
          -0.6149876117706299,
          -0.823376476764679,
          -0.8710752725601196,
          -0.8952704668045044,
          0.9471239447593689,
          0.477651447057724,
          0.062069930136203766,
          -0.8647169470787048,
          0.7553272247314453,
          0.42227327823638916,
          -0.18498238921165466,
          -0.7118463516235352,
          -0.8832818269729614,
          -0.46568039059638977,
          0.06739525496959686,
          0.9693893194198608,
          -0.808474600315094,
          0.7398343086242676,
          -0.23759402334690094,
          -0.8153898119926453,
          -0.8394041657447815,
          -0.7666347026824951,
          -0.9136534929275513,
          0.7331997752189636,
          -0.10889270901679993,
          -0.7854055166244507,
          -0.02203439548611641,
          0.5654277205467224,
          0.7442214488983154,
          0.40237852931022644,
          0.2661594748497009,
          -0.5337896347045898,
          0.015523910522460938,
          0.6548733711242676,
          -0.7022349834442139,
          -0.8567085862159729,
          -0.9576139450073242,
          0.6760271787643433,
          1.1524956226348877,
          -0.8270530104637146,
          0.1269041895866394,
          0.19205185770988464,
          -0.5672955513000488,
          -0.3924647569656372,
          0.7738516926765442,
          0.5710508823394775,
          -0.9711946845054626,
          0.5893216133117676,
          0.47202324867248535,
          -0.80970698595047,
          -0.2736174464225769,
          -1.01755690574646,
          -0.27772876620292664,
          -0.4280463755130768,
          -0.8819839358329773,
          -0.9965822100639343,
          -0.26579660177230835,
          -0.13051961362361908,
          1.062699556350708,
          -1.0555260181427002,
          0.3370342254638672,
          -0.9588850736618042,
          0.018370337784290314,
          0.27324479818344116,
          -0.18829800188541412,
          -0.9134915471076965,
          0.8122205138206482,
          0.9207703471183777,
          1.0137529373168945,
          -0.2666500210762024,
          0.41278260946273804,
          -0.6484500169754028,
          -0.16913369297981262,
          -0.016592327505350113,
          0.3792556822299957,
          0.9371263980865479,
          0.5608528256416321,
          1.0395333766937256,
          0.863213062286377,
          0.9577862024307251,
          -0.2472953349351883,
          -0.08253615349531174,
          -0.7686970233917236,
          -1.083642601966858,
          0.8729493021965027,
          0.08266003429889679,
          0.8208762407302856,
          0.22031265497207642,
          -0.48759132623672485,
          0.9492422342300415,
          0.4536326825618744,
          0.19127659499645233,
          -0.5046262145042419,
          0.864863395690918,
          -0.6305691599845886,
          -0.911871612071991,
          -1.1175092458724976,
          0.10589964687824249,
          -0.790382981300354,
          0.910771906375885,
          -0.8358578085899353,
          0.5501284599304199,
          0.8281526565551758,
          0.9269729852676392,
          -0.5140129327774048,
          0.691838800907135,
          0.9994640350341797,
          1.1651488542556763,
          0.00009712576866149902,
          0.47569048404693604,
          0.6800180077552795,
          -0.41285550594329834,
          -0.4367796778678894,
          0.372613787651062,
          0.6075865626335144,
          -0.05926963686943054,
          -0.7417850494384766,
          0.0397183820605278,
          0.43093788623809814,
          -0.6737123131752014,
          -0.697575569152832,
          0.9085493087768555,
          0.8602344393730164,
          0.6971476674079895,
          -0.23684199154376984,
          -0.9352343082427979,
          0.12847480177879333,
          0.15813226997852325,
          0.8954083919525146,
          0.9989744424819946,
          0.13800694048404694,
          0.8255941867828369,
          0.6847022175788879,
          0.030105873942375183,
          0.7254779934883118,
          -0.8353937268257141,
          1.0142691135406494,
          -0.5785460472106934,
          0.9703345894813538,
          -0.3095529079437256,
          1.02983820438385,
          0.9491866827011108,
          0.4843287765979767,
          0.055300742387771606,
          -0.2818983793258667,
          -0.7520941495895386,
          0.018631789833307266,
          -0.5894301533699036,
          -0.07375258207321167,
          -0.6891235113143921,
          -0.5187488794326782,
          -0.09817763417959213,
          -0.5000917911529541,
          -1.066853642463684,
          -0.8487125635147095,
          1.150663137435913,
          -0.8235667943954468,
          0.6589236855506897,
          0.5345505475997925,
          -1.0913232564926147,
          -0.008080355823040009,
          -0.4254644811153412,
          0.9839496612548828,
          -0.6560378074645996,
          1.0897910594940186,
          -1.026273250579834,
          -0.4992696940898895,
          -0.9272200465202332,
          1.1068047285079956,
          0.08871765434741974,
          0.289497971534729,
          0.6624760627746582,
          -0.6067574620246887,
          0.9333835244178772,
          0.5553030371665955,
          0.5339804887771606,
          0.6791667342185974,
          0.2949972152709961,
          -0.9689193964004517,
          -0.6986390352249146,
          -0.6188033223152161,
          -0.3003779649734497,
          0.823127806186676,
          1.2030566930770874,
          0.35774025321006775,
          -0.6071715950965881,
          0.6599063277244568,
          -0.3403055667877197,
          0.7348213195800781,
          0.34631121158599854,
          -0.5324288606643677,
          -0.6452628970146179,
          -0.8859829902648926,
          -0.15417779982089996,
          0.5173660516738892,
          -0.007503628730773926,
          1.0544676780700684,
          1.0744173526763916,
          0.4204648733139038,
          -0.9815528988838196,
          -0.6596022248268127,
          0.951842725276947,
          -0.20513302087783813,
          0.467749685049057,
          -1.0078915357589722,
          0.4584248960018158,
          -0.20609240233898163,
          0.7371220588684082,
          0.5448905229568481,
          0.6150475740432739,
          -0.22109928727149963,
          -1.147353172302246,
          -0.7165897488594055,
          1.158135175704956,
          0.9963042140007019,
          -0.08406196534633636,
          -0.7909820079803467,
          0.944139838218689,
          -0.41427597403526306,
          0.21136057376861572,
          -0.8504934906959534,
          0.554657518863678,
          0.3344465494155884,
          1.0750969648361206,
          -0.8030979633331299
         ]
        },
        {
         "mode": "markers",
         "name": "cos",
         "type": "scatter",
         "x": [
          17.422494888305664,
          11.30678653717041,
          12.323713302612305,
          6.827205657958984,
          14.093791007995605,
          17.616409301757812,
          7.835086822509766,
          5.215301513671875,
          4.2861199378967285,
          12.185577392578125,
          13.465243339538574,
          13.482992172241211,
          8.876691818237305,
          17.018226623535156,
          15.346060752868652,
          10.625635147094727,
          16.109350204467773,
          8.066204071044922,
          8.468995094299316,
          18.033313751220703,
          11.960634231567383,
          9.067375183105469,
          6.800272464752197,
          12.556123733520508,
          8.567663192749023,
          17.479005813598633,
          16.98340606689453,
          16.83734703063965,
          17.161300659179688,
          6.405045986175537,
          1.2166154384613037,
          0.3680551052093506,
          13.15762710571289,
          8.571853637695312,
          0.7523691654205322,
          10.954645156860352,
          17.491546630859375,
          13.430078506469727,
          18.672292709350586,
          9.845478057861328,
          6.135457992553711,
          17.348129272460938,
          6.356841087341309,
          19.076290130615234,
          15.773439407348633,
          17.23524284362793,
          15.751947402954102,
          16.065860748291016,
          1.8120622634887695,
          19.691650390625,
          16.51757049560547,
          9.871065139770508,
          7.686488628387451,
          6.262289047241211,
          0.9777176380157471,
          8.953585624694824,
          18.285306930541992,
          0.436323881149292,
          7.947064399719238,
          17.252056121826172,
          13.0809326171875,
          14.406189918518066,
          7.640516757965088,
          4.754365921020508,
          16.809656143188477,
          9.706592559814453,
          9.335010528564453,
          18.25397491455078,
          18.891555786132812,
          6.867748260498047,
          2.1109390258789062,
          16.98797607421875,
          2.7280819416046143,
          8.933879852294922,
          12.915831565856934,
          18.657081604003906,
          16.11656951904297,
          11.417320251464844,
          18.269550323486328,
          13.005849838256836,
          14.020866394042969,
          11.855871200561523,
          11.052102088928223,
          5.643153190612793,
          14.360384941101074,
          8.691987037658691,
          16.902175903320312,
          9.897113800048828,
          8.445825576782227,
          10.152503967285156,
          16.719783782958984,
          6.915597915649414,
          6.650129318237305,
          5.100219249725342,
          19.627513885498047,
          8.23298454284668,
          12.865224838256836,
          10.244341850280762,
          10.105470657348633,
          1.5106046199798584,
          5.755672454833984,
          7.317872047424316,
          5.050227642059326,
          6.539413928985596,
          6.720819473266602,
          10.970444679260254,
          0.040895938873291016,
          12.464743614196777,
          15.600521087646484,
          6.9557929039001465,
          0.013948678970336914,
          3.3947348594665527,
          9.432644844055176,
          12.203714370727539,
          6.8519697189331055,
          9.053104400634766,
          0.8258235454559326,
          17.657867431640625,
          3.2758843898773193,
          12.436424255371094,
          13.786698341369629,
          16.304515838623047,
          0.07713675498962402,
          17.368009567260742,
          3.308345079421997,
          13.986522674560547,
          8.007991790771484,
          2.6703011989593506,
          4.839377403259277,
          18.364328384399414,
          7.906147003173828,
          5.7204437255859375,
          4.89998722076416,
          0.47307848930358887,
          1.8132007122039795,
          7.401996612548828,
          18.34174156188965,
          18.57698631286621,
          1.3941395282745361,
          2.4560141563415527,
          10.034879684448242,
          12.000118255615234,
          0.19671082496643066,
          0.8174967765808105,
          12.204200744628906,
          12.28666877746582,
          3.4966695308685303,
          3.342740535736084,
          7.1112165451049805,
          10.57254409790039,
          16.376182556152344,
          0.6103038787841797,
          1.0345959663391113,
          4.900165557861328,
          5.63753604888916,
          0.03612041473388672,
          6.425355911254883,
          2.513681650161743,
          19.412857055664062,
          7.585973739624023,
          13.28614330291748,
          5.593837738037109,
          17.758256912231445,
          4.071742057800293,
          10.795757293701172,
          5.942845344543457,
          6.101057529449463,
          8.324690818786621,
          9.277153015136719,
          11.58725643157959,
          16.73517608642578,
          19.85165786743164,
          18.38734245300293,
          19.565689086914062,
          12.076244354248047,
          11.656380653381348,
          9.933394432067871,
          11.449089050292969,
          13.886689186096191,
          16.04302978515625,
          3.881051540374756,
          14.447470664978027,
          7.943719863891602,
          1.047227382659912,
          14.810652732849121,
          10.358644485473633,
          18.831024169921875,
          5.250430107116699,
          17.360858917236328,
          6.473998069763184,
          15.403963088989258,
          11.463875770568848,
          16.840150833129883,
          6.068975925445557,
          19.811168670654297,
          8.340198516845703,
          8.128257751464844,
          11.923213958740234,
          6.488176345825195,
          1.7003655433654785,
          7.599430084228516,
          6.338374614715576,
          9.548328399658203,
          15.131477355957031,
          12.352585792541504,
          12.63088321685791,
          19.187223434448242,
          2.8364193439483643,
          5.8951520919799805,
          8.830385208129883,
          18.40532684326172,
          1.8780088424682617,
          11.316356658935547,
          7.133246421813965,
          1.1909723281860352,
          11.108701705932617,
          12.14115047454834,
          14.799022674560547,
          19.420616149902344,
          8.237525939941406,
          10.329428672790527,
          4.968232154846191,
          5.339422225952148,
          8.724078178405762,
          13.78111457824707,
          17.45797348022461,
          3.0856311321258545,
          19.803876876831055,
          1.964937448501587,
          13.690472602844238,
          1.6091811656951904,
          10.201739311218262,
          1.8640589714050293,
          2.216362953186035,
          2.3309409618377686,
          19.500850677490234,
          16.003496170043945,
          17.38471221923828,
          4.645357131958008,
          4.683555603027344,
          10.094738006591797,
          13.943578720092773,
          3.947904109954834,
          11.490639686584473,
          0.828850269317627,
          15.636960983276367,
          2.347261905670166,
          8.41047191619873,
          5.058535575866699,
          16.716625213623047
         ],
         "y": [
          0.4734668731689453,
          -0.8095361590385437,
          -0.6460856199264526,
          -0.5640546083450317,
          -0.1247195154428482,
          0.6802877187728882,
          -0.8592487573623657,
          -0.1763257086277008,
          0.14469972252845764,
          -0.7256415486335754,
          -0.43693506717681885,
          -0.4866600036621094,
          -0.9513130187988281,
          0.4846845865249634,
          0.1414715051651001,
          -0.8599496483802795,
          0.06915438175201416,
          -0.8242278099060059,
          -0.9950662851333618,
          0.5757904052734375,
          -0.7783034443855286,
          -0.907852053642273,
          -0.6320462226867676,
          -0.8776346445083618,
          -1.072412371635437,
          0.6070027351379395,
          0.6065914034843445,
          0.5190659761428833,
          0.6140133738517761,
          -0.2939499616622925,
          0.7285420894622803,
          1.0526385307312012,
          -0.521701455116272,
          -1.0680488348007202,
          0.9894047379493713,
          -1.0334992408752441,
          0.7041872143745422,
          -0.2856650948524475,
          0.8480744957923889,
          -0.9592807292938232,
          -0.5168724656105042,
          0.599850594997406,
          -0.11150437593460083,
          0.9374731183052063,
          0.235507071018219,
          0.7217726707458496,
          0.2811603844165802,
          0.4738101363182068,
          0.9209399223327637,
          1.0604079961776733,
          0.41089558601379395,
          -0.981205403804779,
          -0.7843924164772034,
          -0.40202778577804565,
          1.033416509628296,
          -1.0070313215255737,
          0.9168846607208252,
          1.1049591302871704,
          -0.8809775114059448,
          0.6684547662734985,
          -0.5467419028282166,
          -0.18161040544509888,
          -0.6756942272186279,
          0.05136895924806595,
          0.6207109689712524,
          -1.2256673574447632,
          -1.0251859426498413,
          0.9374529719352722,
          0.9628695845603943,
          -0.6034475564956665,
          0.8211179971694946,
          0.5558159947395325,
          0.6070976257324219,
          -0.8027415871620178,
          -0.6292184591293335,
          0.7847756743431091,
          0.24929776787757874,
          -0.7741200923919678,
          0.8317906856536865,
          -0.5411809086799622,
          -0.3670433759689331,
          -0.9076762199401855,
          -0.9510834217071533,
          -0.22590744495391846,
          -0.161027193069458,
          -1.077484369277954,
          0.46541011333465576,
          -0.9423633813858032,
          -0.88486647605896,
          -1.0108513832092285,
          0.7157441973686218,
          -0.4516006410121918,
          -0.3036043345928192,
          0.0667305439710617,
          0.9917365908622742,
          -0.9414594173431396,
          -0.46430647373199463,
          -0.9586610198020935,
          -1.051702857017517,
          0.7070903778076172,
          -0.1623649001121521,
          -0.5094044208526611,
          -0.03479135036468506,
          -0.5600060820579529,
          -0.5024343132972717,
          -0.9736582040786743,
          0.9997537732124329,
          -0.8762860298156738,
          0.09760769456624985,
          -0.5328512191772461,
          1.0382283926010132,
          0.24895690381526947,
          -0.8416661024093628,
          -0.7021570205688477,
          -0.6321027278900146,
          -0.8758904337882996,
          0.9795501828193665,
          0.586107611656189,
          0.5156487822532654,
          -0.6755896210670471,
          -0.24051497876644135,
          0.4691876173019409,
          1.1095004081726074,
          0.6310005187988281,
          0.46999505162239075,
          -0.25919783115386963,
          -0.5977972149848938,
          0.7368449568748474,
          0.1172015443444252,
          0.7736886739730835,
          -0.9879840612411499,
          -0.12437321990728378,
          0.06621511280536652,
          0.9209545850753784,
          0.7064146399497986,
          -0.7309836745262146,
          0.8240413665771484,
          0.7938715815544128,
          1.0507091283798218,
          0.5144374370574951,
          -0.9615499377250671,
          -0.8539118766784668,
          0.9730221629142761,
          0.9617887735366821,
          -0.8393397331237793,
          -0.8135138154029846,
          0.5372389554977417,
          0.5682626366615295,
          -0.708401083946228,
          -1.0041919946670532,
          0.3909077048301697,
          1.048221230506897,
          1.057097315788269,
          -0.022293221205472946,
          -0.21947088837623596,
          0.9790295362472534,
          -0.4587995111942291,
          0.8544766902923584,
          0.8722580075263977,
          -0.8882393836975098,
          -0.528012216091156,
          -0.273151695728302,
          0.9560689926147461,
          0.3068140745162964,
          -0.8575877547264099,
          -0.31629467010498047,
          -0.19515012204647064,
          -0.7022964954376221,
          -0.9844257831573486,
          -0.8827959895133972,
          0.377038836479187,
          0.8908513784408569,
          0.9129548072814941,
          0.7447222471237183,
          -0.762000560760498,
          -1.0338853597640991,
          -0.9157062768936157,
          -0.8604803085327148,
          -0.513378381729126,
          0.34226536750793457,
          0.2990596294403076,
          -0.061208002269268036,
          -0.7967208623886108,
          0.9034238457679749,
          -0.12464042007923126,
          -0.9718607664108276,
          0.9338877201080322,
          0.011867158114910126,
          0.8258013725280762,
          -0.47417885065078735,
          0.28370344638824463,
          -0.8796559572219849,
          0.43071892857551575,
          -0.3214690387248993,
          1.1213185787200928,
          -0.8115361332893372,
          -0.8377034664154053,
          -0.7698729038238525,
          -0.6402020454406738,
          0.7335085272789001,
          -0.6092687249183655,
          -0.6091225147247314,
          -1.0678354501724243,
          -0.07192692160606384,
          -0.8441286087036133,
          -0.6331627368927002,
          1.0106993913650513,
          0.7418470978736877,
          -0.39213353395462036,
          -1.0450836420059204,
          0.8098161220550537,
          0.893900990486145,
          -0.9400672316551208,
          -0.4752112030982971,
          0.8909834623336792,
          -0.7134945392608643,
          -1.004583477973938,
          -0.03198202699422836,
          0.9161733984947205,
          -0.8557134866714478,
          -1.1135108470916748,
          0.07151026278734207,
          0.03899843245744705,
          -0.9713349342346191,
          -0.23135393857955933,
          0.6011363863945007,
          0.5965001583099365,
          0.9625942707061768,
          0.8766589164733887,
          -0.4426262378692627,
          1.0434517860412598,
          -0.9735274314880371,
          0.8922378420829773,
          0.6037044525146484,
          0.8222037553787231,
          0.9755112528800964,
          0.42784085869789124,
          0.746589720249176,
          0.20647695660591125,
          0.12608936429023743,
          -0.9372228980064392,
          -0.39923858642578125,
          0.2950460910797119,
          -0.6748574376106262,
          1.0279271602630615,
          0.4481428265571594,
          0.6467323303222656,
          -0.8830076456069946,
          -0.19672450423240662,
          0.5787721872329712
         ]
        },
        {
         "mode": "lines",
         "name": "predicted sin",
         "type": "scatter",
         "x": [
          0.013948678970336914,
          0.03612041473388672,
          0.040895938873291016,
          0.07713675498962402,
          0.19671082496643066,
          0.3680551052093506,
          0.436323881149292,
          0.47307848930358887,
          0.6103038787841797,
          0.7523691654205322,
          0.8174967765808105,
          0.8258235454559326,
          0.828850269317627,
          0.9777176380157471,
          1.0345959663391113,
          1.047227382659912,
          1.1909723281860352,
          1.2166154384613037,
          1.3941395282745361,
          1.5106046199798584,
          1.6091811656951904,
          1.7003655433654785,
          1.8120622634887695,
          1.8132007122039795,
          1.8640589714050293,
          1.8780088424682617,
          1.964937448501587,
          2.1109390258789062,
          2.216362953186035,
          2.3309409618377686,
          2.347261905670166,
          2.4560141563415527,
          2.513681650161743,
          2.6703011989593506,
          2.7280819416046143,
          2.8364193439483643,
          3.0856311321258545,
          3.2758843898773193,
          3.308345079421997,
          3.342740535736084,
          3.3947348594665527,
          3.4966695308685303,
          3.881051540374756,
          3.947904109954834,
          4.071742057800293,
          4.2861199378967285,
          4.645357131958008,
          4.683555603027344,
          4.754365921020508,
          4.839377403259277,
          4.89998722076416,
          4.900165557861328,
          4.968232154846191,
          5.050227642059326,
          5.058535575866699,
          5.100219249725342,
          5.215301513671875,
          5.250430107116699,
          5.339422225952148,
          5.593837738037109,
          5.63753604888916,
          5.643153190612793,
          5.7204437255859375,
          5.755672454833984,
          5.8951520919799805,
          5.942845344543457,
          6.068975925445557,
          6.101057529449463,
          6.135457992553711,
          6.262289047241211,
          6.338374614715576,
          6.356841087341309,
          6.405045986175537,
          6.425355911254883,
          6.473998069763184,
          6.488176345825195,
          6.539413928985596,
          6.650129318237305,
          6.720819473266602,
          6.800272464752197,
          6.827205657958984,
          6.8519697189331055,
          6.867748260498047,
          6.915597915649414,
          6.9557929039001465,
          7.1112165451049805,
          7.133246421813965,
          7.317872047424316,
          7.401996612548828,
          7.585973739624023,
          7.599430084228516,
          7.640516757965088,
          7.686488628387451,
          7.835086822509766,
          7.906147003173828,
          7.943719863891602,
          7.947064399719238,
          8.007991790771484,
          8.066204071044922,
          8.128257751464844,
          8.23298454284668,
          8.237525939941406,
          8.324690818786621,
          8.340198516845703,
          8.41047191619873,
          8.445825576782227,
          8.468995094299316,
          8.567663192749023,
          8.571853637695312,
          8.691987037658691,
          8.724078178405762,
          8.830385208129883,
          8.876691818237305,
          8.933879852294922,
          8.953585624694824,
          9.053104400634766,
          9.067375183105469,
          9.277153015136719,
          9.335010528564453,
          9.432644844055176,
          9.548328399658203,
          9.706592559814453,
          9.845478057861328,
          9.871065139770508,
          9.897113800048828,
          9.933394432067871,
          10.034879684448242,
          10.094738006591797,
          10.105470657348633,
          10.152503967285156,
          10.201739311218262,
          10.244341850280762,
          10.329428672790527,
          10.358644485473633,
          10.57254409790039,
          10.625635147094727,
          10.795757293701172,
          10.954645156860352,
          10.970444679260254,
          11.052102088928223,
          11.108701705932617,
          11.30678653717041,
          11.316356658935547,
          11.417320251464844,
          11.449089050292969,
          11.463875770568848,
          11.490639686584473,
          11.58725643157959,
          11.656380653381348,
          11.855871200561523,
          11.923213958740234,
          11.960634231567383,
          12.000118255615234,
          12.076244354248047,
          12.14115047454834,
          12.185577392578125,
          12.203714370727539,
          12.204200744628906,
          12.28666877746582,
          12.323713302612305,
          12.352585792541504,
          12.436424255371094,
          12.464743614196777,
          12.556123733520508,
          12.63088321685791,
          12.865224838256836,
          12.915831565856934,
          13.005849838256836,
          13.0809326171875,
          13.15762710571289,
          13.28614330291748,
          13.430078506469727,
          13.465243339538574,
          13.482992172241211,
          13.690472602844238,
          13.78111457824707,
          13.786698341369629,
          13.886689186096191,
          13.943578720092773,
          13.986522674560547,
          14.020866394042969,
          14.093791007995605,
          14.360384941101074,
          14.406189918518066,
          14.447470664978027,
          14.799022674560547,
          14.810652732849121,
          15.131477355957031,
          15.346060752868652,
          15.403963088989258,
          15.600521087646484,
          15.636960983276367,
          15.751947402954102,
          15.773439407348633,
          16.003496170043945,
          16.04302978515625,
          16.065860748291016,
          16.109350204467773,
          16.11656951904297,
          16.304515838623047,
          16.376182556152344,
          16.51757049560547,
          16.716625213623047,
          16.719783782958984,
          16.73517608642578,
          16.809656143188477,
          16.83734703063965,
          16.840150833129883,
          16.902175903320312,
          16.98340606689453,
          16.98797607421875,
          17.018226623535156,
          17.161300659179688,
          17.23524284362793,
          17.252056121826172,
          17.348129272460938,
          17.360858917236328,
          17.368009567260742,
          17.38471221923828,
          17.422494888305664,
          17.45797348022461,
          17.479005813598633,
          17.491546630859375,
          17.616409301757812,
          17.657867431640625,
          17.758256912231445,
          18.033313751220703,
          18.25397491455078,
          18.269550323486328,
          18.285306930541992,
          18.34174156188965,
          18.364328384399414,
          18.38734245300293,
          18.40532684326172,
          18.57698631286621,
          18.657081604003906,
          18.672292709350586,
          18.831024169921875,
          18.891555786132812,
          19.076290130615234,
          19.187223434448242,
          19.412857055664062,
          19.420616149902344,
          19.500850677490234,
          19.565689086914062,
          19.627513885498047,
          19.691650390625,
          19.803876876831055,
          19.811168670654297,
          19.85165786743164
         ],
         "y": [
          0.05491665378212929,
          0.06083282083272934,
          0.06210709363222122,
          0.07177736610174179,
          0.10368376970291138,
          0.14940421283245087,
          0.16762062907218933,
          0.1774279922246933,
          0.21404436230659485,
          0.2519521713256836,
          0.2693304419517517,
          0.27155229449272156,
          0.2723599076271057,
          0.31208276748657227,
          0.3270370364189148,
          0.3303261697292328,
          0.3677564859390259,
          0.37443381547927856,
          0.42066001892089844,
          0.4509868025779724,
          0.4766555726528168,
          0.5003994107246399,
          0.5294845700263977,
          0.5297810435295105,
          0.5430241823196411,
          0.5466566681861877,
          0.5692923665046692,
          0.6070358753204346,
          0.63422691822052,
          0.6637790203094482,
          0.6679885387420654,
          0.696038007736206,
          0.7109116911888123,
          0.7513071298599243,
          0.7662099599838257,
          0.7941524982452393,
          0.8454986214637756,
          0.8658395409584045,
          0.8693100214004517,
          0.8729874491691589,
          0.878546416759491,
          0.8894447088241577,
          0.930540919303894,
          0.9376884698867798,
          0.9527552723884583,
          0.9811339378356934,
          1.0286885499954224,
          1.0337451696395874,
          1.0431188344955444,
          1.0543724298477173,
          1.062395691871643,
          1.0624192953109741,
          1.07142972946167,
          1.070663332939148,
          1.0698410272598267,
          1.0657150745391846,
          1.0543237924575806,
          1.0508466958999634,
          1.0420379638671875,
          1.016855001449585,
          1.0125296115875244,
          1.0119736194610596,
          1.0043232440948486,
          1.0008361339569092,
          0.9870299100875854,
          0.982309103012085,
          0.9643599390983582,
          0.9586428999900818,
          0.9525125622749329,
          0.9299108386039734,
          0.9163520932197571,
          0.913061261177063,
          0.9044709801673889,
          0.9008516669273376,
          0.8921834230422974,
          0.8896568417549133,
          0.880526065826416,
          0.8607962131500244,
          0.8481988906860352,
          0.834040105342865,
          0.8292405009269714,
          0.8248274922370911,
          0.822015643119812,
          0.8134886622428894,
          0.8063257932662964,
          0.7685308456420898,
          0.762604832649231,
          0.7129408121109009,
          0.6903113722801208,
          0.6408218145370483,
          0.6372020244598389,
          0.6261497735977173,
          0.6137834787368774,
          0.5738107562065125,
          0.5546956658363342,
          0.5445886254310608,
          0.543688952922821,
          0.5279232859611511,
          0.5168074369430542,
          0.5049580931663513,
          0.48496013879776,
          0.48409295082092285,
          0.46744853258132935,
          0.4644872844219208,
          0.45106834173202515,
          0.44431746006011963,
          0.43989312648773193,
          0.42105209827423096,
          0.4202519655227661,
          0.39731207489967346,
          0.39118415117263794,
          0.3708844780921936,
          0.36204206943511963,
          0.35112181305885315,
          0.34735894203186035,
          0.31781789660453796,
          0.31226107478141785,
          0.2305767685174942,
          0.20804795622825623,
          0.1700306236743927,
          0.1249852105975151,
          0.0633595660328865,
          0.00927966833114624,
          -0.0006835535168647766,
          -0.010826501995325089,
          -0.024953629821538925,
          -0.05759105831384659,
          -0.0690930187702179,
          -0.07115532457828522,
          -0.0801929235458374,
          -0.08965364098548889,
          -0.0978398472070694,
          -0.11418954282999039,
          -0.11980345100164413,
          -0.1609049141407013,
          -0.1711065173149109,
          -0.20379599928855896,
          -0.2343267947435379,
          -0.23736271262168884,
          -0.2614481747150421,
          -0.28144335746765137,
          -0.351421594619751,
          -0.3548024594783783,
          -0.3904702663421631,
          -0.4016933739185333,
          -0.40691715478897095,
          -0.4163721203804016,
          -0.450504332780838,
          -0.47492411732673645,
          -0.5453989505767822,
          -0.5691893696784973,
          -0.5824090242385864,
          -0.5963355302810669,
          -0.6089538931846619,
          -0.6197124123573303,
          -0.6270764470100403,
          -0.6300827860832214,
          -0.6301633715629578,
          -0.6438329219818115,
          -0.6499732732772827,
          -0.6547590494155884,
          -0.6686557531356812,
          -0.6733498573303223,
          -0.6884966492652893,
          -0.7008885145187378,
          -0.7397319674491882,
          -0.7481203079223633,
          -0.7637744545936584,
          -0.7856292128562927,
          -0.8079530000686646,
          -0.8453608155250549,
          -0.8872567415237427,
          -0.8974924087524414,
          -0.9026585817337036,
          -0.9630509614944458,
          -0.989434540271759,
          -0.9910598397254944,
          -1.0201646089553833,
          -1.0367238521575928,
          -1.0492236614227295,
          -1.044931411743164,
          -1.0162208080291748,
          -0.9112619161605835,
          -0.89322829246521,
          -0.876975953578949,
          -0.7385687828063965,
          -0.7339900135993958,
          -0.7142947316169739,
          -0.8038172721862793,
          -0.8279737234115601,
          -0.9099761247634888,
          -0.925178587436676,
          -0.9731500744819641,
          -0.9821163415908813,
          -1.075535774230957,
          -1.0630979537963867,
          -1.0559148788452148,
          -1.0422323942184448,
          -1.0399610996246338,
          -0.980830192565918,
          -0.9582825899124146,
          -0.9137997031211853,
          -0.8511738777160645,
          -0.8501801490783691,
          -0.8453375101089478,
          -0.8219048976898193,
          -0.8131928443908691,
          -0.8123106956481934,
          -0.7927966713905334,
          -0.7672403454780579,
          -0.7658025622367859,
          -0.7615708708763123,
          -0.758048415184021,
          -0.7562279105186462,
          -0.7558139562606812,
          -0.7534486055374146,
          -0.7531352043151855,
          -0.752959132194519,
          -0.7525479793548584,
          -0.7516177296638489,
          -0.7507442235946655,
          -0.7502263784408569,
          -0.7499176263809204,
          -0.7468435764312744,
          -0.7458227872848511,
          -0.7433512210845947,
          -0.7157354354858398,
          -0.5722386837005615,
          -0.5621098875999451,
          -0.5518633127212524,
          -0.5151636600494385,
          -0.5004753470420837,
          -0.4855092465877533,
          -0.4738139510154724,
          -0.362183153629303,
          -0.3100969195365906,
          -0.3002050518989563,
          -0.19698143005371094,
          -0.1576174795627594,
          -0.09914159029722214,
          -0.1166573092341423,
          -0.15228353440761566,
          -0.15350864827632904,
          -0.16617721319198608,
          -0.17641481757164001,
          -0.186176598072052,
          -0.1963033676147461,
          -0.21402326226234436,
          -0.215174600481987,
          -0.22156760096549988
         ]
        },
        {
         "mode": "lines",
         "name": "predicted cos",
         "type": "scatter",
         "x": [
          0.013948678970336914,
          0.03612041473388672,
          0.040895938873291016,
          0.07713675498962402,
          0.19671082496643066,
          0.3680551052093506,
          0.436323881149292,
          0.47307848930358887,
          0.6103038787841797,
          0.7523691654205322,
          0.8174967765808105,
          0.8258235454559326,
          0.828850269317627,
          0.9777176380157471,
          1.0345959663391113,
          1.047227382659912,
          1.1909723281860352,
          1.2166154384613037,
          1.3941395282745361,
          1.5106046199798584,
          1.6091811656951904,
          1.7003655433654785,
          1.8120622634887695,
          1.8132007122039795,
          1.8640589714050293,
          1.8780088424682617,
          1.964937448501587,
          2.1109390258789062,
          2.216362953186035,
          2.3309409618377686,
          2.347261905670166,
          2.4560141563415527,
          2.513681650161743,
          2.6703011989593506,
          2.7280819416046143,
          2.8364193439483643,
          3.0856311321258545,
          3.2758843898773193,
          3.308345079421997,
          3.342740535736084,
          3.3947348594665527,
          3.4966695308685303,
          3.881051540374756,
          3.947904109954834,
          4.071742057800293,
          4.2861199378967285,
          4.645357131958008,
          4.683555603027344,
          4.754365921020508,
          4.839377403259277,
          4.89998722076416,
          4.900165557861328,
          4.968232154846191,
          5.050227642059326,
          5.058535575866699,
          5.100219249725342,
          5.215301513671875,
          5.250430107116699,
          5.339422225952148,
          5.593837738037109,
          5.63753604888916,
          5.643153190612793,
          5.7204437255859375,
          5.755672454833984,
          5.8951520919799805,
          5.942845344543457,
          6.068975925445557,
          6.101057529449463,
          6.135457992553711,
          6.262289047241211,
          6.338374614715576,
          6.356841087341309,
          6.405045986175537,
          6.425355911254883,
          6.473998069763184,
          6.488176345825195,
          6.539413928985596,
          6.650129318237305,
          6.720819473266602,
          6.800272464752197,
          6.827205657958984,
          6.8519697189331055,
          6.867748260498047,
          6.915597915649414,
          6.9557929039001465,
          7.1112165451049805,
          7.133246421813965,
          7.317872047424316,
          7.401996612548828,
          7.585973739624023,
          7.599430084228516,
          7.640516757965088,
          7.686488628387451,
          7.835086822509766,
          7.906147003173828,
          7.943719863891602,
          7.947064399719238,
          8.007991790771484,
          8.066204071044922,
          8.128257751464844,
          8.23298454284668,
          8.237525939941406,
          8.324690818786621,
          8.340198516845703,
          8.41047191619873,
          8.445825576782227,
          8.468995094299316,
          8.567663192749023,
          8.571853637695312,
          8.691987037658691,
          8.724078178405762,
          8.830385208129883,
          8.876691818237305,
          8.933879852294922,
          8.953585624694824,
          9.053104400634766,
          9.067375183105469,
          9.277153015136719,
          9.335010528564453,
          9.432644844055176,
          9.548328399658203,
          9.706592559814453,
          9.845478057861328,
          9.871065139770508,
          9.897113800048828,
          9.933394432067871,
          10.034879684448242,
          10.094738006591797,
          10.105470657348633,
          10.152503967285156,
          10.201739311218262,
          10.244341850280762,
          10.329428672790527,
          10.358644485473633,
          10.57254409790039,
          10.625635147094727,
          10.795757293701172,
          10.954645156860352,
          10.970444679260254,
          11.052102088928223,
          11.108701705932617,
          11.30678653717041,
          11.316356658935547,
          11.417320251464844,
          11.449089050292969,
          11.463875770568848,
          11.490639686584473,
          11.58725643157959,
          11.656380653381348,
          11.855871200561523,
          11.923213958740234,
          11.960634231567383,
          12.000118255615234,
          12.076244354248047,
          12.14115047454834,
          12.185577392578125,
          12.203714370727539,
          12.204200744628906,
          12.28666877746582,
          12.323713302612305,
          12.352585792541504,
          12.436424255371094,
          12.464743614196777,
          12.556123733520508,
          12.63088321685791,
          12.865224838256836,
          12.915831565856934,
          13.005849838256836,
          13.0809326171875,
          13.15762710571289,
          13.28614330291748,
          13.430078506469727,
          13.465243339538574,
          13.482992172241211,
          13.690472602844238,
          13.78111457824707,
          13.786698341369629,
          13.886689186096191,
          13.943578720092773,
          13.986522674560547,
          14.020866394042969,
          14.093791007995605,
          14.360384941101074,
          14.406189918518066,
          14.447470664978027,
          14.799022674560547,
          14.810652732849121,
          15.131477355957031,
          15.346060752868652,
          15.403963088989258,
          15.600521087646484,
          15.636960983276367,
          15.751947402954102,
          15.773439407348633,
          16.003496170043945,
          16.04302978515625,
          16.065860748291016,
          16.109350204467773,
          16.11656951904297,
          16.304515838623047,
          16.376182556152344,
          16.51757049560547,
          16.716625213623047,
          16.719783782958984,
          16.73517608642578,
          16.809656143188477,
          16.83734703063965,
          16.840150833129883,
          16.902175903320312,
          16.98340606689453,
          16.98797607421875,
          17.018226623535156,
          17.161300659179688,
          17.23524284362793,
          17.252056121826172,
          17.348129272460938,
          17.360858917236328,
          17.368009567260742,
          17.38471221923828,
          17.422494888305664,
          17.45797348022461,
          17.479005813598633,
          17.491546630859375,
          17.616409301757812,
          17.657867431640625,
          17.758256912231445,
          18.033313751220703,
          18.25397491455078,
          18.269550323486328,
          18.285306930541992,
          18.34174156188965,
          18.364328384399414,
          18.38734245300293,
          18.40532684326172,
          18.57698631286621,
          18.657081604003906,
          18.672292709350586,
          18.831024169921875,
          18.891555786132812,
          19.076290130615234,
          19.187223434448242,
          19.412857055664062,
          19.420616149902344,
          19.500850677490234,
          19.565689086914062,
          19.627513885498047,
          19.691650390625,
          19.803876876831055,
          19.811168670654297,
          19.85165786743164
         ],
         "y": [
          0.9377207159996033,
          0.9397649765014648,
          0.9402052760124207,
          0.9435467720031738,
          0.9545717239379883,
          0.9703701734542847,
          0.976664662361145,
          0.9800535440444946,
          0.9927060008049011,
          1.0058047771453857,
          1.0118097066879272,
          1.0125774145126343,
          1.0128564834594727,
          1.0265823602676392,
          1.0200666189193726,
          1.016937494277954,
          0.9813282489776611,
          0.9749758243560791,
          0.9309985637664795,
          0.9021471738815308,
          0.8777272701263428,
          0.8551386594772339,
          0.8274685144424438,
          0.8271864652633667,
          0.8145875930786133,
          0.8111318349838257,
          0.7895974516868591,
          0.7582187652587891,
          0.7366541624069214,
          0.71321702003479,
          0.7098785638809204,
          0.6876330375671387,
          0.6758370399475098,
          0.6438002586364746,
          0.6319810748100281,
          0.6098204851150513,
          0.5537119507789612,
          0.5033934712409973,
          0.4948081970214844,
          0.4857112169265747,
          0.4719597101211548,
          0.4449998736381531,
          0.3433379530906677,
          0.3256567120552063,
          0.2922120988368988,
          0.23344600200653076,
          0.134970560669899,
          0.12449945509433746,
          0.10508865118026733,
          0.08178498595952988,
          0.06517039239406586,
          0.06512150913476944,
          0.046462833881378174,
          0.017005184665322304,
          0.01357313059270382,
          -0.003646634519100189,
          -0.051187776029109955,
          -0.06569959968328476,
          -0.1024627536535263,
          -0.20756326615810394,
          -0.22561529278755188,
          -0.2279357612133026,
          -0.2598648965358734,
          -0.2744181156158447,
          -0.33203792572021484,
          -0.351740300655365,
          -0.3860729932785034,
          -0.39105984568595886,
          -0.3964071571826935,
          -0.41612207889556885,
          -0.4279490113258362,
          -0.4308195114135742,
          -0.4383125901222229,
          -0.44146960973739624,
          -0.44903066754341125,
          -0.4512345790863037,
          -0.45919907093048096,
          -0.4764089584350586,
          -0.4873971939086914,
          -0.4997475743293762,
          -0.5039341449737549,
          -0.5077835321426392,
          -0.5102362036705017,
          -0.5176740288734436,
          -0.5239220857620239,
          -0.5663647055625916,
          -0.5734106302261353,
          -0.6324604153633118,
          -0.6593664288520813,
          -0.7182087898254395,
          -0.7225126028060913,
          -0.7356535792350769,
          -0.7503569722175598,
          -0.797883927822113,
          -0.8206114768981934,
          -0.832628607749939,
          -0.8336982727050781,
          -0.8517028093338013,
          -0.8595247268676758,
          -0.8678628206253052,
          -0.8819347620010376,
          -0.882544994354248,
          -0.8942572474479675,
          -0.8963409662246704,
          -0.9057835340499878,
          -0.9105339646339417,
          -0.9136472344398499,
          -0.92690509557724,
          -0.9274681806564331,
          -0.9436103105545044,
          -0.94792240858078,
          -0.9622067213058472,
          -0.9684288501739502,
          -0.9761131405830383,
          -0.9787609577178955,
          -0.9853110909461975,
          -0.9853953123092651,
          -0.9866336584091187,
          -0.9869751930236816,
          -0.9875515699386597,
          -0.9882344603538513,
          -0.9891687035560608,
          -0.9899885058403015,
          -0.9901395440101624,
          -0.9902933835983276,
          -0.9905074834823608,
          -0.9885977506637573,
          -0.9846454858779907,
          -0.9839367866516113,
          -0.9808313250541687,
          -0.9775805473327637,
          -0.9747675657272339,
          -0.9691495895385742,
          -0.9672205448150635,
          -0.9530975222587585,
          -0.9495920538902283,
          -0.9383594989776611,
          -0.9278686046600342,
          -0.9268254637718201,
          -0.9192900061607361,
          -0.9132239818572998,
          -0.8919944763183594,
          -0.8909687995910645,
          -0.88014817237854,
          -0.8767433166503906,
          -0.8751585483551025,
          -0.8722901344299316,
          -0.8619353771209717,
          -0.8545269966125488,
          -0.8331468105316162,
          -0.8259294033050537,
          -0.8219189643859863,
          -0.8176762461662292,
          -0.8023954629898071,
          -0.7893669605255127,
          -0.7804491519927979,
          -0.7768085598945618,
          -0.7767108678817749,
          -0.7601571679115295,
          -0.7527212500572205,
          -0.7469257116317749,
          -0.7300968170166016,
          -0.7244123220443726,
          -0.7060696482658386,
          -0.6910632848739624,
          -0.6440240144729614,
          -0.6338657736778259,
          -0.6148962378501892,
          -0.5882702469825745,
          -0.561072826385498,
          -0.5154982209205627,
          -0.4644557237625122,
          -0.45198553800582886,
          -0.44569140672683716,
          -0.3721144199371338,
          -0.3399708569049835,
          -0.33799073100090027,
          -0.3025318384170532,
          -0.2823576331138611,
          -0.26712876558303833,
          -0.257534921169281,
          -0.24070903658866882,
          -0.17919786274433136,
          -0.16862928867340088,
          -0.159104585647583,
          -0.0779910534620285,
          -0.07530765235424042,
          0.020465420559048653,
          0.10547304153442383,
          0.1284111589193344,
          0.206277996301651,
          0.22071371972560883,
          0.2662658095359802,
          0.27477988600730896,
          0.3652156889438629,
          0.37294307351112366,
          0.37740570306777954,
          0.38590627908706665,
          0.38731738924980164,
          0.42405396699905396,
          0.4380621910095215,
          0.46569833159446716,
          0.5046062469482422,
          0.5052236318588257,
          0.5082322359085083,
          0.5227903723716736,
          0.5282028913497925,
          0.5287509560585022,
          0.5408745408058167,
          0.55675208568573,
          0.557645320892334,
          0.5637956261634827,
          0.5936245918273926,
          0.6090404987335205,
          0.6125458478927612,
          0.6325758695602417,
          0.635229766368866,
          0.636720597743988,
          0.6402028799057007,
          0.648080050945282,
          0.6554768085479736,
          0.6598618030548096,
          0.6624764204025269,
          0.6885085701942444,
          0.6971520185470581,
          0.7180818915367126,
          0.7766917943954468,
          0.831071138381958,
          0.8349095582962036,
          0.8387925624847412,
          0.8527002334594727,
          0.8582664728164673,
          0.8639380931854248,
          0.8683700561523438,
          0.9106735587120056,
          0.9304121136665344,
          0.9341607093811035,
          0.973278284072876,
          0.988195538520813,
          0.996088981628418,
          0.9687062501907349,
          0.9130110144615173,
          0.9110957384109497,
          0.8912906646728516,
          0.8752859830856323,
          0.8600252270698547,
          0.8441938161849976,
          0.8164919018745422,
          0.8146920204162598,
          0.8046976923942566
         ]
        }
       ],
       "layout": {
        "template": {
         "data": {
          "bar": [
           {
            "error_x": {
             "color": "#2a3f5f"
            },
            "error_y": {
             "color": "#2a3f5f"
            },
            "marker": {
             "line": {
              "color": "#E5ECF6",
              "width": 0.5
             },
             "pattern": {
              "fillmode": "overlay",
              "size": 10,
              "solidity": 0.2
             }
            },
            "type": "bar"
           }
          ],
          "barpolar": [
           {
            "marker": {
             "line": {
              "color": "#E5ECF6",
              "width": 0.5
             },
             "pattern": {
              "fillmode": "overlay",
              "size": 10,
              "solidity": 0.2
             }
            },
            "type": "barpolar"
           }
          ],
          "carpet": [
           {
            "aaxis": {
             "endlinecolor": "#2a3f5f",
             "gridcolor": "white",
             "linecolor": "white",
             "minorgridcolor": "white",
             "startlinecolor": "#2a3f5f"
            },
            "baxis": {
             "endlinecolor": "#2a3f5f",
             "gridcolor": "white",
             "linecolor": "white",
             "minorgridcolor": "white",
             "startlinecolor": "#2a3f5f"
            },
            "type": "carpet"
           }
          ],
          "choropleth": [
           {
            "colorbar": {
             "outlinewidth": 0,
             "ticks": ""
            },
            "type": "choropleth"
           }
          ],
          "contour": [
           {
            "colorbar": {
             "outlinewidth": 0,
             "ticks": ""
            },
            "colorscale": [
             [
              0,
              "#0d0887"
             ],
             [
              0.1111111111111111,
              "#46039f"
             ],
             [
              0.2222222222222222,
              "#7201a8"
             ],
             [
              0.3333333333333333,
              "#9c179e"
             ],
             [
              0.4444444444444444,
              "#bd3786"
             ],
             [
              0.5555555555555556,
              "#d8576b"
             ],
             [
              0.6666666666666666,
              "#ed7953"
             ],
             [
              0.7777777777777778,
              "#fb9f3a"
             ],
             [
              0.8888888888888888,
              "#fdca26"
             ],
             [
              1,
              "#f0f921"
             ]
            ],
            "type": "contour"
           }
          ],
          "contourcarpet": [
           {
            "colorbar": {
             "outlinewidth": 0,
             "ticks": ""
            },
            "type": "contourcarpet"
           }
          ],
          "heatmap": [
           {
            "colorbar": {
             "outlinewidth": 0,
             "ticks": ""
            },
            "colorscale": [
             [
              0,
              "#0d0887"
             ],
             [
              0.1111111111111111,
              "#46039f"
             ],
             [
              0.2222222222222222,
              "#7201a8"
             ],
             [
              0.3333333333333333,
              "#9c179e"
             ],
             [
              0.4444444444444444,
              "#bd3786"
             ],
             [
              0.5555555555555556,
              "#d8576b"
             ],
             [
              0.6666666666666666,
              "#ed7953"
             ],
             [
              0.7777777777777778,
              "#fb9f3a"
             ],
             [
              0.8888888888888888,
              "#fdca26"
             ],
             [
              1,
              "#f0f921"
             ]
            ],
            "type": "heatmap"
           }
          ],
          "heatmapgl": [
           {
            "colorbar": {
             "outlinewidth": 0,
             "ticks": ""
            },
            "colorscale": [
             [
              0,
              "#0d0887"
             ],
             [
              0.1111111111111111,
              "#46039f"
             ],
             [
              0.2222222222222222,
              "#7201a8"
             ],
             [
              0.3333333333333333,
              "#9c179e"
             ],
             [
              0.4444444444444444,
              "#bd3786"
             ],
             [
              0.5555555555555556,
              "#d8576b"
             ],
             [
              0.6666666666666666,
              "#ed7953"
             ],
             [
              0.7777777777777778,
              "#fb9f3a"
             ],
             [
              0.8888888888888888,
              "#fdca26"
             ],
             [
              1,
              "#f0f921"
             ]
            ],
            "type": "heatmapgl"
           }
          ],
          "histogram": [
           {
            "marker": {
             "pattern": {
              "fillmode": "overlay",
              "size": 10,
              "solidity": 0.2
             }
            },
            "type": "histogram"
           }
          ],
          "histogram2d": [
           {
            "colorbar": {
             "outlinewidth": 0,
             "ticks": ""
            },
            "colorscale": [
             [
              0,
              "#0d0887"
             ],
             [
              0.1111111111111111,
              "#46039f"
             ],
             [
              0.2222222222222222,
              "#7201a8"
             ],
             [
              0.3333333333333333,
              "#9c179e"
             ],
             [
              0.4444444444444444,
              "#bd3786"
             ],
             [
              0.5555555555555556,
              "#d8576b"
             ],
             [
              0.6666666666666666,
              "#ed7953"
             ],
             [
              0.7777777777777778,
              "#fb9f3a"
             ],
             [
              0.8888888888888888,
              "#fdca26"
             ],
             [
              1,
              "#f0f921"
             ]
            ],
            "type": "histogram2d"
           }
          ],
          "histogram2dcontour": [
           {
            "colorbar": {
             "outlinewidth": 0,
             "ticks": ""
            },
            "colorscale": [
             [
              0,
              "#0d0887"
             ],
             [
              0.1111111111111111,
              "#46039f"
             ],
             [
              0.2222222222222222,
              "#7201a8"
             ],
             [
              0.3333333333333333,
              "#9c179e"
             ],
             [
              0.4444444444444444,
              "#bd3786"
             ],
             [
              0.5555555555555556,
              "#d8576b"
             ],
             [
              0.6666666666666666,
              "#ed7953"
             ],
             [
              0.7777777777777778,
              "#fb9f3a"
             ],
             [
              0.8888888888888888,
              "#fdca26"
             ],
             [
              1,
              "#f0f921"
             ]
            ],
            "type": "histogram2dcontour"
           }
          ],
          "mesh3d": [
           {
            "colorbar": {
             "outlinewidth": 0,
             "ticks": ""
            },
            "type": "mesh3d"
           }
          ],
          "parcoords": [
           {
            "line": {
             "colorbar": {
              "outlinewidth": 0,
              "ticks": ""
             }
            },
            "type": "parcoords"
           }
          ],
          "pie": [
           {
            "automargin": true,
            "type": "pie"
           }
          ],
          "scatter": [
           {
            "fillpattern": {
             "fillmode": "overlay",
             "size": 10,
             "solidity": 0.2
            },
            "type": "scatter"
           }
          ],
          "scatter3d": [
           {
            "line": {
             "colorbar": {
              "outlinewidth": 0,
              "ticks": ""
             }
            },
            "marker": {
             "colorbar": {
              "outlinewidth": 0,
              "ticks": ""
             }
            },
            "type": "scatter3d"
           }
          ],
          "scattercarpet": [
           {
            "marker": {
             "colorbar": {
              "outlinewidth": 0,
              "ticks": ""
             }
            },
            "type": "scattercarpet"
           }
          ],
          "scattergeo": [
           {
            "marker": {
             "colorbar": {
              "outlinewidth": 0,
              "ticks": ""
             }
            },
            "type": "scattergeo"
           }
          ],
          "scattergl": [
           {
            "marker": {
             "colorbar": {
              "outlinewidth": 0,
              "ticks": ""
             }
            },
            "type": "scattergl"
           }
          ],
          "scattermapbox": [
           {
            "marker": {
             "colorbar": {
              "outlinewidth": 0,
              "ticks": ""
             }
            },
            "type": "scattermapbox"
           }
          ],
          "scatterpolar": [
           {
            "marker": {
             "colorbar": {
              "outlinewidth": 0,
              "ticks": ""
             }
            },
            "type": "scatterpolar"
           }
          ],
          "scatterpolargl": [
           {
            "marker": {
             "colorbar": {
              "outlinewidth": 0,
              "ticks": ""
             }
            },
            "type": "scatterpolargl"
           }
          ],
          "scatterternary": [
           {
            "marker": {
             "colorbar": {
              "outlinewidth": 0,
              "ticks": ""
             }
            },
            "type": "scatterternary"
           }
          ],
          "surface": [
           {
            "colorbar": {
             "outlinewidth": 0,
             "ticks": ""
            },
            "colorscale": [
             [
              0,
              "#0d0887"
             ],
             [
              0.1111111111111111,
              "#46039f"
             ],
             [
              0.2222222222222222,
              "#7201a8"
             ],
             [
              0.3333333333333333,
              "#9c179e"
             ],
             [
              0.4444444444444444,
              "#bd3786"
             ],
             [
              0.5555555555555556,
              "#d8576b"
             ],
             [
              0.6666666666666666,
              "#ed7953"
             ],
             [
              0.7777777777777778,
              "#fb9f3a"
             ],
             [
              0.8888888888888888,
              "#fdca26"
             ],
             [
              1,
              "#f0f921"
             ]
            ],
            "type": "surface"
           }
          ],
          "table": [
           {
            "cells": {
             "fill": {
              "color": "#EBF0F8"
             },
             "line": {
              "color": "white"
             }
            },
            "header": {
             "fill": {
              "color": "#C8D4E3"
             },
             "line": {
              "color": "white"
             }
            },
            "type": "table"
           }
          ]
         },
         "layout": {
          "annotationdefaults": {
           "arrowcolor": "#2a3f5f",
           "arrowhead": 0,
           "arrowwidth": 1
          },
          "autotypenumbers": "strict",
          "coloraxis": {
           "colorbar": {
            "outlinewidth": 0,
            "ticks": ""
           }
          },
          "colorscale": {
           "diverging": [
            [
             0,
             "#8e0152"
            ],
            [
             0.1,
             "#c51b7d"
            ],
            [
             0.2,
             "#de77ae"
            ],
            [
             0.3,
             "#f1b6da"
            ],
            [
             0.4,
             "#fde0ef"
            ],
            [
             0.5,
             "#f7f7f7"
            ],
            [
             0.6,
             "#e6f5d0"
            ],
            [
             0.7,
             "#b8e186"
            ],
            [
             0.8,
             "#7fbc41"
            ],
            [
             0.9,
             "#4d9221"
            ],
            [
             1,
             "#276419"
            ]
           ],
           "sequential": [
            [
             0,
             "#0d0887"
            ],
            [
             0.1111111111111111,
             "#46039f"
            ],
            [
             0.2222222222222222,
             "#7201a8"
            ],
            [
             0.3333333333333333,
             "#9c179e"
            ],
            [
             0.4444444444444444,
             "#bd3786"
            ],
            [
             0.5555555555555556,
             "#d8576b"
            ],
            [
             0.6666666666666666,
             "#ed7953"
            ],
            [
             0.7777777777777778,
             "#fb9f3a"
            ],
            [
             0.8888888888888888,
             "#fdca26"
            ],
            [
             1,
             "#f0f921"
            ]
           ],
           "sequentialminus": [
            [
             0,
             "#0d0887"
            ],
            [
             0.1111111111111111,
             "#46039f"
            ],
            [
             0.2222222222222222,
             "#7201a8"
            ],
            [
             0.3333333333333333,
             "#9c179e"
            ],
            [
             0.4444444444444444,
             "#bd3786"
            ],
            [
             0.5555555555555556,
             "#d8576b"
            ],
            [
             0.6666666666666666,
             "#ed7953"
            ],
            [
             0.7777777777777778,
             "#fb9f3a"
            ],
            [
             0.8888888888888888,
             "#fdca26"
            ],
            [
             1,
             "#f0f921"
            ]
           ]
          },
          "colorway": [
           "#636efa",
           "#EF553B",
           "#00cc96",
           "#ab63fa",
           "#FFA15A",
           "#19d3f3",
           "#FF6692",
           "#B6E880",
           "#FF97FF",
           "#FECB52"
          ],
          "font": {
           "color": "#2a3f5f"
          },
          "geo": {
           "bgcolor": "white",
           "lakecolor": "white",
           "landcolor": "#E5ECF6",
           "showlakes": true,
           "showland": true,
           "subunitcolor": "white"
          },
          "hoverlabel": {
           "align": "left"
          },
          "hovermode": "closest",
          "mapbox": {
           "style": "light"
          },
          "paper_bgcolor": "white",
          "plot_bgcolor": "#E5ECF6",
          "polar": {
           "angularaxis": {
            "gridcolor": "white",
            "linecolor": "white",
            "ticks": ""
           },
           "bgcolor": "#E5ECF6",
           "radialaxis": {
            "gridcolor": "white",
            "linecolor": "white",
            "ticks": ""
           }
          },
          "scene": {
           "xaxis": {
            "backgroundcolor": "#E5ECF6",
            "gridcolor": "white",
            "gridwidth": 2,
            "linecolor": "white",
            "showbackground": true,
            "ticks": "",
            "zerolinecolor": "white"
           },
           "yaxis": {
            "backgroundcolor": "#E5ECF6",
            "gridcolor": "white",
            "gridwidth": 2,
            "linecolor": "white",
            "showbackground": true,
            "ticks": "",
            "zerolinecolor": "white"
           },
           "zaxis": {
            "backgroundcolor": "#E5ECF6",
            "gridcolor": "white",
            "gridwidth": 2,
            "linecolor": "white",
            "showbackground": true,
            "ticks": "",
            "zerolinecolor": "white"
           }
          },
          "shapedefaults": {
           "line": {
            "color": "#2a3f5f"
           }
          },
          "ternary": {
           "aaxis": {
            "gridcolor": "white",
            "linecolor": "white",
            "ticks": ""
           },
           "baxis": {
            "gridcolor": "white",
            "linecolor": "white",
            "ticks": ""
           },
           "bgcolor": "#E5ECF6",
           "caxis": {
            "gridcolor": "white",
            "linecolor": "white",
            "ticks": ""
           }
          },
          "title": {
           "x": 0.05
          },
          "xaxis": {
           "automargin": true,
           "gridcolor": "white",
           "linecolor": "white",
           "ticks": "",
           "title": {
            "standoff": 15
           },
           "zerolinecolor": "white",
           "zerolinewidth": 2
          },
          "yaxis": {
           "automargin": true,
           "gridcolor": "white",
           "linecolor": "white",
           "ticks": "",
           "title": {
            "standoff": 15
           },
           "zerolinecolor": "white",
           "zerolinewidth": 2
          }
         }
        }
       }
      }
     },
     "metadata": {},
     "output_type": "display_data"
    }
   ],
   "source": [
    "#| caption: Learned approximation of the sine and cosine functions. The model has learned to fit the data.\n",
    "#| label: fig:sin_cos_approx\n",
    "fig.show()\n"
   ]
  },
  {
   "cell_type": "markdown",
   "metadata": {},
   "source": [
    "## Stochastic Gradient Descent\n",
    "\n",
    "**Stochastic gradient descent** is an approximate gradient descent procedure, to cope with the very large data sets typically thrown at supervised problems. It is typically impossible to calculate the *exact* gradient, which requires looping over all the examples, which can run in the millions. An easy approximation scheme is to *randomly sample* a small subset of the examples, and calculate the gradient of the weights using only those examples. The upside is that this is much faster, but the downside is that this is only approximate. Hence, if we adjust weights with this approximate gradient, we might or might not make progress on the task. This procedure is called stochastic gradient descent, and it works amazingly well in practice.\n",
    "\n",
    "The `DataLoader` class in PyTorch makes implementing SGD very easy: it can wrap any `Dataset` instance, and then retrieves training samples one \"mini-batch\" at a time. The code below uses a mini-batch size of 25, but feel free to experiment with different values for both this parameter and the learning rate to get a feel for what happens. Note that by convention we refer to one execution of the inner loop below, over a mini-batch, as an \"iteration\". One full cycle through the dataset by randomly selecting mini-batches is referred to as an \"epoch\"."
   ]
  },
  {
   "cell_type": "code",
   "execution_count": 14,
   "metadata": {},
   "outputs": [],
   "source": [
    "def train_sgd(model, dataset, loss_fn, callback=None, learning_rate=0.5, num_epochs=31, batch_size=25):\n",
    "    # Initialize optimizer\n",
    "    optimizer = optim.SGD(model.parameters(), lr=learning_rate)\n",
    "\n",
    "    # Create DataLoader for batch processing\n",
    "    data_loader = DataLoader(dataset, batch_size=batch_size, shuffle=True)\n",
    "\n",
    "    # Loop over the dataset multiple times (each loop is an epoch)\n",
    "    for epoch in range(num_epochs):\n",
    "        for x_batch, y_batch in data_loader:\n",
    "            optimizer.zero_grad()\n",
    "            output = model(x_batch)\n",
    "            loss = loss_fn(output, y_batch)\n",
    "            loss.backward()\n",
    "            optimizer.step()\n",
    "\n",
    "        if callback is not None:\n",
    "            callback(epoch, model)"
   ]
  },
  {
   "cell_type": "code",
   "execution_count": 15,
   "metadata": {},
   "outputs": [],
   "source": [
    "# Initialize model\n",
    "model = LineGrid(n=n, d=2)  # d=2 as we are regressing both sin and cos\n",
    "\n",
    "# Initialize the built-in Mean-Squared Error loss function\n",
    "mse = nn.MSELoss()\n",
    "\n",
    "# Create a callback that saves loss to a dataframe\n",
    "loss_data = pd.DataFrame(columns=['Epoch', 'Loss'])\n",
    "def record_loss(epoch, model):\n",
    "    loss_data.loc[len(loss_data)] = [epoch, mse(model(x_samples), y_samples).item()]\n",
    "            \n",
    "# Run the training loop\n",
    "train_sgd(model, dataset, loss_fn=mse, callback=record_loss)"
   ]
  },
  {
   "cell_type": "code",
   "execution_count": 16,
   "metadata": {},
   "outputs": [
    {
     "data": {
      "application/vnd.plotly.v1+json": {
       "config": {
        "plotlyServerURL": "https://plot.ly"
       },
       "data": [
        {
         "hovertemplate": "Epoch=%{x}<br>Loss=%{y}<extra></extra>",
         "legendgroup": "",
         "line": {
          "color": "#636efa",
          "dash": "solid"
         },
         "marker": {
          "symbol": "circle"
         },
         "mode": "lines",
         "name": "",
         "orientation": "v",
         "showlegend": false,
         "type": "scatter",
         "x": [
          0,
          1,
          2,
          3,
          4,
          5,
          6,
          7,
          8,
          9,
          10,
          11,
          12,
          13,
          14,
          15,
          16,
          17,
          18,
          19,
          20,
          21,
          22,
          23,
          24,
          25,
          26,
          27,
          28,
          29,
          30
         ],
         "xaxis": "x",
         "y": [
          0.48277002573013306,
          0.347720742225647,
          0.257830411195755,
          0.195961132645607,
          0.1524045467376709,
          0.12107124924659729,
          0.09800226986408234,
          0.08067587018013,
          0.06740319728851318,
          0.057117339223623276,
          0.04900899529457092,
          0.04255061224102974,
          0.03734638914465904,
          0.03310500830411911,
          0.02962462231516838,
          0.026747532188892365,
          0.024344800040125847,
          0.022338036447763443,
          0.020656723529100418,
          0.019234387204051018,
          0.018024398013949394,
          0.01699623093008995,
          0.0161147341132164,
          0.015356464311480522,
          0.014706410467624664,
          0.014144672080874443,
          0.013659385964274406,
          0.013239499181509018,
          0.012872416526079178,
          0.012552830390632153,
          0.012274754233658314
         ],
         "yaxis": "y"
        }
       ],
       "layout": {
        "legend": {
         "tracegroupgap": 0
        },
        "margin": {
         "t": 60
        },
        "template": {
         "data": {
          "bar": [
           {
            "error_x": {
             "color": "#2a3f5f"
            },
            "error_y": {
             "color": "#2a3f5f"
            },
            "marker": {
             "line": {
              "color": "#E5ECF6",
              "width": 0.5
             },
             "pattern": {
              "fillmode": "overlay",
              "size": 10,
              "solidity": 0.2
             }
            },
            "type": "bar"
           }
          ],
          "barpolar": [
           {
            "marker": {
             "line": {
              "color": "#E5ECF6",
              "width": 0.5
             },
             "pattern": {
              "fillmode": "overlay",
              "size": 10,
              "solidity": 0.2
             }
            },
            "type": "barpolar"
           }
          ],
          "carpet": [
           {
            "aaxis": {
             "endlinecolor": "#2a3f5f",
             "gridcolor": "white",
             "linecolor": "white",
             "minorgridcolor": "white",
             "startlinecolor": "#2a3f5f"
            },
            "baxis": {
             "endlinecolor": "#2a3f5f",
             "gridcolor": "white",
             "linecolor": "white",
             "minorgridcolor": "white",
             "startlinecolor": "#2a3f5f"
            },
            "type": "carpet"
           }
          ],
          "choropleth": [
           {
            "colorbar": {
             "outlinewidth": 0,
             "ticks": ""
            },
            "type": "choropleth"
           }
          ],
          "contour": [
           {
            "colorbar": {
             "outlinewidth": 0,
             "ticks": ""
            },
            "colorscale": [
             [
              0,
              "#0d0887"
             ],
             [
              0.1111111111111111,
              "#46039f"
             ],
             [
              0.2222222222222222,
              "#7201a8"
             ],
             [
              0.3333333333333333,
              "#9c179e"
             ],
             [
              0.4444444444444444,
              "#bd3786"
             ],
             [
              0.5555555555555556,
              "#d8576b"
             ],
             [
              0.6666666666666666,
              "#ed7953"
             ],
             [
              0.7777777777777778,
              "#fb9f3a"
             ],
             [
              0.8888888888888888,
              "#fdca26"
             ],
             [
              1,
              "#f0f921"
             ]
            ],
            "type": "contour"
           }
          ],
          "contourcarpet": [
           {
            "colorbar": {
             "outlinewidth": 0,
             "ticks": ""
            },
            "type": "contourcarpet"
           }
          ],
          "heatmap": [
           {
            "colorbar": {
             "outlinewidth": 0,
             "ticks": ""
            },
            "colorscale": [
             [
              0,
              "#0d0887"
             ],
             [
              0.1111111111111111,
              "#46039f"
             ],
             [
              0.2222222222222222,
              "#7201a8"
             ],
             [
              0.3333333333333333,
              "#9c179e"
             ],
             [
              0.4444444444444444,
              "#bd3786"
             ],
             [
              0.5555555555555556,
              "#d8576b"
             ],
             [
              0.6666666666666666,
              "#ed7953"
             ],
             [
              0.7777777777777778,
              "#fb9f3a"
             ],
             [
              0.8888888888888888,
              "#fdca26"
             ],
             [
              1,
              "#f0f921"
             ]
            ],
            "type": "heatmap"
           }
          ],
          "heatmapgl": [
           {
            "colorbar": {
             "outlinewidth": 0,
             "ticks": ""
            },
            "colorscale": [
             [
              0,
              "#0d0887"
             ],
             [
              0.1111111111111111,
              "#46039f"
             ],
             [
              0.2222222222222222,
              "#7201a8"
             ],
             [
              0.3333333333333333,
              "#9c179e"
             ],
             [
              0.4444444444444444,
              "#bd3786"
             ],
             [
              0.5555555555555556,
              "#d8576b"
             ],
             [
              0.6666666666666666,
              "#ed7953"
             ],
             [
              0.7777777777777778,
              "#fb9f3a"
             ],
             [
              0.8888888888888888,
              "#fdca26"
             ],
             [
              1,
              "#f0f921"
             ]
            ],
            "type": "heatmapgl"
           }
          ],
          "histogram": [
           {
            "marker": {
             "pattern": {
              "fillmode": "overlay",
              "size": 10,
              "solidity": 0.2
             }
            },
            "type": "histogram"
           }
          ],
          "histogram2d": [
           {
            "colorbar": {
             "outlinewidth": 0,
             "ticks": ""
            },
            "colorscale": [
             [
              0,
              "#0d0887"
             ],
             [
              0.1111111111111111,
              "#46039f"
             ],
             [
              0.2222222222222222,
              "#7201a8"
             ],
             [
              0.3333333333333333,
              "#9c179e"
             ],
             [
              0.4444444444444444,
              "#bd3786"
             ],
             [
              0.5555555555555556,
              "#d8576b"
             ],
             [
              0.6666666666666666,
              "#ed7953"
             ],
             [
              0.7777777777777778,
              "#fb9f3a"
             ],
             [
              0.8888888888888888,
              "#fdca26"
             ],
             [
              1,
              "#f0f921"
             ]
            ],
            "type": "histogram2d"
           }
          ],
          "histogram2dcontour": [
           {
            "colorbar": {
             "outlinewidth": 0,
             "ticks": ""
            },
            "colorscale": [
             [
              0,
              "#0d0887"
             ],
             [
              0.1111111111111111,
              "#46039f"
             ],
             [
              0.2222222222222222,
              "#7201a8"
             ],
             [
              0.3333333333333333,
              "#9c179e"
             ],
             [
              0.4444444444444444,
              "#bd3786"
             ],
             [
              0.5555555555555556,
              "#d8576b"
             ],
             [
              0.6666666666666666,
              "#ed7953"
             ],
             [
              0.7777777777777778,
              "#fb9f3a"
             ],
             [
              0.8888888888888888,
              "#fdca26"
             ],
             [
              1,
              "#f0f921"
             ]
            ],
            "type": "histogram2dcontour"
           }
          ],
          "mesh3d": [
           {
            "colorbar": {
             "outlinewidth": 0,
             "ticks": ""
            },
            "type": "mesh3d"
           }
          ],
          "parcoords": [
           {
            "line": {
             "colorbar": {
              "outlinewidth": 0,
              "ticks": ""
             }
            },
            "type": "parcoords"
           }
          ],
          "pie": [
           {
            "automargin": true,
            "type": "pie"
           }
          ],
          "scatter": [
           {
            "fillpattern": {
             "fillmode": "overlay",
             "size": 10,
             "solidity": 0.2
            },
            "type": "scatter"
           }
          ],
          "scatter3d": [
           {
            "line": {
             "colorbar": {
              "outlinewidth": 0,
              "ticks": ""
             }
            },
            "marker": {
             "colorbar": {
              "outlinewidth": 0,
              "ticks": ""
             }
            },
            "type": "scatter3d"
           }
          ],
          "scattercarpet": [
           {
            "marker": {
             "colorbar": {
              "outlinewidth": 0,
              "ticks": ""
             }
            },
            "type": "scattercarpet"
           }
          ],
          "scattergeo": [
           {
            "marker": {
             "colorbar": {
              "outlinewidth": 0,
              "ticks": ""
             }
            },
            "type": "scattergeo"
           }
          ],
          "scattergl": [
           {
            "marker": {
             "colorbar": {
              "outlinewidth": 0,
              "ticks": ""
             }
            },
            "type": "scattergl"
           }
          ],
          "scattermapbox": [
           {
            "marker": {
             "colorbar": {
              "outlinewidth": 0,
              "ticks": ""
             }
            },
            "type": "scattermapbox"
           }
          ],
          "scatterpolar": [
           {
            "marker": {
             "colorbar": {
              "outlinewidth": 0,
              "ticks": ""
             }
            },
            "type": "scatterpolar"
           }
          ],
          "scatterpolargl": [
           {
            "marker": {
             "colorbar": {
              "outlinewidth": 0,
              "ticks": ""
             }
            },
            "type": "scatterpolargl"
           }
          ],
          "scatterternary": [
           {
            "marker": {
             "colorbar": {
              "outlinewidth": 0,
              "ticks": ""
             }
            },
            "type": "scatterternary"
           }
          ],
          "surface": [
           {
            "colorbar": {
             "outlinewidth": 0,
             "ticks": ""
            },
            "colorscale": [
             [
              0,
              "#0d0887"
             ],
             [
              0.1111111111111111,
              "#46039f"
             ],
             [
              0.2222222222222222,
              "#7201a8"
             ],
             [
              0.3333333333333333,
              "#9c179e"
             ],
             [
              0.4444444444444444,
              "#bd3786"
             ],
             [
              0.5555555555555556,
              "#d8576b"
             ],
             [
              0.6666666666666666,
              "#ed7953"
             ],
             [
              0.7777777777777778,
              "#fb9f3a"
             ],
             [
              0.8888888888888888,
              "#fdca26"
             ],
             [
              1,
              "#f0f921"
             ]
            ],
            "type": "surface"
           }
          ],
          "table": [
           {
            "cells": {
             "fill": {
              "color": "#EBF0F8"
             },
             "line": {
              "color": "white"
             }
            },
            "header": {
             "fill": {
              "color": "#C8D4E3"
             },
             "line": {
              "color": "white"
             }
            },
            "type": "table"
           }
          ]
         },
         "layout": {
          "annotationdefaults": {
           "arrowcolor": "#2a3f5f",
           "arrowhead": 0,
           "arrowwidth": 1
          },
          "autotypenumbers": "strict",
          "coloraxis": {
           "colorbar": {
            "outlinewidth": 0,
            "ticks": ""
           }
          },
          "colorscale": {
           "diverging": [
            [
             0,
             "#8e0152"
            ],
            [
             0.1,
             "#c51b7d"
            ],
            [
             0.2,
             "#de77ae"
            ],
            [
             0.3,
             "#f1b6da"
            ],
            [
             0.4,
             "#fde0ef"
            ],
            [
             0.5,
             "#f7f7f7"
            ],
            [
             0.6,
             "#e6f5d0"
            ],
            [
             0.7,
             "#b8e186"
            ],
            [
             0.8,
             "#7fbc41"
            ],
            [
             0.9,
             "#4d9221"
            ],
            [
             1,
             "#276419"
            ]
           ],
           "sequential": [
            [
             0,
             "#0d0887"
            ],
            [
             0.1111111111111111,
             "#46039f"
            ],
            [
             0.2222222222222222,
             "#7201a8"
            ],
            [
             0.3333333333333333,
             "#9c179e"
            ],
            [
             0.4444444444444444,
             "#bd3786"
            ],
            [
             0.5555555555555556,
             "#d8576b"
            ],
            [
             0.6666666666666666,
             "#ed7953"
            ],
            [
             0.7777777777777778,
             "#fb9f3a"
            ],
            [
             0.8888888888888888,
             "#fdca26"
            ],
            [
             1,
             "#f0f921"
            ]
           ],
           "sequentialminus": [
            [
             0,
             "#0d0887"
            ],
            [
             0.1111111111111111,
             "#46039f"
            ],
            [
             0.2222222222222222,
             "#7201a8"
            ],
            [
             0.3333333333333333,
             "#9c179e"
            ],
            [
             0.4444444444444444,
             "#bd3786"
            ],
            [
             0.5555555555555556,
             "#d8576b"
            ],
            [
             0.6666666666666666,
             "#ed7953"
            ],
            [
             0.7777777777777778,
             "#fb9f3a"
            ],
            [
             0.8888888888888888,
             "#fdca26"
            ],
            [
             1,
             "#f0f921"
            ]
           ]
          },
          "colorway": [
           "#636efa",
           "#EF553B",
           "#00cc96",
           "#ab63fa",
           "#FFA15A",
           "#19d3f3",
           "#FF6692",
           "#B6E880",
           "#FF97FF",
           "#FECB52"
          ],
          "font": {
           "color": "#2a3f5f"
          },
          "geo": {
           "bgcolor": "white",
           "lakecolor": "white",
           "landcolor": "#E5ECF6",
           "showlakes": true,
           "showland": true,
           "subunitcolor": "white"
          },
          "hoverlabel": {
           "align": "left"
          },
          "hovermode": "closest",
          "mapbox": {
           "style": "light"
          },
          "paper_bgcolor": "white",
          "plot_bgcolor": "#E5ECF6",
          "polar": {
           "angularaxis": {
            "gridcolor": "white",
            "linecolor": "white",
            "ticks": ""
           },
           "bgcolor": "#E5ECF6",
           "radialaxis": {
            "gridcolor": "white",
            "linecolor": "white",
            "ticks": ""
           }
          },
          "scene": {
           "xaxis": {
            "backgroundcolor": "#E5ECF6",
            "gridcolor": "white",
            "gridwidth": 2,
            "linecolor": "white",
            "showbackground": true,
            "ticks": "",
            "zerolinecolor": "white"
           },
           "yaxis": {
            "backgroundcolor": "#E5ECF6",
            "gridcolor": "white",
            "gridwidth": 2,
            "linecolor": "white",
            "showbackground": true,
            "ticks": "",
            "zerolinecolor": "white"
           },
           "zaxis": {
            "backgroundcolor": "#E5ECF6",
            "gridcolor": "white",
            "gridwidth": 2,
            "linecolor": "white",
            "showbackground": true,
            "ticks": "",
            "zerolinecolor": "white"
           }
          },
          "shapedefaults": {
           "line": {
            "color": "#2a3f5f"
           }
          },
          "ternary": {
           "aaxis": {
            "gridcolor": "white",
            "linecolor": "white",
            "ticks": ""
           },
           "baxis": {
            "gridcolor": "white",
            "linecolor": "white",
            "ticks": ""
           },
           "bgcolor": "#E5ECF6",
           "caxis": {
            "gridcolor": "white",
            "linecolor": "white",
            "ticks": ""
           }
          },
          "title": {
           "x": 0.05
          },
          "xaxis": {
           "automargin": true,
           "gridcolor": "white",
           "linecolor": "white",
           "ticks": "",
           "title": {
            "standoff": 15
           },
           "zerolinecolor": "white",
           "zerolinewidth": 2
          },
          "yaxis": {
           "automargin": true,
           "gridcolor": "white",
           "linecolor": "white",
           "ticks": "",
           "title": {
            "standoff": 15
           },
           "zerolinecolor": "white",
           "zerolinewidth": 2
          }
         }
        },
        "xaxis": {
         "anchor": "y",
         "domain": [
          0,
          1
         ],
         "title": {
          "text": "Epoch"
         }
        },
        "yaxis": {
         "anchor": "x",
         "domain": [
          0,
          1
         ],
         "title": {
          "text": "Loss"
         }
        }
       }
      }
     },
     "metadata": {},
     "output_type": "display_data"
    }
   ],
   "source": [
    "#| caption: Loss of the model during stochastic gradient descent training.\n",
    "#| label: fig:loss_training_sgd\n",
    "px.line(loss_data, x='Epoch', y='Loss')"
   ]
  },
  {
   "cell_type": "markdown",
   "metadata": {},
   "source": [
    "Note that we converged *much* faster in this case: in just 30 iterations we reached the same low loss as with 300 iterations before. The answer is because with 250 training samples and mini-batches of size 25, each epoch adjusts the model's parameters 10 times. This effectively boosts the learning rate by a factor of 10. However, note that because each mini-batch looks at only one 10th of the dataset, each mini-batch's adjustment could *adversely* affect the performance on the other training samples."
   ]
  },
  {
   "cell_type": "markdown",
   "metadata": {},
   "source": [
    "## Validation and Testing\n",
    "\n",
    "In practice, validation and test datasets are used to evaluate the performance of a model. The validation dataset is used to tune the hyperparameters of a model, while the test dataset is used to evaluate the performance of the model on unseen data. "
   ]
  }
 ],
 "metadata": {
  "colab": {
   "collapsed_sections": [],
   "include_colab_link": true,
   "name": "S56_diffdrive_learning.ipynb",
   "provenance": []
  },
  "interpreter": {
   "hash": "c6e4e9f98eb68ad3b7c296f83d20e6de614cb42e90992a65aa266555a3137d0d"
  },
  "kernelspec": {
   "display_name": "Python 3.9.6 64-bit ('base': conda)",
   "name": "python3"
  },
  "language_info": {
   "codemirror_mode": {
    "name": "ipython",
    "version": 3
   },
   "file_extension": ".py",
   "mimetype": "text/x-python",
   "name": "python",
   "nbconvert_exporter": "python",
   "pygments_lexer": "ipython3",
   "version": "3.9.18"
  },
  "latex_metadata": {
   "affiliation": "Georgia Institute of Technology",
   "author": "Frank Dellaert and Seth Hutchinson",
   "title": "Introduction to Robotics"
  }
 },
 "nbformat": 4,
 "nbformat_minor": 2
}
