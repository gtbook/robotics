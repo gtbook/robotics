{
 "cells": [
  {
   "attachments": {},
   "cell_type": "markdown",
   "id": "4be934e0",
   "metadata": {},
   "source": [
    "# Introduction\n"
   ]
  },
  {
   "attachments": {},
   "cell_type": "markdown",
   "id": "686c700c",
   "metadata": {},
   "source": [
    "<img src=\"Figures1/S10-Robot_menagerie-08.jpg\" alt=\"Splash image with cute robot\" width=\"60%\" align=center style=\"vertical-align:middle;margin:10px 0px\">"
   ]
  },
  {
   "cell_type": "markdown",
   "id": "566064b1",
   "metadata": {},
   "source": [
    "```{index} GTSAM, PyTorch\n",
    "```\n",
    "\n",
    "Robotics is a fascinating, and broadly interdisciplinary field,\n",
    "combining aspects of engineering, computer science, mathematics, physics, and even psychology.\n",
    "Moreover, society now finds itself at the dawn of a new, golden age of robotics,\n",
    "as robots are increasingly moving out of highly regulated factory environments into\n",
    "commercial settings, hospitals, our homes, our streets, and even the skies.\n",
    "How do these systems work? What sensors do they have and how do they perceive our world through these senses?\n",
    "What are the mechanisms by which they can move and act in their environment, and how do they choose their actions at any given moment?\n",
    "How can they learn to adapt their behavior over time to improve their capabilities and enhance interactions with humans they encounter?\n",
    "These questions frame an incredibly broad and rich subject, and given the recent advances in artificial intelligence,\n",
    "the field of robotics is bound to see many breakthroughs over the next few years.\n",
    "\n",
    "This introductory text is designed to guide the reader through the *foundations* of modern robotics,\n",
    "while at the same time showing how practical systems can be implemented.\n",
    "The theoretical concepts in each chapter are explained informally without sacrificing rigor,\n",
    "balanced with a unique hands-on approach. Theory is immediately put into practice,\n",
    "as every section in the book is interspersed with example code and can be executed as a python notebook,\n",
    "allowing the reader to experiment with implementations that are representative of many robotics systems.\n",
    "No experience is needed beyond a good basis in math, especially linear algebra and notions of statistics,\n",
    "and some knowledge of the python programming language.\n",
    "The code itself is based on popular open source libraries, most notably GTSAM and PyTorch,\n",
    "which provide a good starting point for those who want to explore robotics as a potential career choice."
   ]
  },
  {
   "cell_type": "markdown",
   "id": "Ow_ar2AAFHi0",
   "metadata": {},
   "source": [
    "```{index} sense-think-act\n",
    "```\n",
    "\n",
    "The sense-think-act cycle is a recurring theme in this book.\n",
    "While the range of applications for modern robotic systems is quite diverse, at a high level, most all systems take the same approach.\n",
    "They use sensors and perception algorithms to assess their environment; they reason about their goals and how to achieve them; they perform actions to change the state of the world.\n",
    "This is known as the **sense-think-act** cycle.\n",
    "The robot senses its world, thinks about what to do, then acts.\n",
    "This idea is general enough to be applied at many levels of abstraction and time scales.\n",
    "We can imagine a warehouse robot tasked with retrieving an item from inventory. After using its sensors to determine its current location (sense),\n",
    "the robot constructs a path (think), then traverses the path (act).\n",
    "The time scale here might be on the order of seconds to minutes to complete one iteration of the sense-think-act cycle,\n",
    "and the level of abstraction is very high, ignoring details like controlling motors.\n",
    "On the other hand, we could consider a surgical robot tasked with precisely inserting a needle into a tumor.\n",
    "In this case, ultrasonic sensors could be used to localize the needle relative to the tumor (sense),\n",
    "small corrections to needle placement would be computed (think),\n",
    "and a low-level motion command would be sent to the device, possibly a voltage or current, to effect the motion (act).\n",
    "Here, the time scale is on the order of milliseconds, and the level of abstraction could be quite detailed,\n",
    "including tissue dynamics and flexibility of the needle."
   ]
  },
  {
   "cell_type": "markdown",
   "id": "01db0ccf",
   "metadata": {},
   "source": [
    "```{index} differential-drive robot, DDR\n",
    "```\n",
    "\n",
    "The chapters of the book proceed through a sequence of increasingly complex robotic systems.\n",
    "We begin, in Chapter 2, by considering a simple trash-sorting robot. Pieces of trash arrive on a conveyor,\n",
    "and the robot’s task is to place these in an appropriate bin.\n",
    "For this first robotic system, we abstract away most details that would confront a real trash-sorting robot,\n",
    "focusing our attention on fundamental concepts from probability theory,\n",
    "both to solve a simple perception problem (categorizing pieces of trash) and to solve a planning problem (which bin to select).\n",
    "From there, in each chapter we incrementally add complexity to the system models and the mathematical methods for manipulating them,\n",
    "developing increasingly sophisticated algorithms to implement these methods.\n",
    "We consider a simple vacuum cleaning robot in Chapter 3, a mobile robot that navigates in a warehouse in Chapter 4,\n",
    "a two-wheeled, differential-drive robot (DDR) in Chapter 5, self-driving cars in Chapter 6, and quadrotor drones in Chapter 7."
   ]
  },
  {
   "cell_type": "markdown",
   "id": "4973e24d",
   "metadata": {},
   "source": [
    "```{index} graphical models\n",
    "```\n",
    "\n",
    "The individual chapters share a common structure, examining how to represent the robot's state,\n",
    "how to describe its actuators and sensors, the associated perception and planning methods and algorithms,\n",
    "and concluding with a section on learning from data.\n",
    "The expressiveness of the state space, which depends on how much we abstract away from reality,\n",
    "largely determines the complexity of the corresponding algorithms.\n",
    "By gradually increasing this complexity, we ensure that each chapter builds on the previous one,\n",
    "guiding the reader through a series of manageable steps.\n",
    "A key element of our approach is the use of **graphical models** to illustrate how state, actions,\n",
    "and sensing share common patterns across a wide range of autonomous robots.\n",
    "This structure also reflects the essence of the sense-think-act cycle.\n",
    "Each chapter includes sections on sensors and perception (sense), planning and learning (think),\n",
    "and state and action models (act)."
   ]
  },
  {
   "cell_type": "markdown",
   "id": "d8a9d268",
   "metadata": {},
   "source": [
    "```{index} state, sensing, action, SE(2), special Euclidean group, SE(3)\n",
    "```\n",
    "\n",
    "In the state, action, and sensing sections of each chapter, we focus on the mathematical *models*.\n",
    "To model robots, we progress from discrete state spaces with abstract action and sensing\n",
    "to continuous state spaces with real-world sensing in later sections.\n",
    "We introduce the special Euclidean group of order two, $SE(2)$, for differential-drive robots\n",
    "and extend it to $SE(3)$ for drones.\n",
    "We develop the differential kinematics for wheeled mobile robots, both for omnidirectional robots (our logistics robot)\n",
    "and for robots with nonholonomic constraints.\n",
    "For drones, we derive a dynamics model that includes propeller thrust and aerodynamic effects such as drag.\n",
    "We take a similar approach with sensors.\n",
    "In Chapter 2, we introduce simple sensors that measure physical properties of a piece of trash.\n",
    "In later chapters, we expand to a variety of sensors, including proximity sensors, RFID beacons, GPS, cameras, LIDAR, and Inertial Measurement Units (IMUs)."
   ]
  },
  {
   "cell_type": "markdown",
   "id": "180cbd5d",
   "metadata": {},
   "source": [
    "```{index} maximum likelihood, maximum a posteriori\n",
    "```\n",
    "\n",
    "In other places, we focus on probabilistic methods for representing and reasoning about uncertainty.\n",
    "We introduce discrete probability distributions for simple classification problems\n",
    "and develop maximum-likelihood and maximum-a-posteriori estimation methods using our trash-sorting robot.\n",
    "We then move to continuous distributions, specifically the uniform and Gaussian distributions,\n",
    "to model the motion of mobile robots and the effects of sensor noise.\n",
    "To reason about uncertainty, we introduce sampling-based methods such as particle filtering and Markov localization,\n",
    "along with Kalman filters, Bayes nets, and Markov decision processes.\n",
    "In each case, we start by formulating the appropriate mathematical models,\n",
    "then proceed to describe algorithmic solutions, often illustrated with code.\n",
    "\n",
    "In the remainder of this chapter, we provide a slightly more detailed overview of the topics covered in this book."
   ]
  }
 ],
 "metadata": {
  "colab": {
   "include_colab_link": true,
   "name": "S10_introduction.ipynb",
   "provenance": []
  },
  "kernelspec": {
   "display_name": "Python 3",
   "language": "python",
   "name": "python3"
  },
  "language_info": {
   "codemirror_mode": {
    "name": "ipython",
    "version": 3
   },
   "file_extension": ".py",
   "mimetype": "text/x-python",
   "name": "python",
   "nbconvert_exporter": "python",
   "pygments_lexer": "ipython3",
   "version": "3.11.7"
  },
  "latex_metadata": {
   "affiliation": "Georgia Institute of Technology",
   "author": "Frank Dellaert and Seth Hutchinson",
   "title": "Intro to Robotics with GTSAM"
  },
  "vscode": {
   "interpreter": {
    "hash": "b0fa6594d8f4cbf19f97940f81e996739fb7646882a419484c72d19e05852a7e"
   }
  }
 },
 "nbformat": 4,
 "nbformat_minor": 5
}
